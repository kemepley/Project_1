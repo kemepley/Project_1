{
 "cells": [
  {
   "cell_type": "code",
   "execution_count": 209,
   "metadata": {},
   "outputs": [],
   "source": [
    "#Importing some necessary packages\n",
    "\n",
    "import pandas as pd\n",
    "import numpy as np\n",
    "import warnings\n",
    "warnings.filterwarnings(action='once')"
   ]
  },
  {
   "cell_type": "markdown",
   "metadata": {},
   "source": [
    "### Define functions"
   ]
  },
  {
   "cell_type": "code",
   "execution_count": 211,
   "metadata": {},
   "outputs": [],
   "source": [
    "# A function that allows us to drop rows based on values we think are suspect\n",
    "\n",
    "def drop_anomolous_rows(df, colname, val):\n",
    "    return df[df[colname] != val]"
   ]
  },
  {
   "cell_type": "code",
   "execution_count": 212,
   "metadata": {},
   "outputs": [],
   "source": [
    "# A function to take columns with years (yr_built, yr_renovated) and bin them by decade\n",
    "\n",
    "from sklearn.preprocessing import LabelEncoder\n",
    "\n",
    "def bin_by_decade(df, colname):\n",
    "    bins = pd.IntervalIndex.from_tuples([(1900, 1909), (1910, 1919), (1920, 1929), (1930, 1939), (1940, 1949), (1950, 1959), (1960, 1969), (1970, 1979), (1980, 1989), (1990, 1999), (2000, 2010), (2010, 2020)])\n",
    "    series = pd.cut(df[colname], bins)\n",
    "    df[colname] = series\n",
    "    return df"
   ]
  },
  {
   "cell_type": "code",
   "execution_count": 214,
   "metadata": {},
   "outputs": [],
   "source": [
    "# Contains all of our data cleaning operations\n",
    "\n",
    "def clean():\n",
    "    \n",
    "# Load the data\n",
    "    \n",
    "    house = pd.read_csv('https://raw.githubusercontent.com/learn-co-students/dsc-v2-mod1-final-project-dc-ds-career-042219/master/kc_house_data.csv')\n",
    "    \n",
    "# Get rid of rows\n",
    "    # The row with 33 bedrooms is a suspicious outlier, so we decided to drop it\n",
    "    # The 454 ?s in sqft_basement needed to be remedied. We chose to drop them--454 seemed like too many to impute. \n",
    "\n",
    "    clean_house = drop_anomolous_rows(house, 'bedrooms', 33)\n",
    "    clean_house = drop_anomolous_rows(house, 'sqft_basement', \"?\")\n",
    "    \n",
    "# Bin decades\n",
    "    \n",
    "    clean_house = bin_by_decade(clean_house, 'yr_built')\n",
    "    clean_house = bin_by_decade(clean_house, 'yr_renovated')\n",
    "    \n",
    "# Get dummies\n",
    "\n",
    "    clean_house = pd.get_dummies(clean_house, columns=(['view', 'floors', 'bedrooms', 'condition', 'zipcode', 'yr_built', 'yr_renovated']))\n",
    "    \n",
    "# Drop id, date, waterfront\n",
    "\n",
    "    clean_house = clean_house.drop(['id', 'date', 'waterfront'], axis=1)\n",
    "    \n",
    "# Convert sqft_basement from object to float\n",
    "\n",
    "    clean_house['sqft_basement'] = clean_house['sqft_basement'].astype(float, inplace=True)\n",
    "\n",
    "# Return clean_house\n",
    "    \n",
    "    return clean_house"
   ]
  },
  {
   "cell_type": "markdown",
   "metadata": {},
   "source": [
    "### Get clean dataframe"
   ]
  },
  {
   "cell_type": "code",
   "execution_count": 216,
   "metadata": {},
   "outputs": [
    {
     "name": "stderr",
     "output_type": "stream",
     "text": [
      "/anaconda3/lib/python3.7/site-packages/ipykernel_launcher.py:8: SettingWithCopyWarning: \n",
      "A value is trying to be set on a copy of a slice from a DataFrame.\n",
      "Try using .loc[row_indexer,col_indexer] = value instead\n",
      "\n",
      "See the caveats in the documentation: http://pandas.pydata.org/pandas-docs/stable/indexing.html#indexing-view-versus-copy\n",
      "  \n",
      "/anaconda3/lib/python3.7/site-packages/ipykernel_launcher.py:8: SettingWithCopyWarning: \n",
      "A value is trying to be set on a copy of a slice from a DataFrame.\n",
      "Try using .loc[row_indexer,col_indexer] = value instead\n",
      "\n",
      "See the caveats in the documentation: http://pandas.pydata.org/pandas-docs/stable/indexing.html#indexing-view-versus-copy\n",
      "  \n"
     ]
    }
   ],
   "source": [
    "clean_house = clean()\n"
   ]
  },
  {
   "cell_type": "code",
   "execution_count": 217,
   "metadata": {},
   "outputs": [
    {
     "data": {
      "text/html": [
       "<div>\n",
       "<style scoped>\n",
       "    .dataframe tbody tr th:only-of-type {\n",
       "        vertical-align: middle;\n",
       "    }\n",
       "\n",
       "    .dataframe tbody tr th {\n",
       "        vertical-align: top;\n",
       "    }\n",
       "\n",
       "    .dataframe thead th {\n",
       "        text-align: right;\n",
       "    }\n",
       "</style>\n",
       "<table border=\"1\" class=\"dataframe\">\n",
       "  <thead>\n",
       "    <tr style=\"text-align: right;\">\n",
       "      <th></th>\n",
       "      <th>price</th>\n",
       "      <th>bathrooms</th>\n",
       "      <th>sqft_living</th>\n",
       "      <th>sqft_lot</th>\n",
       "      <th>grade</th>\n",
       "      <th>sqft_above</th>\n",
       "      <th>sqft_basement</th>\n",
       "      <th>lat</th>\n",
       "      <th>long</th>\n",
       "      <th>sqft_living15</th>\n",
       "      <th>...</th>\n",
       "      <th>yr_renovated_(1920, 1929]</th>\n",
       "      <th>yr_renovated_(1930, 1939]</th>\n",
       "      <th>yr_renovated_(1940, 1949]</th>\n",
       "      <th>yr_renovated_(1950, 1959]</th>\n",
       "      <th>yr_renovated_(1960, 1969]</th>\n",
       "      <th>yr_renovated_(1970, 1979]</th>\n",
       "      <th>yr_renovated_(1980, 1989]</th>\n",
       "      <th>yr_renovated_(1990, 1999]</th>\n",
       "      <th>yr_renovated_(2000, 2010]</th>\n",
       "      <th>yr_renovated_(2010, 2020]</th>\n",
       "    </tr>\n",
       "  </thead>\n",
       "  <tbody>\n",
       "    <tr>\n",
       "      <th>0</th>\n",
       "      <td>221900.0</td>\n",
       "      <td>1.00</td>\n",
       "      <td>1180</td>\n",
       "      <td>5650</td>\n",
       "      <td>7</td>\n",
       "      <td>1180</td>\n",
       "      <td>0.0</td>\n",
       "      <td>47.5112</td>\n",
       "      <td>-122.257</td>\n",
       "      <td>1340</td>\n",
       "      <td>...</td>\n",
       "      <td>0</td>\n",
       "      <td>0</td>\n",
       "      <td>0</td>\n",
       "      <td>0</td>\n",
       "      <td>0</td>\n",
       "      <td>0</td>\n",
       "      <td>0</td>\n",
       "      <td>0</td>\n",
       "      <td>0</td>\n",
       "      <td>0</td>\n",
       "    </tr>\n",
       "    <tr>\n",
       "      <th>1</th>\n",
       "      <td>538000.0</td>\n",
       "      <td>2.25</td>\n",
       "      <td>2570</td>\n",
       "      <td>7242</td>\n",
       "      <td>7</td>\n",
       "      <td>2170</td>\n",
       "      <td>400.0</td>\n",
       "      <td>47.7210</td>\n",
       "      <td>-122.319</td>\n",
       "      <td>1690</td>\n",
       "      <td>...</td>\n",
       "      <td>0</td>\n",
       "      <td>0</td>\n",
       "      <td>0</td>\n",
       "      <td>0</td>\n",
       "      <td>0</td>\n",
       "      <td>0</td>\n",
       "      <td>0</td>\n",
       "      <td>1</td>\n",
       "      <td>0</td>\n",
       "      <td>0</td>\n",
       "    </tr>\n",
       "    <tr>\n",
       "      <th>2</th>\n",
       "      <td>180000.0</td>\n",
       "      <td>1.00</td>\n",
       "      <td>770</td>\n",
       "      <td>10000</td>\n",
       "      <td>6</td>\n",
       "      <td>770</td>\n",
       "      <td>0.0</td>\n",
       "      <td>47.7379</td>\n",
       "      <td>-122.233</td>\n",
       "      <td>2720</td>\n",
       "      <td>...</td>\n",
       "      <td>0</td>\n",
       "      <td>0</td>\n",
       "      <td>0</td>\n",
       "      <td>0</td>\n",
       "      <td>0</td>\n",
       "      <td>0</td>\n",
       "      <td>0</td>\n",
       "      <td>0</td>\n",
       "      <td>0</td>\n",
       "      <td>0</td>\n",
       "    </tr>\n",
       "    <tr>\n",
       "      <th>3</th>\n",
       "      <td>604000.0</td>\n",
       "      <td>3.00</td>\n",
       "      <td>1960</td>\n",
       "      <td>5000</td>\n",
       "      <td>7</td>\n",
       "      <td>1050</td>\n",
       "      <td>910.0</td>\n",
       "      <td>47.5208</td>\n",
       "      <td>-122.393</td>\n",
       "      <td>1360</td>\n",
       "      <td>...</td>\n",
       "      <td>0</td>\n",
       "      <td>0</td>\n",
       "      <td>0</td>\n",
       "      <td>0</td>\n",
       "      <td>0</td>\n",
       "      <td>0</td>\n",
       "      <td>0</td>\n",
       "      <td>0</td>\n",
       "      <td>0</td>\n",
       "      <td>0</td>\n",
       "    </tr>\n",
       "    <tr>\n",
       "      <th>4</th>\n",
       "      <td>510000.0</td>\n",
       "      <td>2.00</td>\n",
       "      <td>1680</td>\n",
       "      <td>8080</td>\n",
       "      <td>8</td>\n",
       "      <td>1680</td>\n",
       "      <td>0.0</td>\n",
       "      <td>47.6168</td>\n",
       "      <td>-122.045</td>\n",
       "      <td>1800</td>\n",
       "      <td>...</td>\n",
       "      <td>0</td>\n",
       "      <td>0</td>\n",
       "      <td>0</td>\n",
       "      <td>0</td>\n",
       "      <td>0</td>\n",
       "      <td>0</td>\n",
       "      <td>0</td>\n",
       "      <td>0</td>\n",
       "      <td>0</td>\n",
       "      <td>0</td>\n",
       "    </tr>\n",
       "  </tbody>\n",
       "</table>\n",
       "<p>5 rows × 133 columns</p>\n",
       "</div>"
      ],
      "text/plain": [
       "      price  bathrooms  sqft_living  sqft_lot  grade  sqft_above  \\\n",
       "0  221900.0       1.00         1180      5650      7        1180   \n",
       "1  538000.0       2.25         2570      7242      7        2170   \n",
       "2  180000.0       1.00          770     10000      6         770   \n",
       "3  604000.0       3.00         1960      5000      7        1050   \n",
       "4  510000.0       2.00         1680      8080      8        1680   \n",
       "\n",
       "   sqft_basement      lat     long  sqft_living15  ...  \\\n",
       "0            0.0  47.5112 -122.257           1340  ...   \n",
       "1          400.0  47.7210 -122.319           1690  ...   \n",
       "2            0.0  47.7379 -122.233           2720  ...   \n",
       "3          910.0  47.5208 -122.393           1360  ...   \n",
       "4            0.0  47.6168 -122.045           1800  ...   \n",
       "\n",
       "   yr_renovated_(1920, 1929]  yr_renovated_(1930, 1939]  \\\n",
       "0                          0                          0   \n",
       "1                          0                          0   \n",
       "2                          0                          0   \n",
       "3                          0                          0   \n",
       "4                          0                          0   \n",
       "\n",
       "   yr_renovated_(1940, 1949]  yr_renovated_(1950, 1959]  \\\n",
       "0                          0                          0   \n",
       "1                          0                          0   \n",
       "2                          0                          0   \n",
       "3                          0                          0   \n",
       "4                          0                          0   \n",
       "\n",
       "   yr_renovated_(1960, 1969]  yr_renovated_(1970, 1979]  \\\n",
       "0                          0                          0   \n",
       "1                          0                          0   \n",
       "2                          0                          0   \n",
       "3                          0                          0   \n",
       "4                          0                          0   \n",
       "\n",
       "   yr_renovated_(1980, 1989]  yr_renovated_(1990, 1999]  \\\n",
       "0                          0                          0   \n",
       "1                          0                          1   \n",
       "2                          0                          0   \n",
       "3                          0                          0   \n",
       "4                          0                          0   \n",
       "\n",
       "   yr_renovated_(2000, 2010]  yr_renovated_(2010, 2020]  \n",
       "0                          0                          0  \n",
       "1                          0                          0  \n",
       "2                          0                          0  \n",
       "3                          0                          0  \n",
       "4                          0                          0  \n",
       "\n",
       "[5 rows x 133 columns]"
      ]
     },
     "execution_count": 217,
     "metadata": {},
     "output_type": "execute_result"
    }
   ],
   "source": [
    "clean_house.head()"
   ]
  },
  {
   "cell_type": "code",
   "execution_count": 243,
   "metadata": {},
   "outputs": [
    {
     "name": "stdout",
     "output_type": "stream",
     "text": [
      "<class 'pandas.core.frame.DataFrame'>\n",
      "Int64Index: 21143 entries, 0 to 21596\n",
      "Columns: 133 entries, price to yr_renovated_(2010, 2020]\n",
      "dtypes: float64(5), int64(6), uint8(122)\n",
      "memory usage: 4.4 MB\n"
     ]
    }
   ],
   "source": [
    "clean_house.info()"
   ]
  },
  {
   "cell_type": "markdown",
   "metadata": {},
   "source": [
    "### Split the data into training and test sets"
   ]
  },
  {
   "cell_type": "code",
   "execution_count": 218,
   "metadata": {},
   "outputs": [],
   "source": [
    "from sklearn.model_selection import train_test_split"
   ]
  },
  {
   "cell_type": "code",
   "execution_count": 219,
   "metadata": {},
   "outputs": [],
   "source": [
    "# Split data into train and test sets\n",
    "\n",
    "X = clean_house.drop([\"price\"], axis=1) #predictors\n",
    "y = clean_house[\"price\"] #target"
   ]
  },
  {
   "cell_type": "code",
   "execution_count": 221,
   "metadata": {},
   "outputs": [
    {
     "name": "stdout",
     "output_type": "stream",
     "text": [
      "4229 16914 4229 16914\n"
     ]
    }
   ],
   "source": [
    "X_train,X_test,y_train,y_test=train_test_split(X,y,test_size=0.2,random_state=3)\n",
    "print(len(X_test), len(X_train), len(y_test), len(y_train))"
   ]
  },
  {
   "cell_type": "markdown",
   "metadata": {},
   "source": [
    "### Regression 1: Manual scaling and feature selection"
   ]
  },
  {
   "cell_type": "code",
   "execution_count": 244,
   "metadata": {},
   "outputs": [
    {
     "name": "stderr",
     "output_type": "stream",
     "text": [
      "/anaconda3/lib/python3.7/site-packages/sklearn/preprocessing/data.py:645: DataConversionWarning: Data with input dtype uint8, int64, float64 were all converted to float64 by StandardScaler.\n",
      "  return self.partial_fit(X, y)\n",
      "/anaconda3/lib/python3.7/site-packages/sklearn/base.py:464: DataConversionWarning: Data with input dtype uint8, int64, float64 were all converted to float64 by StandardScaler.\n",
      "  return self.fit(X, **fit_params).transform(X)\n",
      "/anaconda3/lib/python3.7/site-packages/numpy/core/fromnumeric.py:2389: FutureWarning: Method .ptp is deprecated and will be removed in a future version. Use numpy.ptp instead.\n",
      "  return ptp(axis=axis, out=out, **kwargs)\n"
     ]
    },
    {
     "data": {
      "text/html": [
       "<table class=\"simpletable\">\n",
       "<caption>OLS Regression Results</caption>\n",
       "<tr>\n",
       "  <th>Dep. Variable:</th>          <td>price</td>      <th>  R-squared:         </th> <td>   0.784</td> \n",
       "</tr>\n",
       "<tr>\n",
       "  <th>Model:</th>                   <td>OLS</td>       <th>  Adj. R-squared:    </th> <td>   0.784</td> \n",
       "</tr>\n",
       "<tr>\n",
       "  <th>Method:</th>             <td>Least Squares</td>  <th>  F-statistic:       </th> <td>   1050.</td> \n",
       "</tr>\n",
       "<tr>\n",
       "  <th>Date:</th>             <td>Tue, 07 May 2019</td> <th>  Prob (F-statistic):</th>  <td>  0.00</td>  \n",
       "</tr>\n",
       "<tr>\n",
       "  <th>Time:</th>                 <td>13:30:38</td>     <th>  Log-Likelihood:    </th> <td> -13778.</td> \n",
       "</tr>\n",
       "<tr>\n",
       "  <th>No. Observations:</th>      <td> 21143</td>      <th>  AIC:               </th> <td>2.770e+04</td>\n",
       "</tr>\n",
       "<tr>\n",
       "  <th>Df Residuals:</th>          <td> 21069</td>      <th>  BIC:               </th> <td>2.829e+04</td>\n",
       "</tr>\n",
       "<tr>\n",
       "  <th>Df Model:</th>              <td>    73</td>      <th>                     </th>     <td> </td>    \n",
       "</tr>\n",
       "<tr>\n",
       "  <th>Covariance Type:</th>      <td>nonrobust</td>    <th>                     </th>     <td> </td>    \n",
       "</tr>\n",
       "</table>\n",
       "<table class=\"simpletable\">\n",
       "<tr>\n",
       "              <td></td>                 <th>coef</th>     <th>std err</th>      <th>t</th>      <th>P>|t|</th>  <th>[0.025</th>    <th>0.975]</th>  \n",
       "</tr>\n",
       "<tr>\n",
       "  <th>const</th>                     <td>-7.331e-15</td> <td>    0.003</td> <td>-2.29e-12</td> <td> 1.000</td> <td>   -0.006</td> <td>    0.006</td>\n",
       "</tr>\n",
       "<tr>\n",
       "  <th>zipcode_98004</th>             <td>    0.2299</td> <td>    0.003</td> <td>   67.575</td> <td> 0.000</td> <td>    0.223</td> <td>    0.237</td>\n",
       "</tr>\n",
       "<tr>\n",
       "  <th>sqft_living</th>               <td>    0.5668</td> <td>    0.006</td> <td>   96.077</td> <td> 0.000</td> <td>    0.555</td> <td>    0.578</td>\n",
       "</tr>\n",
       "<tr>\n",
       "  <th>view_4.0</th>                  <td>    0.1616</td> <td>    0.004</td> <td>   45.184</td> <td> 0.000</td> <td>    0.155</td> <td>    0.169</td>\n",
       "</tr>\n",
       "<tr>\n",
       "  <th>lat</th>                       <td>    0.1296</td> <td>    0.005</td> <td>   25.147</td> <td> 0.000</td> <td>    0.119</td> <td>    0.140</td>\n",
       "</tr>\n",
       "<tr>\n",
       "  <th>zipcode_98039</th>             <td>    0.1636</td> <td>    0.003</td> <td>   50.391</td> <td> 0.000</td> <td>    0.157</td> <td>    0.170</td>\n",
       "</tr>\n",
       "<tr>\n",
       "  <th>zipcode_98112</th>             <td>    0.1587</td> <td>    0.003</td> <td>   46.990</td> <td> 0.000</td> <td>    0.152</td> <td>    0.165</td>\n",
       "</tr>\n",
       "<tr>\n",
       "  <th>zipcode_98040</th>             <td>    0.1462</td> <td>    0.003</td> <td>   43.366</td> <td> 0.000</td> <td>    0.140</td> <td>    0.153</td>\n",
       "</tr>\n",
       "<tr>\n",
       "  <th>view_0.0</th>                  <td>   -0.0619</td> <td>    0.004</td> <td>  -14.770</td> <td> 0.000</td> <td>   -0.070</td> <td>   -0.054</td>\n",
       "</tr>\n",
       "<tr>\n",
       "  <th>zipcode_98105</th>             <td>    0.1013</td> <td>    0.003</td> <td>   29.917</td> <td> 0.000</td> <td>    0.095</td> <td>    0.108</td>\n",
       "</tr>\n",
       "<tr>\n",
       "  <th>zipcode_98119</th>             <td>    0.0967</td> <td>    0.003</td> <td>   29.078</td> <td> 0.000</td> <td>    0.090</td> <td>    0.103</td>\n",
       "</tr>\n",
       "<tr>\n",
       "  <th>zipcode_98199</th>             <td>    0.0917</td> <td>    0.003</td> <td>   26.673</td> <td> 0.000</td> <td>    0.085</td> <td>    0.098</td>\n",
       "</tr>\n",
       "<tr>\n",
       "  <th>zipcode_98102</th>             <td>    0.0781</td> <td>    0.003</td> <td>   23.857</td> <td> 0.000</td> <td>    0.072</td> <td>    0.084</td>\n",
       "</tr>\n",
       "<tr>\n",
       "  <th>zipcode_98109</th>             <td>    0.0765</td> <td>    0.003</td> <td>   23.380</td> <td> 0.000</td> <td>    0.070</td> <td>    0.083</td>\n",
       "</tr>\n",
       "<tr>\n",
       "  <th>zipcode_98033</th>             <td>    0.0988</td> <td>    0.003</td> <td>   28.276</td> <td> 0.000</td> <td>    0.092</td> <td>    0.106</td>\n",
       "</tr>\n",
       "<tr>\n",
       "  <th>zipcode_98006</th>             <td>    0.0812</td> <td>    0.003</td> <td>   23.679</td> <td> 0.000</td> <td>    0.074</td> <td>    0.088</td>\n",
       "</tr>\n",
       "<tr>\n",
       "  <th>zipcode_98103</th>             <td>    0.0971</td> <td>    0.004</td> <td>   26.316</td> <td> 0.000</td> <td>    0.090</td> <td>    0.104</td>\n",
       "</tr>\n",
       "<tr>\n",
       "  <th>zipcode_98122</th>             <td>    0.0782</td> <td>    0.003</td> <td>   23.208</td> <td> 0.000</td> <td>    0.072</td> <td>    0.085</td>\n",
       "</tr>\n",
       "<tr>\n",
       "  <th>zipcode_98115</th>             <td>    0.0877</td> <td>    0.004</td> <td>   23.994</td> <td> 0.000</td> <td>    0.081</td> <td>    0.095</td>\n",
       "</tr>\n",
       "<tr>\n",
       "  <th>zipcode_98117</th>             <td>    0.0812</td> <td>    0.004</td> <td>   22.123</td> <td> 0.000</td> <td>    0.074</td> <td>    0.088</td>\n",
       "</tr>\n",
       "<tr>\n",
       "  <th>zipcode_98107</th>             <td>    0.0684</td> <td>    0.003</td> <td>   19.976</td> <td> 0.000</td> <td>    0.062</td> <td>    0.075</td>\n",
       "</tr>\n",
       "<tr>\n",
       "  <th>zipcode_98116</th>             <td>    0.0614</td> <td>    0.003</td> <td>   18.271</td> <td> 0.000</td> <td>    0.055</td> <td>    0.068</td>\n",
       "</tr>\n",
       "<tr>\n",
       "  <th>zipcode_98144</th>             <td>    0.0602</td> <td>    0.003</td> <td>   17.845</td> <td> 0.000</td> <td>    0.054</td> <td>    0.067</td>\n",
       "</tr>\n",
       "<tr>\n",
       "  <th>zipcode_98005</th>             <td>    0.0575</td> <td>    0.003</td> <td>   17.426</td> <td> 0.000</td> <td>    0.051</td> <td>    0.064</td>\n",
       "</tr>\n",
       "<tr>\n",
       "  <th>zipcode_98136</th>             <td>    0.0494</td> <td>    0.003</td> <td>   14.924</td> <td> 0.000</td> <td>    0.043</td> <td>    0.056</td>\n",
       "</tr>\n",
       "<tr>\n",
       "  <th>view_3.0</th>                  <td>    0.0389</td> <td>    0.004</td> <td>   10.428</td> <td> 0.000</td> <td>    0.032</td> <td>    0.046</td>\n",
       "</tr>\n",
       "<tr>\n",
       "  <th>zipcode_98029</th>             <td>    0.0482</td> <td>    0.003</td> <td>   14.531</td> <td> 0.000</td> <td>    0.042</td> <td>    0.055</td>\n",
       "</tr>\n",
       "<tr>\n",
       "  <th>sqft_lot</th>                  <td>    0.0313</td> <td>    0.003</td> <td>    9.211</td> <td> 0.000</td> <td>    0.025</td> <td>    0.038</td>\n",
       "</tr>\n",
       "<tr>\n",
       "  <th>bedrooms_2</th>                <td>    0.2366</td> <td>    0.023</td> <td>   10.125</td> <td> 0.000</td> <td>    0.191</td> <td>    0.282</td>\n",
       "</tr>\n",
       "<tr>\n",
       "  <th>bedrooms_3</th>                <td>    0.3146</td> <td>    0.034</td> <td>    9.125</td> <td> 0.000</td> <td>    0.247</td> <td>    0.382</td>\n",
       "</tr>\n",
       "<tr>\n",
       "  <th>zipcode_98008</th>             <td>    0.0561</td> <td>    0.003</td> <td>   16.672</td> <td> 0.000</td> <td>    0.049</td> <td>    0.063</td>\n",
       "</tr>\n",
       "<tr>\n",
       "  <th>zipcode_98052</th>             <td>    0.0554</td> <td>    0.004</td> <td>   15.428</td> <td> 0.000</td> <td>    0.048</td> <td>    0.062</td>\n",
       "</tr>\n",
       "<tr>\n",
       "  <th>zipcode_98126</th>             <td>    0.0399</td> <td>    0.003</td> <td>   11.857</td> <td> 0.000</td> <td>    0.033</td> <td>    0.047</td>\n",
       "</tr>\n",
       "<tr>\n",
       "  <th>yr_renovated_(2000, 2010]</th> <td>    0.0403</td> <td>    0.003</td> <td>   12.398</td> <td> 0.000</td> <td>    0.034</td> <td>    0.047</td>\n",
       "</tr>\n",
       "<tr>\n",
       "  <th>zipcode_98075</th>             <td>    0.0379</td> <td>    0.003</td> <td>   11.151</td> <td> 0.000</td> <td>    0.031</td> <td>    0.045</td>\n",
       "</tr>\n",
       "<tr>\n",
       "  <th>condition_5</th>               <td>    0.0457</td> <td>    0.003</td> <td>   13.356</td> <td> 0.000</td> <td>    0.039</td> <td>    0.052</td>\n",
       "</tr>\n",
       "<tr>\n",
       "  <th>zipcode_98007</th>             <td>    0.0395</td> <td>    0.003</td> <td>   12.059</td> <td> 0.000</td> <td>    0.033</td> <td>    0.046</td>\n",
       "</tr>\n",
       "<tr>\n",
       "  <th>zipcode_98027</th>             <td>    0.0347</td> <td>    0.003</td> <td>   10.494</td> <td> 0.000</td> <td>    0.028</td> <td>    0.041</td>\n",
       "</tr>\n",
       "<tr>\n",
       "  <th>zipcode_98074</th>             <td>    0.0378</td> <td>    0.003</td> <td>   10.943</td> <td> 0.000</td> <td>    0.031</td> <td>    0.045</td>\n",
       "</tr>\n",
       "<tr>\n",
       "  <th>zipcode_98118</th>             <td>    0.0352</td> <td>    0.003</td> <td>   10.388</td> <td> 0.000</td> <td>    0.029</td> <td>    0.042</td>\n",
       "</tr>\n",
       "<tr>\n",
       "  <th>yr_built_(2010, 2020]</th>     <td>    0.0154</td> <td>    0.003</td> <td>    4.412</td> <td> 0.000</td> <td>    0.009</td> <td>    0.022</td>\n",
       "</tr>\n",
       "<tr>\n",
       "  <th>zipcode_98019</th>             <td>   -0.0198</td> <td>    0.003</td> <td>   -5.837</td> <td> 0.000</td> <td>   -0.026</td> <td>   -0.013</td>\n",
       "</tr>\n",
       "<tr>\n",
       "  <th>bedrooms_1</th>                <td>    0.0725</td> <td>    0.007</td> <td>    9.873</td> <td> 0.000</td> <td>    0.058</td> <td>    0.087</td>\n",
       "</tr>\n",
       "<tr>\n",
       "  <th>bedrooms_4</th>                <td>    0.2364</td> <td>    0.032</td> <td>    7.361</td> <td> 0.000</td> <td>    0.173</td> <td>    0.299</td>\n",
       "</tr>\n",
       "<tr>\n",
       "  <th>floors_2.5</th>                <td>    0.0252</td> <td>    0.003</td> <td>    7.730</td> <td> 0.000</td> <td>    0.019</td> <td>    0.032</td>\n",
       "</tr>\n",
       "<tr>\n",
       "  <th>yr_built_(1970, 1979]</th>     <td>   -0.0326</td> <td>    0.004</td> <td>   -8.860</td> <td> 0.000</td> <td>   -0.040</td> <td>   -0.025</td>\n",
       "</tr>\n",
       "<tr>\n",
       "  <th>zipcode_98034</th>             <td>    0.0353</td> <td>    0.004</td> <td>    9.569</td> <td> 0.000</td> <td>    0.028</td> <td>    0.043</td>\n",
       "</tr>\n",
       "<tr>\n",
       "  <th>zipcode_98053</th>             <td>    0.0266</td> <td>    0.004</td> <td>    7.572</td> <td> 0.000</td> <td>    0.020</td> <td>    0.034</td>\n",
       "</tr>\n",
       "<tr>\n",
       "  <th>yr_built_(1960, 1969]</th>     <td>   -0.0233</td> <td>    0.004</td> <td>   -6.217</td> <td> 0.000</td> <td>   -0.031</td> <td>   -0.016</td>\n",
       "</tr>\n",
       "<tr>\n",
       "  <th>yr_built_(1950, 1959]</th>     <td>   -0.0194</td> <td>    0.004</td> <td>   -5.349</td> <td> 0.000</td> <td>   -0.026</td> <td>   -0.012</td>\n",
       "</tr>\n",
       "<tr>\n",
       "  <th>zipcode_98125</th>             <td>    0.0248</td> <td>    0.004</td> <td>    6.929</td> <td> 0.000</td> <td>    0.018</td> <td>    0.032</td>\n",
       "</tr>\n",
       "<tr>\n",
       "  <th>zipcode_98106</th>             <td>    0.0211</td> <td>    0.003</td> <td>    6.331</td> <td> 0.000</td> <td>    0.015</td> <td>    0.028</td>\n",
       "</tr>\n",
       "<tr>\n",
       "  <th>zipcode_98177</th>             <td>    0.0202</td> <td>    0.003</td> <td>    5.818</td> <td> 0.000</td> <td>    0.013</td> <td>    0.027</td>\n",
       "</tr>\n",
       "<tr>\n",
       "  <th>condition_4</th>               <td>    0.0252</td> <td>    0.004</td> <td>    7.024</td> <td> 0.000</td> <td>    0.018</td> <td>    0.032</td>\n",
       "</tr>\n",
       "<tr>\n",
       "  <th>bedrooms_5</th>                <td>    0.1133</td> <td>    0.018</td> <td>    6.244</td> <td> 0.000</td> <td>    0.078</td> <td>    0.149</td>\n",
       "</tr>\n",
       "<tr>\n",
       "  <th>yr_built_(1980, 1989]</th>     <td>   -0.0096</td> <td>    0.004</td> <td>   -2.641</td> <td> 0.008</td> <td>   -0.017</td> <td>   -0.002</td>\n",
       "</tr>\n",
       "<tr>\n",
       "  <th>bedrooms_6</th>                <td>    0.0407</td> <td>    0.008</td> <td>    4.969</td> <td> 0.000</td> <td>    0.025</td> <td>    0.057</td>\n",
       "</tr>\n",
       "<tr>\n",
       "  <th>zipcode_98014</th>             <td>   -0.0083</td> <td>    0.003</td> <td>   -2.505</td> <td> 0.012</td> <td>   -0.015</td> <td>   -0.002</td>\n",
       "</tr>\n",
       "<tr>\n",
       "  <th>zipcode_98059</th>             <td>    0.0110</td> <td>    0.003</td> <td>    3.322</td> <td> 0.001</td> <td>    0.005</td> <td>    0.018</td>\n",
       "</tr>\n",
       "<tr>\n",
       "  <th>zipcode_98028</th>             <td>   -0.0097</td> <td>    0.003</td> <td>   -2.775</td> <td> 0.006</td> <td>   -0.017</td> <td>   -0.003</td>\n",
       "</tr>\n",
       "<tr>\n",
       "  <th>yr_built_(1930, 1939]</th>     <td>    0.0137</td> <td>    0.003</td> <td>    4.145</td> <td> 0.000</td> <td>    0.007</td> <td>    0.020</td>\n",
       "</tr>\n",
       "<tr>\n",
       "  <th>zipcode_98178</th>             <td>   -0.0089</td> <td>    0.003</td> <td>   -2.701</td> <td> 0.007</td> <td>   -0.015</td> <td>   -0.002</td>\n",
       "</tr>\n",
       "<tr>\n",
       "  <th>condition_1</th>               <td>   -0.0083</td> <td>    0.003</td> <td>   -2.597</td> <td> 0.009</td> <td>   -0.015</td> <td>   -0.002</td>\n",
       "</tr>\n",
       "<tr>\n",
       "  <th>zipcode_98056</th>             <td>    0.0103</td> <td>    0.003</td> <td>    3.123</td> <td> 0.002</td> <td>    0.004</td> <td>    0.017</td>\n",
       "</tr>\n",
       "<tr>\n",
       "  <th>yr_renovated_(2010, 2020]</th> <td>    0.0106</td> <td>    0.003</td> <td>    3.286</td> <td> 0.001</td> <td>    0.004</td> <td>    0.017</td>\n",
       "</tr>\n",
       "<tr>\n",
       "  <th>yr_built_(2000, 2010]</th>     <td>   -0.0123</td> <td>    0.004</td> <td>   -3.198</td> <td> 0.001</td> <td>   -0.020</td> <td>   -0.005</td>\n",
       "</tr>\n",
       "<tr>\n",
       "  <th>zipcode_98092</th>             <td>   -0.0103</td> <td>    0.003</td> <td>   -3.087</td> <td> 0.002</td> <td>   -0.017</td> <td>   -0.004</td>\n",
       "</tr>\n",
       "<tr>\n",
       "  <th>bedrooms_8</th>                <td>    0.0096</td> <td>    0.004</td> <td>    2.652</td> <td> 0.008</td> <td>    0.003</td> <td>    0.017</td>\n",
       "</tr>\n",
       "<tr>\n",
       "  <th>zipcode_98146</th>             <td>    0.0119</td> <td>    0.003</td> <td>    3.610</td> <td> 0.000</td> <td>    0.005</td> <td>    0.018</td>\n",
       "</tr>\n",
       "<tr>\n",
       "  <th>zipcode_98133</th>             <td>    0.0110</td> <td>    0.004</td> <td>    2.979</td> <td> 0.003</td> <td>    0.004</td> <td>    0.018</td>\n",
       "</tr>\n",
       "<tr>\n",
       "  <th>zipcode_98108</th>             <td>    0.0082</td> <td>    0.003</td> <td>    2.507</td> <td> 0.012</td> <td>    0.002</td> <td>    0.015</td>\n",
       "</tr>\n",
       "<tr>\n",
       "  <th>zipcode_98166</th>             <td>    0.0104</td> <td>    0.003</td> <td>    3.170</td> <td> 0.002</td> <td>    0.004</td> <td>    0.017</td>\n",
       "</tr>\n",
       "<tr>\n",
       "  <th>sqft_living15</th>             <td>    0.0765</td> <td>    0.005</td> <td>   13.985</td> <td> 0.000</td> <td>    0.066</td> <td>    0.087</td>\n",
       "</tr>\n",
       "<tr>\n",
       "  <th>yr_renovated_(1990, 1999]</th> <td>    0.0075</td> <td>    0.003</td> <td>    2.333</td> <td> 0.020</td> <td>    0.001</td> <td>    0.014</td>\n",
       "</tr>\n",
       "</table>\n",
       "<table class=\"simpletable\">\n",
       "<tr>\n",
       "  <th>Omnibus:</th>       <td>19797.614</td> <th>  Durbin-Watson:     </th>  <td>   1.994</td>  \n",
       "</tr>\n",
       "<tr>\n",
       "  <th>Prob(Omnibus):</th>  <td> 0.000</td>   <th>  Jarque-Bera (JB):  </th> <td>3523326.996</td>\n",
       "</tr>\n",
       "<tr>\n",
       "  <th>Skew:</th>           <td> 4.000</td>   <th>  Prob(JB):          </th>  <td>    0.00</td>  \n",
       "</tr>\n",
       "<tr>\n",
       "  <th>Kurtosis:</th>       <td>65.733</td>   <th>  Cond. No.          </th>  <td>    30.3</td>  \n",
       "</tr>\n",
       "</table><br/><br/>Warnings:<br/>[1] Standard Errors assume that the covariance matrix of the errors is correctly specified."
      ],
      "text/plain": [
       "<class 'statsmodels.iolib.summary.Summary'>\n",
       "\"\"\"\n",
       "                            OLS Regression Results                            \n",
       "==============================================================================\n",
       "Dep. Variable:                  price   R-squared:                       0.784\n",
       "Model:                            OLS   Adj. R-squared:                  0.784\n",
       "Method:                 Least Squares   F-statistic:                     1050.\n",
       "Date:                Tue, 07 May 2019   Prob (F-statistic):               0.00\n",
       "Time:                        13:30:38   Log-Likelihood:                -13778.\n",
       "No. Observations:               21143   AIC:                         2.770e+04\n",
       "Df Residuals:                   21069   BIC:                         2.829e+04\n",
       "Df Model:                          73                                         \n",
       "Covariance Type:            nonrobust                                         \n",
       "=============================================================================================\n",
       "                                coef    std err          t      P>|t|      [0.025      0.975]\n",
       "---------------------------------------------------------------------------------------------\n",
       "const                     -7.331e-15      0.003  -2.29e-12      1.000      -0.006       0.006\n",
       "zipcode_98004                 0.2299      0.003     67.575      0.000       0.223       0.237\n",
       "sqft_living                   0.5668      0.006     96.077      0.000       0.555       0.578\n",
       "view_4.0                      0.1616      0.004     45.184      0.000       0.155       0.169\n",
       "lat                           0.1296      0.005     25.147      0.000       0.119       0.140\n",
       "zipcode_98039                 0.1636      0.003     50.391      0.000       0.157       0.170\n",
       "zipcode_98112                 0.1587      0.003     46.990      0.000       0.152       0.165\n",
       "zipcode_98040                 0.1462      0.003     43.366      0.000       0.140       0.153\n",
       "view_0.0                     -0.0619      0.004    -14.770      0.000      -0.070      -0.054\n",
       "zipcode_98105                 0.1013      0.003     29.917      0.000       0.095       0.108\n",
       "zipcode_98119                 0.0967      0.003     29.078      0.000       0.090       0.103\n",
       "zipcode_98199                 0.0917      0.003     26.673      0.000       0.085       0.098\n",
       "zipcode_98102                 0.0781      0.003     23.857      0.000       0.072       0.084\n",
       "zipcode_98109                 0.0765      0.003     23.380      0.000       0.070       0.083\n",
       "zipcode_98033                 0.0988      0.003     28.276      0.000       0.092       0.106\n",
       "zipcode_98006                 0.0812      0.003     23.679      0.000       0.074       0.088\n",
       "zipcode_98103                 0.0971      0.004     26.316      0.000       0.090       0.104\n",
       "zipcode_98122                 0.0782      0.003     23.208      0.000       0.072       0.085\n",
       "zipcode_98115                 0.0877      0.004     23.994      0.000       0.081       0.095\n",
       "zipcode_98117                 0.0812      0.004     22.123      0.000       0.074       0.088\n",
       "zipcode_98107                 0.0684      0.003     19.976      0.000       0.062       0.075\n",
       "zipcode_98116                 0.0614      0.003     18.271      0.000       0.055       0.068\n",
       "zipcode_98144                 0.0602      0.003     17.845      0.000       0.054       0.067\n",
       "zipcode_98005                 0.0575      0.003     17.426      0.000       0.051       0.064\n",
       "zipcode_98136                 0.0494      0.003     14.924      0.000       0.043       0.056\n",
       "view_3.0                      0.0389      0.004     10.428      0.000       0.032       0.046\n",
       "zipcode_98029                 0.0482      0.003     14.531      0.000       0.042       0.055\n",
       "sqft_lot                      0.0313      0.003      9.211      0.000       0.025       0.038\n",
       "bedrooms_2                    0.2366      0.023     10.125      0.000       0.191       0.282\n",
       "bedrooms_3                    0.3146      0.034      9.125      0.000       0.247       0.382\n",
       "zipcode_98008                 0.0561      0.003     16.672      0.000       0.049       0.063\n",
       "zipcode_98052                 0.0554      0.004     15.428      0.000       0.048       0.062\n",
       "zipcode_98126                 0.0399      0.003     11.857      0.000       0.033       0.047\n",
       "yr_renovated_(2000, 2010]     0.0403      0.003     12.398      0.000       0.034       0.047\n",
       "zipcode_98075                 0.0379      0.003     11.151      0.000       0.031       0.045\n",
       "condition_5                   0.0457      0.003     13.356      0.000       0.039       0.052\n",
       "zipcode_98007                 0.0395      0.003     12.059      0.000       0.033       0.046\n",
       "zipcode_98027                 0.0347      0.003     10.494      0.000       0.028       0.041\n",
       "zipcode_98074                 0.0378      0.003     10.943      0.000       0.031       0.045\n",
       "zipcode_98118                 0.0352      0.003     10.388      0.000       0.029       0.042\n",
       "yr_built_(2010, 2020]         0.0154      0.003      4.412      0.000       0.009       0.022\n",
       "zipcode_98019                -0.0198      0.003     -5.837      0.000      -0.026      -0.013\n",
       "bedrooms_1                    0.0725      0.007      9.873      0.000       0.058       0.087\n",
       "bedrooms_4                    0.2364      0.032      7.361      0.000       0.173       0.299\n",
       "floors_2.5                    0.0252      0.003      7.730      0.000       0.019       0.032\n",
       "yr_built_(1970, 1979]        -0.0326      0.004     -8.860      0.000      -0.040      -0.025\n",
       "zipcode_98034                 0.0353      0.004      9.569      0.000       0.028       0.043\n",
       "zipcode_98053                 0.0266      0.004      7.572      0.000       0.020       0.034\n",
       "yr_built_(1960, 1969]        -0.0233      0.004     -6.217      0.000      -0.031      -0.016\n",
       "yr_built_(1950, 1959]        -0.0194      0.004     -5.349      0.000      -0.026      -0.012\n",
       "zipcode_98125                 0.0248      0.004      6.929      0.000       0.018       0.032\n",
       "zipcode_98106                 0.0211      0.003      6.331      0.000       0.015       0.028\n",
       "zipcode_98177                 0.0202      0.003      5.818      0.000       0.013       0.027\n",
       "condition_4                   0.0252      0.004      7.024      0.000       0.018       0.032\n",
       "bedrooms_5                    0.1133      0.018      6.244      0.000       0.078       0.149\n",
       "yr_built_(1980, 1989]        -0.0096      0.004     -2.641      0.008      -0.017      -0.002\n",
       "bedrooms_6                    0.0407      0.008      4.969      0.000       0.025       0.057\n",
       "zipcode_98014                -0.0083      0.003     -2.505      0.012      -0.015      -0.002\n",
       "zipcode_98059                 0.0110      0.003      3.322      0.001       0.005       0.018\n",
       "zipcode_98028                -0.0097      0.003     -2.775      0.006      -0.017      -0.003\n",
       "yr_built_(1930, 1939]         0.0137      0.003      4.145      0.000       0.007       0.020\n",
       "zipcode_98178                -0.0089      0.003     -2.701      0.007      -0.015      -0.002\n",
       "condition_1                  -0.0083      0.003     -2.597      0.009      -0.015      -0.002\n",
       "zipcode_98056                 0.0103      0.003      3.123      0.002       0.004       0.017\n",
       "yr_renovated_(2010, 2020]     0.0106      0.003      3.286      0.001       0.004       0.017\n",
       "yr_built_(2000, 2010]        -0.0123      0.004     -3.198      0.001      -0.020      -0.005\n",
       "zipcode_98092                -0.0103      0.003     -3.087      0.002      -0.017      -0.004\n",
       "bedrooms_8                    0.0096      0.004      2.652      0.008       0.003       0.017\n",
       "zipcode_98146                 0.0119      0.003      3.610      0.000       0.005       0.018\n",
       "zipcode_98133                 0.0110      0.004      2.979      0.003       0.004       0.018\n",
       "zipcode_98108                 0.0082      0.003      2.507      0.012       0.002       0.015\n",
       "zipcode_98166                 0.0104      0.003      3.170      0.002       0.004       0.017\n",
       "sqft_living15                 0.0765      0.005     13.985      0.000       0.066       0.087\n",
       "yr_renovated_(1990, 1999]     0.0075      0.003      2.333      0.020       0.001       0.014\n",
       "==============================================================================\n",
       "Omnibus:                    19797.614   Durbin-Watson:                   1.994\n",
       "Prob(Omnibus):                  0.000   Jarque-Bera (JB):          3523326.996\n",
       "Skew:                           4.000   Prob(JB):                         0.00\n",
       "Kurtosis:                      65.733   Cond. No.                         30.3\n",
       "==============================================================================\n",
       "\n",
       "Warnings:\n",
       "[1] Standard Errors assume that the covariance matrix of the errors is correctly specified.\n",
       "\"\"\""
      ]
     },
     "execution_count": 244,
     "metadata": {},
     "output_type": "execute_result"
    }
   ],
   "source": [
    "import statsmodels.api as sm\n",
    "from sklearn import preprocessing\n",
    "\n",
    "# Used Scikitlearn's Standard Scaler\n",
    "    # Takes each data point, subtracts the mean of the sample, then divides by the standard deviation of the sample\n",
    "\n",
    "ss_scaler = preprocessing.StandardScaler()\n",
    "clean_house_ss = ss_scaler.fit_transform(clean_house)\n",
    "\n",
    "# Standard scaler returns a numpy array, so we converted it back to a DF\n",
    "\n",
    "clean_house_ss = pd.DataFrame(clean_house_ss, columns=list(clean_house.columns))\n",
    "\n",
    "# We generated a list of features to use using a stepwise selection function from Flatiron's learn.co lessons\n",
    "    # Finds the best p values from your features\n",
    "\n",
    "clean_house_selections_list = ['price', 'zipcode_98004', 'sqft_living', 'view_4.0', 'lat', 'zipcode_98039', 'zipcode_98112', 'zipcode_98040', 'view_0.0', 'zipcode_98105', 'zipcode_98119', 'zipcode_98199', 'zipcode_98102', 'zipcode_98109', 'zipcode_98033', 'zipcode_98006', 'zipcode_98103', 'zipcode_98122', 'zipcode_98115', 'zipcode_98117', 'zipcode_98107', 'zipcode_98116', 'zipcode_98144', 'zipcode_98005', 'zipcode_98136', 'view_3.0', 'zipcode_98029', 'sqft_lot', 'bedrooms_2', 'bedrooms_3', 'zipcode_98008', 'zipcode_98052', 'zipcode_98126', 'yr_renovated_(2000, 2010]', 'zipcode_98075', 'condition_5', 'zipcode_98007', 'zipcode_98027', 'zipcode_98074', 'zipcode_98118', 'yr_built_(2010, 2020]', 'zipcode_98019', 'bedrooms_1', 'bedrooms_4', 'floors_2.5', 'yr_built_(1970, 1979]', 'zipcode_98034', 'zipcode_98053', 'yr_built_(1960, 1969]', 'yr_built_(1950, 1959]', 'zipcode_98125', 'zipcode_98106', 'zipcode_98177', 'condition_4', 'bedrooms_5', 'yr_built_(1980, 1989]', 'bedrooms_6', 'zipcode_98014', 'zipcode_98059', 'zipcode_98028', 'yr_built_(1930, 1939]', 'zipcode_98178', 'condition_1', 'zipcode_98056', 'yr_renovated_(2010, 2020]', 'yr_built_(2000, 2010]', 'zipcode_98092', 'bedrooms_8', 'zipcode_98146', 'zipcode_98133', 'zipcode_98108', 'zipcode_98166', 'sqft_living15', 'yr_renovated_(1990, 1999]']\n",
    "\n",
    "# Made a new DF with just the features from our selections list\n",
    "clean_house_selections = clean_house_ss[clean_house_selections_list]\n",
    "\n",
    "# Used statsmodels OLS so we could get a handy summary of the regression results\n",
    "target = clean_house_selections[\"price\"]\n",
    "predictors = clean_house_selections.drop([\"price\"], axis=1)\n",
    "\n",
    "predictors_int = sm.add_constant(predictors)\n",
    "model = sm.OLS(target, predictors_int).fit()\n",
    "model.summary()"
   ]
  },
  {
   "cell_type": "markdown",
   "metadata": {},
   "source": [
    "### Model Validation"
   ]
  },
  {
   "cell_type": "code",
   "execution_count": 261,
   "metadata": {},
   "outputs": [],
   "source": [
    "# We needed a special train, test, split for our altered data set\n",
    "\n",
    "X1_train,X1_test,y1_train,y1_test=train_test_split(predictors,target,test_size=0.2,random_state=3)\n",
    "\n",
    "from sklearn.linear_model import LinearRegression\n",
    "linreg = LinearRegression()\n",
    "linreg.fit(X1_train, y1_train)\n",
    "\n",
    "y_hat_train = linreg.predict(X1_train)\n",
    "y_hat_test = linreg.predict(X1_test)"
   ]
  },
  {
   "cell_type": "code",
   "execution_count": 262,
   "metadata": {},
   "outputs": [
    {
     "name": "stdout",
     "output_type": "stream",
     "text": [
      "Train Mean Squarred Error: 429058933051.83325\n",
      "Test Mean Squarred Error: 421885504500.11163\n"
     ]
    }
   ],
   "source": [
    "# Check the mean squared error\n",
    "\n",
    "mse_train = np.sum((y_train-y_hat_train)**2)/len(y_train)\n",
    "mse_test =np.sum((y_test-y_hat_test)**2)/len(y_test)\n",
    "print('Train Mean Squarred Error:', mse_train)\n",
    "print('Test Mean Squarred Error:', mse_test)"
   ]
  },
  {
   "cell_type": "code",
   "execution_count": 225,
   "metadata": {},
   "outputs": [],
   "source": [
    "# Cross validation scores\n",
    "    # Took the mean cv score because cross_val_score returns a score for each fold\n",
    "\n",
    "from sklearn.metrics import mean_squared_error\n",
    "from sklearn.model_selection import cross_val_score\n",
    "\n",
    "cv_5_results = np.mean(cross_val_score(linreg, X, y, cv=5, scoring=\"neg_mean_squared_error\"))\n",
    "cv_10_results = np.mean(cross_val_score(linreg, X, y, cv=10, scoring=\"neg_mean_squared_error\"))\n",
    "cv_20_results = np.mean(cross_val_score(linreg, X, y, cv=20, scoring=\"neg_mean_squared_error\"))"
   ]
  },
  {
   "cell_type": "code",
   "execution_count": 226,
   "metadata": {},
   "outputs": [
    {
     "name": "stdout",
     "output_type": "stream",
     "text": [
      "-2479266060903.6475\n",
      "-51134517995614.92\n",
      "-110293992294.40092\n"
     ]
    }
   ],
   "source": [
    "print(cv_5_results)\n",
    "print(cv_10_results)\n",
    "print(cv_20_results)"
   ]
  },
  {
   "cell_type": "markdown",
   "metadata": {},
   "source": [
    "### Regression 2: Lasso"
   ]
  },
  {
   "cell_type": "code",
   "execution_count": 227,
   "metadata": {},
   "outputs": [],
   "source": [
    "from sklearn.linear_model import Lasso"
   ]
  },
  {
   "cell_type": "code",
   "execution_count": 228,
   "metadata": {},
   "outputs": [
    {
     "name": "stderr",
     "output_type": "stream",
     "text": [
      "/anaconda3/lib/python3.7/site-packages/sklearn/linear_model/coordinate_descent.py:492: ConvergenceWarning: Objective did not converge. You might want to increase the number of iterations. Fitting data with very small alpha may cause precision problems.\n",
      "  ConvergenceWarning)\n"
     ]
    },
    {
     "data": {
      "text/plain": [
       "Lasso(alpha=1.0, copy_X=True, fit_intercept=True, max_iter=1000,\n",
       "   normalize=False, positive=False, precompute=False, random_state=None,\n",
       "   selection='cyclic', tol=0.0001, warm_start=False)"
      ]
     },
     "execution_count": 228,
     "metadata": {},
     "output_type": "execute_result"
    }
   ],
   "source": [
    "# Lasso Regression\n",
    "    # Lasso helps prevent overfitting by reducing the influence of some of the predictors by penalizing their coefficients or reducing them to zero (effectively doing predictor selection)\n",
    "\n",
    "lasso = Lasso()\n",
    "lasso.fit(X_train, y_train)"
   ]
  },
  {
   "cell_type": "code",
   "execution_count": 229,
   "metadata": {},
   "outputs": [],
   "source": [
    "# Checking the training/test scores (R2) of our model \n",
    "\n",
    "train_score=lasso.score(X_train,y_train)\n",
    "test_score=lasso.score(X_test,y_test)"
   ]
  },
  {
   "cell_type": "code",
   "execution_count": 230,
   "metadata": {},
   "outputs": [
    {
     "name": "stdout",
     "output_type": "stream",
     "text": [
      "training score: 0.8027047501603501\n",
      "test score:  0.7928602503539883\n"
     ]
    }
   ],
   "source": [
    "print(\"training score:\", train_score)\n",
    "print(\"test score: \", test_score)"
   ]
  },
  {
   "cell_type": "code",
   "execution_count": 247,
   "metadata": {},
   "outputs": [
    {
     "name": "stdout",
     "output_type": "stream",
     "text": [
      "number of features used: 128\n",
      "number eliminated: 5\n"
     ]
    }
   ],
   "source": [
    "# Checking to see how many features were used and how many were axed\n",
    "\n",
    "coeff_used = np.sum(lasso.coef_!=0)\n",
    "print(\"number of features used:\", coeff_used)\n",
    "print(\"number eliminated:\", len(list(clean_house.columns)) - coeff_used)"
   ]
  },
  {
   "cell_type": "code",
   "execution_count": 232,
   "metadata": {},
   "outputs": [
    {
     "name": "stdout",
     "output_type": "stream",
     "text": [
      "Train Mean Squarred Error: 27113385027.536434\n",
      "Test Mean Squarred Error: 26443217859.257618\n"
     ]
    }
   ],
   "source": [
    "# Mean Squared Error\n",
    "\n",
    "y_hat_train = lasso.predict(X_train)\n",
    "y_hat_test = lasso.predict(X_test)\n",
    "\n",
    "mse_train = np.sum((y_train-y_hat_train)**2)/len(y_train)\n",
    "mse_test = np.sum((y_test-y_hat_test)**2)/len(y_test)\n",
    "print('Train Mean Squarred Error:', mse_train)\n",
    "print('Test Mean Squarred Error:', mse_test)"
   ]
  },
  {
   "cell_type": "code",
   "execution_count": 233,
   "metadata": {},
   "outputs": [
    {
     "name": "stderr",
     "output_type": "stream",
     "text": [
      "/anaconda3/lib/python3.7/site-packages/sklearn/linear_model/coordinate_descent.py:492: ConvergenceWarning: Objective did not converge. You might want to increase the number of iterations. Fitting data with very small alpha may cause precision problems.\n",
      "  ConvergenceWarning)\n",
      "/anaconda3/lib/python3.7/site-packages/sklearn/linear_model/coordinate_descent.py:492: ConvergenceWarning: Objective did not converge. You might want to increase the number of iterations. Fitting data with very small alpha may cause precision problems.\n",
      "  ConvergenceWarning)\n",
      "/anaconda3/lib/python3.7/site-packages/sklearn/linear_model/coordinate_descent.py:492: ConvergenceWarning: Objective did not converge. You might want to increase the number of iterations. Fitting data with very small alpha may cause precision problems.\n",
      "  ConvergenceWarning)\n",
      "/anaconda3/lib/python3.7/site-packages/sklearn/linear_model/coordinate_descent.py:492: ConvergenceWarning: Objective did not converge. You might want to increase the number of iterations. Fitting data with very small alpha may cause precision problems.\n",
      "  ConvergenceWarning)\n",
      "/anaconda3/lib/python3.7/site-packages/sklearn/linear_model/coordinate_descent.py:492: ConvergenceWarning: Objective did not converge. You might want to increase the number of iterations. Fitting data with very small alpha may cause precision problems.\n",
      "  ConvergenceWarning)\n",
      "/anaconda3/lib/python3.7/site-packages/sklearn/linear_model/coordinate_descent.py:492: ConvergenceWarning: Objective did not converge. You might want to increase the number of iterations. Fitting data with very small alpha may cause precision problems.\n",
      "  ConvergenceWarning)\n",
      "/anaconda3/lib/python3.7/site-packages/sklearn/linear_model/coordinate_descent.py:492: ConvergenceWarning: Objective did not converge. You might want to increase the number of iterations. Fitting data with very small alpha may cause precision problems.\n",
      "  ConvergenceWarning)\n",
      "/anaconda3/lib/python3.7/site-packages/sklearn/linear_model/coordinate_descent.py:492: ConvergenceWarning: Objective did not converge. You might want to increase the number of iterations. Fitting data with very small alpha may cause precision problems.\n",
      "  ConvergenceWarning)\n",
      "/anaconda3/lib/python3.7/site-packages/sklearn/linear_model/coordinate_descent.py:492: ConvergenceWarning: Objective did not converge. You might want to increase the number of iterations. Fitting data with very small alpha may cause precision problems.\n",
      "  ConvergenceWarning)\n",
      "/anaconda3/lib/python3.7/site-packages/sklearn/linear_model/coordinate_descent.py:492: ConvergenceWarning: Objective did not converge. You might want to increase the number of iterations. Fitting data with very small alpha may cause precision problems.\n",
      "  ConvergenceWarning)\n",
      "/anaconda3/lib/python3.7/site-packages/sklearn/linear_model/coordinate_descent.py:492: ConvergenceWarning: Objective did not converge. You might want to increase the number of iterations. Fitting data with very small alpha may cause precision problems.\n",
      "  ConvergenceWarning)\n",
      "/anaconda3/lib/python3.7/site-packages/sklearn/linear_model/coordinate_descent.py:492: ConvergenceWarning: Objective did not converge. You might want to increase the number of iterations. Fitting data with very small alpha may cause precision problems.\n",
      "  ConvergenceWarning)\n",
      "/anaconda3/lib/python3.7/site-packages/sklearn/linear_model/coordinate_descent.py:492: ConvergenceWarning: Objective did not converge. You might want to increase the number of iterations. Fitting data with very small alpha may cause precision problems.\n",
      "  ConvergenceWarning)\n",
      "/anaconda3/lib/python3.7/site-packages/sklearn/linear_model/coordinate_descent.py:492: ConvergenceWarning: Objective did not converge. You might want to increase the number of iterations. Fitting data with very small alpha may cause precision problems.\n",
      "  ConvergenceWarning)\n",
      "/anaconda3/lib/python3.7/site-packages/sklearn/linear_model/coordinate_descent.py:492: ConvergenceWarning: Objective did not converge. You might want to increase the number of iterations. Fitting data with very small alpha may cause precision problems.\n",
      "  ConvergenceWarning)\n",
      "/anaconda3/lib/python3.7/site-packages/sklearn/linear_model/coordinate_descent.py:492: ConvergenceWarning: Objective did not converge. You might want to increase the number of iterations. Fitting data with very small alpha may cause precision problems.\n",
      "  ConvergenceWarning)\n",
      "/anaconda3/lib/python3.7/site-packages/sklearn/linear_model/coordinate_descent.py:492: ConvergenceWarning: Objective did not converge. You might want to increase the number of iterations. Fitting data with very small alpha may cause precision problems.\n",
      "  ConvergenceWarning)\n",
      "/anaconda3/lib/python3.7/site-packages/sklearn/linear_model/coordinate_descent.py:492: ConvergenceWarning: Objective did not converge. You might want to increase the number of iterations. Fitting data with very small alpha may cause precision problems.\n",
      "  ConvergenceWarning)\n",
      "/anaconda3/lib/python3.7/site-packages/sklearn/linear_model/coordinate_descent.py:492: ConvergenceWarning: Objective did not converge. You might want to increase the number of iterations. Fitting data with very small alpha may cause precision problems.\n",
      "  ConvergenceWarning)\n",
      "/anaconda3/lib/python3.7/site-packages/sklearn/linear_model/coordinate_descent.py:492: ConvergenceWarning: Objective did not converge. You might want to increase the number of iterations. Fitting data with very small alpha may cause precision problems.\n",
      "  ConvergenceWarning)\n",
      "/anaconda3/lib/python3.7/site-packages/sklearn/linear_model/coordinate_descent.py:492: ConvergenceWarning: Objective did not converge. You might want to increase the number of iterations. Fitting data with very small alpha may cause precision problems.\n",
      "  ConvergenceWarning)\n",
      "/anaconda3/lib/python3.7/site-packages/sklearn/linear_model/coordinate_descent.py:492: ConvergenceWarning: Objective did not converge. You might want to increase the number of iterations. Fitting data with very small alpha may cause precision problems.\n",
      "  ConvergenceWarning)\n",
      "/anaconda3/lib/python3.7/site-packages/sklearn/linear_model/coordinate_descent.py:492: ConvergenceWarning: Objective did not converge. You might want to increase the number of iterations. Fitting data with very small alpha may cause precision problems.\n",
      "  ConvergenceWarning)\n",
      "/anaconda3/lib/python3.7/site-packages/sklearn/linear_model/coordinate_descent.py:492: ConvergenceWarning: Objective did not converge. You might want to increase the number of iterations. Fitting data with very small alpha may cause precision problems.\n",
      "  ConvergenceWarning)\n",
      "/anaconda3/lib/python3.7/site-packages/sklearn/linear_model/coordinate_descent.py:492: ConvergenceWarning: Objective did not converge. You might want to increase the number of iterations. Fitting data with very small alpha may cause precision problems.\n",
      "  ConvergenceWarning)\n",
      "/anaconda3/lib/python3.7/site-packages/sklearn/linear_model/coordinate_descent.py:492: ConvergenceWarning: Objective did not converge. You might want to increase the number of iterations. Fitting data with very small alpha may cause precision problems.\n",
      "  ConvergenceWarning)\n",
      "/anaconda3/lib/python3.7/site-packages/sklearn/linear_model/coordinate_descent.py:492: ConvergenceWarning: Objective did not converge. You might want to increase the number of iterations. Fitting data with very small alpha may cause precision problems.\n",
      "  ConvergenceWarning)\n",
      "/anaconda3/lib/python3.7/site-packages/sklearn/linear_model/coordinate_descent.py:492: ConvergenceWarning: Objective did not converge. You might want to increase the number of iterations. Fitting data with very small alpha may cause precision problems.\n",
      "  ConvergenceWarning)\n",
      "/anaconda3/lib/python3.7/site-packages/sklearn/linear_model/coordinate_descent.py:492: ConvergenceWarning: Objective did not converge. You might want to increase the number of iterations. Fitting data with very small alpha may cause precision problems.\n",
      "  ConvergenceWarning)\n",
      "/anaconda3/lib/python3.7/site-packages/sklearn/linear_model/coordinate_descent.py:492: ConvergenceWarning: Objective did not converge. You might want to increase the number of iterations. Fitting data with very small alpha may cause precision problems.\n",
      "  ConvergenceWarning)\n"
     ]
    },
    {
     "name": "stderr",
     "output_type": "stream",
     "text": [
      "/anaconda3/lib/python3.7/site-packages/sklearn/linear_model/coordinate_descent.py:492: ConvergenceWarning: Objective did not converge. You might want to increase the number of iterations. Fitting data with very small alpha may cause precision problems.\n",
      "  ConvergenceWarning)\n",
      "/anaconda3/lib/python3.7/site-packages/sklearn/linear_model/coordinate_descent.py:492: ConvergenceWarning: Objective did not converge. You might want to increase the number of iterations. Fitting data with very small alpha may cause precision problems.\n",
      "  ConvergenceWarning)\n",
      "/anaconda3/lib/python3.7/site-packages/sklearn/linear_model/coordinate_descent.py:492: ConvergenceWarning: Objective did not converge. You might want to increase the number of iterations. Fitting data with very small alpha may cause precision problems.\n",
      "  ConvergenceWarning)\n",
      "/anaconda3/lib/python3.7/site-packages/sklearn/linear_model/coordinate_descent.py:492: ConvergenceWarning: Objective did not converge. You might want to increase the number of iterations. Fitting data with very small alpha may cause precision problems.\n",
      "  ConvergenceWarning)\n",
      "/anaconda3/lib/python3.7/site-packages/sklearn/linear_model/coordinate_descent.py:492: ConvergenceWarning: Objective did not converge. You might want to increase the number of iterations. Fitting data with very small alpha may cause precision problems.\n",
      "  ConvergenceWarning)\n"
     ]
    }
   ],
   "source": [
    "# Cross Validation\n",
    "\n",
    "cv_5_results = np.mean(cross_val_score(lasso, X, y, cv=5, scoring=\"neg_mean_squared_error\"))\n",
    "cv_10_results = np.mean(cross_val_score(lasso, X, y, cv=10, scoring=\"neg_mean_squared_error\"))\n",
    "cv_20_results = np.mean(cross_val_score(lasso, X, y, cv=20, scoring=\"neg_mean_squared_error\"))"
   ]
  },
  {
   "cell_type": "code",
   "execution_count": 234,
   "metadata": {},
   "outputs": [
    {
     "name": "stdout",
     "output_type": "stream",
     "text": [
      "-27693483375.205437\n",
      "-27658294254.329895\n",
      "-27522365353.11402\n"
     ]
    }
   ],
   "source": [
    "print(cv_5_results)\n",
    "print(cv_10_results)\n",
    "print(cv_20_results)"
   ]
  },
  {
   "cell_type": "markdown",
   "metadata": {},
   "source": [
    "### Regression 3: Ridge"
   ]
  },
  {
   "cell_type": "code",
   "execution_count": 235,
   "metadata": {},
   "outputs": [],
   "source": [
    "from sklearn.linear_model import Ridge"
   ]
  },
  {
   "cell_type": "code",
   "execution_count": 236,
   "metadata": {},
   "outputs": [
    {
     "data": {
      "text/plain": [
       "Ridge(alpha=1.0, copy_X=True, fit_intercept=True, max_iter=None,\n",
       "   normalize=False, random_state=None, solver='auto', tol=0.001)"
      ]
     },
     "execution_count": 236,
     "metadata": {},
     "output_type": "execute_result"
    }
   ],
   "source": [
    "# An important difference between Lasso and Ridge is that Ridge doesn't reduce any features' coefficient to 0 (though they can get very, very small)\n",
    "\n",
    "ridge = Ridge()\n",
    "ridge.fit(X_train, y_train)"
   ]
  },
  {
   "cell_type": "code",
   "execution_count": 237,
   "metadata": {},
   "outputs": [],
   "source": [
    "# Getting the scores\n",
    "\n",
    "rtrain_score=ridge.score(X_train,y_train)\n",
    "rtest_score=ridge.score(X_test,y_test)"
   ]
  },
  {
   "cell_type": "code",
   "execution_count": 238,
   "metadata": {},
   "outputs": [
    {
     "name": "stdout",
     "output_type": "stream",
     "text": [
      "training score: 0.8026624192010714\n",
      "test score:  0.7931176177914419\n"
     ]
    }
   ],
   "source": [
    "print(\"training score:\", rtrain_score)\n",
    "print(\"test score: \", rtest_score)"
   ]
  },
  {
   "cell_type": "code",
   "execution_count": 239,
   "metadata": {},
   "outputs": [
    {
     "name": "stdout",
     "output_type": "stream",
     "text": [
      "Train Mean Squarred Error: 27119202377.920914\n",
      "Test Mean Squarred Error: 26410362633.5943\n"
     ]
    }
   ],
   "source": [
    "# Mean Squared Error\n",
    "\n",
    "y_hat_train = ridge.predict(X_train)\n",
    "y_hat_test = ridge.predict(X_test)\n",
    "\n",
    "mse_train = np.sum((y_train-y_hat_train)**2)/len(y_train)\n",
    "mse_test =np.sum((y_test-y_hat_test)**2)/len(y_test)\n",
    "print('Train Mean Squarred Error:', mse_train)\n",
    "print('Test Mean Squarred Error:', mse_test)"
   ]
  },
  {
   "cell_type": "code",
   "execution_count": 240,
   "metadata": {},
   "outputs": [],
   "source": [
    "# Cross Validation\n",
    "\n",
    "cv_5_results = np.mean(cross_val_score(ridge, X, y, cv=5, scoring=\"neg_mean_squared_error\"))\n",
    "cv_10_results = np.mean(cross_val_score(ridge, X, y, cv=10, scoring=\"neg_mean_squared_error\"))\n",
    "cv_20_results = np.mean(cross_val_score(ridge, X, y, cv=20, scoring=\"neg_mean_squared_error\"))"
   ]
  },
  {
   "cell_type": "code",
   "execution_count": 241,
   "metadata": {},
   "outputs": [
    {
     "name": "stdout",
     "output_type": "stream",
     "text": [
      "-27685705259.58349\n",
      "-27650810513.546104\n",
      "-27516502769.193916\n"
     ]
    }
   ],
   "source": [
    "print(cv_5_results)\n",
    "print(cv_10_results)\n",
    "print(cv_20_results)"
   ]
  },
  {
   "cell_type": "markdown",
   "metadata": {},
   "source": [
    "### Try Gridsearch for best alpha"
   ]
  },
  {
   "cell_type": "code",
   "execution_count": 179,
   "metadata": {},
   "outputs": [],
   "source": [
    "from sklearn.model_selection import GridSearchCV"
   ]
  },
  {
   "cell_type": "code",
   "execution_count": 180,
   "metadata": {},
   "outputs": [],
   "source": [
    "param = {'alpha': [0.001, 0.01, 1, 5, 10, 20, 100]}"
   ]
  },
  {
   "cell_type": "code",
   "execution_count": 181,
   "metadata": {},
   "outputs": [
    {
     "name": "stderr",
     "output_type": "stream",
     "text": [
      "/anaconda3/lib/python3.7/site-packages/sklearn/linear_model/coordinate_descent.py:492: ConvergenceWarning: Objective did not converge. You might want to increase the number of iterations. Fitting data with very small alpha may cause precision problems.\n",
      "  ConvergenceWarning)\n",
      "/anaconda3/lib/python3.7/site-packages/sklearn/linear_model/coordinate_descent.py:492: ConvergenceWarning: Objective did not converge. You might want to increase the number of iterations. Fitting data with very small alpha may cause precision problems.\n",
      "  ConvergenceWarning)\n",
      "/anaconda3/lib/python3.7/site-packages/sklearn/linear_model/coordinate_descent.py:492: ConvergenceWarning: Objective did not converge. You might want to increase the number of iterations. Fitting data with very small alpha may cause precision problems.\n",
      "  ConvergenceWarning)\n",
      "/anaconda3/lib/python3.7/site-packages/sklearn/linear_model/coordinate_descent.py:492: ConvergenceWarning: Objective did not converge. You might want to increase the number of iterations. Fitting data with very small alpha may cause precision problems.\n",
      "  ConvergenceWarning)\n",
      "/anaconda3/lib/python3.7/site-packages/sklearn/linear_model/coordinate_descent.py:492: ConvergenceWarning: Objective did not converge. You might want to increase the number of iterations. Fitting data with very small alpha may cause precision problems.\n",
      "  ConvergenceWarning)\n",
      "/anaconda3/lib/python3.7/site-packages/sklearn/linear_model/coordinate_descent.py:492: ConvergenceWarning: Objective did not converge. You might want to increase the number of iterations. Fitting data with very small alpha may cause precision problems.\n",
      "  ConvergenceWarning)\n",
      "/anaconda3/lib/python3.7/site-packages/sklearn/linear_model/coordinate_descent.py:492: ConvergenceWarning: Objective did not converge. You might want to increase the number of iterations. Fitting data with very small alpha may cause precision problems.\n",
      "  ConvergenceWarning)\n",
      "/anaconda3/lib/python3.7/site-packages/sklearn/linear_model/coordinate_descent.py:492: ConvergenceWarning: Objective did not converge. You might want to increase the number of iterations. Fitting data with very small alpha may cause precision problems.\n",
      "  ConvergenceWarning)\n",
      "/anaconda3/lib/python3.7/site-packages/sklearn/linear_model/coordinate_descent.py:492: ConvergenceWarning: Objective did not converge. You might want to increase the number of iterations. Fitting data with very small alpha may cause precision problems.\n",
      "  ConvergenceWarning)\n",
      "/anaconda3/lib/python3.7/site-packages/sklearn/linear_model/coordinate_descent.py:492: ConvergenceWarning: Objective did not converge. You might want to increase the number of iterations. Fitting data with very small alpha may cause precision problems.\n",
      "  ConvergenceWarning)\n",
      "/anaconda3/lib/python3.7/site-packages/sklearn/linear_model/coordinate_descent.py:492: ConvergenceWarning: Objective did not converge. You might want to increase the number of iterations. Fitting data with very small alpha may cause precision problems.\n",
      "  ConvergenceWarning)\n",
      "/anaconda3/lib/python3.7/site-packages/sklearn/linear_model/coordinate_descent.py:492: ConvergenceWarning: Objective did not converge. You might want to increase the number of iterations. Fitting data with very small alpha may cause precision problems.\n",
      "  ConvergenceWarning)\n",
      "/anaconda3/lib/python3.7/site-packages/sklearn/linear_model/coordinate_descent.py:492: ConvergenceWarning: Objective did not converge. You might want to increase the number of iterations. Fitting data with very small alpha may cause precision problems.\n",
      "  ConvergenceWarning)\n",
      "/anaconda3/lib/python3.7/site-packages/sklearn/linear_model/coordinate_descent.py:492: ConvergenceWarning: Objective did not converge. You might want to increase the number of iterations. Fitting data with very small alpha may cause precision problems.\n",
      "  ConvergenceWarning)\n",
      "/anaconda3/lib/python3.7/site-packages/sklearn/linear_model/coordinate_descent.py:492: ConvergenceWarning: Objective did not converge. You might want to increase the number of iterations. Fitting data with very small alpha may cause precision problems.\n",
      "  ConvergenceWarning)\n",
      "/anaconda3/lib/python3.7/site-packages/sklearn/linear_model/coordinate_descent.py:492: ConvergenceWarning: Objective did not converge. You might want to increase the number of iterations. Fitting data with very small alpha may cause precision problems.\n",
      "  ConvergenceWarning)\n",
      "/anaconda3/lib/python3.7/site-packages/sklearn/linear_model/coordinate_descent.py:492: ConvergenceWarning: Objective did not converge. You might want to increase the number of iterations. Fitting data with very small alpha may cause precision problems.\n",
      "  ConvergenceWarning)\n",
      "/anaconda3/lib/python3.7/site-packages/sklearn/linear_model/coordinate_descent.py:492: ConvergenceWarning: Objective did not converge. You might want to increase the number of iterations. Fitting data with very small alpha may cause precision problems.\n",
      "  ConvergenceWarning)\n",
      "/anaconda3/lib/python3.7/site-packages/sklearn/linear_model/coordinate_descent.py:492: ConvergenceWarning: Objective did not converge. You might want to increase the number of iterations. Fitting data with very small alpha may cause precision problems.\n",
      "  ConvergenceWarning)\n",
      "/anaconda3/lib/python3.7/site-packages/sklearn/linear_model/coordinate_descent.py:492: ConvergenceWarning: Objective did not converge. You might want to increase the number of iterations. Fitting data with very small alpha may cause precision problems.\n",
      "  ConvergenceWarning)\n",
      "/anaconda3/lib/python3.7/site-packages/sklearn/linear_model/coordinate_descent.py:492: ConvergenceWarning: Objective did not converge. You might want to increase the number of iterations. Fitting data with very small alpha may cause precision problems.\n",
      "  ConvergenceWarning)\n",
      "/anaconda3/lib/python3.7/site-packages/sklearn/linear_model/coordinate_descent.py:492: ConvergenceWarning: Objective did not converge. You might want to increase the number of iterations. Fitting data with very small alpha may cause precision problems.\n",
      "  ConvergenceWarning)\n",
      "/anaconda3/lib/python3.7/site-packages/sklearn/linear_model/coordinate_descent.py:492: ConvergenceWarning: Objective did not converge. You might want to increase the number of iterations. Fitting data with very small alpha may cause precision problems.\n",
      "  ConvergenceWarning)\n",
      "/anaconda3/lib/python3.7/site-packages/sklearn/linear_model/coordinate_descent.py:492: ConvergenceWarning: Objective did not converge. You might want to increase the number of iterations. Fitting data with very small alpha may cause precision problems.\n",
      "  ConvergenceWarning)\n",
      "/anaconda3/lib/python3.7/site-packages/sklearn/linear_model/coordinate_descent.py:492: ConvergenceWarning: Objective did not converge. You might want to increase the number of iterations. Fitting data with very small alpha may cause precision problems.\n",
      "  ConvergenceWarning)\n",
      "/anaconda3/lib/python3.7/site-packages/sklearn/linear_model/coordinate_descent.py:492: ConvergenceWarning: Objective did not converge. You might want to increase the number of iterations. Fitting data with very small alpha may cause precision problems.\n",
      "  ConvergenceWarning)\n",
      "/anaconda3/lib/python3.7/site-packages/sklearn/linear_model/coordinate_descent.py:492: ConvergenceWarning: Objective did not converge. You might want to increase the number of iterations. Fitting data with very small alpha may cause precision problems.\n",
      "  ConvergenceWarning)\n",
      "/anaconda3/lib/python3.7/site-packages/sklearn/linear_model/coordinate_descent.py:492: ConvergenceWarning: Objective did not converge. You might want to increase the number of iterations. Fitting data with very small alpha may cause precision problems.\n",
      "  ConvergenceWarning)\n",
      "/anaconda3/lib/python3.7/site-packages/sklearn/linear_model/coordinate_descent.py:492: ConvergenceWarning: Objective did not converge. You might want to increase the number of iterations. Fitting data with very small alpha may cause precision problems.\n",
      "  ConvergenceWarning)\n",
      "/anaconda3/lib/python3.7/site-packages/sklearn/linear_model/coordinate_descent.py:492: ConvergenceWarning: Objective did not converge. You might want to increase the number of iterations. Fitting data with very small alpha may cause precision problems.\n",
      "  ConvergenceWarning)\n"
     ]
    },
    {
     "name": "stderr",
     "output_type": "stream",
     "text": [
      "/anaconda3/lib/python3.7/site-packages/sklearn/linear_model/coordinate_descent.py:492: ConvergenceWarning: Objective did not converge. You might want to increase the number of iterations. Fitting data with very small alpha may cause precision problems.\n",
      "  ConvergenceWarning)\n",
      "/anaconda3/lib/python3.7/site-packages/sklearn/linear_model/coordinate_descent.py:492: ConvergenceWarning: Objective did not converge. You might want to increase the number of iterations. Fitting data with very small alpha may cause precision problems.\n",
      "  ConvergenceWarning)\n",
      "/anaconda3/lib/python3.7/site-packages/sklearn/linear_model/coordinate_descent.py:492: ConvergenceWarning: Objective did not converge. You might want to increase the number of iterations. Fitting data with very small alpha may cause precision problems.\n",
      "  ConvergenceWarning)\n",
      "/anaconda3/lib/python3.7/site-packages/sklearn/linear_model/coordinate_descent.py:492: ConvergenceWarning: Objective did not converge. You might want to increase the number of iterations. Fitting data with very small alpha may cause precision problems.\n",
      "  ConvergenceWarning)\n",
      "/anaconda3/lib/python3.7/site-packages/sklearn/linear_model/coordinate_descent.py:492: ConvergenceWarning: Objective did not converge. You might want to increase the number of iterations. Fitting data with very small alpha may cause precision problems.\n",
      "  ConvergenceWarning)\n",
      "/anaconda3/lib/python3.7/site-packages/sklearn/linear_model/coordinate_descent.py:492: ConvergenceWarning: Objective did not converge. You might want to increase the number of iterations. Fitting data with very small alpha may cause precision problems.\n",
      "  ConvergenceWarning)\n",
      "/anaconda3/lib/python3.7/site-packages/sklearn/linear_model/coordinate_descent.py:492: ConvergenceWarning: Objective did not converge. You might want to increase the number of iterations. Fitting data with very small alpha may cause precision problems.\n",
      "  ConvergenceWarning)\n",
      "/anaconda3/lib/python3.7/site-packages/sklearn/linear_model/coordinate_descent.py:492: ConvergenceWarning: Objective did not converge. You might want to increase the number of iterations. Fitting data with very small alpha may cause precision problems.\n",
      "  ConvergenceWarning)\n",
      "/anaconda3/lib/python3.7/site-packages/sklearn/linear_model/coordinate_descent.py:492: ConvergenceWarning: Objective did not converge. You might want to increase the number of iterations. Fitting data with very small alpha may cause precision problems.\n",
      "  ConvergenceWarning)\n",
      "/anaconda3/lib/python3.7/site-packages/sklearn/linear_model/coordinate_descent.py:492: ConvergenceWarning: Objective did not converge. You might want to increase the number of iterations. Fitting data with very small alpha may cause precision problems.\n",
      "  ConvergenceWarning)\n",
      "/anaconda3/lib/python3.7/site-packages/sklearn/linear_model/coordinate_descent.py:492: ConvergenceWarning: Objective did not converge. You might want to increase the number of iterations. Fitting data with very small alpha may cause precision problems.\n",
      "  ConvergenceWarning)\n",
      "/anaconda3/lib/python3.7/site-packages/sklearn/linear_model/coordinate_descent.py:492: ConvergenceWarning: Objective did not converge. You might want to increase the number of iterations. Fitting data with very small alpha may cause precision problems.\n",
      "  ConvergenceWarning)\n",
      "/anaconda3/lib/python3.7/site-packages/sklearn/linear_model/coordinate_descent.py:492: ConvergenceWarning: Objective did not converge. You might want to increase the number of iterations. Fitting data with very small alpha may cause precision problems.\n",
      "  ConvergenceWarning)\n",
      "/anaconda3/lib/python3.7/site-packages/sklearn/linear_model/coordinate_descent.py:492: ConvergenceWarning: Objective did not converge. You might want to increase the number of iterations. Fitting data with very small alpha may cause precision problems.\n",
      "  ConvergenceWarning)\n",
      "/anaconda3/lib/python3.7/site-packages/sklearn/linear_model/coordinate_descent.py:492: ConvergenceWarning: Objective did not converge. You might want to increase the number of iterations. Fitting data with very small alpha may cause precision problems.\n",
      "  ConvergenceWarning)\n",
      "/anaconda3/lib/python3.7/site-packages/sklearn/linear_model/coordinate_descent.py:492: ConvergenceWarning: Objective did not converge. You might want to increase the number of iterations. Fitting data with very small alpha may cause precision problems.\n",
      "  ConvergenceWarning)\n",
      "/anaconda3/lib/python3.7/site-packages/sklearn/linear_model/coordinate_descent.py:492: ConvergenceWarning: Objective did not converge. You might want to increase the number of iterations. Fitting data with very small alpha may cause precision problems.\n",
      "  ConvergenceWarning)\n",
      "/anaconda3/lib/python3.7/site-packages/sklearn/linear_model/coordinate_descent.py:492: ConvergenceWarning: Objective did not converge. You might want to increase the number of iterations. Fitting data with very small alpha may cause precision problems.\n",
      "  ConvergenceWarning)\n",
      "/anaconda3/lib/python3.7/site-packages/sklearn/linear_model/coordinate_descent.py:492: ConvergenceWarning: Objective did not converge. You might want to increase the number of iterations. Fitting data with very small alpha may cause precision problems.\n",
      "  ConvergenceWarning)\n",
      "/anaconda3/lib/python3.7/site-packages/sklearn/linear_model/coordinate_descent.py:492: ConvergenceWarning: Objective did not converge. You might want to increase the number of iterations. Fitting data with very small alpha may cause precision problems.\n",
      "  ConvergenceWarning)\n",
      "/anaconda3/lib/python3.7/site-packages/sklearn/linear_model/coordinate_descent.py:492: ConvergenceWarning: Objective did not converge. You might want to increase the number of iterations. Fitting data with very small alpha may cause precision problems.\n",
      "  ConvergenceWarning)\n",
      "/anaconda3/lib/python3.7/site-packages/sklearn/linear_model/coordinate_descent.py:492: ConvergenceWarning: Objective did not converge. You might want to increase the number of iterations. Fitting data with very small alpha may cause precision problems.\n",
      "  ConvergenceWarning)\n",
      "/anaconda3/lib/python3.7/site-packages/sklearn/linear_model/coordinate_descent.py:492: ConvergenceWarning: Objective did not converge. You might want to increase the number of iterations. Fitting data with very small alpha may cause precision problems.\n",
      "  ConvergenceWarning)\n",
      "/anaconda3/lib/python3.7/site-packages/sklearn/linear_model/coordinate_descent.py:492: ConvergenceWarning: Objective did not converge. You might want to increase the number of iterations. Fitting data with very small alpha may cause precision problems.\n",
      "  ConvergenceWarning)\n",
      "/anaconda3/lib/python3.7/site-packages/sklearn/linear_model/coordinate_descent.py:492: ConvergenceWarning: Objective did not converge. You might want to increase the number of iterations. Fitting data with very small alpha may cause precision problems.\n",
      "  ConvergenceWarning)\n",
      "/anaconda3/lib/python3.7/site-packages/sklearn/linear_model/coordinate_descent.py:492: ConvergenceWarning: Objective did not converge. You might want to increase the number of iterations. Fitting data with very small alpha may cause precision problems.\n",
      "  ConvergenceWarning)\n",
      "/anaconda3/lib/python3.7/site-packages/sklearn/linear_model/coordinate_descent.py:492: ConvergenceWarning: Objective did not converge. You might want to increase the number of iterations. Fitting data with very small alpha may cause precision problems.\n",
      "  ConvergenceWarning)\n",
      "/anaconda3/lib/python3.7/site-packages/sklearn/linear_model/coordinate_descent.py:492: ConvergenceWarning: Objective did not converge. You might want to increase the number of iterations. Fitting data with very small alpha may cause precision problems.\n",
      "  ConvergenceWarning)\n",
      "/anaconda3/lib/python3.7/site-packages/sklearn/linear_model/coordinate_descent.py:492: ConvergenceWarning: Objective did not converge. You might want to increase the number of iterations. Fitting data with very small alpha may cause precision problems.\n",
      "  ConvergenceWarning)\n",
      "/anaconda3/lib/python3.7/site-packages/sklearn/linear_model/coordinate_descent.py:492: ConvergenceWarning: Objective did not converge. You might want to increase the number of iterations. Fitting data with very small alpha may cause precision problems.\n",
      "  ConvergenceWarning)\n"
     ]
    },
    {
     "name": "stderr",
     "output_type": "stream",
     "text": [
      "/anaconda3/lib/python3.7/site-packages/sklearn/linear_model/coordinate_descent.py:492: ConvergenceWarning: Objective did not converge. You might want to increase the number of iterations. Fitting data with very small alpha may cause precision problems.\n",
      "  ConvergenceWarning)\n",
      "/anaconda3/lib/python3.7/site-packages/sklearn/linear_model/coordinate_descent.py:492: ConvergenceWarning: Objective did not converge. You might want to increase the number of iterations. Fitting data with very small alpha may cause precision problems.\n",
      "  ConvergenceWarning)\n",
      "/anaconda3/lib/python3.7/site-packages/sklearn/linear_model/coordinate_descent.py:492: ConvergenceWarning: Objective did not converge. You might want to increase the number of iterations. Fitting data with very small alpha may cause precision problems.\n",
      "  ConvergenceWarning)\n",
      "/anaconda3/lib/python3.7/site-packages/sklearn/linear_model/coordinate_descent.py:492: ConvergenceWarning: Objective did not converge. You might want to increase the number of iterations. Fitting data with very small alpha may cause precision problems.\n",
      "  ConvergenceWarning)\n",
      "/anaconda3/lib/python3.7/site-packages/sklearn/linear_model/coordinate_descent.py:492: ConvergenceWarning: Objective did not converge. You might want to increase the number of iterations. Fitting data with very small alpha may cause precision problems.\n",
      "  ConvergenceWarning)\n",
      "/anaconda3/lib/python3.7/site-packages/sklearn/linear_model/coordinate_descent.py:492: ConvergenceWarning: Objective did not converge. You might want to increase the number of iterations. Fitting data with very small alpha may cause precision problems.\n",
      "  ConvergenceWarning)\n",
      "/anaconda3/lib/python3.7/site-packages/sklearn/linear_model/coordinate_descent.py:492: ConvergenceWarning: Objective did not converge. You might want to increase the number of iterations. Fitting data with very small alpha may cause precision problems.\n",
      "  ConvergenceWarning)\n",
      "/anaconda3/lib/python3.7/site-packages/sklearn/linear_model/coordinate_descent.py:492: ConvergenceWarning: Objective did not converge. You might want to increase the number of iterations. Fitting data with very small alpha may cause precision problems.\n",
      "  ConvergenceWarning)\n",
      "/anaconda3/lib/python3.7/site-packages/sklearn/linear_model/coordinate_descent.py:492: ConvergenceWarning: Objective did not converge. You might want to increase the number of iterations. Fitting data with very small alpha may cause precision problems.\n",
      "  ConvergenceWarning)\n",
      "/anaconda3/lib/python3.7/site-packages/sklearn/linear_model/coordinate_descent.py:492: ConvergenceWarning: Objective did not converge. You might want to increase the number of iterations. Fitting data with very small alpha may cause precision problems.\n",
      "  ConvergenceWarning)\n"
     ]
    },
    {
     "name": "stdout",
     "output_type": "stream",
     "text": [
      "Best parameters: {'alpha': 10}\n",
      "Best score: -27647684480.672325\n"
     ]
    },
    {
     "name": "stderr",
     "output_type": "stream",
     "text": [
      "/anaconda3/lib/python3.7/site-packages/sklearn/linear_model/coordinate_descent.py:492: ConvergenceWarning: Objective did not converge. You might want to increase the number of iterations. Fitting data with very small alpha may cause precision problems.\n",
      "  ConvergenceWarning)\n"
     ]
    }
   ],
   "source": [
    "lasso_regressor = GridSearchCV(lasso, param, scoring='neg_mean_squared_error', cv=10)\n",
    "lasso_regressor.fit(X, y)\n",
    "\n",
    "print('Best parameters:', lasso_regressor.best_params_)\n",
    "print('Best score:', lasso_regressor.best_score_)"
   ]
  },
  {
   "cell_type": "code",
   "execution_count": 160,
   "metadata": {},
   "outputs": [
    {
     "name": "stderr",
     "output_type": "stream",
     "text": [
      "/anaconda3/lib/python3.7/site-packages/sklearn/linear_model/coordinate_descent.py:492: ConvergenceWarning: Objective did not converge. You might want to increase the number of iterations. Fitting data with very small alpha may cause precision problems.\n",
      "  ConvergenceWarning)\n"
     ]
    },
    {
     "data": {
      "text/plain": [
       "Lasso(alpha=10, copy_X=True, fit_intercept=True, max_iter=1000,\n",
       "   normalize=False, positive=False, precompute=False, random_state=None,\n",
       "   selection='cyclic', tol=0.0001, warm_start=False)"
      ]
     },
     "execution_count": 160,
     "metadata": {},
     "output_type": "execute_result"
    }
   ],
   "source": [
    "lasso = Lasso(alpha = 10)\n",
    "lasso.fit(X_train, y_train)"
   ]
  },
  {
   "cell_type": "code",
   "execution_count": 161,
   "metadata": {},
   "outputs": [],
   "source": [
    "train_score=lasso.score(X_train,y_train)\n",
    "test_score=lasso.score(X_test,y_test)"
   ]
  },
  {
   "cell_type": "code",
   "execution_count": 162,
   "metadata": {},
   "outputs": [
    {
     "name": "stdout",
     "output_type": "stream",
     "text": [
      "training score: 0.802653962992103\n",
      "test score:  0.7928680484020596\n"
     ]
    }
   ],
   "source": [
    "print(\"training score:\", train_score)\n",
    "print(\"test score: \", test_score)"
   ]
  },
  {
   "cell_type": "code",
   "execution_count": 248,
   "metadata": {},
   "outputs": [
    {
     "name": "stdout",
     "output_type": "stream",
     "text": [
      "number of features used: 128\n",
      "number eliminated: 5\n"
     ]
    }
   ],
   "source": [
    "coeff_used = np.sum(lasso.coef_!=0)\n",
    "print(\"number of features used:\", coeff_used)\n",
    "print(\"number eliminated:\", len(list(clean_house.columns)) - coeff_used)"
   ]
  },
  {
   "cell_type": "code",
   "execution_count": 242,
   "metadata": {},
   "outputs": [
    {
     "name": "stdout",
     "output_type": "stream",
     "text": [
      "Train Mean Squarred Error: 27113385027.536434\n",
      "Test Mean Squarred Error: 26443217859.257618\n"
     ]
    }
   ],
   "source": [
    "# Mean Squared Error\n",
    "y_hat_train = lasso.predict(X_train)\n",
    "y_hat_test = lasso.predict(X_test)\n",
    "\n",
    "mse_train = np.sum((y_train-y_hat_train)**2)/len(y_train)\n",
    "mse_test =np.sum((y_test-y_hat_test)**2)/len(y_test)\n",
    "print('Train Mean Squarred Error:', mse_train)\n",
    "print('Test Mean Squarred Error:', mse_test)"
   ]
  },
  {
   "cell_type": "code",
   "execution_count": 182,
   "metadata": {},
   "outputs": [
    {
     "name": "stderr",
     "output_type": "stream",
     "text": [
      "/anaconda3/lib/python3.7/site-packages/sklearn/linear_model/coordinate_descent.py:492: ConvergenceWarning: Objective did not converge. You might want to increase the number of iterations. Fitting data with very small alpha may cause precision problems.\n",
      "  ConvergenceWarning)\n",
      "/anaconda3/lib/python3.7/site-packages/sklearn/linear_model/coordinate_descent.py:492: ConvergenceWarning: Objective did not converge. You might want to increase the number of iterations. Fitting data with very small alpha may cause precision problems.\n",
      "  ConvergenceWarning)\n",
      "/anaconda3/lib/python3.7/site-packages/sklearn/linear_model/coordinate_descent.py:492: ConvergenceWarning: Objective did not converge. You might want to increase the number of iterations. Fitting data with very small alpha may cause precision problems.\n",
      "  ConvergenceWarning)\n",
      "/anaconda3/lib/python3.7/site-packages/sklearn/linear_model/coordinate_descent.py:492: ConvergenceWarning: Objective did not converge. You might want to increase the number of iterations. Fitting data with very small alpha may cause precision problems.\n",
      "  ConvergenceWarning)\n",
      "/anaconda3/lib/python3.7/site-packages/sklearn/linear_model/coordinate_descent.py:492: ConvergenceWarning: Objective did not converge. You might want to increase the number of iterations. Fitting data with very small alpha may cause precision problems.\n",
      "  ConvergenceWarning)\n",
      "/anaconda3/lib/python3.7/site-packages/sklearn/linear_model/coordinate_descent.py:492: ConvergenceWarning: Objective did not converge. You might want to increase the number of iterations. Fitting data with very small alpha may cause precision problems.\n",
      "  ConvergenceWarning)\n",
      "/anaconda3/lib/python3.7/site-packages/sklearn/linear_model/coordinate_descent.py:492: ConvergenceWarning: Objective did not converge. You might want to increase the number of iterations. Fitting data with very small alpha may cause precision problems.\n",
      "  ConvergenceWarning)\n",
      "/anaconda3/lib/python3.7/site-packages/sklearn/linear_model/coordinate_descent.py:492: ConvergenceWarning: Objective did not converge. You might want to increase the number of iterations. Fitting data with very small alpha may cause precision problems.\n",
      "  ConvergenceWarning)\n",
      "/anaconda3/lib/python3.7/site-packages/sklearn/linear_model/coordinate_descent.py:492: ConvergenceWarning: Objective did not converge. You might want to increase the number of iterations. Fitting data with very small alpha may cause precision problems.\n",
      "  ConvergenceWarning)\n",
      "/anaconda3/lib/python3.7/site-packages/sklearn/linear_model/coordinate_descent.py:492: ConvergenceWarning: Objective did not converge. You might want to increase the number of iterations. Fitting data with very small alpha may cause precision problems.\n",
      "  ConvergenceWarning)\n",
      "/anaconda3/lib/python3.7/site-packages/sklearn/linear_model/coordinate_descent.py:492: ConvergenceWarning: Objective did not converge. You might want to increase the number of iterations. Fitting data with very small alpha may cause precision problems.\n",
      "  ConvergenceWarning)\n",
      "/anaconda3/lib/python3.7/site-packages/sklearn/linear_model/coordinate_descent.py:492: ConvergenceWarning: Objective did not converge. You might want to increase the number of iterations. Fitting data with very small alpha may cause precision problems.\n",
      "  ConvergenceWarning)\n",
      "/anaconda3/lib/python3.7/site-packages/sklearn/linear_model/coordinate_descent.py:492: ConvergenceWarning: Objective did not converge. You might want to increase the number of iterations. Fitting data with very small alpha may cause precision problems.\n",
      "  ConvergenceWarning)\n",
      "/anaconda3/lib/python3.7/site-packages/sklearn/linear_model/coordinate_descent.py:492: ConvergenceWarning: Objective did not converge. You might want to increase the number of iterations. Fitting data with very small alpha may cause precision problems.\n",
      "  ConvergenceWarning)\n",
      "/anaconda3/lib/python3.7/site-packages/sklearn/linear_model/coordinate_descent.py:492: ConvergenceWarning: Objective did not converge. You might want to increase the number of iterations. Fitting data with very small alpha may cause precision problems.\n",
      "  ConvergenceWarning)\n",
      "/anaconda3/lib/python3.7/site-packages/sklearn/linear_model/coordinate_descent.py:492: ConvergenceWarning: Objective did not converge. You might want to increase the number of iterations. Fitting data with very small alpha may cause precision problems.\n",
      "  ConvergenceWarning)\n",
      "/anaconda3/lib/python3.7/site-packages/sklearn/linear_model/coordinate_descent.py:492: ConvergenceWarning: Objective did not converge. You might want to increase the number of iterations. Fitting data with very small alpha may cause precision problems.\n",
      "  ConvergenceWarning)\n",
      "/anaconda3/lib/python3.7/site-packages/sklearn/linear_model/coordinate_descent.py:492: ConvergenceWarning: Objective did not converge. You might want to increase the number of iterations. Fitting data with very small alpha may cause precision problems.\n",
      "  ConvergenceWarning)\n",
      "/anaconda3/lib/python3.7/site-packages/sklearn/linear_model/coordinate_descent.py:492: ConvergenceWarning: Objective did not converge. You might want to increase the number of iterations. Fitting data with very small alpha may cause precision problems.\n",
      "  ConvergenceWarning)\n",
      "/anaconda3/lib/python3.7/site-packages/sklearn/linear_model/coordinate_descent.py:492: ConvergenceWarning: Objective did not converge. You might want to increase the number of iterations. Fitting data with very small alpha may cause precision problems.\n",
      "  ConvergenceWarning)\n",
      "/anaconda3/lib/python3.7/site-packages/sklearn/linear_model/coordinate_descent.py:492: ConvergenceWarning: Objective did not converge. You might want to increase the number of iterations. Fitting data with very small alpha may cause precision problems.\n",
      "  ConvergenceWarning)\n",
      "/anaconda3/lib/python3.7/site-packages/sklearn/linear_model/coordinate_descent.py:492: ConvergenceWarning: Objective did not converge. You might want to increase the number of iterations. Fitting data with very small alpha may cause precision problems.\n",
      "  ConvergenceWarning)\n",
      "/anaconda3/lib/python3.7/site-packages/sklearn/linear_model/coordinate_descent.py:492: ConvergenceWarning: Objective did not converge. You might want to increase the number of iterations. Fitting data with very small alpha may cause precision problems.\n",
      "  ConvergenceWarning)\n",
      "/anaconda3/lib/python3.7/site-packages/sklearn/linear_model/coordinate_descent.py:492: ConvergenceWarning: Objective did not converge. You might want to increase the number of iterations. Fitting data with very small alpha may cause precision problems.\n",
      "  ConvergenceWarning)\n",
      "/anaconda3/lib/python3.7/site-packages/sklearn/linear_model/coordinate_descent.py:492: ConvergenceWarning: Objective did not converge. You might want to increase the number of iterations. Fitting data with very small alpha may cause precision problems.\n",
      "  ConvergenceWarning)\n",
      "/anaconda3/lib/python3.7/site-packages/sklearn/linear_model/coordinate_descent.py:492: ConvergenceWarning: Objective did not converge. You might want to increase the number of iterations. Fitting data with very small alpha may cause precision problems.\n",
      "  ConvergenceWarning)\n",
      "/anaconda3/lib/python3.7/site-packages/sklearn/linear_model/coordinate_descent.py:492: ConvergenceWarning: Objective did not converge. You might want to increase the number of iterations. Fitting data with very small alpha may cause precision problems.\n",
      "  ConvergenceWarning)\n",
      "/anaconda3/lib/python3.7/site-packages/sklearn/linear_model/coordinate_descent.py:492: ConvergenceWarning: Objective did not converge. You might want to increase the number of iterations. Fitting data with very small alpha may cause precision problems.\n",
      "  ConvergenceWarning)\n",
      "/anaconda3/lib/python3.7/site-packages/sklearn/linear_model/coordinate_descent.py:492: ConvergenceWarning: Objective did not converge. You might want to increase the number of iterations. Fitting data with very small alpha may cause precision problems.\n",
      "  ConvergenceWarning)\n",
      "/anaconda3/lib/python3.7/site-packages/sklearn/linear_model/coordinate_descent.py:492: ConvergenceWarning: Objective did not converge. You might want to increase the number of iterations. Fitting data with very small alpha may cause precision problems.\n",
      "  ConvergenceWarning)\n"
     ]
    },
    {
     "name": "stderr",
     "output_type": "stream",
     "text": [
      "/anaconda3/lib/python3.7/site-packages/sklearn/linear_model/coordinate_descent.py:492: ConvergenceWarning: Objective did not converge. You might want to increase the number of iterations. Fitting data with very small alpha may cause precision problems.\n",
      "  ConvergenceWarning)\n",
      "/anaconda3/lib/python3.7/site-packages/sklearn/linear_model/coordinate_descent.py:492: ConvergenceWarning: Objective did not converge. You might want to increase the number of iterations. Fitting data with very small alpha may cause precision problems.\n",
      "  ConvergenceWarning)\n",
      "/anaconda3/lib/python3.7/site-packages/sklearn/linear_model/coordinate_descent.py:492: ConvergenceWarning: Objective did not converge. You might want to increase the number of iterations. Fitting data with very small alpha may cause precision problems.\n",
      "  ConvergenceWarning)\n",
      "/anaconda3/lib/python3.7/site-packages/sklearn/linear_model/coordinate_descent.py:492: ConvergenceWarning: Objective did not converge. You might want to increase the number of iterations. Fitting data with very small alpha may cause precision problems.\n",
      "  ConvergenceWarning)\n",
      "/anaconda3/lib/python3.7/site-packages/sklearn/linear_model/coordinate_descent.py:492: ConvergenceWarning: Objective did not converge. You might want to increase the number of iterations. Fitting data with very small alpha may cause precision problems.\n",
      "  ConvergenceWarning)\n"
     ]
    }
   ],
   "source": [
    "# Cross Validation\n",
    "\n",
    "cv_5_results = np.mean(cross_val_score(lasso, X, y, cv=5, scoring=\"neg_mean_squared_error\"))\n",
    "cv_10_results = np.mean(cross_val_score(lasso, X, y, cv=10, scoring=\"neg_mean_squared_error\"))\n",
    "cv_20_results = np.mean(cross_val_score(lasso, X, y, cv=20, scoring=\"neg_mean_squared_error\"))"
   ]
  },
  {
   "cell_type": "code",
   "execution_count": 183,
   "metadata": {},
   "outputs": [
    {
     "name": "stdout",
     "output_type": "stream",
     "text": [
      "-27687946315.46346\n",
      "-27647276658.665264\n",
      "-27512916557.359173\n"
     ]
    }
   ],
   "source": [
    "print(cv_5_results)\n",
    "print(cv_10_results)\n",
    "print(cv_20_results)"
   ]
  },
  {
   "cell_type": "code",
   "execution_count": 253,
   "metadata": {},
   "outputs": [
    {
     "ename": "ValueError",
     "evalue": "x and y must be the same size",
     "output_type": "error",
     "traceback": [
      "\u001b[0;31m---------------------------------------------------------------------------\u001b[0m",
      "\u001b[0;31mValueError\u001b[0m                                Traceback (most recent call last)",
      "\u001b[0;32m<ipython-input-253-1d4d9e2bce5f>\u001b[0m in \u001b[0;36m<module>\u001b[0;34m\u001b[0m\n\u001b[0;32m----> 1\u001b[0;31m \u001b[0mplt\u001b[0m\u001b[0;34m.\u001b[0m\u001b[0mscatter\u001b[0m\u001b[0;34m(\u001b[0m\u001b[0mX_test\u001b[0m\u001b[0;34m,\u001b[0m \u001b[0my_test\u001b[0m\u001b[0;34m,\u001b[0m  \u001b[0mcolor\u001b[0m\u001b[0;34m=\u001b[0m\u001b[0;34m'green'\u001b[0m\u001b[0;34m)\u001b[0m\u001b[0;34m\u001b[0m\u001b[0;34m\u001b[0m\u001b[0m\n\u001b[0m\u001b[1;32m      2\u001b[0m \u001b[0mplt\u001b[0m\u001b[0;34m.\u001b[0m\u001b[0mplot\u001b[0m\u001b[0;34m(\u001b[0m\u001b[0mX_test\u001b[0m\u001b[0;34m,\u001b[0m \u001b[0my_hat_test\u001b[0m\u001b[0;34m,\u001b[0m \u001b[0mcolor\u001b[0m\u001b[0;34m=\u001b[0m\u001b[0;34m'blue'\u001b[0m\u001b[0;34m,\u001b[0m \u001b[0mlinewidth\u001b[0m\u001b[0;34m=\u001b[0m\u001b[0;36m3\u001b[0m\u001b[0;34m)\u001b[0m\u001b[0;34m\u001b[0m\u001b[0;34m\u001b[0m\u001b[0m\n\u001b[1;32m      3\u001b[0m \u001b[0;34m\u001b[0m\u001b[0m\n\u001b[1;32m      4\u001b[0m \u001b[0mplt\u001b[0m\u001b[0;34m.\u001b[0m\u001b[0mshow\u001b[0m\u001b[0;34m(\u001b[0m\u001b[0;34m)\u001b[0m\u001b[0;34m\u001b[0m\u001b[0;34m\u001b[0m\u001b[0m\n",
      "\u001b[0;32m/anaconda3/lib/python3.7/site-packages/matplotlib/pyplot.py\u001b[0m in \u001b[0;36mscatter\u001b[0;34m(x, y, s, c, marker, cmap, norm, vmin, vmax, alpha, linewidths, verts, edgecolors, data, **kwargs)\u001b[0m\n\u001b[1;32m   2860\u001b[0m         \u001b[0mvmin\u001b[0m\u001b[0;34m=\u001b[0m\u001b[0mvmin\u001b[0m\u001b[0;34m,\u001b[0m \u001b[0mvmax\u001b[0m\u001b[0;34m=\u001b[0m\u001b[0mvmax\u001b[0m\u001b[0;34m,\u001b[0m \u001b[0malpha\u001b[0m\u001b[0;34m=\u001b[0m\u001b[0malpha\u001b[0m\u001b[0;34m,\u001b[0m \u001b[0mlinewidths\u001b[0m\u001b[0;34m=\u001b[0m\u001b[0mlinewidths\u001b[0m\u001b[0;34m,\u001b[0m\u001b[0;34m\u001b[0m\u001b[0;34m\u001b[0m\u001b[0m\n\u001b[1;32m   2861\u001b[0m         verts=verts, edgecolors=edgecolors, **({\"data\": data} if data\n\u001b[0;32m-> 2862\u001b[0;31m         is not None else {}), **kwargs)\n\u001b[0m\u001b[1;32m   2863\u001b[0m     \u001b[0msci\u001b[0m\u001b[0;34m(\u001b[0m\u001b[0m__ret\u001b[0m\u001b[0;34m)\u001b[0m\u001b[0;34m\u001b[0m\u001b[0;34m\u001b[0m\u001b[0m\n\u001b[1;32m   2864\u001b[0m     \u001b[0;32mreturn\u001b[0m \u001b[0m__ret\u001b[0m\u001b[0;34m\u001b[0m\u001b[0;34m\u001b[0m\u001b[0m\n",
      "\u001b[0;32m/anaconda3/lib/python3.7/site-packages/matplotlib/__init__.py\u001b[0m in \u001b[0;36minner\u001b[0;34m(ax, data, *args, **kwargs)\u001b[0m\n\u001b[1;32m   1808\u001b[0m                         \u001b[0;34m\"the Matplotlib list!)\"\u001b[0m \u001b[0;34m%\u001b[0m \u001b[0;34m(\u001b[0m\u001b[0mlabel_namer\u001b[0m\u001b[0;34m,\u001b[0m \u001b[0mfunc\u001b[0m\u001b[0;34m.\u001b[0m\u001b[0m__name__\u001b[0m\u001b[0;34m)\u001b[0m\u001b[0;34m,\u001b[0m\u001b[0;34m\u001b[0m\u001b[0;34m\u001b[0m\u001b[0m\n\u001b[1;32m   1809\u001b[0m                         RuntimeWarning, stacklevel=2)\n\u001b[0;32m-> 1810\u001b[0;31m             \u001b[0;32mreturn\u001b[0m \u001b[0mfunc\u001b[0m\u001b[0;34m(\u001b[0m\u001b[0max\u001b[0m\u001b[0;34m,\u001b[0m \u001b[0;34m*\u001b[0m\u001b[0margs\u001b[0m\u001b[0;34m,\u001b[0m \u001b[0;34m**\u001b[0m\u001b[0mkwargs\u001b[0m\u001b[0;34m)\u001b[0m\u001b[0;34m\u001b[0m\u001b[0;34m\u001b[0m\u001b[0m\n\u001b[0m\u001b[1;32m   1811\u001b[0m \u001b[0;34m\u001b[0m\u001b[0m\n\u001b[1;32m   1812\u001b[0m         inner.__doc__ = _add_data_doc(inner.__doc__,\n",
      "\u001b[0;32m/anaconda3/lib/python3.7/site-packages/matplotlib/axes/_axes.py\u001b[0m in \u001b[0;36mscatter\u001b[0;34m(self, x, y, s, c, marker, cmap, norm, vmin, vmax, alpha, linewidths, verts, edgecolors, **kwargs)\u001b[0m\n\u001b[1;32m   4180\u001b[0m         \u001b[0my\u001b[0m \u001b[0;34m=\u001b[0m \u001b[0mnp\u001b[0m\u001b[0;34m.\u001b[0m\u001b[0mma\u001b[0m\u001b[0;34m.\u001b[0m\u001b[0mravel\u001b[0m\u001b[0;34m(\u001b[0m\u001b[0my\u001b[0m\u001b[0;34m)\u001b[0m\u001b[0;34m\u001b[0m\u001b[0;34m\u001b[0m\u001b[0m\n\u001b[1;32m   4181\u001b[0m         \u001b[0;32mif\u001b[0m \u001b[0mx\u001b[0m\u001b[0;34m.\u001b[0m\u001b[0msize\u001b[0m \u001b[0;34m!=\u001b[0m \u001b[0my\u001b[0m\u001b[0;34m.\u001b[0m\u001b[0msize\u001b[0m\u001b[0;34m:\u001b[0m\u001b[0;34m\u001b[0m\u001b[0;34m\u001b[0m\u001b[0m\n\u001b[0;32m-> 4182\u001b[0;31m             \u001b[0;32mraise\u001b[0m \u001b[0mValueError\u001b[0m\u001b[0;34m(\u001b[0m\u001b[0;34m\"x and y must be the same size\"\u001b[0m\u001b[0;34m)\u001b[0m\u001b[0;34m\u001b[0m\u001b[0;34m\u001b[0m\u001b[0m\n\u001b[0m\u001b[1;32m   4183\u001b[0m \u001b[0;34m\u001b[0m\u001b[0m\n\u001b[1;32m   4184\u001b[0m         \u001b[0;32mif\u001b[0m \u001b[0ms\u001b[0m \u001b[0;32mis\u001b[0m \u001b[0;32mNone\u001b[0m\u001b[0;34m:\u001b[0m\u001b[0;34m\u001b[0m\u001b[0;34m\u001b[0m\u001b[0m\n",
      "\u001b[0;31mValueError\u001b[0m: x and y must be the same size"
     ]
    },
    {
     "data": {
      "image/png": "[encoded data removed]",
      "text/plain": [
       "<Figure size 432x288 with 1 Axes>"
      ]
     },
     "metadata": {
      "needs_background": "light"
     },
     "output_type": "display_data"
    }
   ],
   "source": [
    "plt.scatter(X_test, y_test,  color='green')\n",
    "plt.plot(X_test, y_hat_test, color='blue', linewidth=3)\n",
    "\n",
    "plt.show()"
   ]
  },
  {
   "cell_type": "code",
   "execution_count": 258,
   "metadata": {},
   "outputs": [
    {
     "data": {
      "text/plain": [
       "5103      692500.0\n",
       "12331     339900.0\n",
       "18395     685000.0\n",
       "4955     1000000.0\n",
       "11009     315000.0\n",
       "11743     250000.0\n",
       "19263     458000.0\n",
       "711       243000.0\n",
       "20858     775000.0\n",
       "4678      690000.0\n",
       "5944      320000.0\n",
       "4325      227000.0\n",
       "18113     765000.0\n",
       "21194     500000.0\n",
       "17981    1990000.0\n",
       "5559      258000.0\n",
       "756       942500.0\n",
       "10955     282000.0\n",
       "3416      375000.0\n",
       "864       280000.0\n",
       "2052      297000.0\n",
       "12371     164000.0\n",
       "16551     385000.0\n",
       "8355      782000.0\n",
       "9275      265000.0\n",
       "12572     648000.0\n",
       "6873      327500.0\n",
       "7855      330000.0\n",
       "2962      999000.0\n",
       "6467      503500.0\n",
       "           ...    \n",
       "10341     401000.0\n",
       "20364     500000.0\n",
       "552       451000.0\n",
       "6685     2000000.0\n",
       "8020      480000.0\n",
       "14979     152500.0\n",
       "20427     385000.0\n",
       "6494      755000.0\n",
       "18812     732000.0\n",
       "249       481000.0\n",
       "5033      195000.0\n",
       "18314    2920000.0\n",
       "2258      208000.0\n",
       "7934      450000.0\n",
       "14022     550000.0\n",
       "185      1100000.0\n",
       "3180      440000.0\n",
       "8504      355000.0\n",
       "12293     583000.0\n",
       "6305      367500.0\n",
       "2883      402000.0\n",
       "7439      277000.0\n",
       "16544     350000.0\n",
       "13872     475000.0\n",
       "11627     420000.0\n",
       "5674      529900.0\n",
       "10401     525000.0\n",
       "8911      214000.0\n",
       "15599     227000.0\n",
       "13901     335000.0\n",
       "Name: price, Length: 4229, dtype: float64"
      ]
     },
     "execution_count": 258,
     "metadata": {},
     "output_type": "execute_result"
    }
   ],
   "source": [
    "X_test\n",
    "y_test"
   ]
  },
  {
   "cell_type": "code",
   "execution_count": null,
   "metadata": {},
   "outputs": [],
   "source": []
  }
 ],
 "metadata": {
  "kernelspec": {
   "display_name": "Python 3",
   "language": "python",
   "name": "python3"
  },
  "language_info": {
   "codemirror_mode": {
    "name": "ipython",
    "version": 3
   },
   "file_extension": ".py",
   "mimetype": "text/x-python",
   "name": "python",
   "nbconvert_exporter": "python",
   "pygments_lexer": "ipython3",
   "version": "3.7.3"
  }
 },
 "nbformat": 4,
 "nbformat_minor": 2
}
