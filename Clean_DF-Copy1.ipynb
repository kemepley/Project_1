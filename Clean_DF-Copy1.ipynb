{
 "cells": [
  {
   "cell_type": "code",
   "execution_count": null,
   "metadata": {},
   "outputs": [],
   "source": [
    "import pandas as pd"
   ]
  },
  {
   "cell_type": "markdown",
   "metadata": {},
   "source": [
    "### Define functions"
   ]
  },
  {
   "cell_type": "code",
   "execution_count": null,
   "metadata": {},
   "outputs": [],
   "source": [
    "def drop_anomolous_rows(df, colname, val):\n",
    "    return df[df[colname] != val]"
   ]
  },
  {
   "cell_type": "code",
   "execution_count": null,
   "metadata": {},
   "outputs": [],
   "source": [
    "from sklearn.preprocessing import LabelEncoder\n",
    "\n",
    "def bin_by_decade(df, colname):\n",
    "    bins = pd.IntervalIndex.from_tuples([(1900, 1909), (1910, 1919), (1920, 1929), (1930, 1939), (1940, 1949), (1950, 1959), (1960, 1969), (1970, 1979), (1980, 1989), (1990, 1999), (2000, 2010), (2010, 2020)])\n",
    "    series = pd.cut(df[colname], bins)\n",
    "#     cats = series.astype('category')\n",
    "#     clean_df[colname] = 'cats\n",
    "    df[colname] = series\n",
    "    return df"
   ]
  },
  {
   "cell_type": "code",
   "execution_count": null,
   "metadata": {},
   "outputs": [],
   "source": [
    "house = pd.read_csv('https://raw.githubusercontent.com/learn-co-students/dsc-v2-mod1-final-project-dc-ds-career-042219/master/kc_house_data.csv')\n",
    "testing = drop_anomolous_rows(house, 'sqft_basement', \"?\")\n",
    "testing[testing.sqft_basement == \"?\"] \n",
    "# house[house.sqft_basement == \"?\"] \n",
    "\n",
    "testing['sqft_basement'].astype(float, inplace=True)\n",
    "testing.info()\n"
   ]
  },
  {
   "cell_type": "code",
   "execution_count": null,
   "metadata": {},
   "outputs": [],
   "source": [
    "def clean():\n",
    "    \n",
    "    house = pd.read_csv('https://raw.githubusercontent.com/learn-co-students/dsc-v2-mod1-final-project-dc-ds-career-042219/master/kc_house_data.csv')\n",
    "    \n",
    "# Get rid of rows\n",
    "\n",
    "    clean_house = drop_anomolous_rows(house, 'bedrooms', 33)\n",
    "    clean_house = drop_anomolous_rows(house, 'sqft_basement', \"?\")\n",
    "    \n",
    "# Bin decades\n",
    "\n",
    "    clean_house = bin_by_decade(clean_house, 'yr_built')\n",
    "    clean_house = bin_by_decade(clean_house, 'yr_renovated')\n",
    "    \n",
    "# Get dummies\n",
    "\n",
    "    clean_house = pd.get_dummies(clean_house, columns=(['view', 'floors', 'bedrooms', 'condition', 'zipcode', 'yr_built', 'yr_renovated']))\n",
    "#     clean_house_dummies = dummies_df(house, ['view', 'floors', 'bedrooms', 'condition', 'zipcode'])\n",
    "\n",
    "# Append dummies to clean_house\n",
    "\n",
    "#     clean_house = pd.concat([clean_house, yr_built_df, yr_renovated_df, clean_house_dummies], axis=1)\n",
    "    \n",
    "# Drop columns that we created dummies for\n",
    "\n",
    "#     clean_house = clean_house.drop(['yr_built', 'yr_renovated', 'view', 'floors', 'bedrooms', 'condition', 'zipcode'], axis=1)\n",
    "\n",
    "# Drop highly correlated features\n",
    "    \n",
    "    clean_house = clean_house.drop(['sqft_above', 'bathrooms', 'grade'], axis=1)\n",
    "    \n",
    "# Drop id, date, waterfront\n",
    "\n",
    "    clean_house = clean_house.drop(['id', 'date', 'waterfront'], axis=1)\n",
    "    \n",
    "# Convert sqft_basement from object to int\n",
    "\n",
    "#   clean_house = clean_house.drop(['sqft_basement'], axis=1)\n",
    "    clean_house['sqft_basement'] = clean_house['sqft_basement'].astype(float, inplace=True)\n",
    "\n",
    "# Return clean_house\n",
    "    \n",
    "    return clean_house"
   ]
  },
  {
   "cell_type": "markdown",
   "metadata": {},
   "source": [
    "### Get clean dataframe"
   ]
  },
  {
   "cell_type": "code",
   "execution_count": null,
   "metadata": {},
   "outputs": [],
   "source": [
    "clean_house = clean()\n"
   ]
  },
  {
   "cell_type": "code",
   "execution_count": null,
   "metadata": {},
   "outputs": [],
   "source": [
    "clean_house.head()"
   ]
  },
  {
   "cell_type": "code",
   "execution_count": null,
   "metadata": {},
   "outputs": [],
   "source": [
    " clean_house.isnull().sum()\n",
    "# clean_house2 =  clean_house.dropna()"
   ]
  },
  {
   "cell_type": "code",
   "execution_count": null,
   "metadata": {},
   "outputs": [],
   "source": [
    "# clean_house2.isnull().sum()\n",
    "# len(clean_house2) - len(house)\n",
    "# len(house) - len(clean_house2)\n"
   ]
  },
  {
   "cell_type": "markdown",
   "metadata": {},
   "source": [
    "### Checking for colinearity"
   ]
  },
  {
   "cell_type": "code",
   "execution_count": null,
   "metadata": {},
   "outputs": [],
   "source": [
    "import matplotlib.pyplot as plt\n",
    "import seaborn as sns\n",
    "\n",
    "sns.heatmap(house.corr()[[\"price\"]], center=0)\n",
    "plt.show()\n",
    "\n",
    "\n",
    "# sqft_above/sqft_living (87.7), bathrooms/sqft_living (75.5), grade/sqft_living(75.6)"
   ]
  },
  {
   "cell_type": "markdown",
   "metadata": {},
   "source": [
    "### Investigating distributions"
   ]
  },
  {
   "cell_type": "code",
   "execution_count": null,
   "metadata": {},
   "outputs": [],
   "source": [
    "# plot original distribution plot\n",
    "fig, ax1 = plt.subplots(ncols=1, figsize=(10, 8))\n",
    "ax1.set_title('Original Distributions')\n",
    "\n",
    "# sns.kdeplot(clean_house['price'], ax=ax1)\n",
    "# sns.kdeplot(clean_house['lat'], ax=ax1)\n",
    "sns.kdeplot(clean_house['sqft_lot15'], ax=ax1)"
   ]
  },
  {
   "cell_type": "markdown",
   "metadata": {},
   "source": [
    "### First pass at a shitty regression before scaling, standardizing"
   ]
  },
  {
   "cell_type": "code",
   "execution_count": null,
   "metadata": {},
   "outputs": [],
   "source": [
    "target = clean_house[\"price\"]\n",
    "predictors = clean_house.drop([\"price\"], axis=1)\n",
    "\n",
    "import numpy as np\n",
    "import statsmodels.api as sm\n",
    "predictors_int = sm.add_constant(predictors)\n",
    "model = sm.OLS(target,predictors_int).fit()\n",
    "model.summary()"
   ]
  },
  {
   "cell_type": "markdown",
   "metadata": {},
   "source": [
    "### log transformation (didn't improve model)"
   ]
  },
  {
   "cell_type": "code",
   "execution_count": null,
   "metadata": {},
   "outputs": [],
   "source": [
    "non_normal = ['sqft_lot', 'sqft_lot15', 'sqft_living15']\n",
    "\n",
    "pd.plotting.scatter_matrix(clean_house[non_normal], figsize=(10,12));"
   ]
  },
  {
   "cell_type": "code",
   "execution_count": null,
   "metadata": {},
   "outputs": [],
   "source": [
    "for feat in non_normal:\n",
    "    clean_house[feat] = clean_house[feat].map(lambda x: np.log(x))\n",
    "\n",
    "pd.plotting.scatter_matrix(clean_house[non_normal], figsize=(10,12));"
   ]
  },
  {
   "cell_type": "code",
   "execution_count": null,
   "metadata": {},
   "outputs": [],
   "source": [
    "target = clean_house[\"price\"]\n",
    "predictors = clean_house.drop([\"price\"], axis=1)\n",
    "\n",
    "predictors_int = sm.add_constant(predictors)\n",
    "model = sm.OLS(target,predictors_int).fit()\n",
    "model.summary()"
   ]
  },
  {
   "cell_type": "markdown",
   "metadata": {},
   "source": [
    "### Feature standardizing (neither min/max nor standard scalar applied to the whole df improved the model"
   ]
  },
  {
   "cell_type": "code",
   "execution_count": null,
   "metadata": {},
   "outputs": [],
   "source": [
    "from sklearn import preprocessing\n",
    "mm_scaler = preprocessing.MinMaxScaler()\n",
    "clean_house_mm = mm_scaler.fit_transform(clean_house)\n",
    "\n",
    "clean_house_mm = pd.DataFrame(clean_house_mm, columns=list(clean_house.columns))"
   ]
  },
  {
   "cell_type": "code",
   "execution_count": null,
   "metadata": {},
   "outputs": [],
   "source": [
    "target = clean_house_mm[\"price\"]\n",
    "predictors = clean_house_mm.drop([\"price\"], axis=1)\n",
    "\n",
    "predictors_int = sm.add_constant(predictors)\n",
    "model = sm.OLS(target, predictors_int).fit()\n",
    "model.summary()"
   ]
  },
  {
   "cell_type": "code",
   "execution_count": null,
   "metadata": {},
   "outputs": [],
   "source": [
    "from sklearn import preprocessing\n",
    "mm_scaler = preprocessing.StandardScaler()\n",
    "clean_house_ss = mm_scaler.fit_transform(clean_house)\n",
    "\n",
    "clean_house_ss = pd.DataFrame(clean_house_ss, columns=list(clean_house.columns))"
   ]
  },
  {
   "cell_type": "code",
   "execution_count": null,
   "metadata": {},
   "outputs": [],
   "source": [
    "target = clean_house_ss[\"price\"]\n",
    "predictors = clean_house_ss.drop([\"price\"], axis=1)\n",
    "\n",
    "predictors_int = sm.add_constant(predictors)\n",
    "model = sm.OLS(target, predictors_int).fit()\n",
    "model.summary()"
   ]
  },
  {
   "cell_type": "markdown",
   "metadata": {},
   "source": [
    "### Feature selection"
   ]
  },
  {
   "cell_type": "code",
   "execution_count": null,
   "metadata": {},
   "outputs": [],
   "source": [
    "# copied function from Model Fit Linear Regression Lab\n",
    "\n",
    "def stepwise_selection(X, y, \n",
    "                       initial_list=[], \n",
    "                       threshold_in=0.01, \n",
    "                       threshold_out = 0.05, \n",
    "                       verbose=True):\n",
    "    \"\"\" Perform a forward-backward feature selection \n",
    "    based on p-value from statsmodels.api.OLS\n",
    "    Arguments:\n",
    "        X - pandas.DataFrame with candidate features\n",
    "        y - list-like with the target\n",
    "        initial_list - list of features to start with (column names of X)\n",
    "        threshold_in - include a feature if its p-value < threshold_in\n",
    "        threshold_out - exclude a feature if its p-value > threshold_out\n",
    "        verbose - whether to print the sequence of inclusions and exclusions\n",
    "    Returns: list of selected features \n",
    "    Always set threshold_in < threshold_out to avoid infinite looping.\n",
    "    See https://en.wikipedia.org/wiki/Stepwise_regression for the details\n",
    "    \"\"\"\n",
    "    included = list(initial_list)\n",
    "    while True:\n",
    "        changed=False\n",
    "        # forward step\n",
    "        excluded = list(set(X.columns)-set(included))\n",
    "        new_pval = pd.Series(index=excluded)\n",
    "        for new_column in excluded:\n",
    "            model = sm.OLS(y, sm.add_constant(pd.DataFrame(X[included+[new_column]]))).fit()\n",
    "            new_pval[new_column] = model.pvalues[new_column]\n",
    "        best_pval = new_pval.min()\n",
    "        if best_pval < threshold_in:\n",
    "            best_feature = new_pval.idxmin()\n",
    "            included.append(best_feature)\n",
    "            changed=True\n",
    "            if verbose:\n",
    "                print('Add  {:30} with p-value {:.6}'.format(best_feature, best_pval))\n",
    "\n",
    "        # backward step\n",
    "        model = sm.OLS(y, sm.add_constant(pd.DataFrame(X[included]))).fit()\n",
    "        # use all coefs except intercept\n",
    "        pvalues = model.pvalues.iloc[1:]\n",
    "        worst_pval = pvalues.max() # null if pvalues is empty\n",
    "        if worst_pval > threshold_out:\n",
    "            changed=True\n",
    "            worst_feature = pvalues.argmax()\n",
    "            included.remove(worst_feature)\n",
    "            if verbose:\n",
    "                print('Drop {:30} with p-value {:.6}'.format(worst_feature, worst_pval))\n",
    "        if not changed:\n",
    "            break\n",
    "    return included"
   ]
  },
  {
   "cell_type": "code",
   "execution_count": null,
   "metadata": {
    "scrolled": true
   },
   "outputs": [],
   "source": [
    "target = clean_house_ss[\"price\"]\n",
    "predictors = clean_house_ss.drop([\"price\"], axis=1)\n",
    "\n",
    "result = stepwise_selection(predictors, target, verbose = True)\n",
    "print('resulting features:')\n",
    "print(result)"
   ]
  },
  {
   "cell_type": "code",
   "execution_count": null,
   "metadata": {},
   "outputs": [],
   "source": [
    "# target = clean_house_ss[\"price\"]\n",
    "# predictors = clean_house_ss.drop([\"price\"], axis=1)\n",
    "\n",
    "# #from sklearn.datasets import make_friedman1\n",
    "# from sklearn.feature_selection import RFE\n",
    "# from sklearn.linear_model import LinearRegression\n",
    "\n",
    "# linreg = LinearRegression()\n",
    "# selector = RFE(linreg, n_features_to_select = 20)\n",
    "# selector = selector.fit(predictors, target)"
   ]
  },
  {
   "cell_type": "code",
   "execution_count": null,
   "metadata": {},
   "outputs": [],
   "source": [
    "# selected_columns = clean_house_ss.columns[selector.support_]\n",
    "# model = linreg.fit(clean_house_ss[selected_columns], target)"
   ]
  },
  {
   "cell_type": "code",
   "execution_count": null,
   "metadata": {},
   "outputs": [],
   "source": [
    "clean_house_selections_list = ['price', 'zipcode_98004', 'sqft_living', 'view_4.0', 'lat', 'zipcode_98039', 'zipcode_98112', 'zipcode_98040', 'view_0.0', 'zipcode_98105', 'zipcode_98119', 'zipcode_98199', 'zipcode_98102', 'zipcode_98109', 'zipcode_98033', 'zipcode_98006', 'zipcode_98103', 'zipcode_98122', 'zipcode_98115', 'zipcode_98117', 'zipcode_98107', 'zipcode_98116', 'zipcode_98144', 'zipcode_98005', 'zipcode_98136', 'view_3.0', 'zipcode_98029', 'sqft_lot', 'bedrooms_2', 'bedrooms_3', 'zipcode_98008', 'zipcode_98052', 'zipcode_98126', 'yr_renovated_(2000, 2010]', 'zipcode_98075', 'condition_5', 'zipcode_98007', 'zipcode_98027', 'zipcode_98074', 'zipcode_98118', 'yr_built_(2010, 2020]', 'zipcode_98019', 'bedrooms_1', 'bedrooms_4', 'floors_2.5', 'yr_built_(1970, 1979]', 'zipcode_98034', 'zipcode_98053', 'yr_built_(1960, 1969]', 'yr_built_(1950, 1959]', 'zipcode_98125', 'zipcode_98106', 'zipcode_98177', 'condition_4', 'bedrooms_5', 'yr_built_(1980, 1989]', 'bedrooms_6', 'zipcode_98014', 'zipcode_98059', 'zipcode_98028', 'yr_built_(1930, 1939]', 'zipcode_98178', 'condition_1', 'zipcode_98056', 'yr_renovated_(2010, 2020]', 'yr_built_(2000, 2010]', 'zipcode_98092', 'bedrooms_8', 'zipcode_98146', 'zipcode_98133', 'zipcode_98108', 'zipcode_98166', 'sqft_living15', 'yr_renovated_(1990, 1999]']\n",
    "clean_house_selections = clean_house_ss[clean_house_selections_list]"
   ]
  },
  {
   "cell_type": "code",
   "execution_count": null,
   "metadata": {},
   "outputs": [],
   "source": [
    "target = clean_house_selections[\"price\"]\n",
    "predictors = clean_house_selections.drop([\"price\"], axis=1)\n",
    "\n",
    "predictors_int = sm.add_constant(predictors)\n",
    "model = sm.OLS(target, predictors_int).fit()\n",
    "model.summary()"
   ]
  },
  {
   "cell_type": "code",
   "execution_count": null,
   "metadata": {},
   "outputs": [],
   "source": [
    "season_bins = \n",
    "\n",
    "def bin_by_decade(df, colname):\n",
    "    bins = pd.IntervalIndex.from_tuples([(1900, 1909), (1910, 1919), (1920, 1929), (1930, 1939), (1940, 1949), (1950, 1959), (1960, 1969), (1970, 1979), (1980, 1989), (1990, 1999), (2000, 2010), (2010, 2020)])\n",
    "    series = pd.cut(df[colname], bins)\n",
    "    df[colname] = series\n",
    "    return df"
   ]
  },
  {
   "cell_type": "code",
   "execution_count": 22,
   "metadata": {},
   "outputs": [],
   "source": [
    "house = pd.read_csv('https://raw.githubusercontent.com/learn-co-students/dsc-v2-mod1-final-project-dc-ds-career-042219/master/kc_house_data.csv')"
   ]
  },
  {
   "cell_type": "code",
   "execution_count": 23,
   "metadata": {},
   "outputs": [
    {
     "data": {
      "text/plain": [
       "0        10/13/2014\n",
       "1         12/9/2014\n",
       "2         2/25/2015\n",
       "3         12/9/2014\n",
       "4         2/18/2015\n",
       "5         5/12/2014\n",
       "6         6/27/2014\n",
       "7         1/15/2015\n",
       "8         4/15/2015\n",
       "9         3/12/2015\n",
       "10         4/3/2015\n",
       "11        5/27/2014\n",
       "12        5/28/2014\n",
       "13        10/7/2014\n",
       "14        3/12/2015\n",
       "15        1/24/2015\n",
       "16        7/31/2014\n",
       "17        5/29/2014\n",
       "18        12/5/2014\n",
       "19        4/24/2015\n",
       "20        5/14/2014\n",
       "21        8/26/2014\n",
       "22         7/3/2014\n",
       "23        5/16/2014\n",
       "24       11/20/2014\n",
       "25        11/3/2014\n",
       "26        6/26/2014\n",
       "27        12/1/2014\n",
       "28        6/24/2014\n",
       "29         3/2/2015\n",
       "            ...    \n",
       "21567     6/10/2014\n",
       "21568     12/2/2014\n",
       "21569     8/28/2014\n",
       "21570    10/15/2014\n",
       "21571      3/5/2015\n",
       "21572    11/13/2014\n",
       "21573     9/10/2014\n",
       "21574     5/14/2014\n",
       "21575     10/2/2014\n",
       "21576     4/16/2015\n",
       "21577     3/17/2015\n",
       "21578    10/17/2014\n",
       "21579    10/31/2014\n",
       "21580     8/13/2014\n",
       "21581     4/21/2015\n",
       "21582    10/13/2014\n",
       "21583     9/15/2014\n",
       "21584    10/15/2014\n",
       "21585      4/7/2015\n",
       "21586     6/26/2014\n",
       "21587     8/25/2014\n",
       "21588     1/26/2015\n",
       "21589    10/14/2014\n",
       "21590     3/26/2015\n",
       "21591     2/19/2015\n",
       "21592     5/21/2014\n",
       "21593     2/23/2015\n",
       "21594     6/23/2014\n",
       "21595     1/16/2015\n",
       "21596    10/15/2014\n",
       "Name: date, Length: 21597, dtype: object"
      ]
     },
     "execution_count": 23,
     "metadata": {},
     "output_type": "execute_result"
    }
   ],
   "source": [
    "house['date']"
   ]
  },
  {
   "cell_type": "code",
   "execution_count": 52,
   "metadata": {},
   "outputs": [],
   "source": [
    "\n",
    "house['month'] = house['date'].apply(lambda i: i[:2])\n",
    "house['month'] = house['month'].apply(lambda i: i.replace(\"/\", \"\"))"
   ]
  },
  {
   "cell_type": "code",
   "execution_count": 53,
   "metadata": {},
   "outputs": [
    {
     "data": {
      "text/plain": [
       "0        10\n",
       "1        12\n",
       "2         2\n",
       "3        12\n",
       "4         2\n",
       "5         5\n",
       "6         6\n",
       "7         1\n",
       "8         4\n",
       "9         3\n",
       "10        4\n",
       "11        5\n",
       "12        5\n",
       "13       10\n",
       "14        3\n",
       "15        1\n",
       "16        7\n",
       "17        5\n",
       "18       12\n",
       "19        4\n",
       "20        5\n",
       "21        8\n",
       "22        7\n",
       "23        5\n",
       "24       11\n",
       "25       11\n",
       "26        6\n",
       "27       12\n",
       "28        6\n",
       "29        3\n",
       "         ..\n",
       "21567     6\n",
       "21568    12\n",
       "21569     8\n",
       "21570    10\n",
       "21571     3\n",
       "21572    11\n",
       "21573     9\n",
       "21574     5\n",
       "21575    10\n",
       "21576     4\n",
       "21577     3\n",
       "21578    10\n",
       "21579    10\n",
       "21580     8\n",
       "21581     4\n",
       "21582    10\n",
       "21583     9\n",
       "21584    10\n",
       "21585     4\n",
       "21586     6\n",
       "21587     8\n",
       "21588     1\n",
       "21589    10\n",
       "21590     3\n",
       "21591     2\n",
       "21592     5\n",
       "21593     2\n",
       "21594     6\n",
       "21595     1\n",
       "21596    10\n",
       "Name: month, Length: 21597, dtype: int64"
      ]
     },
     "execution_count": 53,
     "metadata": {},
     "output_type": "execute_result"
    }
   ],
   "source": [
    "house['month'].astype(int)"
   ]
  },
  {
   "cell_type": "code",
   "execution_count": 59,
   "metadata": {},
   "outputs": [],
   "source": [
    "%matplotlib inline\n",
    "avgsalesbymonth = house.groupby('month')['price'].mean()"
   ]
  },
  {
   "cell_type": "code",
   "execution_count": 60,
   "metadata": {},
   "outputs": [
    {
     "data": {
      "text/plain": [
       "<matplotlib.axes._subplots.AxesSubplot at 0x11c8dacf8>"
      ]
     },
     "execution_count": 60,
     "metadata": {},
     "output_type": "execute_result"
    },
    {
     "data": {
      "image/png": "[encoded data removed]",
      "text/plain": [
       "<Figure size 432x288 with 1 Axes>"
      ]
     },
     "metadata": {
      "needs_background": "light"
     },
     "output_type": "display_data"
    }
   ],
   "source": [
    "avgsalesbymonth.plot()"
   ]
  },
  {
   "cell_type": "code",
   "execution_count": null,
   "metadata": {},
   "outputs": [],
   "source": []
  }
 ],
 "metadata": {
  "kernelspec": {
   "display_name": "Python 3",
   "language": "python",
   "name": "python3"
  },
  "language_info": {
   "codemirror_mode": {
    "name": "ipython",
    "version": 3
   },
   "file_extension": ".py",
   "mimetype": "text/x-python",
   "name": "python",
   "nbconvert_exporter": "python",
   "pygments_lexer": "ipython3",
   "version": "3.7.3"
  }
 },
 "nbformat": 4,
 "nbformat_minor": 2
}
