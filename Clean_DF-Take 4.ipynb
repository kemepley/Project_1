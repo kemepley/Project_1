{
 "cells": [
  {
   "cell_type": "code",
   "execution_count": 96,
   "metadata": {},
   "outputs": [],
   "source": [
    "#Importing some necessary packages\n",
    "\n",
    "import pandas as pd\n",
    "import numpy as np\n",
    "import warnings\n",
    "warnings.filterwarnings(action='ignore')"
   ]
  },
  {
   "cell_type": "markdown",
   "metadata": {},
   "source": [
    "### Define functions"
   ]
  },
  {
   "cell_type": "code",
   "execution_count": 115,
   "metadata": {},
   "outputs": [],
   "source": [
    "# A function that allows us to drop rows based on values we think are suspect\n",
    "\n",
    "def drop_rows(df, colname, val):\n",
    "    return df[df[colname] != val]"
   ]
  },
  {
   "cell_type": "code",
   "execution_count": 116,
   "metadata": {},
   "outputs": [],
   "source": [
    "# A function to take columns with years (yr_built, yr_renovated) and bin them by decade\n",
    "\n",
    "from sklearn.preprocessing import LabelEncoder\n",
    "\n",
    "def bin_by_decade(df, colname):\n",
    "    bins = pd.IntervalIndex.from_tuples([(1900, 1909), (1910, 1919), (1920, 1929), (1930, 1939), (1940, 1949), (1950, 1959), (1960, 1969), (1970, 1979), (1980, 1989), (1990, 1999), (2000, 2010), (2010, 2020)])\n",
    "    series = pd.cut(df[colname], bins)\n",
    "    df[colname] = series\n",
    "    return df"
   ]
  },
  {
   "cell_type": "code",
   "execution_count": 128,
   "metadata": {},
   "outputs": [],
   "source": [
    "# Contains all of our data cleaning operations\n",
    "\n",
    "def clean():\n",
    "    \n",
    "# Load the data\n",
    "    \n",
    "    house = pd.read_csv('https://raw.githubusercontent.com/learn-co-students/dsc-v2-mod1-final-project-dc-ds-career-042219/master/kc_house_data.csv')\n",
    "    \n",
    "# Get rid of rows\n",
    "    # The row with 33 bedrooms is a suspicious outlier, so we decided to drop it\n",
    "    # The 454 ?s in sqft_basement needed to be remedied. We chose to drop them--454 seemed like too many to impute. \n",
    "\n",
    "    clean_house = house[house['bedrooms'] != 33]\n",
    "    clean_house = clean_house[clean_house['sqft_basement'] != \"?\"]\n",
    "    \n",
    "# Bin decades\n",
    "    \n",
    "    clean_house = bin_by_decade(clean_house, 'yr_built')\n",
    "    clean_house = bin_by_decade(clean_house, 'yr_renovated')\n",
    "    \n",
    "    \n",
    "# Get dummies\n",
    "    # Note: Originally, we dropped waterfront because it had a lot of null values. Get dummies gives you the option to create a dummy for nulls or not.\n",
    "    # We did that, without the null column\n",
    "    clean_house = pd.get_dummies(clean_house, columns=(['waterfront', 'view', 'floors', 'bedrooms', 'condition', 'zipcode', 'yr_built', 'yr_renovated']))\n",
    "    \n",
    "# Drop id, date, waterfront\n",
    "\n",
    "    clean_house = clean_house.drop(['id', 'date'], axis=1)\n",
    "    \n",
    "# Convert sqft_basement from object to float\n",
    "\n",
    "    clean_house['sqft_basement'] = clean_house['sqft_basement'].astype(float, inplace=True)\n",
    "\n",
    "# Return clean_house\n",
    "    \n",
    "    return clean_house"
   ]
  },
  {
   "cell_type": "markdown",
   "metadata": {},
   "source": [
    "### Get clean dataframe"
   ]
  },
  {
   "cell_type": "code",
   "execution_count": 129,
   "metadata": {},
   "outputs": [],
   "source": [
    "clean_house = clean()\n"
   ]
  },
  {
   "cell_type": "code",
   "execution_count": 135,
   "metadata": {},
   "outputs": [
    {
     "data": {
      "text/html": [
       "<div>\n",
       "<style scoped>\n",
       "    .dataframe tbody tr th:only-of-type {\n",
       "        vertical-align: middle;\n",
       "    }\n",
       "\n",
       "    .dataframe tbody tr th {\n",
       "        vertical-align: top;\n",
       "    }\n",
       "\n",
       "    .dataframe thead th {\n",
       "        text-align: right;\n",
       "    }\n",
       "</style>\n",
       "<table border=\"1\" class=\"dataframe\">\n",
       "  <thead>\n",
       "    <tr style=\"text-align: right;\">\n",
       "      <th></th>\n",
       "      <th>price</th>\n",
       "      <th>bathrooms</th>\n",
       "      <th>sqft_living</th>\n",
       "      <th>sqft_lot</th>\n",
       "      <th>grade</th>\n",
       "      <th>sqft_above</th>\n",
       "      <th>sqft_basement</th>\n",
       "      <th>lat</th>\n",
       "      <th>long</th>\n",
       "      <th>sqft_living15</th>\n",
       "      <th>...</th>\n",
       "      <th>yr_renovated_(1920, 1929]</th>\n",
       "      <th>yr_renovated_(1930, 1939]</th>\n",
       "      <th>yr_renovated_(1940, 1949]</th>\n",
       "      <th>yr_renovated_(1950, 1959]</th>\n",
       "      <th>yr_renovated_(1960, 1969]</th>\n",
       "      <th>yr_renovated_(1970, 1979]</th>\n",
       "      <th>yr_renovated_(1980, 1989]</th>\n",
       "      <th>yr_renovated_(1990, 1999]</th>\n",
       "      <th>yr_renovated_(2000, 2010]</th>\n",
       "      <th>yr_renovated_(2010, 2020]</th>\n",
       "    </tr>\n",
       "  </thead>\n",
       "  <tbody>\n",
       "    <tr>\n",
       "      <th>0</th>\n",
       "      <td>221900.0</td>\n",
       "      <td>1.00</td>\n",
       "      <td>1180</td>\n",
       "      <td>5650</td>\n",
       "      <td>7</td>\n",
       "      <td>1180</td>\n",
       "      <td>0.0</td>\n",
       "      <td>47.5112</td>\n",
       "      <td>-122.257</td>\n",
       "      <td>1340</td>\n",
       "      <td>...</td>\n",
       "      <td>0</td>\n",
       "      <td>0</td>\n",
       "      <td>0</td>\n",
       "      <td>0</td>\n",
       "      <td>0</td>\n",
       "      <td>0</td>\n",
       "      <td>0</td>\n",
       "      <td>0</td>\n",
       "      <td>0</td>\n",
       "      <td>0</td>\n",
       "    </tr>\n",
       "    <tr>\n",
       "      <th>1</th>\n",
       "      <td>538000.0</td>\n",
       "      <td>2.25</td>\n",
       "      <td>2570</td>\n",
       "      <td>7242</td>\n",
       "      <td>7</td>\n",
       "      <td>2170</td>\n",
       "      <td>400.0</td>\n",
       "      <td>47.7210</td>\n",
       "      <td>-122.319</td>\n",
       "      <td>1690</td>\n",
       "      <td>...</td>\n",
       "      <td>0</td>\n",
       "      <td>0</td>\n",
       "      <td>0</td>\n",
       "      <td>0</td>\n",
       "      <td>0</td>\n",
       "      <td>0</td>\n",
       "      <td>0</td>\n",
       "      <td>1</td>\n",
       "      <td>0</td>\n",
       "      <td>0</td>\n",
       "    </tr>\n",
       "    <tr>\n",
       "      <th>2</th>\n",
       "      <td>180000.0</td>\n",
       "      <td>1.00</td>\n",
       "      <td>770</td>\n",
       "      <td>10000</td>\n",
       "      <td>6</td>\n",
       "      <td>770</td>\n",
       "      <td>0.0</td>\n",
       "      <td>47.7379</td>\n",
       "      <td>-122.233</td>\n",
       "      <td>2720</td>\n",
       "      <td>...</td>\n",
       "      <td>0</td>\n",
       "      <td>0</td>\n",
       "      <td>0</td>\n",
       "      <td>0</td>\n",
       "      <td>0</td>\n",
       "      <td>0</td>\n",
       "      <td>0</td>\n",
       "      <td>0</td>\n",
       "      <td>0</td>\n",
       "      <td>0</td>\n",
       "    </tr>\n",
       "    <tr>\n",
       "      <th>3</th>\n",
       "      <td>604000.0</td>\n",
       "      <td>3.00</td>\n",
       "      <td>1960</td>\n",
       "      <td>5000</td>\n",
       "      <td>7</td>\n",
       "      <td>1050</td>\n",
       "      <td>910.0</td>\n",
       "      <td>47.5208</td>\n",
       "      <td>-122.393</td>\n",
       "      <td>1360</td>\n",
       "      <td>...</td>\n",
       "      <td>0</td>\n",
       "      <td>0</td>\n",
       "      <td>0</td>\n",
       "      <td>0</td>\n",
       "      <td>0</td>\n",
       "      <td>0</td>\n",
       "      <td>0</td>\n",
       "      <td>0</td>\n",
       "      <td>0</td>\n",
       "      <td>0</td>\n",
       "    </tr>\n",
       "    <tr>\n",
       "      <th>4</th>\n",
       "      <td>510000.0</td>\n",
       "      <td>2.00</td>\n",
       "      <td>1680</td>\n",
       "      <td>8080</td>\n",
       "      <td>8</td>\n",
       "      <td>1680</td>\n",
       "      <td>0.0</td>\n",
       "      <td>47.6168</td>\n",
       "      <td>-122.045</td>\n",
       "      <td>1800</td>\n",
       "      <td>...</td>\n",
       "      <td>0</td>\n",
       "      <td>0</td>\n",
       "      <td>0</td>\n",
       "      <td>0</td>\n",
       "      <td>0</td>\n",
       "      <td>0</td>\n",
       "      <td>0</td>\n",
       "      <td>0</td>\n",
       "      <td>0</td>\n",
       "      <td>0</td>\n",
       "    </tr>\n",
       "  </tbody>\n",
       "</table>\n",
       "<p>5 rows × 134 columns</p>\n",
       "</div>"
      ],
      "text/plain": [
       "      price  bathrooms  sqft_living  sqft_lot  grade  sqft_above  \\\n",
       "0  221900.0       1.00         1180      5650      7        1180   \n",
       "1  538000.0       2.25         2570      7242      7        2170   \n",
       "2  180000.0       1.00          770     10000      6         770   \n",
       "3  604000.0       3.00         1960      5000      7        1050   \n",
       "4  510000.0       2.00         1680      8080      8        1680   \n",
       "\n",
       "   sqft_basement      lat     long  sqft_living15  ...  \\\n",
       "0            0.0  47.5112 -122.257           1340  ...   \n",
       "1          400.0  47.7210 -122.319           1690  ...   \n",
       "2            0.0  47.7379 -122.233           2720  ...   \n",
       "3          910.0  47.5208 -122.393           1360  ...   \n",
       "4            0.0  47.6168 -122.045           1800  ...   \n",
       "\n",
       "   yr_renovated_(1920, 1929]  yr_renovated_(1930, 1939]  \\\n",
       "0                          0                          0   \n",
       "1                          0                          0   \n",
       "2                          0                          0   \n",
       "3                          0                          0   \n",
       "4                          0                          0   \n",
       "\n",
       "   yr_renovated_(1940, 1949]  yr_renovated_(1950, 1959]  \\\n",
       "0                          0                          0   \n",
       "1                          0                          0   \n",
       "2                          0                          0   \n",
       "3                          0                          0   \n",
       "4                          0                          0   \n",
       "\n",
       "   yr_renovated_(1960, 1969]  yr_renovated_(1970, 1979]  \\\n",
       "0                          0                          0   \n",
       "1                          0                          0   \n",
       "2                          0                          0   \n",
       "3                          0                          0   \n",
       "4                          0                          0   \n",
       "\n",
       "   yr_renovated_(1980, 1989]  yr_renovated_(1990, 1999]  \\\n",
       "0                          0                          0   \n",
       "1                          0                          1   \n",
       "2                          0                          0   \n",
       "3                          0                          0   \n",
       "4                          0                          0   \n",
       "\n",
       "   yr_renovated_(2000, 2010]  yr_renovated_(2010, 2020]  \n",
       "0                          0                          0  \n",
       "1                          0                          0  \n",
       "2                          0                          0  \n",
       "3                          0                          0  \n",
       "4                          0                          0  \n",
       "\n",
       "[5 rows x 134 columns]"
      ]
     },
     "execution_count": 135,
     "metadata": {},
     "output_type": "execute_result"
    }
   ],
   "source": [
    "clean_house.head()"
   ]
  },
  {
   "cell_type": "code",
   "execution_count": 13,
   "metadata": {},
   "outputs": [
    {
     "name": "stdout",
     "output_type": "stream",
     "text": [
      "<class 'pandas.core.frame.DataFrame'>\n",
      "Int64Index: 21143 entries, 0 to 21596\n",
      "Columns: 135 entries, price to yr_renovated_(2010, 2020]\n",
      "dtypes: float64(5), int64(6), uint8(124)\n",
      "memory usage: 4.4 MB\n"
     ]
    }
   ],
   "source": [
    "clean_house.info()"
   ]
  },
  {
   "cell_type": "markdown",
   "metadata": {},
   "source": [
    "### Split the data into training and test sets"
   ]
  },
  {
   "cell_type": "code",
   "execution_count": 20,
   "metadata": {},
   "outputs": [],
   "source": [
    "from sklearn.model_selection import train_test_split"
   ]
  },
  {
   "cell_type": "code",
   "execution_count": 21,
   "metadata": {},
   "outputs": [],
   "source": [
    "# Split data into train and test sets\n",
    "\n",
    "X = clean_house.drop([\"price\"], axis=1) #predictors\n",
    "y = clean_house[\"price\"] #target"
   ]
  },
  {
   "cell_type": "code",
   "execution_count": 22,
   "metadata": {},
   "outputs": [
    {
     "name": "stdout",
     "output_type": "stream",
     "text": [
      "4229 16914 4229 16914\n"
     ]
    }
   ],
   "source": [
    "X_train,X_test,y_train,y_test=train_test_split(X,y,test_size=0.2,random_state=3)\n",
    "print(len(X_test), len(X_train), len(y_test), len(y_train))"
   ]
  },
  {
   "cell_type": "markdown",
   "metadata": {},
   "source": [
    "### Regression 1: Manual scaling and feature selection"
   ]
  },
  {
   "cell_type": "code",
   "execution_count": 19,
   "metadata": {},
   "outputs": [],
   "source": [
    "# copied function from Model Fit Linear Regression Lab\n",
    "\n",
    "def stepwise_selection(X, y, \n",
    "                       initial_list=[], \n",
    "                       threshold_in=0.01, \n",
    "                       threshold_out = 0.05, \n",
    "                       verbose=True):\n",
    "    \"\"\" Perform a forward-backward feature selection \n",
    "    based on p-value from statsmodels.api.OLS\n",
    "    Arguments:\n",
    "        X - pandas.DataFrame with candidate features\n",
    "        y - list-like with the target\n",
    "        initial_list - list of features to start with (column names of X)\n",
    "        threshold_in - include a feature if its p-value < threshold_in\n",
    "        threshold_out - exclude a feature if its p-value > threshold_out\n",
    "        verbose - whether to print the sequence of inclusions and exclusions\n",
    "    Returns: list of selected features \n",
    "    Always set threshold_in < threshold_out to avoid infinite looping.\n",
    "    See https://en.wikipedia.org/wiki/Stepwise_regression for the details\n",
    "    \"\"\"\n",
    "    included = list(initial_list)\n",
    "    while True:\n",
    "        changed=False\n",
    "        # forward step\n",
    "        excluded = list(set(X.columns)-set(included))\n",
    "        new_pval = pd.Series(index=excluded)\n",
    "        for new_column in excluded:\n",
    "            model = sm.OLS(y, sm.add_constant(pd.DataFrame(X[included+[new_column]]))).fit()\n",
    "            new_pval[new_column] = model.pvalues[new_column]\n",
    "        best_pval = new_pval.min()\n",
    "        if best_pval < threshold_in:\n",
    "            best_feature = new_pval.idxmin()\n",
    "            included.append(best_feature)\n",
    "            changed=True\n",
    "            if verbose:\n",
    "                print('Add  {:30} with p-value {:.6}'.format(best_feature, best_pval))\n",
    "\n",
    "        # backward step\n",
    "        model = sm.OLS(y, sm.add_constant(pd.DataFrame(X[included]))).fit()\n",
    "        # use all coefs except intercept\n",
    "        pvalues = model.pvalues.iloc[1:]\n",
    "        worst_pval = pvalues.max() # null if pvalues is empty\n",
    "        if worst_pval > threshold_out:\n",
    "            changed=True\n",
    "            worst_feature = pvalues.argmax()\n",
    "            included.remove(worst_feature)\n",
    "            if verbose:\n",
    "                print('Drop {:30} with p-value {:.6}'.format(worst_feature, worst_pval))\n",
    "        if not changed:\n",
    "            break\n",
    "    return included"
   ]
  },
  {
   "cell_type": "code",
   "execution_count": 82,
   "metadata": {},
   "outputs": [
    {
     "name": "stderr",
     "output_type": "stream",
     "text": [
      "/anaconda3/lib/python3.7/site-packages/numpy/core/fromnumeric.py:2389: FutureWarning: Method .ptp is deprecated and will be removed in a future version. Use numpy.ptp instead.\n",
      "  return ptp(axis=axis, out=out, **kwargs)\n",
      "/anaconda3/lib/python3.7/site-packages/statsmodels/base/model.py:1100: RuntimeWarning: invalid value encountered in true_divide\n",
      "  return self.params / self.bse\n",
      "/anaconda3/lib/python3.7/site-packages/scipy/stats/_distn_infrastructure.py:877: RuntimeWarning: invalid value encountered in greater\n",
      "  return (self.a < x) & (x < self.b)\n",
      "/anaconda3/lib/python3.7/site-packages/scipy/stats/_distn_infrastructure.py:877: RuntimeWarning: invalid value encountered in less\n",
      "  return (self.a < x) & (x < self.b)\n",
      "/anaconda3/lib/python3.7/site-packages/scipy/stats/_distn_infrastructure.py:1831: RuntimeWarning: invalid value encountered in less_equal\n",
      "  cond2 = cond0 & (x <= self.a)\n"
     ]
    },
    {
     "name": "stdout",
     "output_type": "stream",
     "text": [
      "Add  waterfront_1.0                 with p-value 0.0\n",
      "Add  bathrooms                      with p-value 0.0\n",
      "Add  sqft_living                    with p-value 0.0\n",
      "Drop bathrooms                      with p-value 0.611508\n"
     ]
    },
    {
     "name": "stderr",
     "output_type": "stream",
     "text": [
      "/anaconda3/lib/python3.7/site-packages/ipykernel_launcher.py:45: FutureWarning: \n",
      "The current behaviour of 'Series.argmax' is deprecated, use 'idxmax'\n",
      "instead.\n",
      "The behavior of 'argmax' will be corrected to return the positional\n",
      "maximum in the future. For now, use 'series.values.argmax' or\n",
      "'np.argmax(np.array(values))' to get the position of the maximum\n",
      "row.\n"
     ]
    },
    {
     "name": "stdout",
     "output_type": "stream",
     "text": [
      "Add  zipcode_98004                  with p-value 0.0\n",
      "Add  lat                            with p-value 0.0\n",
      "Add  grade                          with p-value 0.0\n",
      "Add  zipcode_98039                  with p-value 6.2004e-297\n",
      "Add  view_0.0                       with p-value 3.39298e-249\n",
      "Add  zipcode_98112                  with p-value 1.18467e-241\n",
      "Add  zipcode_98040                  with p-value 1.67766e-195\n",
      "Add  zipcode_98105                  with p-value 5.57944e-84\n",
      "Add  condition_3                    with p-value 1.02155e-79\n",
      "Add  zipcode_98119                  with p-value 4.35741e-80\n",
      "Add  view_4.0                       with p-value 8.65977e-76\n",
      "Add  zipcode_98199                  with p-value 2.17883e-61\n",
      "Add  zipcode_98109                  with p-value 1.53737e-61\n",
      "Add  zipcode_98102                  with p-value 1.05391e-62\n",
      "Add  zipcode_98033                  with p-value 2.59056e-56\n",
      "Add  zipcode_98103                  with p-value 8.23958e-56\n",
      "Add  zipcode_98115                  with p-value 6.45772e-55\n",
      "Add  zipcode_98122                  with p-value 1.96412e-57\n",
      "Add  zipcode_98117                  with p-value 8.20782e-53\n",
      "Add  zipcode_98006                  with p-value 2.03581e-53\n",
      "Add  zipcode_98116                  with p-value 1.01869e-48\n",
      "Add  zipcode_98107                  with p-value 1.01161e-47\n",
      "Add  zipcode_98144                  with p-value 1.99144e-48\n",
      "Add  sqft_above                     with p-value 4.04047e-41\n",
      "Add  sqft_basement                  with p-value 3.34634e-67\n",
      "Add  floors_2.0                     with p-value 4.49648e-49\n",
      "Add  zipcode_98136                  with p-value 1.27873e-38\n",
      "Add  floors_3.0                     with p-value 1.23755e-39\n",
      "Add  zipcode_98005                  with p-value 8.48907e-33\n",
      "Add  yr_renovated_(2000, 2010]      with p-value 1.81602e-32\n",
      "Add  zipcode_98126                  with p-value 3.48777e-29\n",
      "Add  bedrooms_4                     with p-value 8.04509e-26\n",
      "Add  zipcode_98029                  with p-value 2.18765e-25\n",
      "Add  zipcode_98118                  with p-value 1.00148e-25\n",
      "Add  zipcode_98008                  with p-value 8.45395e-26\n",
      "Add  view_3.0                       with p-value 1.62774e-25\n",
      "Add  condition_5                    with p-value 1.95665e-25\n",
      "Add  zipcode_98027                  with p-value 9.16489e-21\n",
      "Add  zipcode_98052                  with p-value 2.82245e-22\n",
      "Add  bedrooms_2                     with p-value 1.26689e-19\n",
      "Add  zipcode_98007                  with p-value 6.45031e-17\n",
      "Add  bedrooms_5                     with p-value 1.22029e-14\n",
      "Add  zipcode_98019                  with p-value 1.88664e-12\n",
      "Add  zipcode_98028                  with p-value 2.83876e-12\n",
      "Add  bedrooms_1                     with p-value 1.53143e-10\n",
      "Add  bedrooms_3                     with p-value 1.46761e-11\n",
      "Add  bathrooms                      with p-value 7.06872e-11\n",
      "Add  zipcode_98106                  with p-value 2.16888e-10\n",
      "Add  yr_built_(1930, 1939]          with p-value 2.34849e-10\n",
      "Add  yr_built_(1940, 1949]          with p-value 1.92653e-10\n",
      "Add  zipcode_98075                  with p-value 2.00002e-09\n",
      "Add  zipcode_98011                  with p-value 1.26818e-08\n",
      "Add  zipcode_98155                  with p-value 5.20789e-10\n",
      "Add  zipcode_98077                  with p-value 8.93912e-10\n",
      "Add  sqft_lot                       with p-value 3.76568e-09\n",
      "Add  yr_built_(1920, 1929]          with p-value 7.40313e-08\n",
      "Add  yr_built_(2010, 2020]          with p-value 9.04334e-08\n",
      "Add  yr_built_(1910, 1919]          with p-value 1.30175e-07\n",
      "Add  floors_1.5                     with p-value 3.3418e-09\n",
      "Add  zipcode_98072                  with p-value 1.33817e-06\n",
      "Add  zipcode_98014                  with p-value 3.9471e-07\n",
      "Add  zipcode_98133                  with p-value 1.22377e-06\n",
      "Add  zipcode_98022                  with p-value 6.93681e-07\n",
      "Add  zipcode_98010                  with p-value 2.73029e-06\n",
      "Add  yr_built_(1970, 1979]          with p-value 1.0184e-05\n",
      "Add  zipcode_98178                  with p-value 8.46793e-06\n",
      "Add  bedrooms_6                     with p-value 2.26582e-05\n",
      "Add  yr_built_(1900, 1909]          with p-value 2.59704e-05\n",
      "Add  zipcode_98002                  with p-value 6.46648e-05\n",
      "Add  sqft_living15                  with p-value 8.00674e-05\n",
      "Add  yr_renovated_(2010, 2020]      with p-value 0.000155319\n",
      "Add  bedrooms_8                     with p-value 0.00314657\n",
      "Add  zipcode_98058                  with p-value 0.00387883\n",
      "Add  zipcode_98070                  with p-value 0.0030783\n",
      "Add  zipcode_98065                  with p-value 0.00627888\n",
      "Add  yr_built_(1960, 1969]          with p-value 0.00939475\n",
      "resulting features:\n",
      "['waterfront_1.0', 'sqft_living', 'zipcode_98004', 'lat', 'grade', 'zipcode_98039', 'view_0.0', 'zipcode_98112', 'zipcode_98040', 'zipcode_98105', 'condition_3', 'zipcode_98119', 'view_4.0', 'zipcode_98199', 'zipcode_98109', 'zipcode_98102', 'zipcode_98033', 'zipcode_98103', 'zipcode_98115', 'zipcode_98122', 'zipcode_98117', 'zipcode_98006', 'zipcode_98116', 'zipcode_98107', 'zipcode_98144', 'sqft_above', 'sqft_basement', 'floors_2.0', 'zipcode_98136', 'floors_3.0', 'zipcode_98005', 'yr_renovated_(2000, 2010]', 'zipcode_98126', 'bedrooms_4', 'zipcode_98029', 'zipcode_98118', 'zipcode_98008', 'view_3.0', 'condition_5', 'zipcode_98027', 'zipcode_98052', 'bedrooms_2', 'zipcode_98007', 'bedrooms_5', 'zipcode_98019', 'zipcode_98028', 'bedrooms_1', 'bedrooms_3', 'bathrooms', 'zipcode_98106', 'yr_built_(1930, 1939]', 'yr_built_(1940, 1949]', 'zipcode_98075', 'zipcode_98011', 'zipcode_98155', 'zipcode_98077', 'sqft_lot', 'yr_built_(1920, 1929]', 'yr_built_(2010, 2020]', 'yr_built_(1910, 1919]', 'floors_1.5', 'zipcode_98072', 'zipcode_98014', 'zipcode_98133', 'zipcode_98022', 'zipcode_98010', 'yr_built_(1970, 1979]', 'zipcode_98178', 'bedrooms_6', 'yr_built_(1900, 1909]', 'zipcode_98002', 'sqft_living15', 'yr_renovated_(2010, 2020]', 'bedrooms_8', 'zipcode_98058', 'zipcode_98070', 'zipcode_98065', 'yr_built_(1960, 1969]']\n"
     ]
    }
   ],
   "source": [
    "target = clean_house[\"price\"]\n",
    "predictors = clean_house.drop([\"price\"], axis=1)\n",
    "\n",
    "result = stepwise_selection(predictors, target, verbose = True)\n",
    "print('resulting features:')\n",
    "print(result)"
   ]
  },
  {
   "cell_type": "code",
   "execution_count": 28,
   "metadata": {
    "scrolled": false
   },
   "outputs": [
    {
     "name": "stderr",
     "output_type": "stream",
     "text": [
      "/anaconda3/lib/python3.7/site-packages/sklearn/preprocessing/data.py:645: DataConversionWarning: Data with input dtype uint8, int64, float64 were all converted to float64 by StandardScaler.\n",
      "  return self.partial_fit(X, y)\n",
      "/anaconda3/lib/python3.7/site-packages/sklearn/base.py:464: DataConversionWarning: Data with input dtype uint8, int64, float64 were all converted to float64 by StandardScaler.\n",
      "  return self.fit(X, **fit_params).transform(X)\n"
     ]
    },
    {
     "name": "stdout",
     "output_type": "stream",
     "text": [
      "The number of features used in the model is: 79\n"
     ]
    },
    {
     "data": {
      "text/html": [
       "<table class=\"simpletable\">\n",
       "<caption>OLS Regression Results</caption>\n",
       "<tr>\n",
       "  <th>Dep. Variable:</th>          <td>price</td>      <th>  R-squared:         </th> <td>   0.812</td> \n",
       "</tr>\n",
       "<tr>\n",
       "  <th>Model:</th>                   <td>OLS</td>       <th>  Adj. R-squared:    </th> <td>   0.811</td> \n",
       "</tr>\n",
       "<tr>\n",
       "  <th>Method:</th>             <td>Least Squares</td>  <th>  F-statistic:       </th> <td>   1180.</td> \n",
       "</tr>\n",
       "<tr>\n",
       "  <th>Date:</th>             <td>Wed, 08 May 2019</td> <th>  Prob (F-statistic):</th>  <td>  0.00</td>  \n",
       "</tr>\n",
       "<tr>\n",
       "  <th>Time:</th>                 <td>19:48:12</td>     <th>  Log-Likelihood:    </th> <td> -12341.</td> \n",
       "</tr>\n",
       "<tr>\n",
       "  <th>No. Observations:</th>      <td> 21143</td>      <th>  AIC:               </th> <td>2.484e+04</td>\n",
       "</tr>\n",
       "<tr>\n",
       "  <th>Df Residuals:</th>          <td> 21065</td>      <th>  BIC:               </th> <td>2.546e+04</td>\n",
       "</tr>\n",
       "<tr>\n",
       "  <th>Df Model:</th>              <td>    77</td>      <th>                     </th>     <td> </td>    \n",
       "</tr>\n",
       "<tr>\n",
       "  <th>Covariance Type:</th>      <td>nonrobust</td>    <th>                     </th>     <td> </td>    \n",
       "</tr>\n",
       "</table>\n",
       "<table class=\"simpletable\">\n",
       "<tr>\n",
       "              <td></td>                 <th>coef</th>     <th>std err</th>      <th>t</th>      <th>P>|t|</th>  <th>[0.025</th>    <th>0.975]</th>  \n",
       "</tr>\n",
       "<tr>\n",
       "  <th>const</th>                     <td>-1.172e-14</td> <td>    0.003</td> <td>-3.92e-12</td> <td> 1.000</td> <td>   -0.006</td> <td>    0.006</td>\n",
       "</tr>\n",
       "<tr>\n",
       "  <th>waterfront_1.0</th>            <td>    0.1332</td> <td>    0.004</td> <td>   36.163</td> <td> 0.000</td> <td>    0.126</td> <td>    0.140</td>\n",
       "</tr>\n",
       "<tr>\n",
       "  <th>sqft_living</th>               <td>    0.2455</td> <td>    0.004</td> <td>   69.193</td> <td> 0.000</td> <td>    0.239</td> <td>    0.252</td>\n",
       "</tr>\n",
       "<tr>\n",
       "  <th>zipcode_98004</th>             <td>    0.2056</td> <td>    0.003</td> <td>   65.660</td> <td> 0.000</td> <td>    0.200</td> <td>    0.212</td>\n",
       "</tr>\n",
       "<tr>\n",
       "  <th>lat</th>                       <td>    0.2086</td> <td>    0.005</td> <td>   44.311</td> <td> 0.000</td> <td>    0.199</td> <td>    0.218</td>\n",
       "</tr>\n",
       "<tr>\n",
       "  <th>grade</th>                     <td>    0.1814</td> <td>    0.006</td> <td>   31.525</td> <td> 0.000</td> <td>    0.170</td> <td>    0.193</td>\n",
       "</tr>\n",
       "<tr>\n",
       "  <th>zipcode_98039</th>             <td>    0.1497</td> <td>    0.003</td> <td>   49.436</td> <td> 0.000</td> <td>    0.144</td> <td>    0.156</td>\n",
       "</tr>\n",
       "<tr>\n",
       "  <th>view_0.0</th>                  <td>   -0.0606</td> <td>    0.004</td> <td>  -15.437</td> <td> 0.000</td> <td>   -0.068</td> <td>   -0.053</td>\n",
       "</tr>\n",
       "<tr>\n",
       "  <th>zipcode_98112</th>             <td>    0.1396</td> <td>    0.003</td> <td>   43.791</td> <td> 0.000</td> <td>    0.133</td> <td>    0.146</td>\n",
       "</tr>\n",
       "<tr>\n",
       "  <th>zipcode_98040</th>             <td>    0.1233</td> <td>    0.003</td> <td>   39.395</td> <td> 0.000</td> <td>    0.117</td> <td>    0.129</td>\n",
       "</tr>\n",
       "<tr>\n",
       "  <th>zipcode_98105</th>             <td>    0.0807</td> <td>    0.003</td> <td>   25.486</td> <td> 0.000</td> <td>    0.075</td> <td>    0.087</td>\n",
       "</tr>\n",
       "<tr>\n",
       "  <th>condition_3</th>               <td>   -0.0332</td> <td>    0.004</td> <td>   -9.171</td> <td> 0.000</td> <td>   -0.040</td> <td>   -0.026</td>\n",
       "</tr>\n",
       "<tr>\n",
       "  <th>zipcode_98119</th>             <td>    0.0816</td> <td>    0.003</td> <td>   25.941</td> <td> 0.000</td> <td>    0.075</td> <td>    0.088</td>\n",
       "</tr>\n",
       "<tr>\n",
       "  <th>view_4.0</th>                  <td>    0.0883</td> <td>    0.004</td> <td>   22.575</td> <td> 0.000</td> <td>    0.081</td> <td>    0.096</td>\n",
       "</tr>\n",
       "<tr>\n",
       "  <th>zipcode_98199</th>             <td>    0.0706</td> <td>    0.003</td> <td>   22.180</td> <td> 0.000</td> <td>    0.064</td> <td>    0.077</td>\n",
       "</tr>\n",
       "<tr>\n",
       "  <th>zipcode_98109</th>             <td>    0.0644</td> <td>    0.003</td> <td>   20.959</td> <td> 0.000</td> <td>    0.058</td> <td>    0.070</td>\n",
       "</tr>\n",
       "<tr>\n",
       "  <th>zipcode_98102</th>             <td>    0.0673</td> <td>    0.003</td> <td>   21.904</td> <td> 0.000</td> <td>    0.061</td> <td>    0.073</td>\n",
       "</tr>\n",
       "<tr>\n",
       "  <th>zipcode_98033</th>             <td>    0.0686</td> <td>    0.003</td> <td>   21.498</td> <td> 0.000</td> <td>    0.062</td> <td>    0.075</td>\n",
       "</tr>\n",
       "<tr>\n",
       "  <th>zipcode_98103</th>             <td>    0.0702</td> <td>    0.004</td> <td>   20.054</td> <td> 0.000</td> <td>    0.063</td> <td>    0.077</td>\n",
       "</tr>\n",
       "<tr>\n",
       "  <th>zipcode_98115</th>             <td>    0.0615</td> <td>    0.003</td> <td>   18.381</td> <td> 0.000</td> <td>    0.055</td> <td>    0.068</td>\n",
       "</tr>\n",
       "<tr>\n",
       "  <th>zipcode_98122</th>             <td>    0.0623</td> <td>    0.003</td> <td>   19.546</td> <td> 0.000</td> <td>    0.056</td> <td>    0.069</td>\n",
       "</tr>\n",
       "<tr>\n",
       "  <th>zipcode_98117</th>             <td>    0.0538</td> <td>    0.003</td> <td>   15.947</td> <td> 0.000</td> <td>    0.047</td> <td>    0.060</td>\n",
       "</tr>\n",
       "<tr>\n",
       "  <th>zipcode_98006</th>             <td>    0.0608</td> <td>    0.003</td> <td>   19.147</td> <td> 0.000</td> <td>    0.055</td> <td>    0.067</td>\n",
       "</tr>\n",
       "<tr>\n",
       "  <th>zipcode_98116</th>             <td>    0.0529</td> <td>    0.003</td> <td>   16.893</td> <td> 0.000</td> <td>    0.047</td> <td>    0.059</td>\n",
       "</tr>\n",
       "<tr>\n",
       "  <th>zipcode_98107</th>             <td>    0.0510</td> <td>    0.003</td> <td>   15.890</td> <td> 0.000</td> <td>    0.045</td> <td>    0.057</td>\n",
       "</tr>\n",
       "<tr>\n",
       "  <th>zipcode_98144</th>             <td>    0.0511</td> <td>    0.003</td> <td>   16.164</td> <td> 0.000</td> <td>    0.045</td> <td>    0.057</td>\n",
       "</tr>\n",
       "<tr>\n",
       "  <th>sqft_above</th>                <td>    0.2524</td> <td>    0.004</td> <td>   65.591</td> <td> 0.000</td> <td>    0.245</td> <td>    0.260</td>\n",
       "</tr>\n",
       "<tr>\n",
       "  <th>sqft_basement</th>             <td>    0.0371</td> <td>    0.004</td> <td>   10.582</td> <td> 0.000</td> <td>    0.030</td> <td>    0.044</td>\n",
       "</tr>\n",
       "<tr>\n",
       "  <th>floors_2.0</th>                <td>   -0.0894</td> <td>    0.005</td> <td>  -19.055</td> <td> 0.000</td> <td>   -0.099</td> <td>   -0.080</td>\n",
       "</tr>\n",
       "<tr>\n",
       "  <th>zipcode_98136</th>             <td>    0.0402</td> <td>    0.003</td> <td>   13.020</td> <td> 0.000</td> <td>    0.034</td> <td>    0.046</td>\n",
       "</tr>\n",
       "<tr>\n",
       "  <th>floors_3.0</th>                <td>   -0.0491</td> <td>    0.004</td> <td>  -13.894</td> <td> 0.000</td> <td>   -0.056</td> <td>   -0.042</td>\n",
       "</tr>\n",
       "<tr>\n",
       "  <th>zipcode_98005</th>             <td>    0.0387</td> <td>    0.003</td> <td>   12.628</td> <td> 0.000</td> <td>    0.033</td> <td>    0.045</td>\n",
       "</tr>\n",
       "<tr>\n",
       "  <th>yr_renovated_(2000, 2010]</th> <td>    0.0367</td> <td>    0.003</td> <td>   12.079</td> <td> 0.000</td> <td>    0.031</td> <td>    0.043</td>\n",
       "</tr>\n",
       "<tr>\n",
       "  <th>zipcode_98126</th>             <td>    0.0281</td> <td>    0.003</td> <td>    8.952</td> <td> 0.000</td> <td>    0.022</td> <td>    0.034</td>\n",
       "</tr>\n",
       "<tr>\n",
       "  <th>bedrooms_4</th>                <td>    0.1805</td> <td>    0.030</td> <td>    5.988</td> <td> 0.000</td> <td>    0.121</td> <td>    0.240</td>\n",
       "</tr>\n",
       "<tr>\n",
       "  <th>zipcode_98029</th>             <td>    0.0305</td> <td>    0.003</td> <td>    9.878</td> <td> 0.000</td> <td>    0.024</td> <td>    0.037</td>\n",
       "</tr>\n",
       "<tr>\n",
       "  <th>zipcode_98118</th>             <td>    0.0267</td> <td>    0.003</td> <td>    8.480</td> <td> 0.000</td> <td>    0.021</td> <td>    0.033</td>\n",
       "</tr>\n",
       "<tr>\n",
       "  <th>zipcode_98008</th>             <td>    0.0336</td> <td>    0.003</td> <td>   10.861</td> <td> 0.000</td> <td>    0.028</td> <td>    0.040</td>\n",
       "</tr>\n",
       "<tr>\n",
       "  <th>view_3.0</th>                  <td>    0.0351</td> <td>    0.003</td> <td>   10.048</td> <td> 0.000</td> <td>    0.028</td> <td>    0.042</td>\n",
       "</tr>\n",
       "<tr>\n",
       "  <th>condition_5</th>               <td>    0.0329</td> <td>    0.003</td> <td>    9.917</td> <td> 0.000</td> <td>    0.026</td> <td>    0.039</td>\n",
       "</tr>\n",
       "<tr>\n",
       "  <th>zipcode_98027</th>             <td>    0.0248</td> <td>    0.003</td> <td>    8.068</td> <td> 0.000</td> <td>    0.019</td> <td>    0.031</td>\n",
       "</tr>\n",
       "<tr>\n",
       "  <th>zipcode_98052</th>             <td>    0.0193</td> <td>    0.003</td> <td>    5.889</td> <td> 0.000</td> <td>    0.013</td> <td>    0.026</td>\n",
       "</tr>\n",
       "<tr>\n",
       "  <th>bedrooms_2</th>                <td>    0.1828</td> <td>    0.022</td> <td>    8.311</td> <td> 0.000</td> <td>    0.140</td> <td>    0.226</td>\n",
       "</tr>\n",
       "<tr>\n",
       "  <th>zipcode_98007</th>             <td>    0.0235</td> <td>    0.003</td> <td>    7.704</td> <td> 0.000</td> <td>    0.017</td> <td>    0.029</td>\n",
       "</tr>\n",
       "<tr>\n",
       "  <th>bedrooms_5</th>                <td>    0.0947</td> <td>    0.017</td> <td>    5.572</td> <td> 0.000</td> <td>    0.061</td> <td>    0.128</td>\n",
       "</tr>\n",
       "<tr>\n",
       "  <th>zipcode_98019</th>             <td>   -0.0335</td> <td>    0.003</td> <td>  -10.663</td> <td> 0.000</td> <td>   -0.040</td> <td>   -0.027</td>\n",
       "</tr>\n",
       "<tr>\n",
       "  <th>zipcode_98028</th>             <td>   -0.0323</td> <td>    0.003</td> <td>  -10.100</td> <td> 0.000</td> <td>   -0.039</td> <td>   -0.026</td>\n",
       "</tr>\n",
       "<tr>\n",
       "  <th>bedrooms_1</th>                <td>    0.0617</td> <td>    0.007</td> <td>    8.947</td> <td> 0.000</td> <td>    0.048</td> <td>    0.075</td>\n",
       "</tr>\n",
       "<tr>\n",
       "  <th>bedrooms_3</th>                <td>    0.2419</td> <td>    0.032</td> <td>    7.467</td> <td> 0.000</td> <td>    0.178</td> <td>    0.305</td>\n",
       "</tr>\n",
       "<tr>\n",
       "  <th>bathrooms</th>                 <td>    0.0413</td> <td>    0.005</td> <td>    7.707</td> <td> 0.000</td> <td>    0.031</td> <td>    0.052</td>\n",
       "</tr>\n",
       "<tr>\n",
       "  <th>zipcode_98106</th>             <td>    0.0133</td> <td>    0.003</td> <td>    4.288</td> <td> 0.000</td> <td>    0.007</td> <td>    0.019</td>\n",
       "</tr>\n",
       "<tr>\n",
       "  <th>yr_built_(1930, 1939]</th>     <td>    0.0255</td> <td>    0.003</td> <td>    8.097</td> <td> 0.000</td> <td>    0.019</td> <td>    0.032</td>\n",
       "</tr>\n",
       "<tr>\n",
       "  <th>yr_built_(1940, 1949]</th>     <td>    0.0263</td> <td>    0.003</td> <td>    7.642</td> <td> 0.000</td> <td>    0.020</td> <td>    0.033</td>\n",
       "</tr>\n",
       "<tr>\n",
       "  <th>zipcode_98075</th>             <td>    0.0104</td> <td>    0.003</td> <td>    3.324</td> <td> 0.001</td> <td>    0.004</td> <td>    0.017</td>\n",
       "</tr>\n",
       "<tr>\n",
       "  <th>zipcode_98011</th>             <td>   -0.0267</td> <td>    0.003</td> <td>   -8.499</td> <td> 0.000</td> <td>   -0.033</td> <td>   -0.021</td>\n",
       "</tr>\n",
       "<tr>\n",
       "  <th>zipcode_98155</th>             <td>   -0.0308</td> <td>    0.003</td> <td>   -9.256</td> <td> 0.000</td> <td>   -0.037</td> <td>   -0.024</td>\n",
       "</tr>\n",
       "<tr>\n",
       "  <th>zipcode_98077</th>             <td>   -0.0268</td> <td>    0.003</td> <td>   -8.426</td> <td> 0.000</td> <td>   -0.033</td> <td>   -0.021</td>\n",
       "</tr>\n",
       "<tr>\n",
       "  <th>sqft_lot</th>                  <td>    0.0220</td> <td>    0.003</td> <td>    6.767</td> <td> 0.000</td> <td>    0.016</td> <td>    0.028</td>\n",
       "</tr>\n",
       "<tr>\n",
       "  <th>yr_built_(1920, 1929]</th>     <td>    0.0255</td> <td>    0.004</td> <td>    7.225</td> <td> 0.000</td> <td>    0.019</td> <td>    0.032</td>\n",
       "</tr>\n",
       "<tr>\n",
       "  <th>yr_built_(2010, 2020]</th>     <td>    0.0161</td> <td>    0.003</td> <td>    5.112</td> <td> 0.000</td> <td>    0.010</td> <td>    0.022</td>\n",
       "</tr>\n",
       "<tr>\n",
       "  <th>yr_built_(1910, 1919]</th>     <td>    0.0202</td> <td>    0.003</td> <td>    6.049</td> <td> 0.000</td> <td>    0.014</td> <td>    0.027</td>\n",
       "</tr>\n",
       "<tr>\n",
       "  <th>floors_1.5</th>                <td>   -0.0229</td> <td>    0.004</td> <td>   -6.524</td> <td> 0.000</td> <td>   -0.030</td> <td>   -0.016</td>\n",
       "</tr>\n",
       "<tr>\n",
       "  <th>zipcode_98072</th>             <td>   -0.0210</td> <td>    0.003</td> <td>   -6.554</td> <td> 0.000</td> <td>   -0.027</td> <td>   -0.015</td>\n",
       "</tr>\n",
       "<tr>\n",
       "  <th>zipcode_98014</th>             <td>   -0.0177</td> <td>    0.003</td> <td>   -5.717</td> <td> 0.000</td> <td>   -0.024</td> <td>   -0.012</td>\n",
       "</tr>\n",
       "<tr>\n",
       "  <th>zipcode_98133</th>             <td>   -0.0196</td> <td>    0.003</td> <td>   -5.873</td> <td> 0.000</td> <td>   -0.026</td> <td>   -0.013</td>\n",
       "</tr>\n",
       "<tr>\n",
       "  <th>zipcode_98022</th>             <td>    0.0160</td> <td>    0.003</td> <td>    4.976</td> <td> 0.000</td> <td>    0.010</td> <td>    0.022</td>\n",
       "</tr>\n",
       "<tr>\n",
       "  <th>zipcode_98010</th>             <td>    0.0139</td> <td>    0.003</td> <td>    4.598</td> <td> 0.000</td> <td>    0.008</td> <td>    0.020</td>\n",
       "</tr>\n",
       "<tr>\n",
       "  <th>yr_built_(1970, 1979]</th>     <td>   -0.0161</td> <td>    0.003</td> <td>   -4.852</td> <td> 0.000</td> <td>   -0.023</td> <td>   -0.010</td>\n",
       "</tr>\n",
       "<tr>\n",
       "  <th>zipcode_98178</th>             <td>   -0.0140</td> <td>    0.003</td> <td>   -4.586</td> <td> 0.000</td> <td>   -0.020</td> <td>   -0.008</td>\n",
       "</tr>\n",
       "<tr>\n",
       "  <th>bedrooms_6</th>                <td>    0.0375</td> <td>    0.008</td> <td>    4.902</td> <td> 0.000</td> <td>    0.023</td> <td>    0.053</td>\n",
       "</tr>\n",
       "<tr>\n",
       "  <th>yr_built_(1900, 1909]</th>     <td>    0.0124</td> <td>    0.003</td> <td>    3.691</td> <td> 0.000</td> <td>    0.006</td> <td>    0.019</td>\n",
       "</tr>\n",
       "<tr>\n",
       "  <th>zipcode_98002</th>             <td>    0.0120</td> <td>    0.003</td> <td>    3.903</td> <td> 0.000</td> <td>    0.006</td> <td>    0.018</td>\n",
       "</tr>\n",
       "<tr>\n",
       "  <th>sqft_living15</th>             <td>    0.0219</td> <td>    0.005</td> <td>    4.101</td> <td> 0.000</td> <td>    0.011</td> <td>    0.032</td>\n",
       "</tr>\n",
       "<tr>\n",
       "  <th>yr_renovated_(2010, 2020]</th> <td>    0.0116</td> <td>    0.003</td> <td>    3.854</td> <td> 0.000</td> <td>    0.006</td> <td>    0.018</td>\n",
       "</tr>\n",
       "<tr>\n",
       "  <th>bedrooms_8</th>                <td>    0.0100</td> <td>    0.003</td> <td>    2.967</td> <td> 0.003</td> <td>    0.003</td> <td>    0.017</td>\n",
       "</tr>\n",
       "<tr>\n",
       "  <th>zipcode_98058</th>             <td>   -0.0090</td> <td>    0.003</td> <td>   -2.962</td> <td> 0.003</td> <td>   -0.015</td> <td>   -0.003</td>\n",
       "</tr>\n",
       "<tr>\n",
       "  <th>zipcode_98070</th>             <td>   -0.0093</td> <td>    0.003</td> <td>   -3.010</td> <td> 0.003</td> <td>   -0.015</td> <td>   -0.003</td>\n",
       "</tr>\n",
       "<tr>\n",
       "  <th>zipcode_98065</th>             <td>   -0.0085</td> <td>    0.003</td> <td>   -2.769</td> <td> 0.006</td> <td>   -0.015</td> <td>   -0.002</td>\n",
       "</tr>\n",
       "<tr>\n",
       "  <th>yr_built_(1960, 1969]</th>     <td>   -0.0089</td> <td>    0.003</td> <td>   -2.598</td> <td> 0.009</td> <td>   -0.016</td> <td>   -0.002</td>\n",
       "</tr>\n",
       "</table>\n",
       "<table class=\"simpletable\">\n",
       "<tr>\n",
       "  <th>Omnibus:</th>       <td>20376.422</td> <th>  Durbin-Watson:     </th>  <td>   1.995</td>  \n",
       "</tr>\n",
       "<tr>\n",
       "  <th>Prob(Omnibus):</th>  <td> 0.000</td>   <th>  Jarque-Bera (JB):  </th> <td>4363973.190</td>\n",
       "</tr>\n",
       "<tr>\n",
       "  <th>Skew:</th>           <td> 4.146</td>   <th>  Prob(JB):          </th>  <td>    0.00</td>  \n",
       "</tr>\n",
       "<tr>\n",
       "  <th>Kurtosis:</th>       <td>72.892</td>   <th>  Cond. No.          </th>  <td>4.58e+15</td>  \n",
       "</tr>\n",
       "</table><br/><br/>Warnings:<br/>[1] Standard Errors assume that the covariance matrix of the errors is correctly specified.<br/>[2] The smallest eigenvalue is 5.45e-27. This might indicate that there are<br/>strong multicollinearity problems or that the design matrix is singular."
      ],
      "text/plain": [
       "<class 'statsmodels.iolib.summary.Summary'>\n",
       "\"\"\"\n",
       "                            OLS Regression Results                            \n",
       "==============================================================================\n",
       "Dep. Variable:                  price   R-squared:                       0.812\n",
       "Model:                            OLS   Adj. R-squared:                  0.811\n",
       "Method:                 Least Squares   F-statistic:                     1180.\n",
       "Date:                Wed, 08 May 2019   Prob (F-statistic):               0.00\n",
       "Time:                        19:48:12   Log-Likelihood:                -12341.\n",
       "No. Observations:               21143   AIC:                         2.484e+04\n",
       "Df Residuals:                   21065   BIC:                         2.546e+04\n",
       "Df Model:                          77                                         \n",
       "Covariance Type:            nonrobust                                         \n",
       "=============================================================================================\n",
       "                                coef    std err          t      P>|t|      [0.025      0.975]\n",
       "---------------------------------------------------------------------------------------------\n",
       "const                     -1.172e-14      0.003  -3.92e-12      1.000      -0.006       0.006\n",
       "waterfront_1.0                0.1332      0.004     36.163      0.000       0.126       0.140\n",
       "sqft_living                   0.2455      0.004     69.193      0.000       0.239       0.252\n",
       "zipcode_98004                 0.2056      0.003     65.660      0.000       0.200       0.212\n",
       "lat                           0.2086      0.005     44.311      0.000       0.199       0.218\n",
       "grade                         0.1814      0.006     31.525      0.000       0.170       0.193\n",
       "zipcode_98039                 0.1497      0.003     49.436      0.000       0.144       0.156\n",
       "view_0.0                     -0.0606      0.004    -15.437      0.000      -0.068      -0.053\n",
       "zipcode_98112                 0.1396      0.003     43.791      0.000       0.133       0.146\n",
       "zipcode_98040                 0.1233      0.003     39.395      0.000       0.117       0.129\n",
       "zipcode_98105                 0.0807      0.003     25.486      0.000       0.075       0.087\n",
       "condition_3                  -0.0332      0.004     -9.171      0.000      -0.040      -0.026\n",
       "zipcode_98119                 0.0816      0.003     25.941      0.000       0.075       0.088\n",
       "view_4.0                      0.0883      0.004     22.575      0.000       0.081       0.096\n",
       "zipcode_98199                 0.0706      0.003     22.180      0.000       0.064       0.077\n",
       "zipcode_98109                 0.0644      0.003     20.959      0.000       0.058       0.070\n",
       "zipcode_98102                 0.0673      0.003     21.904      0.000       0.061       0.073\n",
       "zipcode_98033                 0.0686      0.003     21.498      0.000       0.062       0.075\n",
       "zipcode_98103                 0.0702      0.004     20.054      0.000       0.063       0.077\n",
       "zipcode_98115                 0.0615      0.003     18.381      0.000       0.055       0.068\n",
       "zipcode_98122                 0.0623      0.003     19.546      0.000       0.056       0.069\n",
       "zipcode_98117                 0.0538      0.003     15.947      0.000       0.047       0.060\n",
       "zipcode_98006                 0.0608      0.003     19.147      0.000       0.055       0.067\n",
       "zipcode_98116                 0.0529      0.003     16.893      0.000       0.047       0.059\n",
       "zipcode_98107                 0.0510      0.003     15.890      0.000       0.045       0.057\n",
       "zipcode_98144                 0.0511      0.003     16.164      0.000       0.045       0.057\n",
       "sqft_above                    0.2524      0.004     65.591      0.000       0.245       0.260\n",
       "sqft_basement                 0.0371      0.004     10.582      0.000       0.030       0.044\n",
       "floors_2.0                   -0.0894      0.005    -19.055      0.000      -0.099      -0.080\n",
       "zipcode_98136                 0.0402      0.003     13.020      0.000       0.034       0.046\n",
       "floors_3.0                   -0.0491      0.004    -13.894      0.000      -0.056      -0.042\n",
       "zipcode_98005                 0.0387      0.003     12.628      0.000       0.033       0.045\n",
       "yr_renovated_(2000, 2010]     0.0367      0.003     12.079      0.000       0.031       0.043\n",
       "zipcode_98126                 0.0281      0.003      8.952      0.000       0.022       0.034\n",
       "bedrooms_4                    0.1805      0.030      5.988      0.000       0.121       0.240\n",
       "zipcode_98029                 0.0305      0.003      9.878      0.000       0.024       0.037\n",
       "zipcode_98118                 0.0267      0.003      8.480      0.000       0.021       0.033\n",
       "zipcode_98008                 0.0336      0.003     10.861      0.000       0.028       0.040\n",
       "view_3.0                      0.0351      0.003     10.048      0.000       0.028       0.042\n",
       "condition_5                   0.0329      0.003      9.917      0.000       0.026       0.039\n",
       "zipcode_98027                 0.0248      0.003      8.068      0.000       0.019       0.031\n",
       "zipcode_98052                 0.0193      0.003      5.889      0.000       0.013       0.026\n",
       "bedrooms_2                    0.1828      0.022      8.311      0.000       0.140       0.226\n",
       "zipcode_98007                 0.0235      0.003      7.704      0.000       0.017       0.029\n",
       "bedrooms_5                    0.0947      0.017      5.572      0.000       0.061       0.128\n",
       "zipcode_98019                -0.0335      0.003    -10.663      0.000      -0.040      -0.027\n",
       "zipcode_98028                -0.0323      0.003    -10.100      0.000      -0.039      -0.026\n",
       "bedrooms_1                    0.0617      0.007      8.947      0.000       0.048       0.075\n",
       "bedrooms_3                    0.2419      0.032      7.467      0.000       0.178       0.305\n",
       "bathrooms                     0.0413      0.005      7.707      0.000       0.031       0.052\n",
       "zipcode_98106                 0.0133      0.003      4.288      0.000       0.007       0.019\n",
       "yr_built_(1930, 1939]         0.0255      0.003      8.097      0.000       0.019       0.032\n",
       "yr_built_(1940, 1949]         0.0263      0.003      7.642      0.000       0.020       0.033\n",
       "zipcode_98075                 0.0104      0.003      3.324      0.001       0.004       0.017\n",
       "zipcode_98011                -0.0267      0.003     -8.499      0.000      -0.033      -0.021\n",
       "zipcode_98155                -0.0308      0.003     -9.256      0.000      -0.037      -0.024\n",
       "zipcode_98077                -0.0268      0.003     -8.426      0.000      -0.033      -0.021\n",
       "sqft_lot                      0.0220      0.003      6.767      0.000       0.016       0.028\n",
       "yr_built_(1920, 1929]         0.0255      0.004      7.225      0.000       0.019       0.032\n",
       "yr_built_(2010, 2020]         0.0161      0.003      5.112      0.000       0.010       0.022\n",
       "yr_built_(1910, 1919]         0.0202      0.003      6.049      0.000       0.014       0.027\n",
       "floors_1.5                   -0.0229      0.004     -6.524      0.000      -0.030      -0.016\n",
       "zipcode_98072                -0.0210      0.003     -6.554      0.000      -0.027      -0.015\n",
       "zipcode_98014                -0.0177      0.003     -5.717      0.000      -0.024      -0.012\n",
       "zipcode_98133                -0.0196      0.003     -5.873      0.000      -0.026      -0.013\n",
       "zipcode_98022                 0.0160      0.003      4.976      0.000       0.010       0.022\n",
       "zipcode_98010                 0.0139      0.003      4.598      0.000       0.008       0.020\n",
       "yr_built_(1970, 1979]        -0.0161      0.003     -4.852      0.000      -0.023      -0.010\n",
       "zipcode_98178                -0.0140      0.003     -4.586      0.000      -0.020      -0.008\n",
       "bedrooms_6                    0.0375      0.008      4.902      0.000       0.023       0.053\n",
       "yr_built_(1900, 1909]         0.0124      0.003      3.691      0.000       0.006       0.019\n",
       "zipcode_98002                 0.0120      0.003      3.903      0.000       0.006       0.018\n",
       "sqft_living15                 0.0219      0.005      4.101      0.000       0.011       0.032\n",
       "yr_renovated_(2010, 2020]     0.0116      0.003      3.854      0.000       0.006       0.018\n",
       "bedrooms_8                    0.0100      0.003      2.967      0.003       0.003       0.017\n",
       "zipcode_98058                -0.0090      0.003     -2.962      0.003      -0.015      -0.003\n",
       "zipcode_98070                -0.0093      0.003     -3.010      0.003      -0.015      -0.003\n",
       "zipcode_98065                -0.0085      0.003     -2.769      0.006      -0.015      -0.002\n",
       "yr_built_(1960, 1969]        -0.0089      0.003     -2.598      0.009      -0.016      -0.002\n",
       "==============================================================================\n",
       "Omnibus:                    20376.422   Durbin-Watson:                   1.995\n",
       "Prob(Omnibus):                  0.000   Jarque-Bera (JB):          4363973.190\n",
       "Skew:                           4.146   Prob(JB):                         0.00\n",
       "Kurtosis:                      72.892   Cond. No.                     4.58e+15\n",
       "==============================================================================\n",
       "\n",
       "Warnings:\n",
       "[1] Standard Errors assume that the covariance matrix of the errors is correctly specified.\n",
       "[2] The smallest eigenvalue is 5.45e-27. This might indicate that there are\n",
       "strong multicollinearity problems or that the design matrix is singular.\n",
       "\"\"\""
      ]
     },
     "execution_count": 28,
     "metadata": {},
     "output_type": "execute_result"
    }
   ],
   "source": [
    "import statsmodels.api as sm\n",
    "from sklearn import preprocessing\n",
    "\n",
    "# Used Scikitlearn's Standard Scaler\n",
    "    # Takes each data point, subtracts the mean of the sample, then divides by the standard deviation of the sample\n",
    "\n",
    "ss_scaler = preprocessing.StandardScaler()\n",
    "clean_house_ss = ss_scaler.fit_transform(clean_house)\n",
    "\n",
    "# Standard scaler returns a numpy array, so we converted it back to a DF\n",
    "\n",
    "clean_house_ss = pd.DataFrame(clean_house_ss, columns=list(clean_house.columns))\n",
    "\n",
    "# We generated a list of features to use using a stepwise selection function from Flatiron's learn.co lessons\n",
    "    # Finds the best p values from your features\n",
    "    # Note: The resulting list contains 79 of the original 135 features\n",
    "\n",
    "clean_house_selections_list = ['price', 'waterfront_1.0', 'sqft_living', 'zipcode_98004', 'lat', 'grade', 'zipcode_98039', 'view_0.0', 'zipcode_98112', 'zipcode_98040', 'zipcode_98105', 'condition_3', 'zipcode_98119', 'view_4.0', 'zipcode_98199', 'zipcode_98109', 'zipcode_98102', 'zipcode_98033', 'zipcode_98103', 'zipcode_98115', 'zipcode_98122', 'zipcode_98117', 'zipcode_98006', 'zipcode_98116', 'zipcode_98107', 'zipcode_98144', 'sqft_above', 'sqft_basement', 'floors_2.0', 'zipcode_98136', 'floors_3.0', 'zipcode_98005', 'yr_renovated_(2000, 2010]', 'zipcode_98126', 'bedrooms_4', 'zipcode_98029', 'zipcode_98118', 'zipcode_98008', 'view_3.0', 'condition_5', 'zipcode_98027', 'zipcode_98052', 'bedrooms_2', 'zipcode_98007', 'bedrooms_5', 'zipcode_98019', 'zipcode_98028', 'bedrooms_1', 'bedrooms_3', 'bathrooms', 'zipcode_98106', 'yr_built_(1930, 1939]', 'yr_built_(1940, 1949]', 'zipcode_98075', 'zipcode_98011', 'zipcode_98155', 'zipcode_98077', 'sqft_lot', 'yr_built_(1920, 1929]', 'yr_built_(2010, 2020]', 'yr_built_(1910, 1919]', 'floors_1.5', 'zipcode_98072', 'zipcode_98014', 'zipcode_98133', 'zipcode_98022', 'zipcode_98010', 'yr_built_(1970, 1979]', 'zipcode_98178', 'bedrooms_6', 'yr_built_(1900, 1909]', 'zipcode_98002', 'sqft_living15', 'yr_renovated_(2010, 2020]', 'bedrooms_8', 'zipcode_98058', 'zipcode_98070', 'zipcode_98065', 'yr_built_(1960, 1969]']\n",
    "print(\"The number of features used in the model is:\", len(clean_house_selections_list))\n",
    "\n",
    "# Made a new DF with just the features from our selections list\n",
    "clean_house_selections = clean_house_ss[clean_house_selections_list]\n",
    "\n",
    "# # Used statsmodels OLS so we could get a handy summary of the regression results\n",
    "target = clean_house_selections[\"price\"]\n",
    "predictors = clean_house_selections.drop([\"price\"], axis=1)\n",
    "\n",
    "predictors_int = sm.add_constant(predictors)\n",
    "model = sm.OLS(target, predictors_int).fit()\n",
    "model.summary()"
   ]
  },
  {
   "cell_type": "markdown",
   "metadata": {},
   "source": [
    "### Model Validation"
   ]
  },
  {
   "cell_type": "code",
   "execution_count": 177,
   "metadata": {},
   "outputs": [],
   "source": [
    "# We needed a special train, test, split for our altered data set\n",
    "target = clean_house_selections[\"price\"]\n",
    "predictors = clean_house_selections.drop([\"price\"], axis=1)\n",
    "\n",
    "X1_train,X1_test,y1_train,y1_test=train_test_split(predictors,target,test_size=0.2,random_state=3)\n",
    "\n",
    "from sklearn.linear_model import LinearRegression\n",
    "linreg = LinearRegression()\n",
    "linreg.fit(X1_train, y1_train)\n",
    "\n",
    "y_hat_train = linreg.predict(X1_train)\n",
    "y_hat_test = linreg.predict(X1_test)\n",
    "\n",
    "# predictors_int = sm.add_constant(X1_train)\n",
    "# model = sm.OLS(y1_train, predictors_int).fit()\n",
    "# model.summary()\n",
    "\n",
    "# model.predict(X1_train)\n"
   ]
  },
  {
   "cell_type": "code",
   "execution_count": 178,
   "metadata": {},
   "outputs": [
    {
     "name": "stdout",
     "output_type": "stream",
     "text": [
      "0.8125209264458079\n",
      "0.8059988504539424\n"
     ]
    }
   ],
   "source": [
    "from sklearn.metrics import r2_score\n",
    "\n",
    "print(r2_score(y1_train, y_hat_train))\n",
    "print(r2_score(y1_test, y_hat_test))"
   ]
  },
  {
   "cell_type": "code",
   "execution_count": 181,
   "metadata": {},
   "outputs": [
    {
     "data": {
      "text/plain": [
       "array([ 1.27643174e-01,  1.52081982e+11,  2.18822969e-01,  2.10873805e-01,\n",
       "        1.78818319e-01,  1.55415007e-01, -6.01122408e-02,  1.36977481e-01,\n",
       "        1.26140626e-01,  7.67521858e-02, -3.35788727e-02,  8.56208801e-02,\n",
       "        8.44116211e-02,  7.19585419e-02,  6.06153011e-02,  7.02047348e-02,\n",
       "        6.78505898e-02,  6.88409805e-02,  6.01840019e-02,  6.15675449e-02,\n",
       "        5.10954857e-02,  5.94900846e-02,  5.25407791e-02,  4.93001938e-02,\n",
       "        5.09954095e-02, -1.37158058e+11, -7.32635160e+10, -8.89739990e-02,\n",
       "        3.81517410e-02, -5.09977341e-02,  3.74053717e-02,  4.04899120e-02,\n",
       "        2.84709930e-02,  2.22304821e-01,  3.08794975e-02,  2.63133049e-02,\n",
       "        3.00521851e-02,  3.66535187e-02,  2.93531418e-02,  2.70595551e-02,\n",
       "        1.96321011e-02,  2.10474014e-01,  2.41613388e-02,  1.11457825e-01,\n",
       "       -3.26247215e-02, -3.38352919e-02,  6.71615601e-02,  2.84205437e-01,\n",
       "        4.32243347e-02,  1.27162933e-02,  2.90718079e-02,  2.73823738e-02,\n",
       "        1.17168427e-02, -2.61116028e-02, -3.42326164e-02, -2.54831314e-02,\n",
       "        1.97610855e-02,  2.58522034e-02,  1.77192688e-02,  2.03254223e-02,\n",
       "       -2.29148865e-02, -2.19449997e-02, -1.51081085e-02, -2.04706192e-02,\n",
       "        1.79042816e-02,  1.34029388e-02, -1.76775455e-02, -1.42583847e-02,\n",
       "        4.90036011e-02,  1.19528770e-02,  1.29392147e-02,  2.39028931e-02,\n",
       "        1.08880997e-02,  1.35164261e-02, -8.83674622e-03, -7.45010376e-03,\n",
       "       -1.02643967e-02, -8.62550735e-03])"
      ]
     },
     "execution_count": 181,
     "metadata": {},
     "output_type": "execute_result"
    }
   ],
   "source": [
    "linreg.coef_"
   ]
  },
  {
   "cell_type": "code",
   "execution_count": 182,
   "metadata": {},
   "outputs": [
    {
     "name": "stdout",
     "output_type": "stream",
     "text": [
      "waterfront_1.0 0.12764317425871036\n",
      "sqft_living 152081982001.27536\n",
      "zipcode_98004 0.21882296901494322\n",
      "lat 0.21087380468786113\n",
      "grade 0.17881831851983734\n",
      "zipcode_98039 0.15541500741277253\n",
      "view_0.0 -0.06011224076703965\n",
      "zipcode_98112 0.13697748079047065\n",
      "zipcode_98040 0.12614062628579278\n",
      "zipcode_98105 0.07675218582154494\n",
      "condition_3 -0.033578872680663875\n",
      "zipcode_98119 0.08562088012696674\n",
      "view_4.0 0.08441162109373475\n",
      "zipcode_98199 0.0719585418701187\n",
      "zipcode_98109 0.060615301132197465\n",
      "zipcode_98102 0.07020473480225091\n",
      "zipcode_98033 0.06785058975218555\n",
      "zipcode_98103 0.06884098052979802\n",
      "zipcode_98115 0.06018400192259406\n",
      "zipcode_98122 0.06156754493713499\n",
      "zipcode_98117 0.051095485687257275\n",
      "zipcode_98006 0.05949008464812183\n",
      "zipcode_98116 0.052540779113771564\n",
      "zipcode_98107 0.04930019378661292\n",
      "zipcode_98144 0.05099540948867346\n",
      "sqft_above -137158057707.55954\n",
      "sqft_basement -73263516041.15254\n",
      "floors_2.0 -0.0889739990234375\n",
      "zipcode_98136 0.03815174102783735\n",
      "floors_3.0 -0.050997734069823164\n",
      "zipcode_98005 0.03740537166594929\n",
      "yr_renovated_(2000, 2010] 0.04048991203308558\n",
      "zipcode_98126 0.028470993041985734\n",
      "bedrooms_4 0.222304821014424\n",
      "zipcode_98029 0.03087949752807547\n",
      "zipcode_98118 0.02631330490112401\n",
      "zipcode_98008 0.03005218505858874\n",
      "view_3.0 0.03665351867676253\n",
      "condition_5 0.029353141784664066\n",
      "zipcode_98027 0.027059555053711652\n",
      "zipcode_98052 0.019632101058955163\n",
      "bedrooms_2 0.21047401428224535\n",
      "zipcode_98007 0.024161338806154325\n",
      "bedrooms_5 0.1114578247070562\n",
      "zipcode_98019 -0.032624721527096986\n",
      "zipcode_98028 -0.03383529186249\n",
      "bedrooms_1 0.06716156005858656\n",
      "bedrooms_3 0.284205436706505\n",
      "bathrooms 0.04322433471679304\n",
      "zipcode_98106 0.012716293334960918\n",
      "yr_built_(1930, 1939] 0.029071807861332077\n",
      "yr_built_(1940, 1949] 0.027382373809819165\n",
      "zipcode_98075 0.011716842651365343\n",
      "zipcode_98011 -0.02611160278320457\n",
      "zipcode_98155 -0.034232616424567715\n",
      "zipcode_98077 -0.02548313140869336\n",
      "sqft_lot 0.0197610855102537\n",
      "yr_built_(1920, 1929] 0.02585220336914202\n",
      "yr_built_(2010, 2020] 0.017719268798827938\n",
      "yr_built_(1910, 1919] 0.02032542228698532\n",
      "floors_1.5 -0.02291488647461574\n",
      "zipcode_98072 -0.021944999694828146\n",
      "zipcode_98014 -0.015108108520506732\n",
      "zipcode_98133 -0.020470619201664125\n",
      "zipcode_98022 0.01790428161621293\n",
      "zipcode_98010 0.01340293884277389\n",
      "yr_built_(1970, 1979] -0.017677545547484713\n",
      "zipcode_98178 -0.01425838470459099\n",
      "bedrooms_6 0.04900360107420783\n",
      "yr_built_(1900, 1909] 0.011952877044675595\n",
      "zipcode_98002 0.012939214706420697\n",
      "sqft_living15 0.023902893066405837\n",
      "yr_renovated_(2010, 2020] 0.010888099670411122\n",
      "bedrooms_8 0.01351642608642523\n",
      "zipcode_98058 -0.008836746215820038\n",
      "zipcode_98070 -0.0074501037597643925\n",
      "zipcode_98065 -0.01026439666748076\n",
      "yr_built_(1960, 1969] -0.008625507354734005\n"
     ]
    }
   ],
   "source": [
    " # convert standardized coefficients to unstandardized\n",
    "\n",
    "# for ind, val in enumerate(model.params):\n",
    "#     print(predictors.loc[ind], val * (target.std()/predictors.loc[ind].std()))\n",
    "\n",
    "for ind, val in enumerate(linreg.coef_):\n",
    "        print(list(predictors.columns)[ind], (val * ((target.std())/(predictors.iloc[:,ind].std()))))"
   ]
  },
  {
   "cell_type": "code",
   "execution_count": 183,
   "metadata": {},
   "outputs": [
    {
     "name": "stdout",
     "output_type": "stream",
     "text": [
      "Train Root Mean Squared Error: 0.43609773337921043\n",
      "Test Root Mean Squared Error: 0.42756431725017735\n"
     ]
    }
   ],
   "source": [
    "# Check the mean squared error\n",
    "\n",
    "from math import sqrt\n",
    "\n",
    "mse_train = sqrt(np.sum((y1_train-y_hat_train)**2)/len(y_train))\n",
    "mse_test = sqrt(np.sum((y1_test-y_hat_test)**2)/len(y_test))\n",
    "print('Train Root Mean Squared Error:', mse_train)\n",
    "print('Test Root Mean Squared Error:', mse_test)"
   ]
  },
  {
   "cell_type": "code",
   "execution_count": 184,
   "metadata": {},
   "outputs": [
    {
     "name": "stdout",
     "output_type": "stream",
     "text": [
      "0.26022572635218943\n",
      "0.2599615881998187\n"
     ]
    }
   ],
   "source": [
    "# Mean absolute error\n",
    "\n",
    "print(mean_absolute_error(y1_train, y_hat_train))\n",
    "print(mean_absolute_error(y1_test, y_hat_test))"
   ]
  },
  {
   "cell_type": "code",
   "execution_count": 185,
   "metadata": {},
   "outputs": [],
   "source": [
    "# Cross validation scores\n",
    "    # Took the mean cv score because cross_val_score returns a score for each fold\n",
    "\n",
    "from sklearn.metrics import mean_squared_error\n",
    "from sklearn.metrics import mean_absolute_error\n",
    "from sklearn.model_selection import cross_val_score\n",
    "\n",
    "cv_5_results = np.mean(cross_val_score(linreg, X, y, cv=5, scoring=\"neg_mean_squared_error\"))\n",
    "cv_10_results = np.mean(cross_val_score(linreg, X, y, cv=10, scoring=\"neg_mean_squared_error\"))\n",
    "cv_20_results = np.mean(cross_val_score(linreg, X, y, cv=20, scoring=\"neg_mean_squared_error\"))"
   ]
  },
  {
   "cell_type": "code",
   "execution_count": 186,
   "metadata": {},
   "outputs": [
    {
     "name": "stdout",
     "output_type": "stream",
     "text": [
      "-36000388037.17259\n",
      "-3460842866955.49\n",
      "-126057102063.8781\n"
     ]
    }
   ],
   "source": [
    "print(cv_5_results)\n",
    "print(cv_10_results)\n",
    "print(cv_20_results)"
   ]
  },
  {
   "cell_type": "markdown",
   "metadata": {},
   "source": [
    "### Regression 2: Lasso"
   ]
  },
  {
   "cell_type": "code",
   "execution_count": 187,
   "metadata": {},
   "outputs": [],
   "source": [
    "from sklearn.linear_model import Lasso"
   ]
  },
  {
   "cell_type": "code",
   "execution_count": 188,
   "metadata": {},
   "outputs": [
    {
     "data": {
      "text/plain": [
       "Lasso(alpha=1.0, copy_X=True, fit_intercept=True, max_iter=1000,\n",
       "   normalize=False, positive=False, precompute=False, random_state=None,\n",
       "   selection='cyclic', tol=0.0001, warm_start=False)"
      ]
     },
     "execution_count": 188,
     "metadata": {},
     "output_type": "execute_result"
    }
   ],
   "source": [
    "# Lasso Regression\n",
    "    # Lasso helps prevent overfitting by reducing the influence of some of the predictors by penalizing their coefficients or reducing them to zero (effectively doing predictor selection)\n",
    "\n",
    "lasso = Lasso()\n",
    "lasso.fit(X_train, y_train)"
   ]
  },
  {
   "cell_type": "code",
   "execution_count": 189,
   "metadata": {},
   "outputs": [],
   "source": [
    "# Checking the training/test scores (R2) of our model \n",
    "\n",
    "train_score=lasso.score(X_train,y_train)\n",
    "test_score=lasso.score(X_test,y_test)"
   ]
  },
  {
   "cell_type": "code",
   "execution_count": 190,
   "metadata": {},
   "outputs": [
    {
     "name": "stdout",
     "output_type": "stream",
     "text": [
      "training score: 0.8136391869874172\n",
      "test score:  0.8069445302396594\n"
     ]
    }
   ],
   "source": [
    "print(\"training score:\", train_score)\n",
    "print(\"test score: \", test_score)"
   ]
  },
  {
   "cell_type": "code",
   "execution_count": 191,
   "metadata": {},
   "outputs": [
    {
     "name": "stdout",
     "output_type": "stream",
     "text": [
      "number of features used: 129\n",
      "number eliminated: 5\n"
     ]
    }
   ],
   "source": [
    "# Checking to see how many features were used and how many were axed\n",
    "\n",
    "coeff_used = np.sum(lasso.coef_!=0)\n",
    "print(\"number of features used:\", coeff_used)\n",
    "print(\"number eliminated:\", len(list(clean_house.columns)) - coeff_used)"
   ]
  },
  {
   "cell_type": "code",
   "execution_count": 192,
   "metadata": {},
   "outputs": [
    {
     "name": "stdout",
     "output_type": "stream",
     "text": [
      "Train Root Mean Squarred Error: 160033.48186579844\n",
      "Test Root Mean Squarred Error: 156988.00967939573\n"
     ]
    }
   ],
   "source": [
    "# Mean Squared Error\n",
    "\n",
    "y_hat_train = lasso.predict(X_train)\n",
    "y_hat_test = lasso.predict(X_test)\n",
    "\n",
    "mse_train = sqrt(np.sum((y_train-y_hat_train)**2)/len(y_train))\n",
    "mse_test = sqrt(np.sum((y_test-y_hat_test)**2)/len(y_test))\n",
    "print('Train Root Mean Squarred Error:', mse_train)\n",
    "print('Test Root Mean Squarred Error:', mse_test)"
   ]
  },
  {
   "cell_type": "code",
   "execution_count": 193,
   "metadata": {},
   "outputs": [
    {
     "data": {
      "text/plain": [
       "544216.838030465"
      ]
     },
     "execution_count": 193,
     "metadata": {},
     "output_type": "execute_result"
    }
   ],
   "source": [
    "# Mean absolute error\n",
    "\n",
    "mae = mean_absolute_error(y_hat_test, y1_test)\n",
    "mae"
   ]
  },
  {
   "cell_type": "code",
   "execution_count": 194,
   "metadata": {},
   "outputs": [],
   "source": [
    "# Cross Validation\n",
    "\n",
    "cv_5_results = np.mean(cross_val_score(lasso, X, y, cv=5, scoring=\"neg_mean_squared_error\"))\n",
    "cv_10_results = np.mean(cross_val_score(lasso, X, y, cv=10, scoring=\"neg_mean_squared_error\"))\n",
    "cv_20_results = np.mean(cross_val_score(lasso, X, y, cv=20, scoring=\"neg_mean_squared_error\"))"
   ]
  },
  {
   "cell_type": "code",
   "execution_count": 195,
   "metadata": {},
   "outputs": [
    {
     "name": "stdout",
     "output_type": "stream",
     "text": [
      "-26203816865.915962\n",
      "-26122960477.60771\n",
      "-25962216612.195366\n"
     ]
    }
   ],
   "source": [
    "print(cv_5_results)\n",
    "print(cv_10_results)\n",
    "print(cv_20_results)"
   ]
  },
  {
   "cell_type": "code",
   "execution_count": 196,
   "metadata": {},
   "outputs": [
    {
     "name": "stdout",
     "output_type": "stream",
     "text": [
      "bathrooms 20576.64470432306\n",
      "sqft_living 246.57896528317033\n",
      "sqft_lot 0.2156348677902889\n",
      "grade 55919.18177448795\n",
      "sqft_above -37.72427184322255\n",
      "sqft_basement -114.22604044666072\n",
      "lat 263478.5566217207\n",
      "long -176399.08838326155\n",
      "sqft_living15 13.30150515347995\n",
      "sqft_lot15 -0.10995235248684124\n",
      "waterfront_0.0 4534.475296178721\n",
      "waterfront_1.0 577265.9298961193\n",
      "view_0.0 -71321.0657851416\n",
      "view_1.0 4278.430582188568\n",
      "view_2.0 1607.4039619812659\n",
      "view_3.0 91224.83783165965\n",
      "view_4.0 257733.14195529322\n",
      "floors_1.0 57395.25296130182\n",
      "floors_1.5 27577.812217750452\n",
      "floors_2.0 -10028.332133930036\n",
      "floors_2.5 64776.84981088967\n",
      "floors_3.0 -53129.69455685694\n",
      "floors_3.5 76132.12561648565\n",
      "bedrooms_1 87941.96079600413\n",
      "bedrooms_2 58125.940332100814\n",
      "bedrooms_3 34453.317311733925\n",
      "bedrooms_4 3.1833108165377886\n",
      "bedrooms_5 -19123.461246494746\n",
      "bedrooms_6 -13389.822779437198\n",
      "bedrooms_7 -164557.16333545296\n",
      "bedrooms_8 25699.73598016449\n",
      "bedrooms_9 -233116.6536711736\n",
      "bedrooms_10 -311272.1848758644\n",
      "bedrooms_11 -88564.28594945547\n",
      "bedrooms_33 29689.644441447417\n",
      "condition_1 -59683.65137924672\n",
      "condition_2 -5801.088486259642\n",
      "condition_3 -25552.403757447606\n",
      "condition_4 417.9495027214803\n",
      "condition_5 39826.05783228654\n",
      "zipcode_98001 -110632.41612537722\n",
      "zipcode_98002 -71905.73501287751\n",
      "zipcode_98003 -127122.61758872152\n",
      "zipcode_98004 637006.8038632259\n",
      "zipcode_98005 131837.2110669166\n",
      "zipcode_98006 111126.20346240526\n",
      "zipcode_98007 89772.41442354306\n",
      "zipcode_98008 83137.13100609124\n",
      "zipcode_98010 -3247.834351200074\n",
      "zipcode_98011 -87964.11890711983\n",
      "zipcode_98014 -19010.145175640166\n",
      "zipcode_98019 -73859.89862168924\n",
      "zipcode_98022 -47033.41171239079\n",
      "zipcode_98023 -156807.57058818446\n",
      "zipcode_98024 43704.114993743526\n",
      "zipcode_98027 46567.18506005206\n",
      "zipcode_98028 -103454.57446060004\n",
      "zipcode_98029 85434.74064673223\n",
      "zipcode_98030 -106482.1774897549\n",
      "zipcode_98031 -101668.11999160777\n",
      "zipcode_98032 -117660.60731343488\n",
      "zipcode_98033 171602.60035499424\n",
      "zipcode_98034 4053.3898879741673\n",
      "zipcode_98038 -53205.182441351055\n",
      "zipcode_98039 1159739.8130433362\n",
      "zipcode_98040 358259.6450589686\n",
      "zipcode_98042 -91595.38987737076\n",
      "zipcode_98045 18379.602729989958\n",
      "zipcode_98052 50800.7820545558\n",
      "zipcode_98053 17396.80804350689\n",
      "zipcode_98055 -93987.11100960847\n",
      "zipcode_98056 -52797.3285654392\n",
      "zipcode_98058 -91285.90947266704\n",
      "zipcode_98059 -56518.543156342086\n",
      "zipcode_98065 -22716.980046836714\n",
      "zipcode_98070 -166916.12968556816\n",
      "zipcode_98072 -47418.97149769681\n",
      "zipcode_98074 18462.06958830467\n",
      "zipcode_98075 29148.426519432724\n",
      "zipcode_98077 -60479.593553893006\n",
      "zipcode_98092 -133302.47363359065\n",
      "zipcode_98102 330626.1840369836\n",
      "zipcode_98103 116834.05707180899\n",
      "zipcode_98105 244343.16378942\n",
      "zipcode_98106 -41283.7199381778\n",
      "zipcode_98107 120107.89440412137\n",
      "zipcode_98108 -56789.539679865724\n",
      "zipcode_98109 268172.72875519725\n",
      "zipcode_98112 413371.82703455305\n",
      "zipcode_98115 110575.4552144633\n",
      "zipcode_98116 83189.93421229256\n",
      "zipcode_98117 79985.38140681613\n",
      "zipcode_98118 1274.3698581765218\n",
      "zipcode_98119 295224.2197315354\n",
      "zipcode_98122 148195.66771729922\n",
      "zipcode_98125 -19494.780885909786\n",
      "zipcode_98126 3152.1040143505875\n",
      "zipcode_98133 -67661.5870760194\n",
      "zipcode_98136 44657.09164037029\n",
      "zipcode_98144 95549.66575948037\n",
      "zipcode_98146 -72008.47172062697\n",
      "zipcode_98148 -68585.37113506057\n",
      "zipcode_98155 -92971.88144112917\n",
      "zipcode_98166 -106191.53431517037\n",
      "zipcode_98168 -91479.4641933697\n",
      "zipcode_98177 -16678.87608481948\n",
      "zipcode_98178 -118333.30468448412\n",
      "zipcode_98188 -101720.14693863105\n",
      "zipcode_98198 -139283.01389818842\n",
      "zipcode_98199 164825.04464888806\n",
      "yr_built_(1900, 1909] 14942.411582323348\n",
      "yr_built_(1910, 1919] 31561.963479097394\n",
      "yr_built_(1920, 1929] 33265.16892790122\n",
      "yr_built_(1930, 1939] 65505.49291896664\n",
      "yr_built_(1940, 1949] 25433.445912872452\n",
      "yr_built_(1950, 1959] -15817.369155430706\n",
      "yr_built_(1960, 1969] -20378.836096041356\n",
      "yr_built_(1970, 1979] -33564.20888899712\n",
      "yr_built_(1980, 1989] -13883.395843036718\n",
      "yr_built_(1990, 1999] -11479.15220427611\n",
      "yr_built_(2000, 2010] -16114.669117677067\n",
      "yr_built_(2010, 2020] 16090.262670512191\n",
      "yr_renovated_(1900, 1909] 0.0\n",
      "yr_renovated_(1910, 1919] 0.0\n",
      "yr_renovated_(1920, 1929] 0.0\n",
      "yr_renovated_(1930, 1939] 0.0\n",
      "yr_renovated_(1940, 1949] -0.0\n",
      "yr_renovated_(1950, 1959] -60017.317861027084\n",
      "yr_renovated_(1960, 1969] -54113.012679426094\n",
      "yr_renovated_(1970, 1979] -9552.415567818774\n",
      "yr_renovated_(1980, 1989] 22644.374160516054\n",
      "yr_renovated_(1990, 1999] 32600.411638549307\n",
      "yr_renovated_(2000, 2010] 150257.6297727143\n",
      "yr_renovated_(2010, 2020] 49800.951578409935\n"
     ]
    }
   ],
   "source": [
    "\n",
    "for ind, val in enumerate(lasso.coef_):\n",
    "    print(list(X.columns)[ind], val) "
   ]
  },
  {
   "cell_type": "markdown",
   "metadata": {},
   "source": [
    "### Regression 3: Ridge"
   ]
  },
  {
   "cell_type": "code",
   "execution_count": 136,
   "metadata": {},
   "outputs": [],
   "source": [
    "from sklearn.linear_model import Ridge"
   ]
  },
  {
   "cell_type": "code",
   "execution_count": 137,
   "metadata": {},
   "outputs": [
    {
     "data": {
      "text/plain": [
       "Ridge(alpha=1.0, copy_X=True, fit_intercept=True, max_iter=None,\n",
       "   normalize=False, random_state=None, solver='auto', tol=0.001)"
      ]
     },
     "execution_count": 137,
     "metadata": {},
     "output_type": "execute_result"
    }
   ],
   "source": [
    "# An important difference between Lasso and Ridge is that Ridge doesn't reduce any features' coefficient to 0 (though they can get very, very small)\n",
    "\n",
    "ridge = Ridge()\n",
    "ridge.fit(X_train, y_train)"
   ]
  },
  {
   "cell_type": "code",
   "execution_count": 138,
   "metadata": {},
   "outputs": [],
   "source": [
    "# Getting the scores\n",
    "\n",
    "rtrain_score=ridge.score(X_train,y_train)\n",
    "rtest_score=ridge.score(X_test,y_test)"
   ]
  },
  {
   "cell_type": "code",
   "execution_count": 139,
   "metadata": {},
   "outputs": [
    {
     "name": "stdout",
     "output_type": "stream",
     "text": [
      "training score: 0.8136008450949628\n",
      "test score:  0.80715057788118\n"
     ]
    }
   ],
   "source": [
    "print(\"training score:\", rtrain_score)\n",
    "print(\"test score: \", rtest_score)"
   ]
  },
  {
   "cell_type": "code",
   "execution_count": 140,
   "metadata": {},
   "outputs": [
    {
     "name": "stdout",
     "output_type": "stream",
     "text": [
      "Train Root Mean Squarred Error: 160049.94367147383\n",
      "Test Root Mean Squarred Error: 156904.21085006962\n"
     ]
    }
   ],
   "source": [
    "# Mean Squared Error\n",
    "\n",
    "y_hat_train = ridge.predict(X_train)\n",
    "y_hat_test = ridge.predict(X_test)\n",
    "\n",
    "mse_train = sqrt(np.sum((y_train-y_hat_train)**2)/len(y_train))\n",
    "mse_test = sqrt(np.sum((y_test-y_hat_test)**2)/len(y_test))\n",
    "print('Train Root Mean Squarred Error:', mse_train)\n",
    "print('Test Root Mean Squarred Error:', mse_test)"
   ]
  },
  {
   "cell_type": "code",
   "execution_count": 141,
   "metadata": {},
   "outputs": [
    {
     "data": {
      "text/plain": [
       "544201.3174486278"
      ]
     },
     "execution_count": 141,
     "metadata": {},
     "output_type": "execute_result"
    }
   ],
   "source": [
    "# Mean absolute error\n",
    "\n",
    "mse = mean_absolute_error(y_hat_test, y1_test)\n",
    "mse"
   ]
  },
  {
   "cell_type": "code",
   "execution_count": 142,
   "metadata": {},
   "outputs": [],
   "source": [
    "# Cross Validation\n",
    "\n",
    "cv_5_results = np.mean(cross_val_score(ridge, X, y, cv=5, scoring=\"neg_mean_squared_error\"))\n",
    "cv_10_results = np.mean(cross_val_score(ridge, X, y, cv=10, scoring=\"neg_mean_squared_error\"))\n",
    "cv_20_results = np.mean(cross_val_score(ridge, X, y, cv=20, scoring=\"neg_mean_squared_error\"))"
   ]
  },
  {
   "cell_type": "code",
   "execution_count": 143,
   "metadata": {},
   "outputs": [
    {
     "name": "stdout",
     "output_type": "stream",
     "text": [
      "-26192705525.218136\n",
      "-26113909169.27703\n",
      "-25955490873.20748\n"
     ]
    }
   ],
   "source": [
    "print(cv_5_results)\n",
    "print(cv_10_results)\n",
    "print(cv_20_results)"
   ]
  },
  {
   "cell_type": "code",
   "execution_count": 146,
   "metadata": {},
   "outputs": [
    {
     "name": "stdout",
     "output_type": "stream",
     "text": [
      "bathrooms 20645.240308053115\n",
      "sqft_living 113.68119809913051\n",
      "sqft_lot 0.21383672047948665\n",
      "grade 56346.1496849234\n",
      "sqft_above 94.92928994000084\n",
      "sqft_basement 18.75585356002015\n",
      "lat 306546.063938398\n",
      "long -172995.89865972966\n",
      "sqft_living15 13.603555478754759\n",
      "sqft_lot15 -0.11356059052918564\n",
      "waterfront_0.0 4217.688799187426\n",
      "waterfront_1.0 570823.9778817579\n",
      "view_0.0 -75874.81332346423\n",
      "view_1.0 149.33368284135608\n",
      "view_2.0 -3176.5374329974084\n",
      "view_3.0 86304.63239931272\n",
      "view_4.0 254120.45007308022\n",
      "floors_1.0 30474.051185736116\n",
      "floors_1.5 809.938299763196\n",
      "floors_2.0 -36722.366225963524\n",
      "floors_2.5 37968.67828656634\n",
      "floors_3.0 -78914.53447813322\n",
      "floors_3.5 46384.232933097635\n",
      "bedrooms_1 128861.52592821856\n",
      "bedrooms_2 99603.53763032352\n",
      "bedrooms_3 75807.9078156232\n",
      "bedrooms_4 41275.96119859125\n",
      "bedrooms_5 22406.452422001872\n",
      "bedrooms_6 27876.82213166577\n",
      "bedrooms_7 -119032.25544788536\n",
      "bedrooms_8 64181.40781197446\n",
      "bedrooms_9 -147008.53785474095\n",
      "bedrooms_10 -205073.66834276923\n",
      "bedrooms_11 -32729.101583405973\n",
      "bedrooms_33 43829.94828906339\n",
      "condition_1 -48091.16982338314\n",
      "condition_2 3874.329381239676\n",
      "condition_3 -15821.116509437777\n",
      "condition_4 10342.503314674344\n",
      "condition_5 49695.45363684488\n",
      "zipcode_98001 -135781.59745306987\n",
      "zipcode_98002 -97013.986822267\n",
      "zipcode_98003 -152315.55238077845\n",
      "zipcode_98004 594485.750415511\n",
      "zipcode_98005 91636.14041200318\n",
      "zipcode_98006 73299.25122761601\n",
      "zipcode_98007 50011.54162783424\n",
      "zipcode_98008 43570.60643527726\n",
      "zipcode_98010 -30367.778720226033\n",
      "zipcode_98011 -132468.23577600173\n",
      "zipcode_98014 -60545.16060961087\n",
      "zipcode_98019 -118021.97365973025\n",
      "zipcode_98022 -68622.94857308522\n",
      "zipcode_98023 -181750.80905086984\n",
      "zipcode_98024 6606.159397893562\n",
      "zipcode_98027 10695.877477337839\n",
      "zipcode_98028 -147869.6146342792\n",
      "zipcode_98029 47774.41968751201\n",
      "zipcode_98030 -134262.24371042356\n",
      "zipcode_98031 -131042.4913086813\n",
      "zipcode_98032 -144840.12362975592\n",
      "zipcode_98033 129046.10385770597\n",
      "zipcode_98034 -39356.77776902975\n",
      "zipcode_98038 -81984.26556801477\n",
      "zipcode_98039 1090755.733106784\n",
      "zipcode_98040 319393.8709654605\n",
      "zipcode_98042 -119869.84677089684\n",
      "zipcode_98045 -15509.758472597847\n",
      "zipcode_98052 8395.393273879019\n",
      "zipcode_98053 -24991.840340568215\n",
      "zipcode_98055 -125781.95898129295\n",
      "zipcode_98056 -87229.10770557632\n",
      "zipcode_98058 -122986.91147344858\n",
      "zipcode_98059 -90407.21312824433\n",
      "zipcode_98065 -59274.21723212263\n",
      "zipcode_98070 -193577.0111842526\n",
      "zipcode_98072 -92408.68138252149\n",
      "zipcode_98074 -21775.658673205107\n",
      "zipcode_98075 -9679.181634212106\n",
      "zipcode_98077 -105387.24222668413\n",
      "zipcode_98092 -158399.75641645273\n",
      "zipcode_98102 286635.5969960842\n",
      "zipcode_98103 74902.8847886507\n",
      "zipcode_98105 200825.57920677974\n",
      "zipcode_98106 -76207.78950960396\n",
      "zipcode_98107 78435.31195446049\n",
      "zipcode_98108 -92313.2876004098\n",
      "zipcode_98109 225491.23199234376\n",
      "zipcode_98112 371146.80042685464\n",
      "zipcode_98115 68161.0140099928\n",
      "zipcode_98116 45856.36996913769\n",
      "zipcode_98117 37864.52670986512\n",
      "zipcode_98118 -34606.771535335305\n",
      "zipcode_98119 253073.74215581315\n",
      "zipcode_98122 108586.97510099766\n",
      "zipcode_98125 -62706.810489609736\n",
      "zipcode_98126 -32342.629736983625\n",
      "zipcode_98133 -111430.5174157196\n",
      "zipcode_98136 9206.82554458653\n",
      "zipcode_98144 57336.03046149044\n",
      "zipcode_98146 -105278.7781087258\n",
      "zipcode_98148 -97464.96771413519\n",
      "zipcode_98155 -137527.71048318633\n",
      "zipcode_98166 -137248.3481964705\n",
      "zipcode_98168 -124222.54703119081\n",
      "zipcode_98177 -61031.00764258558\n",
      "zipcode_98178 -151486.17589431853\n",
      "zipcode_98188 -132174.09897615836\n",
      "zipcode_98198 -167482.5698666099\n",
      "zipcode_98199 123852.21828691474\n",
      "yr_built_(1900, 1909] 16027.607921666824\n",
      "yr_built_(1910, 1919] 31887.09884851922\n",
      "yr_built_(1920, 1929] 33810.3056448802\n",
      "yr_built_(1930, 1939] 65541.44252347901\n",
      "yr_built_(1940, 1949] 25832.157560698688\n",
      "yr_built_(1950, 1959] -15654.922530524742\n",
      "yr_built_(1960, 1969] -20562.574324901543\n",
      "yr_built_(1970, 1979] -33863.67754240064\n",
      "yr_built_(1980, 1989] -14390.518058235224\n",
      "yr_built_(1990, 1999] -12193.758935834032\n",
      "yr_built_(2000, 2010] -16681.35067476986\n",
      "yr_built_(2010, 2020] 15420.487508437245\n",
      "yr_renovated_(1900, 1909] 0.0\n",
      "yr_renovated_(1910, 1919] 0.0\n",
      "yr_renovated_(1920, 1929] 0.0\n",
      "yr_renovated_(1930, 1939] 0.0\n",
      "yr_renovated_(1940, 1949] -1685.1084478491732\n",
      "yr_renovated_(1950, 1959] -53570.79411521503\n",
      "yr_renovated_(1960, 1969] -52498.830852355226\n",
      "yr_renovated_(1970, 1979] -10197.343151765874\n",
      "yr_renovated_(1980, 1989] 22965.191951084347\n",
      "yr_renovated_(1990, 1999] 32615.763581605195\n",
      "yr_renovated_(2000, 2010] 149660.75704827983\n",
      "yr_renovated_(2010, 2020] 49519.40486150049\n"
     ]
    }
   ],
   "source": [
    "for ind, val in enumerate(ridge.coef_):\n",
    "    print(list(X.columns)[ind], val)"
   ]
  },
  {
   "cell_type": "markdown",
   "metadata": {},
   "source": [
    "### Try Gridsearch for best alpha"
   ]
  },
  {
   "cell_type": "code",
   "execution_count": 176,
   "metadata": {},
   "outputs": [],
   "source": [
    "from sklearn.model_selection import GridSearchCV"
   ]
  },
  {
   "cell_type": "code",
   "execution_count": 177,
   "metadata": {},
   "outputs": [],
   "source": [
    "param = {'alpha': [1, 5, 10, 20, 25, 30, 35]}"
   ]
  },
  {
   "cell_type": "code",
   "execution_count": 178,
   "metadata": {},
   "outputs": [
    {
     "name": "stdout",
     "output_type": "stream",
     "text": [
      "Best parameters: {'alpha': 20}\n",
      "Best score: -26113231427.35375\n"
     ]
    }
   ],
   "source": [
    "lasso_regressor = GridSearchCV(lasso, param, scoring='neg_mean_squared_error', cv=10)\n",
    "lasso_regressor.fit(X, y)\n",
    "\n",
    "print('Best parameters:', lasso_regressor.best_params_)\n",
    "print('Best score:', lasso_regressor.best_score_)"
   ]
  },
  {
   "cell_type": "code",
   "execution_count": 147,
   "metadata": {},
   "outputs": [
    {
     "data": {
      "text/plain": [
       "Lasso(alpha=20, copy_X=True, fit_intercept=True, max_iter=1000,\n",
       "   normalize=False, positive=False, precompute=False, random_state=None,\n",
       "   selection='cyclic', tol=0.0001, warm_start=False)"
      ]
     },
     "execution_count": 147,
     "metadata": {},
     "output_type": "execute_result"
    }
   ],
   "source": [
    "lasso = Lasso(alpha = 20)\n",
    "lasso.fit(X_train, y_train)"
   ]
  },
  {
   "cell_type": "code",
   "execution_count": 180,
   "metadata": {},
   "outputs": [],
   "source": [
    "train_score=lasso.score(X_train,y_train)\n",
    "test_score=lasso.score(X_test,y_test)"
   ]
  },
  {
   "cell_type": "code",
   "execution_count": 181,
   "metadata": {},
   "outputs": [
    {
     "name": "stdout",
     "output_type": "stream",
     "text": [
      "training score: 0.8134989690934248\n",
      "test score:  0.8068284942439361\n"
     ]
    }
   ],
   "source": [
    "print(\"training score:\", train_score)\n",
    "print(\"test score: \", test_score)"
   ]
  },
  {
   "cell_type": "code",
   "execution_count": 182,
   "metadata": {},
   "outputs": [
    {
     "name": "stdout",
     "output_type": "stream",
     "text": [
      "number of features used: 123\n",
      "number eliminated: 12\n"
     ]
    }
   ],
   "source": [
    "coeff_used = np.sum(lasso.coef_!=0)\n",
    "print(\"number of features used:\", coeff_used)\n",
    "print(\"number eliminated:\", len(list(clean_house.columns)) - coeff_used)"
   ]
  },
  {
   "cell_type": "code",
   "execution_count": 183,
   "metadata": {},
   "outputs": [
    {
     "name": "stdout",
     "output_type": "stream",
     "text": [
      "Train Mean Squared Error: 160093.67514929673\n",
      "Test Mean Squared Error: 157035.18141621255\n"
     ]
    }
   ],
   "source": [
    "# Mean Squared Error\n",
    "y_hat_train = lasso.predict(X_train)\n",
    "y_hat_test = lasso.predict(X_test)\n",
    "\n",
    "mse_train = sqrt(np.sum((y_train-y_hat_train)**2)/len(y_train))\n",
    "mse_test = sqrt(np.sum((y_test-y_hat_test)**2)/len(y_test))\n",
    "print('Train Mean Squared Error:', mse_train)\n",
    "print('Test Mean Squared Error:', mse_test)"
   ]
  },
  {
   "cell_type": "code",
   "execution_count": 184,
   "metadata": {},
   "outputs": [
    {
     "data": {
      "text/plain": [
       "544243.4361244787"
      ]
     },
     "execution_count": 184,
     "metadata": {},
     "output_type": "execute_result"
    }
   ],
   "source": [
    "# Mean absolute error\n",
    "\n",
    "mse = mean_absolute_error(y_hat_test, y1_test)\n",
    "mse"
   ]
  },
  {
   "cell_type": "code",
   "execution_count": 185,
   "metadata": {},
   "outputs": [],
   "source": [
    "# Cross Validation\n",
    "\n",
    "cv_5_results = np.mean(cross_val_score(lasso, X, y, cv=5, scoring=\"neg_mean_squared_error\"))\n",
    "cv_10_results = np.mean(cross_val_score(lasso, X, y, cv=10, scoring=\"neg_mean_squared_error\"))\n",
    "cv_20_results = np.mean(cross_val_score(lasso, X, y, cv=20, scoring=\"neg_mean_squared_error\"))"
   ]
  },
  {
   "cell_type": "code",
   "execution_count": 186,
   "metadata": {},
   "outputs": [
    {
     "name": "stdout",
     "output_type": "stream",
     "text": [
      "-26199746025.946964\n",
      "-26113016000.716778\n",
      "-25954632087.912758\n"
     ]
    }
   ],
   "source": [
    "print(cv_5_results)\n",
    "print(cv_10_results)\n",
    "print(cv_20_results)"
   ]
  },
  {
   "cell_type": "code",
   "execution_count": 149,
   "metadata": {},
   "outputs": [
    {
     "name": "stdout",
     "output_type": "stream",
     "text": [
      "bathrooms 20242.194637827975\n",
      "sqft_living 246.6121881419235\n",
      "sqft_lot 0.21367732893976263\n",
      "grade 56694.01943090996\n",
      "sqft_above -38.62395400036627\n",
      "sqft_basement -114.07280941727669\n",
      "lat 381454.3846168642\n",
      "long -111741.02845579524\n",
      "sqft_living15 13.629440486468004\n",
      "sqft_lot15 -0.11652887386181787\n",
      "waterfront_0.0 4089.152119933989\n",
      "waterfront_1.0 574778.2495667314\n",
      "view_0.0 -75116.37738892905\n",
      "view_1.0 0.0\n",
      "view_2.0 -1694.4992519664966\n",
      "view_3.0 86964.61041146726\n",
      "view_4.0 253440.95917508088\n",
      "floors_1.0 28844.402082017292\n",
      "floors_1.5 -0.4713290888180398\n",
      "floors_2.0 -37829.94429013399\n",
      "floors_2.5 34389.731346296794\n",
      "floors_3.0 -78987.03692394609\n",
      "floors_3.5 1555.894537956023\n",
      "bedrooms_1 94137.77520992466\n",
      "bedrooms_2 66671.98290862046\n",
      "bedrooms_3 42953.901774508464\n",
      "bedrooms_4 8576.444687742327\n",
      "bedrooms_5 -9673.319921212624\n",
      "bedrooms_6 -2153.456766509594\n",
      "bedrooms_7 -141351.11889161155\n",
      "bedrooms_8 12652.32817399831\n",
      "bedrooms_9 -111010.28940388949\n",
      "bedrooms_10 -192525.50533957462\n",
      "bedrooms_11 -0.0\n",
      "bedrooms_33 0.0\n",
      "condition_1 -39290.64745509785\n",
      "condition_2 -0.0\n",
      "condition_3 -19816.953312926416\n",
      "condition_4 6317.4884916638675\n",
      "condition_5 45823.476377254345\n",
      "zipcode_98001 -55088.10695426255\n",
      "zipcode_98002 -18971.745405454447\n",
      "zipcode_98003 -69626.24942285837\n",
      "zipcode_98004 648790.5123666243\n",
      "zipcode_98005 140849.87718862446\n",
      "zipcode_98006 125952.33274607893\n",
      "zipcode_98007 96519.49843294137\n",
      "zipcode_98008 89855.01214472596\n",
      "zipcode_98010 26129.866735607884\n",
      "zipcode_98011 -88992.54669721691\n",
      "zipcode_98014 -30205.108480686693\n",
      "zipcode_98019 -87780.9189976197\n",
      "zipcode_98022 0.0\n",
      "zipcode_98023 -95784.53613005065\n",
      "zipcode_98024 40838.07281836416\n",
      "zipcode_98027 59768.01476998751\n",
      "zipcode_98028 -101980.65135961241\n",
      "zipcode_98029 91375.4212413191\n",
      "zipcode_98030 -62775.12223769363\n",
      "zipcode_98031 -62224.57142541055\n",
      "zipcode_98032 -67346.87529358118\n",
      "zipcode_98033 175388.91603820227\n",
      "zipcode_98034 4958.516222527435\n",
      "zipcode_98038 -20540.23643012301\n",
      "zipcode_98039 1164624.7933438064\n",
      "zipcode_98040 377512.08510591194\n",
      "zipcode_98042 -53166.14123382066\n",
      "zipcode_98045 18961.636513060006\n",
      "zipcode_98052 50434.29919493809\n",
      "zipcode_98053 11204.874824512035\n",
      "zipcode_98055 -59911.848137285546\n",
      "zipcode_98056 -26894.851263248023\n",
      "zipcode_98058 -60273.54875363678\n",
      "zipcode_98059 -31363.72802265353\n",
      "zipcode_98065 -19732.489251485917\n",
      "zipcode_98070 -108631.1956410942\n",
      "zipcode_98072 -52854.35572211105\n",
      "zipcode_98074 19575.23602235763\n",
      "zipcode_98075 32974.29060707971\n",
      "zipcode_98077 -69560.55943401837\n",
      "zipcode_98092 -83387.46756133954\n",
      "zipcode_98102 344695.74553499784\n",
      "zipcode_98103 131151.8282491498\n",
      "zipcode_98105 254223.84718546068\n",
      "zipcode_98106 -7248.126591492339\n",
      "zipcode_98107 136516.83952432917\n",
      "zipcode_98108 -26433.42475544279\n",
      "zipcode_98109 284626.0157606195\n",
      "zipcode_98112 429405.62514465937\n",
      "zipcode_98115 121193.82577422113\n",
      "zipcode_98116 112315.38492166487\n",
      "zipcode_98117 95298.78930623468\n",
      "zipcode_98118 27062.494288041606\n",
      "zipcode_98119 313371.36357251636\n",
      "zipcode_98122 166661.4718267661\n",
      "zipcode_98125 -10644.210983274\n",
      "zipcode_98126 35077.465870096945\n",
      "zipcode_98133 -58396.53363729189\n",
      "zipcode_98136 77597.04662837344\n",
      "zipcode_98144 116810.32222300941\n",
      "zipcode_98146 -33440.03252222137\n",
      "zipcode_98148 -17809.748828742835\n",
      "zipcode_98155 -88401.06575669261\n",
      "zipcode_98166 -62149.94327341425\n",
      "zipcode_98168 -54326.13027298113\n",
      "zipcode_98177 -5944.805014919248\n",
      "zipcode_98178 -86265.80943039875\n",
      "zipcode_98188 -60070.1533708619\n",
      "zipcode_98198 -89956.70457986317\n",
      "zipcode_98199 185587.99026669838\n",
      "yr_built_(1900, 1909] 16375.754534332302\n",
      "yr_built_(1910, 1919] 31317.392859416446\n",
      "yr_built_(1920, 1929] 33517.26665500646\n",
      "yr_built_(1930, 1939] 64205.151356520124\n",
      "yr_built_(1940, 1949] 25786.353840369047\n",
      "yr_built_(1950, 1959] -15652.467091128741\n",
      "yr_built_(1960, 1969] -20384.682343820215\n",
      "yr_built_(1970, 1979] -33244.72945222926\n",
      "yr_built_(1980, 1989] -13940.4566723607\n",
      "yr_built_(1990, 1999] -11631.30507005662\n",
      "yr_built_(2000, 2010] -16367.605526124084\n",
      "yr_built_(2010, 2020] 15328.40052537443\n",
      "yr_renovated_(1900, 1909] 0.0\n",
      "yr_renovated_(1910, 1919] 0.0\n",
      "yr_renovated_(1920, 1929] 0.0\n",
      "yr_renovated_(1930, 1939] 0.0\n",
      "yr_renovated_(1940, 1949] -0.0\n",
      "yr_renovated_(1950, 1959] -29751.16101230405\n",
      "yr_renovated_(1960, 1969] -38784.71233736955\n",
      "yr_renovated_(1970, 1979] -0.0\n",
      "yr_renovated_(1980, 1989] 19249.534299305265\n",
      "yr_renovated_(1990, 1999] 28993.74893793112\n",
      "yr_renovated_(2000, 2010] 147999.4708245754\n",
      "yr_renovated_(2010, 2020] 47358.93075291675\n"
     ]
    }
   ],
   "source": [
    "for ind, val in enumerate(lasso.coef_):\n",
    "    print(list(X.columns)[ind], val)"
   ]
  },
  {
   "cell_type": "code",
   "execution_count": null,
   "metadata": {},
   "outputs": [],
   "source": []
  }
 ],
 "metadata": {
  "kernelspec": {
   "display_name": "Python 3",
   "language": "python",
   "name": "python3"
  },
  "language_info": {
   "codemirror_mode": {
    "name": "ipython",
    "version": 3
   },
   "file_extension": ".py",
   "mimetype": "text/x-python",
   "name": "python",
   "nbconvert_exporter": "python",
   "pygments_lexer": "ipython3",
   "version": "3.7.3"
  }
 },
 "nbformat": 4,
 "nbformat_minor": 2
}
