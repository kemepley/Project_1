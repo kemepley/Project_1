{
 "cells": [
  {
   "cell_type": "code",
   "execution_count": null,
   "metadata": {},
   "outputs": [],
   "source": [
    "from sklearn.model_selection import GridSearchCV"
   ]
  },
  {
   "cell_type": "code",
   "execution_count": 39,
   "metadata": {},
   "outputs": [],
   "source": [
    "# warnings get old after awhile\n",
    "warnings.filterwarnings(action='ignore')"
   ]
  },
  {
   "cell_type": "markdown",
   "metadata": {},
   "source": [
    "### Define functions"
   ]
  },
  {
   "cell_type": "code",
   "execution_count": 40,
   "metadata": {},
   "outputs": [],
   "source": [
    "# A function that allows us to drop rows based on values we think are suspect\n",
    "\n",
    "def drop_rows(df, colname, val):\n",
    "    return df[df[colname] != val]"
   ]
  },
  {
   "cell_type": "code",
   "execution_count": 41,
   "metadata": {},
   "outputs": [],
   "source": [
    "# A function to take columns with years (yr_built, yr_renovated) and bin them by decade\n",
    "\n",
    "from sklearn.preprocessing import LabelEncoder\n",
    "\n",
    "def bin_by_decade(df, colname):\n",
    "    bins = pd.IntervalIndex.from_tuples([(1900, 1909), (1910, 1919), (1920, 1929), (1930, 1939), (1940, 1949), (1950, 1959), (1960, 1969), (1970, 1979), (1980, 1989), (1990, 1999), (2000, 2010), (2010, 2020)])\n",
    "    series = pd.cut(df[colname], bins)\n",
    "    df[colname] = series\n",
    "    return df"
   ]
  },
  {
   "cell_type": "code",
   "execution_count": 42,
   "metadata": {},
   "outputs": [],
   "source": [
    "# Contains all of our data cleaning operations\n",
    "\n",
    "def clean():\n",
    "    \n",
    "# Load the data\n",
    "    \n",
    "    house = pd.read_csv('https://raw.githubusercontent.com/learn-co-students/dsc-v2-mod1-final-project-dc-ds-career-042219/master/kc_house_data.csv')\n",
    "    \n",
    "# Get rid of rows\n",
    "    # The row with 33 bedrooms is a suspicious outlier, so we decided to drop it\n",
    "    # The 454 ?s in sqft_basement needed to be remedied. We chose to drop them. \n",
    "\n",
    "    clean_house = drop_rows(house, 'bedrooms', 33)\n",
    "    clean_house = drop_rows(clean_house,'sqft_basement', \"?\")\n",
    "    \n",
    "# Bin decades\n",
    "    \n",
    "    clean_house = bin_by_decade(clean_house, 'yr_built')\n",
    "    clean_house = bin_by_decade(clean_house, 'yr_renovated')\n",
    "    \n",
    "    \n",
    "# Get dummies\n",
    "    # Note: Originally, we dropped waterfront because it had a lot of null values. Get dummies gives you the option to create a dummy for nulls or not.\n",
    "    # We did that, without the null column\n",
    "    clean_house = pd.get_dummies(clean_house, columns=(['waterfront', 'view', 'floors', 'bedrooms', 'bathrooms','condition', 'grade','zipcode', 'yr_built', 'yr_renovated']))\n",
    "    \n",
    "# Drop id, date, waterfront\n",
    "\n",
    "    clean_house = clean_house.drop(['id', 'date'], axis=1)\n",
    "    \n",
    "# Convert sqft_basement from object to float\n",
    "\n",
    "    clean_house['sqft_basement'] = clean_house['sqft_basement'].astype(float, inplace=True)\n",
    "\n",
    "# Return clean_house\n",
    "    \n",
    "    return clean_house"
   ]
  },
  {
   "cell_type": "markdown",
   "metadata": {},
   "source": [
    "### Get clean dataframe"
   ]
  },
  {
   "cell_type": "code",
   "execution_count": 46,
   "metadata": {},
   "outputs": [
    {
     "data": {
      "text/html": [
       "<div>\n",
       "<style scoped>\n",
       "    .dataframe tbody tr th:only-of-type {\n",
       "        vertical-align: middle;\n",
       "    }\n",
       "\n",
       "    .dataframe tbody tr th {\n",
       "        vertical-align: top;\n",
       "    }\n",
       "\n",
       "    .dataframe thead th {\n",
       "        text-align: right;\n",
       "    }\n",
       "</style>\n",
       "<table border=\"1\" class=\"dataframe\">\n",
       "  <thead>\n",
       "    <tr style=\"text-align: right;\">\n",
       "      <th></th>\n",
       "      <th>price</th>\n",
       "      <th>sqft_living</th>\n",
       "      <th>sqft_lot</th>\n",
       "      <th>sqft_above</th>\n",
       "      <th>sqft_basement</th>\n",
       "      <th>lat</th>\n",
       "      <th>long</th>\n",
       "      <th>sqft_living15</th>\n",
       "      <th>sqft_lot15</th>\n",
       "      <th>waterfront_0.0</th>\n",
       "      <th>...</th>\n",
       "      <th>yr_renovated_(1920, 1929]</th>\n",
       "      <th>yr_renovated_(1930, 1939]</th>\n",
       "      <th>yr_renovated_(1940, 1949]</th>\n",
       "      <th>yr_renovated_(1950, 1959]</th>\n",
       "      <th>yr_renovated_(1960, 1969]</th>\n",
       "      <th>yr_renovated_(1970, 1979]</th>\n",
       "      <th>yr_renovated_(1980, 1989]</th>\n",
       "      <th>yr_renovated_(1990, 1999]</th>\n",
       "      <th>yr_renovated_(2000, 2010]</th>\n",
       "      <th>yr_renovated_(2010, 2020]</th>\n",
       "    </tr>\n",
       "  </thead>\n",
       "  <tbody>\n",
       "    <tr>\n",
       "      <th>0</th>\n",
       "      <td>221900.0</td>\n",
       "      <td>1180</td>\n",
       "      <td>5650</td>\n",
       "      <td>1180</td>\n",
       "      <td>0.0</td>\n",
       "      <td>47.5112</td>\n",
       "      <td>-122.257</td>\n",
       "      <td>1340</td>\n",
       "      <td>5650</td>\n",
       "      <td>0</td>\n",
       "      <td>...</td>\n",
       "      <td>0</td>\n",
       "      <td>0</td>\n",
       "      <td>0</td>\n",
       "      <td>0</td>\n",
       "      <td>0</td>\n",
       "      <td>0</td>\n",
       "      <td>0</td>\n",
       "      <td>0</td>\n",
       "      <td>0</td>\n",
       "      <td>0</td>\n",
       "    </tr>\n",
       "    <tr>\n",
       "      <th>1</th>\n",
       "      <td>538000.0</td>\n",
       "      <td>2570</td>\n",
       "      <td>7242</td>\n",
       "      <td>2170</td>\n",
       "      <td>400.0</td>\n",
       "      <td>47.7210</td>\n",
       "      <td>-122.319</td>\n",
       "      <td>1690</td>\n",
       "      <td>7639</td>\n",
       "      <td>1</td>\n",
       "      <td>...</td>\n",
       "      <td>0</td>\n",
       "      <td>0</td>\n",
       "      <td>0</td>\n",
       "      <td>0</td>\n",
       "      <td>0</td>\n",
       "      <td>0</td>\n",
       "      <td>0</td>\n",
       "      <td>1</td>\n",
       "      <td>0</td>\n",
       "      <td>0</td>\n",
       "    </tr>\n",
       "    <tr>\n",
       "      <th>2</th>\n",
       "      <td>180000.0</td>\n",
       "      <td>770</td>\n",
       "      <td>10000</td>\n",
       "      <td>770</td>\n",
       "      <td>0.0</td>\n",
       "      <td>47.7379</td>\n",
       "      <td>-122.233</td>\n",
       "      <td>2720</td>\n",
       "      <td>8062</td>\n",
       "      <td>1</td>\n",
       "      <td>...</td>\n",
       "      <td>0</td>\n",
       "      <td>0</td>\n",
       "      <td>0</td>\n",
       "      <td>0</td>\n",
       "      <td>0</td>\n",
       "      <td>0</td>\n",
       "      <td>0</td>\n",
       "      <td>0</td>\n",
       "      <td>0</td>\n",
       "      <td>0</td>\n",
       "    </tr>\n",
       "    <tr>\n",
       "      <th>3</th>\n",
       "      <td>604000.0</td>\n",
       "      <td>1960</td>\n",
       "      <td>5000</td>\n",
       "      <td>1050</td>\n",
       "      <td>910.0</td>\n",
       "      <td>47.5208</td>\n",
       "      <td>-122.393</td>\n",
       "      <td>1360</td>\n",
       "      <td>5000</td>\n",
       "      <td>1</td>\n",
       "      <td>...</td>\n",
       "      <td>0</td>\n",
       "      <td>0</td>\n",
       "      <td>0</td>\n",
       "      <td>0</td>\n",
       "      <td>0</td>\n",
       "      <td>0</td>\n",
       "      <td>0</td>\n",
       "      <td>0</td>\n",
       "      <td>0</td>\n",
       "      <td>0</td>\n",
       "    </tr>\n",
       "    <tr>\n",
       "      <th>4</th>\n",
       "      <td>510000.0</td>\n",
       "      <td>1680</td>\n",
       "      <td>8080</td>\n",
       "      <td>1680</td>\n",
       "      <td>0.0</td>\n",
       "      <td>47.6168</td>\n",
       "      <td>-122.045</td>\n",
       "      <td>1800</td>\n",
       "      <td>7503</td>\n",
       "      <td>1</td>\n",
       "      <td>...</td>\n",
       "      <td>0</td>\n",
       "      <td>0</td>\n",
       "      <td>0</td>\n",
       "      <td>0</td>\n",
       "      <td>0</td>\n",
       "      <td>0</td>\n",
       "      <td>0</td>\n",
       "      <td>0</td>\n",
       "      <td>0</td>\n",
       "      <td>0</td>\n",
       "    </tr>\n",
       "  </tbody>\n",
       "</table>\n",
       "<p>5 rows × 172 columns</p>\n",
       "</div>"
      ],
      "text/plain": [
       "      price  sqft_living  sqft_lot  sqft_above  sqft_basement      lat  \\\n",
       "0  221900.0         1180      5650        1180            0.0  47.5112   \n",
       "1  538000.0         2570      7242        2170          400.0  47.7210   \n",
       "2  180000.0          770     10000         770            0.0  47.7379   \n",
       "3  604000.0         1960      5000        1050          910.0  47.5208   \n",
       "4  510000.0         1680      8080        1680            0.0  47.6168   \n",
       "\n",
       "      long  sqft_living15  sqft_lot15  waterfront_0.0  ...  \\\n",
       "0 -122.257           1340        5650               0  ...   \n",
       "1 -122.319           1690        7639               1  ...   \n",
       "2 -122.233           2720        8062               1  ...   \n",
       "3 -122.393           1360        5000               1  ...   \n",
       "4 -122.045           1800        7503               1  ...   \n",
       "\n",
       "   yr_renovated_(1920, 1929]  yr_renovated_(1930, 1939]  \\\n",
       "0                          0                          0   \n",
       "1                          0                          0   \n",
       "2                          0                          0   \n",
       "3                          0                          0   \n",
       "4                          0                          0   \n",
       "\n",
       "   yr_renovated_(1940, 1949]  yr_renovated_(1950, 1959]  \\\n",
       "0                          0                          0   \n",
       "1                          0                          0   \n",
       "2                          0                          0   \n",
       "3                          0                          0   \n",
       "4                          0                          0   \n",
       "\n",
       "   yr_renovated_(1960, 1969]  yr_renovated_(1970, 1979]  \\\n",
       "0                          0                          0   \n",
       "1                          0                          0   \n",
       "2                          0                          0   \n",
       "3                          0                          0   \n",
       "4                          0                          0   \n",
       "\n",
       "   yr_renovated_(1980, 1989]  yr_renovated_(1990, 1999]  \\\n",
       "0                          0                          0   \n",
       "1                          0                          1   \n",
       "2                          0                          0   \n",
       "3                          0                          0   \n",
       "4                          0                          0   \n",
       "\n",
       "   yr_renovated_(2000, 2010]  yr_renovated_(2010, 2020]  \n",
       "0                          0                          0  \n",
       "1                          0                          0  \n",
       "2                          0                          0  \n",
       "3                          0                          0  \n",
       "4                          0                          0  \n",
       "\n",
       "[5 rows x 172 columns]"
      ]
     },
     "execution_count": 46,
     "metadata": {},
     "output_type": "execute_result"
    }
   ],
   "source": [
    "clean_house = clean()\n",
    "clean_house.head()"
   ]
  },
  {
   "cell_type": "code",
   "execution_count": 23,
   "metadata": {},
   "outputs": [
    {
     "data": {
      "text/plain": [
       "zipcode\n",
       "98039    2.161300e+06\n",
       "98004    1.356524e+06\n",
       "98040    1.194874e+06\n",
       "98112    1.096239e+06\n",
       "98102    8.996077e+05\n",
       "98109    8.800778e+05\n",
       "98105    8.632289e+05\n",
       "98006    8.599386e+05\n",
       "98119    8.497148e+05\n",
       "98005    8.102897e+05\n",
       "Name: price, dtype: float64"
      ]
     },
     "execution_count": 23,
     "metadata": {},
     "output_type": "execute_result"
    }
   ],
   "source": [
    "house = pd.read_csv('https://raw.githubusercontent.com/learn-co-students/dsc-v2-mod1-final-project-dc-ds-career-042219/master/kc_house_data.csv')\n",
    "filter_col = [col for col in clean_house if col.startswith('zipcode')]\n",
    "house.groupby('zipcode')['price'].mean().sort_values(ascending=False)[:10]"
   ]
  },
  {
   "cell_type": "code",
   "execution_count": 24,
   "metadata": {},
   "outputs": [
    {
     "ename": "SyntaxError",
     "evalue": "invalid syntax (<ipython-input-24-4247c5b42aba>, line 1)",
     "output_type": "error",
     "traceback": [
      "\u001b[0;36m  File \u001b[0;32m\"<ipython-input-24-4247c5b42aba>\"\u001b[0;36m, line \u001b[0;32m1\u001b[0m\n\u001b[0;31m    98039    2.161300e+06\u001b[0m\n\u001b[0m                        ^\u001b[0m\n\u001b[0;31mSyntaxError\u001b[0m\u001b[0;31m:\u001b[0m invalid syntax\n"
     ]
    }
   ],
   "source": [
    "98039    2.161300e+06\n",
    "98004    1.356524e+06\n",
    "98040    1.194874e+06\n",
    "98112    1.096239e+06\n",
    "98102    8.996077e+05\n",
    "98109    8.800778e+05\n",
    "98105    8.632289e+05\n",
    "98006    8.599386e+05"
   ]
  },
  {
   "cell_type": "code",
   "execution_count": 25,
   "metadata": {},
   "outputs": [
    {
     "name": "stdout",
     "output_type": "stream",
     "text": [
      "<class 'pandas.core.frame.DataFrame'>\n",
      "Int64Index: 21142 entries, 0 to 21596\n",
      "Columns: 172 entries, price to yr_renovated_(2010, 2020]\n",
      "dtypes: float64(4), int64(5), uint8(163)\n",
      "memory usage: 4.9 MB\n"
     ]
    }
   ],
   "source": [
    "clean_house.info()"
   ]
  },
  {
   "cell_type": "markdown",
   "metadata": {},
   "source": [
    "### Feature selection"
   ]
  },
  {
   "cell_type": "code",
   "execution_count": 15,
   "metadata": {},
   "outputs": [],
   "source": [
    "# copied function from Model Fit Linear Regression Lab\n",
    "\n",
    "def stepwise_selection(X, y, \n",
    "                       initial_list=[], \n",
    "                       threshold_in=0.01, \n",
    "                       threshold_out = 0.05, \n",
    "                       verbose=True):\n",
    "    \"\"\" Perform a forward-backward feature selection \n",
    "    based on p-value from statsmodels.api.OLS\n",
    "    Arguments:\n",
    "        X - pandas.DataFrame with candidate features\n",
    "        y - list-like with the target\n",
    "        initial_list - list of features to start with (column names of X)\n",
    "        threshold_in - include a feature if its p-value < threshold_in\n",
    "        threshold_out - exclude a feature if its p-value > threshold_out\n",
    "        verbose - whether to print the sequence of inclusions and exclusions\n",
    "    Returns: list of selected features \n",
    "    Always set threshold_in < threshold_out to avoid infinite looping.\n",
    "    See https://en.wikipedia.org/wiki/Stepwise_regression for the details\n",
    "    \"\"\"\n",
    "    included = list(initial_list)\n",
    "    while True:\n",
    "        changed=False\n",
    "        # forward step\n",
    "        excluded = list(set(X.columns)-set(included))\n",
    "        new_pval = pd.Series(index=excluded)\n",
    "        for new_column in excluded:\n",
    "            model = sm.OLS(y, sm.add_constant(pd.DataFrame(X[included+[new_column]]))).fit()\n",
    "            new_pval[new_column] = model.pvalues[new_column]\n",
    "        best_pval = new_pval.min()\n",
    "        if best_pval < threshold_in:\n",
    "            best_feature = new_pval.idxmin()\n",
    "            included.append(best_feature)\n",
    "            changed=True\n",
    "            if verbose:\n",
    "                print('Add  {:30} with p-value {:.6}'.format(best_feature, best_pval))\n",
    "\n",
    "        # backward step\n",
    "        model = sm.OLS(y, sm.add_constant(pd.DataFrame(X[included]))).fit()\n",
    "        # use all coefs except intercept\n",
    "        pvalues = model.pvalues.iloc[1:]\n",
    "        worst_pval = pvalues.max() # null if pvalues is empty\n",
    "        if worst_pval > threshold_out:\n",
    "            changed=True\n",
    "            worst_feature = pvalues.argmax()\n",
    "            included.remove(worst_feature)\n",
    "            if verbose:\n",
    "                print('Drop {:30} with p-value {:.6}'.format(worst_feature, worst_pval))\n",
    "        if not changed:\n",
    "            break\n",
    "    return included"
   ]
  },
  {
   "cell_type": "code",
   "execution_count": 26,
   "metadata": {},
   "outputs": [
    {
     "ename": "NameError",
     "evalue": "name 'stepwise_selection' is not defined",
     "output_type": "error",
     "traceback": [
      "\u001b[0;31m---------------------------------------------------------------------------\u001b[0m",
      "\u001b[0;31mNameError\u001b[0m                                 Traceback (most recent call last)",
      "\u001b[0;32m<ipython-input-26-982b9c2708b5>\u001b[0m in \u001b[0;36m<module>\u001b[0;34m\u001b[0m\n\u001b[0;32m----> 1\u001b[0;31m \u001b[0mresult\u001b[0m \u001b[0;34m=\u001b[0m \u001b[0mstepwise_selection\u001b[0m\u001b[0;34m(\u001b[0m\u001b[0mX\u001b[0m\u001b[0;34m,\u001b[0m \u001b[0my\u001b[0m\u001b[0;34m,\u001b[0m \u001b[0mverbose\u001b[0m \u001b[0;34m=\u001b[0m \u001b[0;32mTrue\u001b[0m\u001b[0;34m)\u001b[0m\u001b[0;34m\u001b[0m\u001b[0;34m\u001b[0m\u001b[0m\n\u001b[0m\u001b[1;32m      2\u001b[0m \u001b[0mprint\u001b[0m\u001b[0;34m(\u001b[0m\u001b[0;34m'resulting features:'\u001b[0m\u001b[0;34m)\u001b[0m\u001b[0;34m\u001b[0m\u001b[0;34m\u001b[0m\u001b[0m\n\u001b[1;32m      3\u001b[0m \u001b[0mprint\u001b[0m\u001b[0;34m(\u001b[0m\u001b[0mresult\u001b[0m\u001b[0;34m)\u001b[0m\u001b[0;34m\u001b[0m\u001b[0;34m\u001b[0m\u001b[0m\n",
      "\u001b[0;31mNameError\u001b[0m: name 'stepwise_selection' is not defined"
     ]
    }
   ],
   "source": [
    "result = stepwise_selection(X, y, verbose = True)\n",
    "print('resulting features:')\n",
    "print(result)"
   ]
  },
  {
   "cell_type": "code",
   "execution_count": 47,
   "metadata": {
    "scrolled": false
   },
   "outputs": [
    {
     "name": "stdout",
     "output_type": "stream",
     "text": [
      "The number of features used in the model is: 98\n"
     ]
    }
   ],
   "source": [
    "# We generated a list of features to use using a stepwise selection function from Flatiron's learn.co lessons\n",
    "    # Finds the best p values from your features\n",
    "    # Note: The resulting list contains 79 of the original 135 features\n",
    "\n",
    "clean_house_selections_list = ['price', 'sqft_living', 'view_4.0', 'lat', 'zipcode_98004', 'zipcode_98039', 'zipcode_98112', 'zipcode_98040', 'view_0.0', 'grade_12', 'grade_13', 'grade_11', 'grade_10', 'waterfront_1.0', 'grade_9', 'zipcode_98105', 'zipcode_98119', 'condition_5', 'zipcode_98109', 'zipcode_98199', 'zipcode_98155', 'zipcode_98102', 'zipcode_98122', 'zipcode_98033', 'zipcode_98103', 'zipcode_98115', 'zipcode_98117', 'zipcode_98116', 'zipcode_98006', 'zipcode_98107', 'zipcode_98144', 'zipcode_98005', 'zipcode_98136', 'zipcode_98008', 'yr_renovated_(2000, 2010]', 'bathrooms_7.75', 'zipcode_98029', 'zipcode_98052', 'sqft_basement', 'sqft_above', 'condition_4', 'bathrooms_8.0', 'view_3.0', 'zipcode_98027', 'zipcode_98126', 'zipcode_98007', 'bathrooms_6.0', 'sqft_living15', 'zipcode_98118', 'bathrooms_4.75', 'yr_built_(2010, 2020]', 'zipcode_98019', 'sqft_lot', 'zipcode_98077', 'zipcode_98028', 'floors_3.0', 'grade_8', 'floors_2.0', 'bedrooms_3', 'bathrooms_4.25', 'zipcode_98011', 'bathrooms_3.25', 'yr_renovated_(2010, 2020]', 'zipcode_98014', 'zipcode_98072', 'zipcode_98133', 'zipcode_98022', 'zipcode_98178', 'bathrooms_3.75', 'bathrooms_4.5', 'bedrooms_7', 'bathrooms_4.0', 'bathrooms_5.5', 'bathrooms_5.25', 'bathrooms_5.0', 'bathrooms_6.25', 'yr_renovated_(1990, 1999]', 'zipcode_98010', 'yr_built_(1930, 1939]', 'zipcode_98075', 'zipcode_98038', 'bedrooms_6', 'floors_2.5', 'bathrooms_5.75', 'bedrooms_10', 'zipcode_98168', 'bedrooms_9', 'bedrooms_5', 'condition_1', 'yr_built_(1920, 1929]', 'zipcode_98074', 'zipcode_98053', 'sqft_lot15', 'zipcode_98106', 'bathrooms_2.25', 'zipcode_98198', 'zipcode_98058', 'bathrooms_1.0', 'bathrooms_3.0']\n",
    "print(\"The number of features used in the model is:\", len(clean_house_selections_list)-1)\n",
    "\n",
    "# Made a new DF with just the features from our selections list\n",
    "clean_house_selections = clean_house[clean_house_selections_list]\n"
   ]
  },
  {
   "cell_type": "markdown",
   "metadata": {},
   "source": [
    "### Model with Statsmodels OLS"
   ]
  },
  {
   "cell_type": "code",
   "execution_count": 49,
   "metadata": {},
   "outputs": [
    {
     "data": {
      "text/html": [
       "<table class=\"simpletable\">\n",
       "<caption>OLS Regression Results</caption>\n",
       "<tr>\n",
       "  <th>Dep. Variable:</th>          <td>price</td>      <th>  R-squared:         </th>  <td>   0.844</td>  \n",
       "</tr>\n",
       "<tr>\n",
       "  <th>Model:</th>                   <td>OLS</td>       <th>  Adj. R-squared:    </th>  <td>   0.843</td>  \n",
       "</tr>\n",
       "<tr>\n",
       "  <th>Method:</th>             <td>Least Squares</td>  <th>  F-statistic:       </th>  <td>   706.3</td>  \n",
       "</tr>\n",
       "<tr>\n",
       "  <th>Date:</th>             <td>Thu, 09 May 2019</td> <th>  Prob (F-statistic):</th>   <td>  0.00</td>   \n",
       "</tr>\n",
       "<tr>\n",
       "  <th>Time:</th>                 <td>18:27:28</td>     <th>  Log-Likelihood:    </th> <td>-2.8130e+05</td>\n",
       "</tr>\n",
       "<tr>\n",
       "  <th>No. Observations:</th>      <td> 21142</td>      <th>  AIC:               </th>  <td>5.629e+05</td> \n",
       "</tr>\n",
       "<tr>\n",
       "  <th>Df Residuals:</th>          <td> 20980</td>      <th>  BIC:               </th>  <td>5.642e+05</td> \n",
       "</tr>\n",
       "<tr>\n",
       "  <th>Df Model:</th>              <td>   161</td>      <th>                     </th>      <td> </td>     \n",
       "</tr>\n",
       "<tr>\n",
       "  <th>Covariance Type:</th>      <td>nonrobust</td>    <th>                     </th>      <td> </td>     \n",
       "</tr>\n",
       "</table>\n",
       "<table class=\"simpletable\">\n",
       "<tr>\n",
       "              <td></td>                 <th>coef</th>     <th>std err</th>      <th>t</th>      <th>P>|t|</th>  <th>[0.025</th>    <th>0.975]</th>  \n",
       "</tr>\n",
       "<tr>\n",
       "  <th>const</th>                     <td>-2.166e+07</td> <td> 3.56e+06</td> <td>   -6.083</td> <td> 0.000</td> <td>-2.86e+07</td> <td>-1.47e+07</td>\n",
       "</tr>\n",
       "<tr>\n",
       "  <th>sqft_living</th>               <td>   88.7138</td> <td>    1.761</td> <td>   50.384</td> <td> 0.000</td> <td>   85.263</td> <td>   92.165</td>\n",
       "</tr>\n",
       "<tr>\n",
       "  <th>sqft_lot</th>                  <td>    0.2521</td> <td>    0.036</td> <td>    7.067</td> <td> 0.000</td> <td>    0.182</td> <td>    0.322</td>\n",
       "</tr>\n",
       "<tr>\n",
       "  <th>sqft_above</th>                <td>   66.4054</td> <td>    1.873</td> <td>   35.455</td> <td> 0.000</td> <td>   62.734</td> <td>   70.076</td>\n",
       "</tr>\n",
       "<tr>\n",
       "  <th>sqft_basement</th>             <td>   22.4268</td> <td>    2.064</td> <td>   10.863</td> <td> 0.000</td> <td>   18.380</td> <td>   26.473</td>\n",
       "</tr>\n",
       "<tr>\n",
       "  <th>lat</th>                       <td> 2.225e+05</td> <td> 5.83e+04</td> <td>    3.816</td> <td> 0.000</td> <td> 1.08e+05</td> <td> 3.37e+05</td>\n",
       "</tr>\n",
       "<tr>\n",
       "  <th>long</th>                      <td>-2.016e+05</td> <td> 4.23e+04</td> <td>   -4.768</td> <td> 0.000</td> <td>-2.84e+05</td> <td>-1.19e+05</td>\n",
       "</tr>\n",
       "<tr>\n",
       "  <th>sqft_living15</th>             <td>   23.4497</td> <td>    2.718</td> <td>    8.628</td> <td> 0.000</td> <td>   18.123</td> <td>   28.777</td>\n",
       "</tr>\n",
       "<tr>\n",
       "  <th>sqft_lot15</th>                <td>   -0.1520</td> <td>    0.056</td> <td>   -2.698</td> <td> 0.007</td> <td>   -0.262</td> <td>   -0.042</td>\n",
       "</tr>\n",
       "<tr>\n",
       "  <th>waterfront_0.0</th>            <td>  596.9444</td> <td> 3209.731</td> <td>    0.186</td> <td> 0.852</td> <td>-5694.376</td> <td> 6888.265</td>\n",
       "</tr>\n",
       "<tr>\n",
       "  <th>waterfront_1.0</th>            <td> 6.066e+05</td> <td> 1.56e+04</td> <td>   38.998</td> <td> 0.000</td> <td> 5.76e+05</td> <td> 6.37e+05</td>\n",
       "</tr>\n",
       "<tr>\n",
       "  <th>view_0.0</th>                  <td>-4.801e+04</td> <td> 1.88e+04</td> <td>   -2.555</td> <td> 0.011</td> <td>-8.48e+04</td> <td>-1.12e+04</td>\n",
       "</tr>\n",
       "<tr>\n",
       "  <th>view_1.0</th>                  <td> 4.254e+04</td> <td> 2.05e+04</td> <td>    2.079</td> <td> 0.038</td> <td> 2437.489</td> <td> 8.26e+04</td>\n",
       "</tr>\n",
       "<tr>\n",
       "  <th>view_2.0</th>                  <td> 2.685e+04</td> <td> 1.94e+04</td> <td>    1.385</td> <td> 0.166</td> <td>-1.11e+04</td> <td> 6.48e+04</td>\n",
       "</tr>\n",
       "<tr>\n",
       "  <th>view_3.0</th>                  <td> 1.042e+05</td> <td> 1.99e+04</td> <td>    5.228</td> <td> 0.000</td> <td> 6.51e+04</td> <td> 1.43e+05</td>\n",
       "</tr>\n",
       "<tr>\n",
       "  <th>view_4.0</th>                  <td> 2.455e+05</td> <td> 2.14e+04</td> <td>   11.485</td> <td> 0.000</td> <td> 2.04e+05</td> <td> 2.87e+05</td>\n",
       "</tr>\n",
       "<tr>\n",
       "  <th>floors_1.0</th>                <td>-3.598e+06</td> <td> 5.93e+05</td> <td>   -6.062</td> <td> 0.000</td> <td>-4.76e+06</td> <td>-2.43e+06</td>\n",
       "</tr>\n",
       "<tr>\n",
       "  <th>floors_1.5</th>                <td>-3.611e+06</td> <td> 5.93e+05</td> <td>   -6.086</td> <td> 0.000</td> <td>-4.77e+06</td> <td>-2.45e+06</td>\n",
       "</tr>\n",
       "<tr>\n",
       "  <th>floors_2.0</th>                <td> -3.63e+06</td> <td> 5.93e+05</td> <td>   -6.117</td> <td> 0.000</td> <td>-4.79e+06</td> <td>-2.47e+06</td>\n",
       "</tr>\n",
       "<tr>\n",
       "  <th>floors_2.5</th>                <td>-3.559e+06</td> <td> 5.93e+05</td> <td>   -5.998</td> <td> 0.000</td> <td>-4.72e+06</td> <td> -2.4e+06</td>\n",
       "</tr>\n",
       "<tr>\n",
       "  <th>floors_3.0</th>                <td>-3.683e+06</td> <td> 5.94e+05</td> <td>   -6.206</td> <td> 0.000</td> <td>-4.85e+06</td> <td>-2.52e+06</td>\n",
       "</tr>\n",
       "<tr>\n",
       "  <th>floors_3.5</th>                <td>-3.576e+06</td> <td> 5.95e+05</td> <td>   -6.006</td> <td> 0.000</td> <td>-4.74e+06</td> <td>-2.41e+06</td>\n",
       "</tr>\n",
       "<tr>\n",
       "  <th>bedrooms_1</th>                <td>-1.898e+06</td> <td> 3.24e+05</td> <td>   -5.855</td> <td> 0.000</td> <td>-2.53e+06</td> <td>-1.26e+06</td>\n",
       "</tr>\n",
       "<tr>\n",
       "  <th>bedrooms_2</th>                <td>-1.891e+06</td> <td> 3.24e+05</td> <td>   -5.836</td> <td> 0.000</td> <td>-2.53e+06</td> <td>-1.26e+06</td>\n",
       "</tr>\n",
       "<tr>\n",
       "  <th>bedrooms_3</th>                <td> -1.88e+06</td> <td> 3.24e+05</td> <td>   -5.801</td> <td> 0.000</td> <td>-2.52e+06</td> <td>-1.24e+06</td>\n",
       "</tr>\n",
       "<tr>\n",
       "  <th>bedrooms_4</th>                <td>-1.895e+06</td> <td> 3.24e+05</td> <td>   -5.848</td> <td> 0.000</td> <td>-2.53e+06</td> <td>-1.26e+06</td>\n",
       "</tr>\n",
       "<tr>\n",
       "  <th>bedrooms_5</th>                <td>-1.909e+06</td> <td> 3.24e+05</td> <td>   -5.892</td> <td> 0.000</td> <td>-2.54e+06</td> <td>-1.27e+06</td>\n",
       "</tr>\n",
       "<tr>\n",
       "  <th>bedrooms_6</th>                <td>-1.934e+06</td> <td> 3.24e+05</td> <td>   -5.968</td> <td> 0.000</td> <td>-2.57e+06</td> <td> -1.3e+06</td>\n",
       "</tr>\n",
       "<tr>\n",
       "  <th>bedrooms_7</th>                <td>-2.072e+06</td> <td> 3.25e+05</td> <td>   -6.382</td> <td> 0.000</td> <td>-2.71e+06</td> <td>-1.44e+06</td>\n",
       "</tr>\n",
       "<tr>\n",
       "  <th>bedrooms_8</th>                <td>-1.936e+06</td> <td> 3.26e+05</td> <td>   -5.932</td> <td> 0.000</td> <td>-2.58e+06</td> <td> -1.3e+06</td>\n",
       "</tr>\n",
       "<tr>\n",
       "  <th>bedrooms_9</th>                <td>-2.077e+06</td> <td>  3.3e+05</td> <td>   -6.300</td> <td> 0.000</td> <td>-2.72e+06</td> <td>-1.43e+06</td>\n",
       "</tr>\n",
       "<tr>\n",
       "  <th>bedrooms_10</th>               <td>-2.204e+06</td> <td> 3.33e+05</td> <td>   -6.626</td> <td> 0.000</td> <td>-2.86e+06</td> <td>-1.55e+06</td>\n",
       "</tr>\n",
       "<tr>\n",
       "  <th>bedrooms_11</th>               <td> -1.96e+06</td> <td> 3.51e+05</td> <td>   -5.580</td> <td> 0.000</td> <td>-2.65e+06</td> <td>-1.27e+06</td>\n",
       "</tr>\n",
       "<tr>\n",
       "  <th>bathrooms_0.5</th>             <td>-1.029e+06</td> <td> 1.48e+05</td> <td>   -6.946</td> <td> 0.000</td> <td>-1.32e+06</td> <td>-7.39e+05</td>\n",
       "</tr>\n",
       "<tr>\n",
       "  <th>bathrooms_0.75</th>            <td>-1.018e+06</td> <td> 1.24e+05</td> <td>   -8.193</td> <td> 0.000</td> <td>-1.26e+06</td> <td>-7.74e+05</td>\n",
       "</tr>\n",
       "<tr>\n",
       "  <th>bathrooms_1.0</th>             <td>-9.867e+05</td> <td> 1.23e+05</td> <td>   -7.991</td> <td> 0.000</td> <td>-1.23e+06</td> <td>-7.45e+05</td>\n",
       "</tr>\n",
       "<tr>\n",
       "  <th>bathrooms_1.25</th>            <td>-1.086e+06</td> <td> 1.32e+05</td> <td>   -8.217</td> <td> 0.000</td> <td>-1.34e+06</td> <td>-8.27e+05</td>\n",
       "</tr>\n",
       "<tr>\n",
       "  <th>bathrooms_1.5</th>             <td>-9.942e+05</td> <td> 1.23e+05</td> <td>   -8.054</td> <td> 0.000</td> <td>-1.24e+06</td> <td>-7.52e+05</td>\n",
       "</tr>\n",
       "<tr>\n",
       "  <th>bathrooms_1.75</th>            <td>-1.001e+06</td> <td> 1.23e+05</td> <td>   -8.108</td> <td> 0.000</td> <td>-1.24e+06</td> <td>-7.59e+05</td>\n",
       "</tr>\n",
       "<tr>\n",
       "  <th>bathrooms_2.0</th>             <td>-9.998e+05</td> <td> 1.23e+05</td> <td>   -8.099</td> <td> 0.000</td> <td>-1.24e+06</td> <td>-7.58e+05</td>\n",
       "</tr>\n",
       "<tr>\n",
       "  <th>bathrooms_2.25</th>            <td>-9.817e+05</td> <td> 1.23e+05</td> <td>   -7.954</td> <td> 0.000</td> <td>-1.22e+06</td> <td> -7.4e+05</td>\n",
       "</tr>\n",
       "<tr>\n",
       "  <th>bathrooms_2.5</th>             <td>-9.946e+05</td> <td> 1.23e+05</td> <td>   -8.059</td> <td> 0.000</td> <td>-1.24e+06</td> <td>-7.53e+05</td>\n",
       "</tr>\n",
       "<tr>\n",
       "  <th>bathrooms_2.75</th>            <td> -9.97e+05</td> <td> 1.23e+05</td> <td>   -8.078</td> <td> 0.000</td> <td>-1.24e+06</td> <td>-7.55e+05</td>\n",
       "</tr>\n",
       "<tr>\n",
       "  <th>bathrooms_3.0</th>             <td>-9.784e+05</td> <td> 1.23e+05</td> <td>   -7.926</td> <td> 0.000</td> <td>-1.22e+06</td> <td>-7.36e+05</td>\n",
       "</tr>\n",
       "<tr>\n",
       "  <th>bathrooms_3.25</th>            <td> -9.39e+05</td> <td> 1.23e+05</td> <td>   -7.604</td> <td> 0.000</td> <td>-1.18e+06</td> <td>-6.97e+05</td>\n",
       "</tr>\n",
       "<tr>\n",
       "  <th>bathrooms_3.5</th>             <td>-9.796e+05</td> <td> 1.23e+05</td> <td>   -7.941</td> <td> 0.000</td> <td>-1.22e+06</td> <td>-7.38e+05</td>\n",
       "</tr>\n",
       "<tr>\n",
       "  <th>bathrooms_3.75</th>            <td>-9.021e+05</td> <td> 1.24e+05</td> <td>   -7.289</td> <td> 0.000</td> <td>-1.14e+06</td> <td> -6.6e+05</td>\n",
       "</tr>\n",
       "<tr>\n",
       "  <th>bathrooms_4.0</th>             <td>-9.017e+05</td> <td> 1.24e+05</td> <td>   -7.280</td> <td> 0.000</td> <td>-1.14e+06</td> <td>-6.59e+05</td>\n",
       "</tr>\n",
       "<tr>\n",
       "  <th>bathrooms_4.25</th>            <td>-8.271e+05</td> <td> 1.24e+05</td> <td>   -6.655</td> <td> 0.000</td> <td>-1.07e+06</td> <td>-5.83e+05</td>\n",
       "</tr>\n",
       "<tr>\n",
       "  <th>bathrooms_4.5</th>             <td> -8.73e+05</td> <td> 1.24e+05</td> <td>   -7.035</td> <td> 0.000</td> <td>-1.12e+06</td> <td> -6.3e+05</td>\n",
       "</tr>\n",
       "<tr>\n",
       "  <th>bathrooms_4.75</th>            <td>-6.174e+05</td> <td> 1.27e+05</td> <td>   -4.870</td> <td> 0.000</td> <td>-8.66e+05</td> <td>-3.69e+05</td>\n",
       "</tr>\n",
       "<tr>\n",
       "  <th>bathrooms_5.0</th>             <td>-8.137e+05</td> <td> 1.28e+05</td> <td>   -6.362</td> <td> 0.000</td> <td>-1.06e+06</td> <td>-5.63e+05</td>\n",
       "</tr>\n",
       "<tr>\n",
       "  <th>bathrooms_5.25</th>            <td>-7.541e+05</td> <td> 1.29e+05</td> <td>   -5.828</td> <td> 0.000</td> <td>-1.01e+06</td> <td>   -5e+05</td>\n",
       "</tr>\n",
       "<tr>\n",
       "  <th>bathrooms_5.5</th>             <td>-6.509e+05</td> <td> 1.32e+05</td> <td>   -4.926</td> <td> 0.000</td> <td> -9.1e+05</td> <td>-3.92e+05</td>\n",
       "</tr>\n",
       "<tr>\n",
       "  <th>bathrooms_5.75</th>            <td>-7.356e+05</td> <td> 1.43e+05</td> <td>   -5.141</td> <td> 0.000</td> <td>-1.02e+06</td> <td>-4.55e+05</td>\n",
       "</tr>\n",
       "<tr>\n",
       "  <th>bathrooms_6.0</th>             <td>-2.596e+05</td> <td> 1.37e+05</td> <td>   -1.891</td> <td> 0.059</td> <td>-5.29e+05</td> <td> 9410.351</td>\n",
       "</tr>\n",
       "<tr>\n",
       "  <th>bathrooms_6.25</th>            <td>-4.565e+05</td> <td> 1.61e+05</td> <td>   -2.842</td> <td> 0.004</td> <td>-7.71e+05</td> <td>-1.42e+05</td>\n",
       "</tr>\n",
       "<tr>\n",
       "  <th>bathrooms_6.5</th>             <td>-9.473e+05</td> <td> 1.59e+05</td> <td>   -5.970</td> <td> 0.000</td> <td>-1.26e+06</td> <td>-6.36e+05</td>\n",
       "</tr>\n",
       "<tr>\n",
       "  <th>bathrooms_6.75</th>            <td>-7.237e+05</td> <td>  1.6e+05</td> <td>   -4.529</td> <td> 0.000</td> <td>-1.04e+06</td> <td> -4.1e+05</td>\n",
       "</tr>\n",
       "<tr>\n",
       "  <th>bathrooms_7.5</th>             <td>-1.199e+06</td> <td> 1.98e+05</td> <td>   -6.049</td> <td> 0.000</td> <td>-1.59e+06</td> <td> -8.1e+05</td>\n",
       "</tr>\n",
       "<tr>\n",
       "  <th>bathrooms_7.75</th>            <td> 1.458e+06</td> <td> 1.94e+05</td> <td>    7.524</td> <td> 0.000</td> <td> 1.08e+06</td> <td> 1.84e+06</td>\n",
       "</tr>\n",
       "<tr>\n",
       "  <th>bathrooms_8.0</th>             <td> 5.306e+05</td> <td> 1.62e+05</td> <td>    3.283</td> <td> 0.001</td> <td> 2.14e+05</td> <td> 8.47e+05</td>\n",
       "</tr>\n",
       "<tr>\n",
       "  <th>condition_1</th>               <td>-4.427e+06</td> <td> 7.12e+05</td> <td>   -6.214</td> <td> 0.000</td> <td>-5.82e+06</td> <td>-3.03e+06</td>\n",
       "</tr>\n",
       "<tr>\n",
       "  <th>condition_2</th>               <td>-4.338e+06</td> <td> 7.12e+05</td> <td>   -6.091</td> <td> 0.000</td> <td>-5.73e+06</td> <td>-2.94e+06</td>\n",
       "</tr>\n",
       "<tr>\n",
       "  <th>condition_3</th>               <td>-4.334e+06</td> <td> 7.12e+05</td> <td>   -6.086</td> <td> 0.000</td> <td>-5.73e+06</td> <td>-2.94e+06</td>\n",
       "</tr>\n",
       "<tr>\n",
       "  <th>condition_4</th>               <td>-4.304e+06</td> <td> 7.12e+05</td> <td>   -6.045</td> <td> 0.000</td> <td> -5.7e+06</td> <td>-2.91e+06</td>\n",
       "</tr>\n",
       "<tr>\n",
       "  <th>condition_5</th>               <td>-4.254e+06</td> <td> 7.12e+05</td> <td>   -5.974</td> <td> 0.000</td> <td>-5.65e+06</td> <td>-2.86e+06</td>\n",
       "</tr>\n",
       "<tr>\n",
       "  <th>grade_3</th>                   <td>-2.074e+06</td> <td> 3.51e+05</td> <td>   -5.909</td> <td> 0.000</td> <td>-2.76e+06</td> <td>-1.39e+06</td>\n",
       "</tr>\n",
       "<tr>\n",
       "  <th>grade_4</th>                   <td>-2.218e+06</td> <td> 3.25e+05</td> <td>   -6.826</td> <td> 0.000</td> <td>-2.86e+06</td> <td>-1.58e+06</td>\n",
       "</tr>\n",
       "<tr>\n",
       "  <th>grade_5</th>                   <td> -2.27e+06</td> <td> 3.24e+05</td> <td>   -7.014</td> <td> 0.000</td> <td> -2.9e+06</td> <td>-1.64e+06</td>\n",
       "</tr>\n",
       "<tr>\n",
       "  <th>grade_6</th>                   <td>-2.273e+06</td> <td> 3.24e+05</td> <td>   -7.016</td> <td> 0.000</td> <td>-2.91e+06</td> <td>-1.64e+06</td>\n",
       "</tr>\n",
       "<tr>\n",
       "  <th>grade_7</th>                   <td> -2.26e+06</td> <td> 3.24e+05</td> <td>   -6.976</td> <td> 0.000</td> <td>-2.89e+06</td> <td>-1.62e+06</td>\n",
       "</tr>\n",
       "<tr>\n",
       "  <th>grade_8</th>                   <td>-2.233e+06</td> <td> 3.24e+05</td> <td>   -6.891</td> <td> 0.000</td> <td>-2.87e+06</td> <td> -1.6e+06</td>\n",
       "</tr>\n",
       "<tr>\n",
       "  <th>grade_9</th>                   <td>-2.162e+06</td> <td> 3.24e+05</td> <td>   -6.673</td> <td> 0.000</td> <td> -2.8e+06</td> <td>-1.53e+06</td>\n",
       "</tr>\n",
       "<tr>\n",
       "  <th>grade_10</th>                  <td>-2.047e+06</td> <td> 3.24e+05</td> <td>   -6.319</td> <td> 0.000</td> <td>-2.68e+06</td> <td>-1.41e+06</td>\n",
       "</tr>\n",
       "<tr>\n",
       "  <th>grade_11</th>                  <td>-1.872e+06</td> <td> 3.24e+05</td> <td>   -5.772</td> <td> 0.000</td> <td>-2.51e+06</td> <td>-1.24e+06</td>\n",
       "</tr>\n",
       "<tr>\n",
       "  <th>grade_12</th>                  <td>-1.515e+06</td> <td> 3.24e+05</td> <td>   -4.675</td> <td> 0.000</td> <td>-2.15e+06</td> <td> -8.8e+05</td>\n",
       "</tr>\n",
       "<tr>\n",
       "  <th>grade_13</th>                  <td>-7.315e+05</td> <td> 3.27e+05</td> <td>   -2.240</td> <td> 0.025</td> <td>-1.37e+06</td> <td>-9.14e+04</td>\n",
       "</tr>\n",
       "<tr>\n",
       "  <th>zipcode_98001</th>             <td>-4.682e+05</td> <td> 4.98e+04</td> <td>   -9.411</td> <td> 0.000</td> <td>-5.66e+05</td> <td>-3.71e+05</td>\n",
       "</tr>\n",
       "<tr>\n",
       "  <th>zipcode_98002</th>             <td>-4.526e+05</td> <td> 4.79e+04</td> <td>   -9.439</td> <td> 0.000</td> <td>-5.47e+05</td> <td>-3.59e+05</td>\n",
       "</tr>\n",
       "<tr>\n",
       "  <th>zipcode_98003</th>             <td>-4.796e+05</td> <td> 5.15e+04</td> <td>   -9.307</td> <td> 0.000</td> <td>-5.81e+05</td> <td>-3.79e+05</td>\n",
       "</tr>\n",
       "<tr>\n",
       "  <th>zipcode_98004</th>             <td> 2.431e+05</td> <td> 5.29e+04</td> <td>    4.593</td> <td> 0.000</td> <td> 1.39e+05</td> <td> 3.47e+05</td>\n",
       "</tr>\n",
       "<tr>\n",
       "  <th>zipcode_98005</th>             <td>-1.947e+05</td> <td> 5.21e+04</td> <td>   -3.741</td> <td> 0.000</td> <td>-2.97e+05</td> <td>-9.27e+04</td>\n",
       "</tr>\n",
       "<tr>\n",
       "  <th>zipcode_98006</th>             <td>-2.462e+05</td> <td> 4.91e+04</td> <td>   -5.018</td> <td> 0.000</td> <td>-3.42e+05</td> <td> -1.5e+05</td>\n",
       "</tr>\n",
       "<tr>\n",
       "  <th>zipcode_98007</th>             <td>-2.433e+05</td> <td> 5.14e+04</td> <td>   -4.734</td> <td> 0.000</td> <td>-3.44e+05</td> <td>-1.43e+05</td>\n",
       "</tr>\n",
       "<tr>\n",
       "  <th>zipcode_98008</th>             <td>-2.339e+05</td> <td> 4.98e+04</td> <td>   -4.696</td> <td> 0.000</td> <td>-3.32e+05</td> <td>-1.36e+05</td>\n",
       "</tr>\n",
       "<tr>\n",
       "  <th>zipcode_98010</th>             <td>-3.514e+05</td> <td> 4.13e+04</td> <td>   -8.507</td> <td> 0.000</td> <td>-4.32e+05</td> <td> -2.7e+05</td>\n",
       "</tr>\n",
       "<tr>\n",
       "  <th>zipcode_98011</th>             <td>-4.117e+05</td> <td> 5.75e+04</td> <td>   -7.164</td> <td> 0.000</td> <td>-5.24e+05</td> <td>-2.99e+05</td>\n",
       "</tr>\n",
       "<tr>\n",
       "  <th>zipcode_98014</th>             <td>-3.647e+05</td> <td>  4.5e+04</td> <td>   -8.098</td> <td> 0.000</td> <td>-4.53e+05</td> <td>-2.76e+05</td>\n",
       "</tr>\n",
       "<tr>\n",
       "  <th>zipcode_98019</th>             <td>    -4e+05</td> <td> 4.96e+04</td> <td>   -8.067</td> <td> 0.000</td> <td>-4.97e+05</td> <td>-3.03e+05</td>\n",
       "</tr>\n",
       "<tr>\n",
       "  <th>zipcode_98022</th>             <td>-3.996e+05</td> <td> 3.86e+04</td> <td>  -10.358</td> <td> 0.000</td> <td>-4.75e+05</td> <td>-3.24e+05</td>\n",
       "</tr>\n",
       "<tr>\n",
       "  <th>zipcode_98023</th>             <td>-5.134e+05</td> <td> 5.34e+04</td> <td>   -9.616</td> <td> 0.000</td> <td>-6.18e+05</td> <td>-4.09e+05</td>\n",
       "</tr>\n",
       "<tr>\n",
       "  <th>zipcode_98024</th>             <td>-3.005e+05</td> <td> 4.38e+04</td> <td>   -6.868</td> <td> 0.000</td> <td>-3.86e+05</td> <td>-2.15e+05</td>\n",
       "</tr>\n",
       "<tr>\n",
       "  <th>zipcode_98027</th>             <td> -3.03e+05</td> <td> 4.46e+04</td> <td>   -6.793</td> <td> 0.000</td> <td> -3.9e+05</td> <td>-2.16e+05</td>\n",
       "</tr>\n",
       "<tr>\n",
       "  <th>zipcode_98028</th>             <td>-4.271e+05</td> <td> 5.86e+04</td> <td>   -7.289</td> <td> 0.000</td> <td>-5.42e+05</td> <td>-3.12e+05</td>\n",
       "</tr>\n",
       "<tr>\n",
       "  <th>zipcode_98029</th>             <td>-2.464e+05</td> <td> 4.45e+04</td> <td>   -5.544</td> <td> 0.000</td> <td>-3.34e+05</td> <td>-1.59e+05</td>\n",
       "</tr>\n",
       "<tr>\n",
       "  <th>zipcode_98030</th>             <td>-4.576e+05</td> <td> 4.74e+04</td> <td>   -9.651</td> <td> 0.000</td> <td> -5.5e+05</td> <td>-3.65e+05</td>\n",
       "</tr>\n",
       "<tr>\n",
       "  <th>zipcode_98031</th>             <td>-4.524e+05</td> <td> 4.78e+04</td> <td>   -9.460</td> <td> 0.000</td> <td>-5.46e+05</td> <td>-3.59e+05</td>\n",
       "</tr>\n",
       "<tr>\n",
       "  <th>zipcode_98032</th>             <td>-4.805e+05</td> <td> 5.18e+04</td> <td>   -9.275</td> <td> 0.000</td> <td>-5.82e+05</td> <td>-3.79e+05</td>\n",
       "</tr>\n",
       "<tr>\n",
       "  <th>zipcode_98033</th>             <td>-1.716e+05</td> <td> 5.41e+04</td> <td>   -3.174</td> <td> 0.002</td> <td>-2.78e+05</td> <td>-6.56e+04</td>\n",
       "</tr>\n",
       "<tr>\n",
       "  <th>zipcode_98034</th>             <td>-3.387e+05</td> <td> 5.59e+04</td> <td>   -6.058</td> <td> 0.000</td> <td>-4.48e+05</td> <td>-2.29e+05</td>\n",
       "</tr>\n",
       "<tr>\n",
       "  <th>zipcode_98038</th>             <td>-3.957e+05</td> <td> 4.07e+04</td> <td>   -9.712</td> <td> 0.000</td> <td>-4.76e+05</td> <td>-3.16e+05</td>\n",
       "</tr>\n",
       "<tr>\n",
       "  <th>zipcode_98039</th>             <td> 6.352e+05</td> <td> 5.76e+04</td> <td>   11.032</td> <td> 0.000</td> <td> 5.22e+05</td> <td> 7.48e+05</td>\n",
       "</tr>\n",
       "<tr>\n",
       "  <th>zipcode_98040</th>             <td>-9382.3705</td> <td> 5.23e+04</td> <td>   -0.179</td> <td> 0.858</td> <td>-1.12e+05</td> <td> 9.31e+04</td>\n",
       "</tr>\n",
       "<tr>\n",
       "  <th>zipcode_98042</th>             <td>-4.433e+05</td> <td> 4.39e+04</td> <td>  -10.090</td> <td> 0.000</td> <td>-5.29e+05</td> <td>-3.57e+05</td>\n",
       "</tr>\n",
       "<tr>\n",
       "  <th>zipcode_98045</th>             <td> -3.08e+05</td> <td> 3.42e+04</td> <td>   -9.001</td> <td> 0.000</td> <td>-3.75e+05</td> <td>-2.41e+05</td>\n",
       "</tr>\n",
       "<tr>\n",
       "  <th>zipcode_98052</th>             <td>-2.746e+05</td> <td> 5.17e+04</td> <td>   -5.313</td> <td> 0.000</td> <td>-3.76e+05</td> <td>-1.73e+05</td>\n",
       "</tr>\n",
       "<tr>\n",
       "  <th>zipcode_98053</th>             <td>-2.902e+05</td> <td> 4.88e+04</td> <td>   -5.943</td> <td> 0.000</td> <td>-3.86e+05</td> <td>-1.95e+05</td>\n",
       "</tr>\n",
       "<tr>\n",
       "  <th>zipcode_98055</th>             <td>-4.438e+05</td> <td> 4.93e+04</td> <td>   -9.005</td> <td> 0.000</td> <td> -5.4e+05</td> <td>-3.47e+05</td>\n",
       "</tr>\n",
       "<tr>\n",
       "  <th>zipcode_98056</th>             <td>-4.049e+05</td> <td> 4.93e+04</td> <td>   -8.208</td> <td> 0.000</td> <td>-5.02e+05</td> <td>-3.08e+05</td>\n",
       "</tr>\n",
       "<tr>\n",
       "  <th>zipcode_98058</th>             <td>-4.344e+05</td> <td> 4.66e+04</td> <td>   -9.324</td> <td> 0.000</td> <td>-5.26e+05</td> <td>-3.43e+05</td>\n",
       "</tr>\n",
       "<tr>\n",
       "  <th>zipcode_98059</th>             <td> -3.98e+05</td> <td> 4.73e+04</td> <td>   -8.421</td> <td> 0.000</td> <td>-4.91e+05</td> <td>-3.05e+05</td>\n",
       "</tr>\n",
       "<tr>\n",
       "  <th>zipcode_98065</th>             <td>-3.419e+05</td> <td> 3.89e+04</td> <td>   -8.788</td> <td> 0.000</td> <td>-4.18e+05</td> <td>-2.66e+05</td>\n",
       "</tr>\n",
       "<tr>\n",
       "  <th>zipcode_98070</th>             <td> -5.16e+05</td> <td> 6.01e+04</td> <td>   -8.581</td> <td> 0.000</td> <td>-6.34e+05</td> <td>-3.98e+05</td>\n",
       "</tr>\n",
       "<tr>\n",
       "  <th>zipcode_98072</th>             <td>  -3.7e+05</td> <td> 5.49e+04</td> <td>   -6.733</td> <td> 0.000</td> <td>-4.78e+05</td> <td>-2.62e+05</td>\n",
       "</tr>\n",
       "<tr>\n",
       "  <th>zipcode_98074</th>             <td>-3.118e+05</td> <td> 4.76e+04</td> <td>   -6.555</td> <td> 0.000</td> <td>-4.05e+05</td> <td>-2.19e+05</td>\n",
       "</tr>\n",
       "<tr>\n",
       "  <th>zipcode_98075</th>             <td>-3.058e+05</td> <td> 4.58e+04</td> <td>   -6.675</td> <td> 0.000</td> <td>-3.96e+05</td> <td>-2.16e+05</td>\n",
       "</tr>\n",
       "<tr>\n",
       "  <th>zipcode_98077</th>             <td>    -4e+05</td> <td>  5.3e+04</td> <td>   -7.548</td> <td> 0.000</td> <td>-5.04e+05</td> <td>-2.96e+05</td>\n",
       "</tr>\n",
       "<tr>\n",
       "  <th>zipcode_98092</th>             <td>-4.726e+05</td> <td> 4.56e+04</td> <td>  -10.364</td> <td> 0.000</td> <td>-5.62e+05</td> <td>-3.83e+05</td>\n",
       "</tr>\n",
       "<tr>\n",
       "  <th>zipcode_98102</th>             <td>-5.743e+04</td> <td> 5.88e+04</td> <td>   -0.977</td> <td> 0.329</td> <td>-1.73e+05</td> <td> 5.78e+04</td>\n",
       "</tr>\n",
       "<tr>\n",
       "  <th>zipcode_98103</th>             <td>-2.149e+05</td> <td> 5.92e+04</td> <td>   -3.629</td> <td> 0.000</td> <td>-3.31e+05</td> <td>-9.88e+04</td>\n",
       "</tr>\n",
       "<tr>\n",
       "  <th>zipcode_98105</th>             <td>-6.884e+04</td> <td> 5.76e+04</td> <td>   -1.194</td> <td> 0.232</td> <td>-1.82e+05</td> <td> 4.41e+04</td>\n",
       "</tr>\n",
       "<tr>\n",
       "  <th>zipcode_98106</th>             <td>-4.088e+05</td> <td> 5.65e+04</td> <td>   -7.231</td> <td> 0.000</td> <td> -5.2e+05</td> <td>-2.98e+05</td>\n",
       "</tr>\n",
       "<tr>\n",
       "  <th>zipcode_98107</th>             <td>-2.144e+05</td> <td> 6.05e+04</td> <td>   -3.543</td> <td> 0.000</td> <td>-3.33e+05</td> <td>-9.58e+04</td>\n",
       "</tr>\n",
       "<tr>\n",
       "  <th>zipcode_98108</th>             <td>-4.077e+05</td> <td> 5.54e+04</td> <td>   -7.361</td> <td> 0.000</td> <td>-5.16e+05</td> <td>-2.99e+05</td>\n",
       "</tr>\n",
       "<tr>\n",
       "  <th>zipcode_98109</th>             <td>-4.943e+04</td> <td> 5.97e+04</td> <td>   -0.828</td> <td> 0.408</td> <td>-1.66e+05</td> <td> 6.76e+04</td>\n",
       "</tr>\n",
       "<tr>\n",
       "  <th>zipcode_98112</th>             <td> 8.682e+04</td> <td> 5.67e+04</td> <td>    1.531</td> <td> 0.126</td> <td>-2.43e+04</td> <td> 1.98e+05</td>\n",
       "</tr>\n",
       "<tr>\n",
       "  <th>zipcode_98115</th>             <td>-2.181e+05</td> <td>  5.8e+04</td> <td>   -3.760</td> <td> 0.000</td> <td>-3.32e+05</td> <td>-1.04e+05</td>\n",
       "</tr>\n",
       "<tr>\n",
       "  <th>zipcode_98116</th>             <td>-2.561e+05</td> <td> 5.87e+04</td> <td>   -4.363</td> <td> 0.000</td> <td>-3.71e+05</td> <td>-1.41e+05</td>\n",
       "</tr>\n",
       "<tr>\n",
       "  <th>zipcode_98117</th>             <td>-2.501e+05</td> <td> 6.08e+04</td> <td>   -4.116</td> <td> 0.000</td> <td>-3.69e+05</td> <td>-1.31e+05</td>\n",
       "</tr>\n",
       "<tr>\n",
       "  <th>zipcode_98118</th>             <td>-3.544e+05</td> <td> 5.34e+04</td> <td>   -6.634</td> <td> 0.000</td> <td>-4.59e+05</td> <td> -2.5e+05</td>\n",
       "</tr>\n",
       "<tr>\n",
       "  <th>zipcode_98119</th>             <td>-5.844e+04</td> <td> 5.97e+04</td> <td>   -0.978</td> <td> 0.328</td> <td>-1.76e+05</td> <td> 5.87e+04</td>\n",
       "</tr>\n",
       "<tr>\n",
       "  <th>zipcode_98122</th>             <td>-1.867e+05</td> <td> 5.62e+04</td> <td>   -3.322</td> <td> 0.001</td> <td>-2.97e+05</td> <td>-7.65e+04</td>\n",
       "</tr>\n",
       "<tr>\n",
       "  <th>zipcode_98125</th>             <td>-3.539e+05</td> <td>  5.9e+04</td> <td>   -5.993</td> <td> 0.000</td> <td> -4.7e+05</td> <td>-2.38e+05</td>\n",
       "</tr>\n",
       "<tr>\n",
       "  <th>zipcode_98126</th>             <td>-3.511e+05</td> <td> 5.74e+04</td> <td>   -6.120</td> <td> 0.000</td> <td>-4.64e+05</td> <td>-2.39e+05</td>\n",
       "</tr>\n",
       "<tr>\n",
       "  <th>zipcode_98133</th>             <td>-4.087e+05</td> <td>  6.1e+04</td> <td>   -6.701</td> <td> 0.000</td> <td>-5.28e+05</td> <td>-2.89e+05</td>\n",
       "</tr>\n",
       "<tr>\n",
       "  <th>zipcode_98136</th>             <td>-2.923e+05</td> <td> 5.79e+04</td> <td>   -5.050</td> <td> 0.000</td> <td>-4.06e+05</td> <td>-1.79e+05</td>\n",
       "</tr>\n",
       "<tr>\n",
       "  <th>zipcode_98144</th>             <td> -2.51e+05</td> <td> 5.55e+04</td> <td>   -4.526</td> <td> 0.000</td> <td> -3.6e+05</td> <td>-1.42e+05</td>\n",
       "</tr>\n",
       "<tr>\n",
       "  <th>zipcode_98146</th>             <td>-4.256e+05</td> <td>  5.6e+04</td> <td>   -7.597</td> <td> 0.000</td> <td>-5.35e+05</td> <td>-3.16e+05</td>\n",
       "</tr>\n",
       "<tr>\n",
       "  <th>zipcode_98148</th>             <td>-4.344e+05</td> <td> 5.65e+04</td> <td>   -7.686</td> <td> 0.000</td> <td>-5.45e+05</td> <td>-3.24e+05</td>\n",
       "</tr>\n",
       "<tr>\n",
       "  <th>zipcode_98155</th>             <td>-4.246e+05</td> <td> 6.03e+04</td> <td>   -7.046</td> <td> 0.000</td> <td>-5.43e+05</td> <td>-3.06e+05</td>\n",
       "</tr>\n",
       "<tr>\n",
       "  <th>zipcode_98166</th>             <td>-4.504e+05</td> <td> 5.49e+04</td> <td>   -8.196</td> <td> 0.000</td> <td>-5.58e+05</td> <td>-3.43e+05</td>\n",
       "</tr>\n",
       "<tr>\n",
       "  <th>zipcode_98168</th>             <td>-4.627e+05</td> <td> 5.39e+04</td> <td>   -8.578</td> <td> 0.000</td> <td>-5.68e+05</td> <td>-3.57e+05</td>\n",
       "</tr>\n",
       "<tr>\n",
       "  <th>zipcode_98177</th>             <td>-3.579e+05</td> <td> 6.24e+04</td> <td>   -5.740</td> <td> 0.000</td> <td> -4.8e+05</td> <td>-2.36e+05</td>\n",
       "</tr>\n",
       "<tr>\n",
       "  <th>zipcode_98178</th>             <td>-4.727e+05</td> <td> 5.18e+04</td> <td>   -9.131</td> <td> 0.000</td> <td>-5.74e+05</td> <td>-3.71e+05</td>\n",
       "</tr>\n",
       "<tr>\n",
       "  <th>zipcode_98188</th>             <td>-4.627e+05</td> <td> 5.29e+04</td> <td>   -8.755</td> <td> 0.000</td> <td>-5.66e+05</td> <td>-3.59e+05</td>\n",
       "</tr>\n",
       "<tr>\n",
       "  <th>zipcode_98198</th>             <td>-4.924e+05</td> <td> 5.26e+04</td> <td>   -9.364</td> <td> 0.000</td> <td>-5.95e+05</td> <td>-3.89e+05</td>\n",
       "</tr>\n",
       "<tr>\n",
       "  <th>zipcode_98199</th>             <td>-1.787e+05</td> <td> 6.06e+04</td> <td>   -2.946</td> <td> 0.003</td> <td>-2.98e+05</td> <td>-5.98e+04</td>\n",
       "</tr>\n",
       "<tr>\n",
       "  <th>yr_built_(1900, 1909]</th>     <td>  241.2771</td> <td> 7615.508</td> <td>    0.032</td> <td> 0.975</td> <td>-1.47e+04</td> <td> 1.52e+04</td>\n",
       "</tr>\n",
       "<tr>\n",
       "  <th>yr_built_(1910, 1919]</th>     <td> 1.562e+04</td> <td> 7033.573</td> <td>    2.221</td> <td> 0.026</td> <td> 1838.214</td> <td> 2.94e+04</td>\n",
       "</tr>\n",
       "<tr>\n",
       "  <th>yr_built_(1920, 1929]</th>     <td>  1.83e+04</td> <td> 6024.502</td> <td>    3.037</td> <td> 0.002</td> <td> 6490.324</td> <td> 3.01e+04</td>\n",
       "</tr>\n",
       "<tr>\n",
       "  <th>yr_built_(1930, 1939]</th>     <td> 3.698e+04</td> <td> 8067.377</td> <td>    4.584</td> <td> 0.000</td> <td> 2.12e+04</td> <td> 5.28e+04</td>\n",
       "</tr>\n",
       "<tr>\n",
       "  <th>yr_built_(1940, 1949]</th>     <td> 3156.0434</td> <td> 5339.774</td> <td>    0.591</td> <td> 0.554</td> <td>-7310.324</td> <td> 1.36e+04</td>\n",
       "</tr>\n",
       "<tr>\n",
       "  <th>yr_built_(1950, 1959]</th>     <td>-1.317e+04</td> <td> 4865.919</td> <td>   -2.706</td> <td> 0.007</td> <td>-2.27e+04</td> <td>-3628.456</td>\n",
       "</tr>\n",
       "<tr>\n",
       "  <th>yr_built_(1960, 1969]</th>     <td>-8413.7595</td> <td> 4792.394</td> <td>   -1.756</td> <td> 0.079</td> <td>-1.78e+04</td> <td>  979.702</td>\n",
       "</tr>\n",
       "<tr>\n",
       "  <th>yr_built_(1970, 1979]</th>     <td> -1.06e+04</td> <td> 4910.089</td> <td>   -2.159</td> <td> 0.031</td> <td>-2.02e+04</td> <td> -979.119</td>\n",
       "</tr>\n",
       "<tr>\n",
       "  <th>yr_built_(1980, 1989]</th>     <td> 2753.6418</td> <td> 4984.156</td> <td>    0.552</td> <td> 0.581</td> <td>-7015.689</td> <td> 1.25e+04</td>\n",
       "</tr>\n",
       "<tr>\n",
       "  <th>yr_built_(1990, 1999]</th>     <td>  540.3394</td> <td> 5289.245</td> <td>    0.102</td> <td> 0.919</td> <td>-9826.989</td> <td> 1.09e+04</td>\n",
       "</tr>\n",
       "<tr>\n",
       "  <th>yr_built_(2000, 2010]</th>     <td> 2736.6798</td> <td> 4921.531</td> <td>    0.556</td> <td> 0.578</td> <td>-6909.901</td> <td> 1.24e+04</td>\n",
       "</tr>\n",
       "<tr>\n",
       "  <th>yr_built_(2010, 2020]</th>     <td> 4.541e+04</td> <td> 6231.302</td> <td>    7.287</td> <td> 0.000</td> <td> 3.32e+04</td> <td> 5.76e+04</td>\n",
       "</tr>\n",
       "<tr>\n",
       "  <th>yr_renovated_(1900, 1909]</th> <td> 1.068e-11</td> <td> 6.75e-12</td> <td>    1.581</td> <td> 0.114</td> <td>-2.56e-12</td> <td> 2.39e-11</td>\n",
       "</tr>\n",
       "<tr>\n",
       "  <th>yr_renovated_(1910, 1919]</th> <td>         0</td> <td>        0</td> <td>      nan</td> <td>   nan</td> <td>        0</td> <td>        0</td>\n",
       "</tr>\n",
       "<tr>\n",
       "  <th>yr_renovated_(1920, 1929]</th> <td>         0</td> <td>        0</td> <td>      nan</td> <td>   nan</td> <td>        0</td> <td>        0</td>\n",
       "</tr>\n",
       "<tr>\n",
       "  <th>yr_renovated_(1930, 1939]</th> <td> 6029.7338</td> <td> 1.46e+05</td> <td>    0.041</td> <td> 0.967</td> <td>-2.81e+05</td> <td> 2.93e+05</td>\n",
       "</tr>\n",
       "<tr>\n",
       "  <th>yr_renovated_(1940, 1949]</th> <td> 1.676e+04</td> <td> 7.34e+04</td> <td>    0.228</td> <td> 0.819</td> <td>-1.27e+05</td> <td> 1.61e+05</td>\n",
       "</tr>\n",
       "<tr>\n",
       "  <th>yr_renovated_(1950, 1959]</th> <td>-4.522e+04</td> <td> 3.79e+04</td> <td>   -1.194</td> <td> 0.233</td> <td>-1.19e+05</td> <td>  2.9e+04</td>\n",
       "</tr>\n",
       "<tr>\n",
       "  <th>yr_renovated_(1960, 1969]</th> <td>-4.688e+04</td> <td> 2.89e+04</td> <td>   -1.625</td> <td> 0.104</td> <td>-1.03e+05</td> <td> 9669.804</td>\n",
       "</tr>\n",
       "<tr>\n",
       "  <th>yr_renovated_(1970, 1979]</th> <td>-1.529e+04</td> <td> 2.56e+04</td> <td>   -0.597</td> <td> 0.550</td> <td>-6.55e+04</td> <td> 3.49e+04</td>\n",
       "</tr>\n",
       "<tr>\n",
       "  <th>yr_renovated_(1980, 1989]</th> <td> 2.276e+04</td> <td>  1.4e+04</td> <td>    1.623</td> <td> 0.105</td> <td>-4727.228</td> <td> 5.03e+04</td>\n",
       "</tr>\n",
       "<tr>\n",
       "  <th>yr_renovated_(1990, 1999]</th> <td> 6.051e+04</td> <td> 1.38e+04</td> <td>    4.373</td> <td> 0.000</td> <td> 3.34e+04</td> <td> 8.76e+04</td>\n",
       "</tr>\n",
       "<tr>\n",
       "  <th>yr_renovated_(2000, 2010]</th> <td>  1.56e+05</td> <td> 1.04e+04</td> <td>   14.987</td> <td> 0.000</td> <td> 1.36e+05</td> <td> 1.76e+05</td>\n",
       "</tr>\n",
       "<tr>\n",
       "  <th>yr_renovated_(2010, 2020]</th> <td> 7.564e+04</td> <td>  1.3e+04</td> <td>    5.818</td> <td> 0.000</td> <td> 5.02e+04</td> <td> 1.01e+05</td>\n",
       "</tr>\n",
       "</table>\n",
       "<table class=\"simpletable\">\n",
       "<tr>\n",
       "  <th>Omnibus:</th>       <td>14174.381</td> <th>  Durbin-Watson:     </th>  <td>   1.998</td>  \n",
       "</tr>\n",
       "<tr>\n",
       "  <th>Prob(Omnibus):</th>  <td> 0.000</td>   <th>  Jarque-Bera (JB):  </th> <td>1693433.788</td>\n",
       "</tr>\n",
       "<tr>\n",
       "  <th>Skew:</th>           <td> 2.346</td>   <th>  Prob(JB):          </th>  <td>    0.00</td>  \n",
       "</tr>\n",
       "<tr>\n",
       "  <th>Kurtosis:</th>       <td>46.593</td>   <th>  Cond. No.          </th>  <td>2.02e+16</td>  \n",
       "</tr>\n",
       "</table><br/><br/>Warnings:<br/>[1] Standard Errors assume that the covariance matrix of the errors is correctly specified.<br/>[2] The smallest eigenvalue is 1.32e-19. This might indicate that there are<br/>strong multicollinearity problems or that the design matrix is singular."
      ],
      "text/plain": [
       "<class 'statsmodels.iolib.summary.Summary'>\n",
       "\"\"\"\n",
       "                            OLS Regression Results                            \n",
       "==============================================================================\n",
       "Dep. Variable:                  price   R-squared:                       0.844\n",
       "Model:                            OLS   Adj. R-squared:                  0.843\n",
       "Method:                 Least Squares   F-statistic:                     706.3\n",
       "Date:                Thu, 09 May 2019   Prob (F-statistic):               0.00\n",
       "Time:                        18:27:28   Log-Likelihood:            -2.8130e+05\n",
       "No. Observations:               21142   AIC:                         5.629e+05\n",
       "Df Residuals:                   20980   BIC:                         5.642e+05\n",
       "Df Model:                         161                                         \n",
       "Covariance Type:            nonrobust                                         \n",
       "=============================================================================================\n",
       "                                coef    std err          t      P>|t|      [0.025      0.975]\n",
       "---------------------------------------------------------------------------------------------\n",
       "const                     -2.166e+07   3.56e+06     -6.083      0.000   -2.86e+07   -1.47e+07\n",
       "sqft_living                  88.7138      1.761     50.384      0.000      85.263      92.165\n",
       "sqft_lot                      0.2521      0.036      7.067      0.000       0.182       0.322\n",
       "sqft_above                   66.4054      1.873     35.455      0.000      62.734      70.076\n",
       "sqft_basement                22.4268      2.064     10.863      0.000      18.380      26.473\n",
       "lat                        2.225e+05   5.83e+04      3.816      0.000    1.08e+05    3.37e+05\n",
       "long                      -2.016e+05   4.23e+04     -4.768      0.000   -2.84e+05   -1.19e+05\n",
       "sqft_living15                23.4497      2.718      8.628      0.000      18.123      28.777\n",
       "sqft_lot15                   -0.1520      0.056     -2.698      0.007      -0.262      -0.042\n",
       "waterfront_0.0              596.9444   3209.731      0.186      0.852   -5694.376    6888.265\n",
       "waterfront_1.0             6.066e+05   1.56e+04     38.998      0.000    5.76e+05    6.37e+05\n",
       "view_0.0                  -4.801e+04   1.88e+04     -2.555      0.011   -8.48e+04   -1.12e+04\n",
       "view_1.0                   4.254e+04   2.05e+04      2.079      0.038    2437.489    8.26e+04\n",
       "view_2.0                   2.685e+04   1.94e+04      1.385      0.166   -1.11e+04    6.48e+04\n",
       "view_3.0                   1.042e+05   1.99e+04      5.228      0.000    6.51e+04    1.43e+05\n",
       "view_4.0                   2.455e+05   2.14e+04     11.485      0.000    2.04e+05    2.87e+05\n",
       "floors_1.0                -3.598e+06   5.93e+05     -6.062      0.000   -4.76e+06   -2.43e+06\n",
       "floors_1.5                -3.611e+06   5.93e+05     -6.086      0.000   -4.77e+06   -2.45e+06\n",
       "floors_2.0                 -3.63e+06   5.93e+05     -6.117      0.000   -4.79e+06   -2.47e+06\n",
       "floors_2.5                -3.559e+06   5.93e+05     -5.998      0.000   -4.72e+06    -2.4e+06\n",
       "floors_3.0                -3.683e+06   5.94e+05     -6.206      0.000   -4.85e+06   -2.52e+06\n",
       "floors_3.5                -3.576e+06   5.95e+05     -6.006      0.000   -4.74e+06   -2.41e+06\n",
       "bedrooms_1                -1.898e+06   3.24e+05     -5.855      0.000   -2.53e+06   -1.26e+06\n",
       "bedrooms_2                -1.891e+06   3.24e+05     -5.836      0.000   -2.53e+06   -1.26e+06\n",
       "bedrooms_3                 -1.88e+06   3.24e+05     -5.801      0.000   -2.52e+06   -1.24e+06\n",
       "bedrooms_4                -1.895e+06   3.24e+05     -5.848      0.000   -2.53e+06   -1.26e+06\n",
       "bedrooms_5                -1.909e+06   3.24e+05     -5.892      0.000   -2.54e+06   -1.27e+06\n",
       "bedrooms_6                -1.934e+06   3.24e+05     -5.968      0.000   -2.57e+06    -1.3e+06\n",
       "bedrooms_7                -2.072e+06   3.25e+05     -6.382      0.000   -2.71e+06   -1.44e+06\n",
       "bedrooms_8                -1.936e+06   3.26e+05     -5.932      0.000   -2.58e+06    -1.3e+06\n",
       "bedrooms_9                -2.077e+06    3.3e+05     -6.300      0.000   -2.72e+06   -1.43e+06\n",
       "bedrooms_10               -2.204e+06   3.33e+05     -6.626      0.000   -2.86e+06   -1.55e+06\n",
       "bedrooms_11                -1.96e+06   3.51e+05     -5.580      0.000   -2.65e+06   -1.27e+06\n",
       "bathrooms_0.5             -1.029e+06   1.48e+05     -6.946      0.000   -1.32e+06   -7.39e+05\n",
       "bathrooms_0.75            -1.018e+06   1.24e+05     -8.193      0.000   -1.26e+06   -7.74e+05\n",
       "bathrooms_1.0             -9.867e+05   1.23e+05     -7.991      0.000   -1.23e+06   -7.45e+05\n",
       "bathrooms_1.25            -1.086e+06   1.32e+05     -8.217      0.000   -1.34e+06   -8.27e+05\n",
       "bathrooms_1.5             -9.942e+05   1.23e+05     -8.054      0.000   -1.24e+06   -7.52e+05\n",
       "bathrooms_1.75            -1.001e+06   1.23e+05     -8.108      0.000   -1.24e+06   -7.59e+05\n",
       "bathrooms_2.0             -9.998e+05   1.23e+05     -8.099      0.000   -1.24e+06   -7.58e+05\n",
       "bathrooms_2.25            -9.817e+05   1.23e+05     -7.954      0.000   -1.22e+06    -7.4e+05\n",
       "bathrooms_2.5             -9.946e+05   1.23e+05     -8.059      0.000   -1.24e+06   -7.53e+05\n",
       "bathrooms_2.75             -9.97e+05   1.23e+05     -8.078      0.000   -1.24e+06   -7.55e+05\n",
       "bathrooms_3.0             -9.784e+05   1.23e+05     -7.926      0.000   -1.22e+06   -7.36e+05\n",
       "bathrooms_3.25             -9.39e+05   1.23e+05     -7.604      0.000   -1.18e+06   -6.97e+05\n",
       "bathrooms_3.5             -9.796e+05   1.23e+05     -7.941      0.000   -1.22e+06   -7.38e+05\n",
       "bathrooms_3.75            -9.021e+05   1.24e+05     -7.289      0.000   -1.14e+06    -6.6e+05\n",
       "bathrooms_4.0             -9.017e+05   1.24e+05     -7.280      0.000   -1.14e+06   -6.59e+05\n",
       "bathrooms_4.25            -8.271e+05   1.24e+05     -6.655      0.000   -1.07e+06   -5.83e+05\n",
       "bathrooms_4.5              -8.73e+05   1.24e+05     -7.035      0.000   -1.12e+06    -6.3e+05\n",
       "bathrooms_4.75            -6.174e+05   1.27e+05     -4.870      0.000   -8.66e+05   -3.69e+05\n",
       "bathrooms_5.0             -8.137e+05   1.28e+05     -6.362      0.000   -1.06e+06   -5.63e+05\n",
       "bathrooms_5.25            -7.541e+05   1.29e+05     -5.828      0.000   -1.01e+06      -5e+05\n",
       "bathrooms_5.5             -6.509e+05   1.32e+05     -4.926      0.000    -9.1e+05   -3.92e+05\n",
       "bathrooms_5.75            -7.356e+05   1.43e+05     -5.141      0.000   -1.02e+06   -4.55e+05\n",
       "bathrooms_6.0             -2.596e+05   1.37e+05     -1.891      0.059   -5.29e+05    9410.351\n",
       "bathrooms_6.25            -4.565e+05   1.61e+05     -2.842      0.004   -7.71e+05   -1.42e+05\n",
       "bathrooms_6.5             -9.473e+05   1.59e+05     -5.970      0.000   -1.26e+06   -6.36e+05\n",
       "bathrooms_6.75            -7.237e+05    1.6e+05     -4.529      0.000   -1.04e+06    -4.1e+05\n",
       "bathrooms_7.5             -1.199e+06   1.98e+05     -6.049      0.000   -1.59e+06    -8.1e+05\n",
       "bathrooms_7.75             1.458e+06   1.94e+05      7.524      0.000    1.08e+06    1.84e+06\n",
       "bathrooms_8.0              5.306e+05   1.62e+05      3.283      0.001    2.14e+05    8.47e+05\n",
       "condition_1               -4.427e+06   7.12e+05     -6.214      0.000   -5.82e+06   -3.03e+06\n",
       "condition_2               -4.338e+06   7.12e+05     -6.091      0.000   -5.73e+06   -2.94e+06\n",
       "condition_3               -4.334e+06   7.12e+05     -6.086      0.000   -5.73e+06   -2.94e+06\n",
       "condition_4               -4.304e+06   7.12e+05     -6.045      0.000    -5.7e+06   -2.91e+06\n",
       "condition_5               -4.254e+06   7.12e+05     -5.974      0.000   -5.65e+06   -2.86e+06\n",
       "grade_3                   -2.074e+06   3.51e+05     -5.909      0.000   -2.76e+06   -1.39e+06\n",
       "grade_4                   -2.218e+06   3.25e+05     -6.826      0.000   -2.86e+06   -1.58e+06\n",
       "grade_5                    -2.27e+06   3.24e+05     -7.014      0.000    -2.9e+06   -1.64e+06\n",
       "grade_6                   -2.273e+06   3.24e+05     -7.016      0.000   -2.91e+06   -1.64e+06\n",
       "grade_7                    -2.26e+06   3.24e+05     -6.976      0.000   -2.89e+06   -1.62e+06\n",
       "grade_8                   -2.233e+06   3.24e+05     -6.891      0.000   -2.87e+06    -1.6e+06\n",
       "grade_9                   -2.162e+06   3.24e+05     -6.673      0.000    -2.8e+06   -1.53e+06\n",
       "grade_10                  -2.047e+06   3.24e+05     -6.319      0.000   -2.68e+06   -1.41e+06\n",
       "grade_11                  -1.872e+06   3.24e+05     -5.772      0.000   -2.51e+06   -1.24e+06\n",
       "grade_12                  -1.515e+06   3.24e+05     -4.675      0.000   -2.15e+06    -8.8e+05\n",
       "grade_13                  -7.315e+05   3.27e+05     -2.240      0.025   -1.37e+06   -9.14e+04\n",
       "zipcode_98001             -4.682e+05   4.98e+04     -9.411      0.000   -5.66e+05   -3.71e+05\n",
       "zipcode_98002             -4.526e+05   4.79e+04     -9.439      0.000   -5.47e+05   -3.59e+05\n",
       "zipcode_98003             -4.796e+05   5.15e+04     -9.307      0.000   -5.81e+05   -3.79e+05\n",
       "zipcode_98004              2.431e+05   5.29e+04      4.593      0.000    1.39e+05    3.47e+05\n",
       "zipcode_98005             -1.947e+05   5.21e+04     -3.741      0.000   -2.97e+05   -9.27e+04\n",
       "zipcode_98006             -2.462e+05   4.91e+04     -5.018      0.000   -3.42e+05    -1.5e+05\n",
       "zipcode_98007             -2.433e+05   5.14e+04     -4.734      0.000   -3.44e+05   -1.43e+05\n",
       "zipcode_98008             -2.339e+05   4.98e+04     -4.696      0.000   -3.32e+05   -1.36e+05\n",
       "zipcode_98010             -3.514e+05   4.13e+04     -8.507      0.000   -4.32e+05    -2.7e+05\n",
       "zipcode_98011             -4.117e+05   5.75e+04     -7.164      0.000   -5.24e+05   -2.99e+05\n",
       "zipcode_98014             -3.647e+05    4.5e+04     -8.098      0.000   -4.53e+05   -2.76e+05\n",
       "zipcode_98019                 -4e+05   4.96e+04     -8.067      0.000   -4.97e+05   -3.03e+05\n",
       "zipcode_98022             -3.996e+05   3.86e+04    -10.358      0.000   -4.75e+05   -3.24e+05\n",
       "zipcode_98023             -5.134e+05   5.34e+04     -9.616      0.000   -6.18e+05   -4.09e+05\n",
       "zipcode_98024             -3.005e+05   4.38e+04     -6.868      0.000   -3.86e+05   -2.15e+05\n",
       "zipcode_98027              -3.03e+05   4.46e+04     -6.793      0.000    -3.9e+05   -2.16e+05\n",
       "zipcode_98028             -4.271e+05   5.86e+04     -7.289      0.000   -5.42e+05   -3.12e+05\n",
       "zipcode_98029             -2.464e+05   4.45e+04     -5.544      0.000   -3.34e+05   -1.59e+05\n",
       "zipcode_98030             -4.576e+05   4.74e+04     -9.651      0.000    -5.5e+05   -3.65e+05\n",
       "zipcode_98031             -4.524e+05   4.78e+04     -9.460      0.000   -5.46e+05   -3.59e+05\n",
       "zipcode_98032             -4.805e+05   5.18e+04     -9.275      0.000   -5.82e+05   -3.79e+05\n",
       "zipcode_98033             -1.716e+05   5.41e+04     -3.174      0.002   -2.78e+05   -6.56e+04\n",
       "zipcode_98034             -3.387e+05   5.59e+04     -6.058      0.000   -4.48e+05   -2.29e+05\n",
       "zipcode_98038             -3.957e+05   4.07e+04     -9.712      0.000   -4.76e+05   -3.16e+05\n",
       "zipcode_98039              6.352e+05   5.76e+04     11.032      0.000    5.22e+05    7.48e+05\n",
       "zipcode_98040             -9382.3705   5.23e+04     -0.179      0.858   -1.12e+05    9.31e+04\n",
       "zipcode_98042             -4.433e+05   4.39e+04    -10.090      0.000   -5.29e+05   -3.57e+05\n",
       "zipcode_98045              -3.08e+05   3.42e+04     -9.001      0.000   -3.75e+05   -2.41e+05\n",
       "zipcode_98052             -2.746e+05   5.17e+04     -5.313      0.000   -3.76e+05   -1.73e+05\n",
       "zipcode_98053             -2.902e+05   4.88e+04     -5.943      0.000   -3.86e+05   -1.95e+05\n",
       "zipcode_98055             -4.438e+05   4.93e+04     -9.005      0.000    -5.4e+05   -3.47e+05\n",
       "zipcode_98056             -4.049e+05   4.93e+04     -8.208      0.000   -5.02e+05   -3.08e+05\n",
       "zipcode_98058             -4.344e+05   4.66e+04     -9.324      0.000   -5.26e+05   -3.43e+05\n",
       "zipcode_98059              -3.98e+05   4.73e+04     -8.421      0.000   -4.91e+05   -3.05e+05\n",
       "zipcode_98065             -3.419e+05   3.89e+04     -8.788      0.000   -4.18e+05   -2.66e+05\n",
       "zipcode_98070              -5.16e+05   6.01e+04     -8.581      0.000   -6.34e+05   -3.98e+05\n",
       "zipcode_98072               -3.7e+05   5.49e+04     -6.733      0.000   -4.78e+05   -2.62e+05\n",
       "zipcode_98074             -3.118e+05   4.76e+04     -6.555      0.000   -4.05e+05   -2.19e+05\n",
       "zipcode_98075             -3.058e+05   4.58e+04     -6.675      0.000   -3.96e+05   -2.16e+05\n",
       "zipcode_98077                 -4e+05    5.3e+04     -7.548      0.000   -5.04e+05   -2.96e+05\n",
       "zipcode_98092             -4.726e+05   4.56e+04    -10.364      0.000   -5.62e+05   -3.83e+05\n",
       "zipcode_98102             -5.743e+04   5.88e+04     -0.977      0.329   -1.73e+05    5.78e+04\n",
       "zipcode_98103             -2.149e+05   5.92e+04     -3.629      0.000   -3.31e+05   -9.88e+04\n",
       "zipcode_98105             -6.884e+04   5.76e+04     -1.194      0.232   -1.82e+05    4.41e+04\n",
       "zipcode_98106             -4.088e+05   5.65e+04     -7.231      0.000    -5.2e+05   -2.98e+05\n",
       "zipcode_98107             -2.144e+05   6.05e+04     -3.543      0.000   -3.33e+05   -9.58e+04\n",
       "zipcode_98108             -4.077e+05   5.54e+04     -7.361      0.000   -5.16e+05   -2.99e+05\n",
       "zipcode_98109             -4.943e+04   5.97e+04     -0.828      0.408   -1.66e+05    6.76e+04\n",
       "zipcode_98112              8.682e+04   5.67e+04      1.531      0.126   -2.43e+04    1.98e+05\n",
       "zipcode_98115             -2.181e+05    5.8e+04     -3.760      0.000   -3.32e+05   -1.04e+05\n",
       "zipcode_98116             -2.561e+05   5.87e+04     -4.363      0.000   -3.71e+05   -1.41e+05\n",
       "zipcode_98117             -2.501e+05   6.08e+04     -4.116      0.000   -3.69e+05   -1.31e+05\n",
       "zipcode_98118             -3.544e+05   5.34e+04     -6.634      0.000   -4.59e+05    -2.5e+05\n",
       "zipcode_98119             -5.844e+04   5.97e+04     -0.978      0.328   -1.76e+05    5.87e+04\n",
       "zipcode_98122             -1.867e+05   5.62e+04     -3.322      0.001   -2.97e+05   -7.65e+04\n",
       "zipcode_98125             -3.539e+05    5.9e+04     -5.993      0.000    -4.7e+05   -2.38e+05\n",
       "zipcode_98126             -3.511e+05   5.74e+04     -6.120      0.000   -4.64e+05   -2.39e+05\n",
       "zipcode_98133             -4.087e+05    6.1e+04     -6.701      0.000   -5.28e+05   -2.89e+05\n",
       "zipcode_98136             -2.923e+05   5.79e+04     -5.050      0.000   -4.06e+05   -1.79e+05\n",
       "zipcode_98144              -2.51e+05   5.55e+04     -4.526      0.000    -3.6e+05   -1.42e+05\n",
       "zipcode_98146             -4.256e+05    5.6e+04     -7.597      0.000   -5.35e+05   -3.16e+05\n",
       "zipcode_98148             -4.344e+05   5.65e+04     -7.686      0.000   -5.45e+05   -3.24e+05\n",
       "zipcode_98155             -4.246e+05   6.03e+04     -7.046      0.000   -5.43e+05   -3.06e+05\n",
       "zipcode_98166             -4.504e+05   5.49e+04     -8.196      0.000   -5.58e+05   -3.43e+05\n",
       "zipcode_98168             -4.627e+05   5.39e+04     -8.578      0.000   -5.68e+05   -3.57e+05\n",
       "zipcode_98177             -3.579e+05   6.24e+04     -5.740      0.000    -4.8e+05   -2.36e+05\n",
       "zipcode_98178             -4.727e+05   5.18e+04     -9.131      0.000   -5.74e+05   -3.71e+05\n",
       "zipcode_98188             -4.627e+05   5.29e+04     -8.755      0.000   -5.66e+05   -3.59e+05\n",
       "zipcode_98198             -4.924e+05   5.26e+04     -9.364      0.000   -5.95e+05   -3.89e+05\n",
       "zipcode_98199             -1.787e+05   6.06e+04     -2.946      0.003   -2.98e+05   -5.98e+04\n",
       "yr_built_(1900, 1909]       241.2771   7615.508      0.032      0.975   -1.47e+04    1.52e+04\n",
       "yr_built_(1910, 1919]      1.562e+04   7033.573      2.221      0.026    1838.214    2.94e+04\n",
       "yr_built_(1920, 1929]       1.83e+04   6024.502      3.037      0.002    6490.324    3.01e+04\n",
       "yr_built_(1930, 1939]      3.698e+04   8067.377      4.584      0.000    2.12e+04    5.28e+04\n",
       "yr_built_(1940, 1949]      3156.0434   5339.774      0.591      0.554   -7310.324    1.36e+04\n",
       "yr_built_(1950, 1959]     -1.317e+04   4865.919     -2.706      0.007   -2.27e+04   -3628.456\n",
       "yr_built_(1960, 1969]     -8413.7595   4792.394     -1.756      0.079   -1.78e+04     979.702\n",
       "yr_built_(1970, 1979]      -1.06e+04   4910.089     -2.159      0.031   -2.02e+04    -979.119\n",
       "yr_built_(1980, 1989]      2753.6418   4984.156      0.552      0.581   -7015.689    1.25e+04\n",
       "yr_built_(1990, 1999]       540.3394   5289.245      0.102      0.919   -9826.989    1.09e+04\n",
       "yr_built_(2000, 2010]      2736.6798   4921.531      0.556      0.578   -6909.901    1.24e+04\n",
       "yr_built_(2010, 2020]      4.541e+04   6231.302      7.287      0.000    3.32e+04    5.76e+04\n",
       "yr_renovated_(1900, 1909]  1.068e-11   6.75e-12      1.581      0.114   -2.56e-12    2.39e-11\n",
       "yr_renovated_(1910, 1919]          0          0        nan        nan           0           0\n",
       "yr_renovated_(1920, 1929]          0          0        nan        nan           0           0\n",
       "yr_renovated_(1930, 1939]  6029.7338   1.46e+05      0.041      0.967   -2.81e+05    2.93e+05\n",
       "yr_renovated_(1940, 1949]  1.676e+04   7.34e+04      0.228      0.819   -1.27e+05    1.61e+05\n",
       "yr_renovated_(1950, 1959] -4.522e+04   3.79e+04     -1.194      0.233   -1.19e+05     2.9e+04\n",
       "yr_renovated_(1960, 1969] -4.688e+04   2.89e+04     -1.625      0.104   -1.03e+05    9669.804\n",
       "yr_renovated_(1970, 1979] -1.529e+04   2.56e+04     -0.597      0.550   -6.55e+04    3.49e+04\n",
       "yr_renovated_(1980, 1989]  2.276e+04    1.4e+04      1.623      0.105   -4727.228    5.03e+04\n",
       "yr_renovated_(1990, 1999]  6.051e+04   1.38e+04      4.373      0.000    3.34e+04    8.76e+04\n",
       "yr_renovated_(2000, 2010]   1.56e+05   1.04e+04     14.987      0.000    1.36e+05    1.76e+05\n",
       "yr_renovated_(2010, 2020]  7.564e+04    1.3e+04      5.818      0.000    5.02e+04    1.01e+05\n",
       "==============================================================================\n",
       "Omnibus:                    14174.381   Durbin-Watson:                   1.998\n",
       "Prob(Omnibus):                  0.000   Jarque-Bera (JB):          1693433.788\n",
       "Skew:                           2.346   Prob(JB):                         0.00\n",
       "Kurtosis:                      46.593   Cond. No.                     2.02e+16\n",
       "==============================================================================\n",
       "\n",
       "Warnings:\n",
       "[1] Standard Errors assume that the covariance matrix of the errors is correctly specified.\n",
       "[2] The smallest eigenvalue is 1.32e-19. This might indicate that there are\n",
       "strong multicollinearity problems or that the design matrix is singular.\n",
       "\"\"\""
      ]
     },
     "execution_count": 49,
     "metadata": {},
     "output_type": "execute_result"
    }
   ],
   "source": [
    "# Used statsmodels OLS so we could get a handy summary of the regression results\n",
    "\n",
    "y = clean_house[\"price\"]\n",
    "X = clean_house.drop(['price'], axis=1)\n",
    "\n",
    "predictors_int = sm.add_constant(X)\n",
    "model = sm.OLS(y, predictors_int).fit()\n",
    "model.summary()\n"
   ]
  },
  {
   "cell_type": "markdown",
   "metadata": {},
   "source": [
    "### Improving the Model with Lasso"
   ]
  },
  {
   "cell_type": "code",
   "execution_count": 58,
   "metadata": {},
   "outputs": [],
   "source": [
    "# We used standardization (Scikitlearn's Standard Scaler) to make sure we get the best results \n",
    "    # Takes each data point, subtracts the mean of the sample, then divides by the standard deviation of the sample\n",
    "\n",
    "clean_house_predictors = clean_house.drop([\"price\"], axis=1)\n",
    "\n",
    "ss_scaler = preprocessing.StandardScaler()\n",
    "clean_house_ss = ss_scaler.fit_transform(clean_house_predictors)\n",
    "\n",
    "# Standard scaler returns a numpy array, so we converted it back to a DF\n",
    "\n",
    "clean_house_ss = pd.DataFrame(clean_house_ss, columns=list(clean_house_predictors.columns))"
   ]
  },
  {
   "cell_type": "code",
   "execution_count": 53,
   "metadata": {},
   "outputs": [
    {
     "name": "stdout",
     "output_type": "stream",
     "text": [
      "4229 16913 4229 16913\n"
     ]
    }
   ],
   "source": [
    "# Split the standardized data into train and test sets, this time using all of the columns from clean_house\n",
    "\n",
    "y = clean_house[\"price\"]\n",
    "X = clean_house_ss\n",
    "\n",
    "X_train, X_test, y_train, y_test = train_test_split(X , y, test_size=0.2, random_state=3)\n",
    "print(len(X_test), len(X_train), len(y_test), len(y_train))"
   ]
  },
  {
   "cell_type": "code",
   "execution_count": 32,
   "metadata": {},
   "outputs": [
    {
     "data": {
      "text/plain": [
       "Lasso(alpha=1.0, copy_X=True, fit_intercept=True, max_iter=1000,\n",
       "   normalize=False, positive=False, precompute=False, random_state=None,\n",
       "   selection='cyclic', tol=0.0001, warm_start=False)"
      ]
     },
     "execution_count": 32,
     "metadata": {},
     "output_type": "execute_result"
    }
   ],
   "source": [
    "# Fit the data to Lasso\n",
    "    # Lasso helps prevent overfitting by reducing the influence of some of the predictors by penalizing their coefficients or reducing them to zero (effectively doing predictor selection)\n",
    "y = clean_house[\"price\"]\n",
    "X = clean_house_ss\n",
    "\n",
    "X_train,X_test,y_train,y_test=train_test_split(X,y,test_size=0.2,random_state=3)\n",
    "\n",
    "lasso = Lasso()\n",
    "lasso.fit(X_train, y_train)"
   ]
  },
  {
   "cell_type": "code",
   "execution_count": 33,
   "metadata": {},
   "outputs": [
    {
     "name": "stdout",
     "output_type": "stream",
     "text": [
      "number of features used: 167\n",
      "number eliminated: 5\n"
     ]
    }
   ],
   "source": [
    "# Checked to see how many features were selected \n",
    "\n",
    "coeff_used = np.sum(lasso.coef_!=0)\n",
    "print(\"number of features used:\", coeff_used)\n",
    "print(\"number eliminated:\", len(list(clean_house.columns)) - coeff_used)"
   ]
  },
  {
   "cell_type": "code",
   "execution_count": 146,
   "metadata": {},
   "outputs": [
    {
     "name": "stdout",
     "output_type": "stream",
     "text": [
      "training score: 0.8452266667880383\n",
      "test score:  0.8334292832719339\n"
     ]
    }
   ],
   "source": [
    "# Checked the training/test R2 scores of our model \n",
    "\n",
    "print(\"training score:\", lasso.score(X_train,y_train))\n",
    "print(\"test score: \", lasso.score(X_test,y_test))"
   ]
  },
  {
   "cell_type": "code",
   "execution_count": 147,
   "metadata": {},
   "outputs": [
    {
     "name": "stdout",
     "output_type": "stream",
     "text": [
      "Test Root Mean Squared Error: 146967.8287185089\n",
      "Test Root Mean Squared Error: 140884.12831296094\n"
     ]
    }
   ],
   "source": [
    "# Mean Squared Error\n",
    "\n",
    "y_hat_train = lasso.predict(X_train)\n",
    "y_hat_test = lasso.predict(X_test)\n",
    "\n",
    "print('Test Root Mean Squared Error:', sqrt(mean_squared_error(y_train, y_hat_train)))\n",
    "print('Test Root Mean Squared Error:', sqrt(mean_squared_error(y_test, y_hat_test)))"
   ]
  },
  {
   "cell_type": "code",
   "execution_count": 148,
   "metadata": {},
   "outputs": [
    {
     "name": "stdout",
     "output_type": "stream",
     "text": [
      "Train Mean Absolute Error:  87033.22438274938\n",
      "Test Mean Absolute Error:  85829.360518741\n"
     ]
    }
   ],
   "source": [
    "# Mean Absolute Error\n",
    "\n",
    "print(\"Train Mean Absolute Error: \", mean_absolute_error(y_hat_train, y_train))\n",
    "print(\"Test Mean Absolute Error: \", mean_absolute_error(y_hat_test, y_test))"
   ]
  },
  {
   "cell_type": "code",
   "execution_count": 149,
   "metadata": {},
   "outputs": [
    {
     "name": "stderr",
     "output_type": "stream",
     "text": [
      "/anaconda3/lib/python3.7/site-packages/sklearn/linear_model/coordinate_descent.py:492: ConvergenceWarning: Objective did not converge. You might want to increase the number of iterations. Fitting data with very small alpha may cause precision problems.\n",
      "  ConvergenceWarning)\n",
      "/anaconda3/lib/python3.7/site-packages/sklearn/linear_model/coordinate_descent.py:492: ConvergenceWarning: Objective did not converge. You might want to increase the number of iterations. Fitting data with very small alpha may cause precision problems.\n",
      "  ConvergenceWarning)\n",
      "/anaconda3/lib/python3.7/site-packages/sklearn/linear_model/coordinate_descent.py:492: ConvergenceWarning: Objective did not converge. You might want to increase the number of iterations. Fitting data with very small alpha may cause precision problems.\n",
      "  ConvergenceWarning)\n",
      "/anaconda3/lib/python3.7/site-packages/sklearn/linear_model/coordinate_descent.py:492: ConvergenceWarning: Objective did not converge. You might want to increase the number of iterations. Fitting data with very small alpha may cause precision problems.\n",
      "  ConvergenceWarning)\n",
      "/anaconda3/lib/python3.7/site-packages/sklearn/linear_model/coordinate_descent.py:492: ConvergenceWarning: Objective did not converge. You might want to increase the number of iterations. Fitting data with very small alpha may cause precision problems.\n",
      "  ConvergenceWarning)\n",
      "/anaconda3/lib/python3.7/site-packages/sklearn/linear_model/coordinate_descent.py:492: ConvergenceWarning: Objective did not converge. You might want to increase the number of iterations. Fitting data with very small alpha may cause precision problems.\n",
      "  ConvergenceWarning)\n",
      "/anaconda3/lib/python3.7/site-packages/sklearn/linear_model/coordinate_descent.py:492: ConvergenceWarning: Objective did not converge. You might want to increase the number of iterations. Fitting data with very small alpha may cause precision problems.\n",
      "  ConvergenceWarning)\n",
      "/anaconda3/lib/python3.7/site-packages/sklearn/linear_model/coordinate_descent.py:492: ConvergenceWarning: Objective did not converge. You might want to increase the number of iterations. Fitting data with very small alpha may cause precision problems.\n",
      "  ConvergenceWarning)\n",
      "/anaconda3/lib/python3.7/site-packages/sklearn/linear_model/coordinate_descent.py:492: ConvergenceWarning: Objective did not converge. You might want to increase the number of iterations. Fitting data with very small alpha may cause precision problems.\n",
      "  ConvergenceWarning)\n",
      "/anaconda3/lib/python3.7/site-packages/sklearn/linear_model/coordinate_descent.py:492: ConvergenceWarning: Objective did not converge. You might want to increase the number of iterations. Fitting data with very small alpha may cause precision problems.\n",
      "  ConvergenceWarning)\n",
      "/anaconda3/lib/python3.7/site-packages/sklearn/linear_model/coordinate_descent.py:492: ConvergenceWarning: Objective did not converge. You might want to increase the number of iterations. Fitting data with very small alpha may cause precision problems.\n",
      "  ConvergenceWarning)\n",
      "/anaconda3/lib/python3.7/site-packages/sklearn/linear_model/coordinate_descent.py:492: ConvergenceWarning: Objective did not converge. You might want to increase the number of iterations. Fitting data with very small alpha may cause precision problems.\n",
      "  ConvergenceWarning)\n",
      "/anaconda3/lib/python3.7/site-packages/sklearn/linear_model/coordinate_descent.py:492: ConvergenceWarning: Objective did not converge. You might want to increase the number of iterations. Fitting data with very small alpha may cause precision problems.\n",
      "  ConvergenceWarning)\n",
      "/anaconda3/lib/python3.7/site-packages/sklearn/linear_model/coordinate_descent.py:492: ConvergenceWarning: Objective did not converge. You might want to increase the number of iterations. Fitting data with very small alpha may cause precision problems.\n",
      "  ConvergenceWarning)\n",
      "/anaconda3/lib/python3.7/site-packages/sklearn/linear_model/coordinate_descent.py:492: ConvergenceWarning: Objective did not converge. You might want to increase the number of iterations. Fitting data with very small alpha may cause precision problems.\n",
      "  ConvergenceWarning)\n",
      "/anaconda3/lib/python3.7/site-packages/sklearn/linear_model/coordinate_descent.py:492: ConvergenceWarning: Objective did not converge. You might want to increase the number of iterations. Fitting data with very small alpha may cause precision problems.\n",
      "  ConvergenceWarning)\n",
      "/anaconda3/lib/python3.7/site-packages/sklearn/linear_model/coordinate_descent.py:492: ConvergenceWarning: Objective did not converge. You might want to increase the number of iterations. Fitting data with very small alpha may cause precision problems.\n",
      "  ConvergenceWarning)\n",
      "/anaconda3/lib/python3.7/site-packages/sklearn/linear_model/coordinate_descent.py:492: ConvergenceWarning: Objective did not converge. You might want to increase the number of iterations. Fitting data with very small alpha may cause precision problems.\n",
      "  ConvergenceWarning)\n",
      "/anaconda3/lib/python3.7/site-packages/sklearn/linear_model/coordinate_descent.py:492: ConvergenceWarning: Objective did not converge. You might want to increase the number of iterations. Fitting data with very small alpha may cause precision problems.\n",
      "  ConvergenceWarning)\n",
      "/anaconda3/lib/python3.7/site-packages/sklearn/linear_model/coordinate_descent.py:492: ConvergenceWarning: Objective did not converge. You might want to increase the number of iterations. Fitting data with very small alpha may cause precision problems.\n",
      "  ConvergenceWarning)\n",
      "/anaconda3/lib/python3.7/site-packages/sklearn/linear_model/coordinate_descent.py:492: ConvergenceWarning: Objective did not converge. You might want to increase the number of iterations. Fitting data with very small alpha may cause precision problems.\n",
      "  ConvergenceWarning)\n",
      "/anaconda3/lib/python3.7/site-packages/sklearn/linear_model/coordinate_descent.py:492: ConvergenceWarning: Objective did not converge. You might want to increase the number of iterations. Fitting data with very small alpha may cause precision problems.\n",
      "  ConvergenceWarning)\n",
      "/anaconda3/lib/python3.7/site-packages/sklearn/linear_model/coordinate_descent.py:492: ConvergenceWarning: Objective did not converge. You might want to increase the number of iterations. Fitting data with very small alpha may cause precision problems.\n",
      "  ConvergenceWarning)\n",
      "/anaconda3/lib/python3.7/site-packages/sklearn/linear_model/coordinate_descent.py:492: ConvergenceWarning: Objective did not converge. You might want to increase the number of iterations. Fitting data with very small alpha may cause precision problems.\n",
      "  ConvergenceWarning)\n",
      "/anaconda3/lib/python3.7/site-packages/sklearn/linear_model/coordinate_descent.py:492: ConvergenceWarning: Objective did not converge. You might want to increase the number of iterations. Fitting data with very small alpha may cause precision problems.\n",
      "  ConvergenceWarning)\n",
      "/anaconda3/lib/python3.7/site-packages/sklearn/linear_model/coordinate_descent.py:492: ConvergenceWarning: Objective did not converge. You might want to increase the number of iterations. Fitting data with very small alpha may cause precision problems.\n",
      "  ConvergenceWarning)\n",
      "/anaconda3/lib/python3.7/site-packages/sklearn/linear_model/coordinate_descent.py:492: ConvergenceWarning: Objective did not converge. You might want to increase the number of iterations. Fitting data with very small alpha may cause precision problems.\n",
      "  ConvergenceWarning)\n",
      "/anaconda3/lib/python3.7/site-packages/sklearn/linear_model/coordinate_descent.py:492: ConvergenceWarning: Objective did not converge. You might want to increase the number of iterations. Fitting data with very small alpha may cause precision problems.\n",
      "  ConvergenceWarning)\n",
      "/anaconda3/lib/python3.7/site-packages/sklearn/linear_model/coordinate_descent.py:492: ConvergenceWarning: Objective did not converge. You might want to increase the number of iterations. Fitting data with very small alpha may cause precision problems.\n",
      "  ConvergenceWarning)\n",
      "/anaconda3/lib/python3.7/site-packages/sklearn/linear_model/coordinate_descent.py:492: ConvergenceWarning: Objective did not converge. You might want to increase the number of iterations. Fitting data with very small alpha may cause precision problems.\n",
      "  ConvergenceWarning)\n"
     ]
    },
    {
     "name": "stderr",
     "output_type": "stream",
     "text": [
      "/anaconda3/lib/python3.7/site-packages/sklearn/linear_model/coordinate_descent.py:492: ConvergenceWarning: Objective did not converge. You might want to increase the number of iterations. Fitting data with very small alpha may cause precision problems.\n",
      "  ConvergenceWarning)\n",
      "/anaconda3/lib/python3.7/site-packages/sklearn/linear_model/coordinate_descent.py:492: ConvergenceWarning: Objective did not converge. You might want to increase the number of iterations. Fitting data with very small alpha may cause precision problems.\n",
      "  ConvergenceWarning)\n",
      "/anaconda3/lib/python3.7/site-packages/sklearn/linear_model/coordinate_descent.py:492: ConvergenceWarning: Objective did not converge. You might want to increase the number of iterations. Fitting data with very small alpha may cause precision problems.\n",
      "  ConvergenceWarning)\n",
      "/anaconda3/lib/python3.7/site-packages/sklearn/linear_model/coordinate_descent.py:492: ConvergenceWarning: Objective did not converge. You might want to increase the number of iterations. Fitting data with very small alpha may cause precision problems.\n",
      "  ConvergenceWarning)\n",
      "/anaconda3/lib/python3.7/site-packages/sklearn/linear_model/coordinate_descent.py:492: ConvergenceWarning: Objective did not converge. You might want to increase the number of iterations. Fitting data with very small alpha may cause precision problems.\n",
      "  ConvergenceWarning)\n"
     ]
    }
   ],
   "source": [
    "# Cross Validation\n",
    "\n",
    "cv_5_results = np.mean(cross_val_score(lasso, X, y, cv=5, scoring=\"neg_mean_squared_error\"))\n",
    "cv_10_results = np.mean(cross_val_score(lasso, X, y, cv=10, scoring=\"neg_mean_squared_error\"))\n",
    "cv_20_results = np.mean(cross_val_score(lasso, X, y, cv=20, scoring=\"neg_mean_squared_error\"))"
   ]
  },
  {
   "cell_type": "code",
   "execution_count": 150,
   "metadata": {},
   "outputs": [
    {
     "name": "stdout",
     "output_type": "stream",
     "text": [
      "-25528959509.13935\n",
      "-25279527937.3547\n",
      "-24967095007.04223\n"
     ]
    }
   ],
   "source": [
    "print(cv_5_results)\n",
    "print(cv_10_results)\n",
    "print(cv_20_results)"
   ]
  },
  {
   "cell_type": "markdown",
   "metadata": {},
   "source": [
    "### Interpreting the results"
   ]
  },
  {
   "cell_type": "code",
   "execution_count": 56,
   "metadata": {},
   "outputs": [],
   "source": [
    "# Make a dataframe of the coefficients\n",
    "\n",
    "lasso_coef = pd.DataFrame(np.round_(lasso.coef_, decimals=3), X.columns, columns=[\"penalized_coefficents\"])"
   ]
  },
  {
   "cell_type": "code",
   "execution_count": 57,
   "metadata": {},
   "outputs": [
    {
     "ename": "KeyError",
     "evalue": "'penalized_coefficients'",
     "output_type": "error",
     "traceback": [
      "\u001b[0;31m---------------------------------------------------------------------------\u001b[0m",
      "\u001b[0;31mKeyError\u001b[0m                                  Traceback (most recent call last)",
      "\u001b[0;32m/anaconda3/lib/python3.7/site-packages/pandas/core/indexes/base.py\u001b[0m in \u001b[0;36mget_loc\u001b[0;34m(self, key, method, tolerance)\u001b[0m\n\u001b[1;32m   2656\u001b[0m             \u001b[0;32mtry\u001b[0m\u001b[0;34m:\u001b[0m\u001b[0;34m\u001b[0m\u001b[0;34m\u001b[0m\u001b[0m\n\u001b[0;32m-> 2657\u001b[0;31m                 \u001b[0;32mreturn\u001b[0m \u001b[0mself\u001b[0m\u001b[0;34m.\u001b[0m\u001b[0m_engine\u001b[0m\u001b[0;34m.\u001b[0m\u001b[0mget_loc\u001b[0m\u001b[0;34m(\u001b[0m\u001b[0mkey\u001b[0m\u001b[0;34m)\u001b[0m\u001b[0;34m\u001b[0m\u001b[0;34m\u001b[0m\u001b[0m\n\u001b[0m\u001b[1;32m   2658\u001b[0m             \u001b[0;32mexcept\u001b[0m \u001b[0mKeyError\u001b[0m\u001b[0;34m:\u001b[0m\u001b[0;34m\u001b[0m\u001b[0;34m\u001b[0m\u001b[0m\n",
      "\u001b[0;32mpandas/_libs/index.pyx\u001b[0m in \u001b[0;36mpandas._libs.index.IndexEngine.get_loc\u001b[0;34m()\u001b[0m\n",
      "\u001b[0;32mpandas/_libs/index.pyx\u001b[0m in \u001b[0;36mpandas._libs.index.IndexEngine.get_loc\u001b[0;34m()\u001b[0m\n",
      "\u001b[0;32mpandas/_libs/hashtable_class_helper.pxi\u001b[0m in \u001b[0;36mpandas._libs.hashtable.PyObjectHashTable.get_item\u001b[0;34m()\u001b[0m\n",
      "\u001b[0;32mpandas/_libs/hashtable_class_helper.pxi\u001b[0m in \u001b[0;36mpandas._libs.hashtable.PyObjectHashTable.get_item\u001b[0;34m()\u001b[0m\n",
      "\u001b[0;31mKeyError\u001b[0m: 'penalized_coefficients'",
      "\nDuring handling of the above exception, another exception occurred:\n",
      "\u001b[0;31mKeyError\u001b[0m                                  Traceback (most recent call last)",
      "\u001b[0;32m<ipython-input-57-ec7c84140bc9>\u001b[0m in \u001b[0;36m<module>\u001b[0;34m\u001b[0m\n\u001b[1;32m      6\u001b[0m \u001b[0mplt\u001b[0m\u001b[0;34m.\u001b[0m\u001b[0mtight_layout\u001b[0m\u001b[0;34m(\u001b[0m\u001b[0;34m)\u001b[0m\u001b[0;34m\u001b[0m\u001b[0;34m\u001b[0m\u001b[0m\n\u001b[1;32m      7\u001b[0m \u001b[0;34m\u001b[0m\u001b[0m\n\u001b[0;32m----> 8\u001b[0;31m \u001b[0mlasso_coef\u001b[0m \u001b[0;34m=\u001b[0m \u001b[0mlasso_coef\u001b[0m\u001b[0;34m[\u001b[0m\u001b[0mlasso_coef\u001b[0m\u001b[0;34m[\u001b[0m\u001b[0;34m\"penalized_coefficients\"\u001b[0m\u001b[0;34m]\u001b[0m\u001b[0;34m!=\u001b[0m\u001b[0;36m0\u001b[0m\u001b[0;34m]\u001b[0m\u001b[0;34m\u001b[0m\u001b[0;34m\u001b[0m\u001b[0m\n\u001b[0m\u001b[1;32m      9\u001b[0m \u001b[0mlasso_coef\u001b[0m \u001b[0;34m=\u001b[0m \u001b[0mlasso_coef\u001b[0m\u001b[0;34m.\u001b[0m\u001b[0msort_values\u001b[0m\u001b[0;34m(\u001b[0m\u001b[0mby\u001b[0m\u001b[0;34m=\u001b[0m\u001b[0;34m\"penalized_coefficients\"\u001b[0m\u001b[0;34m,\u001b[0m \u001b[0mascending\u001b[0m\u001b[0;34m=\u001b[0m\u001b[0;32mFalse\u001b[0m\u001b[0;34m)\u001b[0m\u001b[0;34m[\u001b[0m\u001b[0;34m-\u001b[0m\u001b[0;36m9\u001b[0m\u001b[0;34m:\u001b[0m\u001b[0;34m]\u001b[0m\u001b[0;34m\u001b[0m\u001b[0;34m\u001b[0m\u001b[0m\n\u001b[1;32m     10\u001b[0m \u001b[0;34m\u001b[0m\u001b[0m\n",
      "\u001b[0;32m/anaconda3/lib/python3.7/site-packages/pandas/core/frame.py\u001b[0m in \u001b[0;36m__getitem__\u001b[0;34m(self, key)\u001b[0m\n\u001b[1;32m   2925\u001b[0m             \u001b[0;32mif\u001b[0m \u001b[0mself\u001b[0m\u001b[0;34m.\u001b[0m\u001b[0mcolumns\u001b[0m\u001b[0;34m.\u001b[0m\u001b[0mnlevels\u001b[0m \u001b[0;34m>\u001b[0m \u001b[0;36m1\u001b[0m\u001b[0;34m:\u001b[0m\u001b[0;34m\u001b[0m\u001b[0;34m\u001b[0m\u001b[0m\n\u001b[1;32m   2926\u001b[0m                 \u001b[0;32mreturn\u001b[0m \u001b[0mself\u001b[0m\u001b[0;34m.\u001b[0m\u001b[0m_getitem_multilevel\u001b[0m\u001b[0;34m(\u001b[0m\u001b[0mkey\u001b[0m\u001b[0;34m)\u001b[0m\u001b[0;34m\u001b[0m\u001b[0;34m\u001b[0m\u001b[0m\n\u001b[0;32m-> 2927\u001b[0;31m             \u001b[0mindexer\u001b[0m \u001b[0;34m=\u001b[0m \u001b[0mself\u001b[0m\u001b[0;34m.\u001b[0m\u001b[0mcolumns\u001b[0m\u001b[0;34m.\u001b[0m\u001b[0mget_loc\u001b[0m\u001b[0;34m(\u001b[0m\u001b[0mkey\u001b[0m\u001b[0;34m)\u001b[0m\u001b[0;34m\u001b[0m\u001b[0;34m\u001b[0m\u001b[0m\n\u001b[0m\u001b[1;32m   2928\u001b[0m             \u001b[0;32mif\u001b[0m \u001b[0mis_integer\u001b[0m\u001b[0;34m(\u001b[0m\u001b[0mindexer\u001b[0m\u001b[0;34m)\u001b[0m\u001b[0;34m:\u001b[0m\u001b[0;34m\u001b[0m\u001b[0;34m\u001b[0m\u001b[0m\n\u001b[1;32m   2929\u001b[0m                 \u001b[0mindexer\u001b[0m \u001b[0;34m=\u001b[0m \u001b[0;34m[\u001b[0m\u001b[0mindexer\u001b[0m\u001b[0;34m]\u001b[0m\u001b[0;34m\u001b[0m\u001b[0;34m\u001b[0m\u001b[0m\n",
      "\u001b[0;32m/anaconda3/lib/python3.7/site-packages/pandas/core/indexes/base.py\u001b[0m in \u001b[0;36mget_loc\u001b[0;34m(self, key, method, tolerance)\u001b[0m\n\u001b[1;32m   2657\u001b[0m                 \u001b[0;32mreturn\u001b[0m \u001b[0mself\u001b[0m\u001b[0;34m.\u001b[0m\u001b[0m_engine\u001b[0m\u001b[0;34m.\u001b[0m\u001b[0mget_loc\u001b[0m\u001b[0;34m(\u001b[0m\u001b[0mkey\u001b[0m\u001b[0;34m)\u001b[0m\u001b[0;34m\u001b[0m\u001b[0;34m\u001b[0m\u001b[0m\n\u001b[1;32m   2658\u001b[0m             \u001b[0;32mexcept\u001b[0m \u001b[0mKeyError\u001b[0m\u001b[0;34m:\u001b[0m\u001b[0;34m\u001b[0m\u001b[0;34m\u001b[0m\u001b[0m\n\u001b[0;32m-> 2659\u001b[0;31m                 \u001b[0;32mreturn\u001b[0m \u001b[0mself\u001b[0m\u001b[0;34m.\u001b[0m\u001b[0m_engine\u001b[0m\u001b[0;34m.\u001b[0m\u001b[0mget_loc\u001b[0m\u001b[0;34m(\u001b[0m\u001b[0mself\u001b[0m\u001b[0;34m.\u001b[0m\u001b[0m_maybe_cast_indexer\u001b[0m\u001b[0;34m(\u001b[0m\u001b[0mkey\u001b[0m\u001b[0;34m)\u001b[0m\u001b[0;34m)\u001b[0m\u001b[0;34m\u001b[0m\u001b[0;34m\u001b[0m\u001b[0m\n\u001b[0m\u001b[1;32m   2660\u001b[0m         \u001b[0mindexer\u001b[0m \u001b[0;34m=\u001b[0m \u001b[0mself\u001b[0m\u001b[0;34m.\u001b[0m\u001b[0mget_indexer\u001b[0m\u001b[0;34m(\u001b[0m\u001b[0;34m[\u001b[0m\u001b[0mkey\u001b[0m\u001b[0;34m]\u001b[0m\u001b[0;34m,\u001b[0m \u001b[0mmethod\u001b[0m\u001b[0;34m=\u001b[0m\u001b[0mmethod\u001b[0m\u001b[0;34m,\u001b[0m \u001b[0mtolerance\u001b[0m\u001b[0;34m=\u001b[0m\u001b[0mtolerance\u001b[0m\u001b[0;34m)\u001b[0m\u001b[0;34m\u001b[0m\u001b[0;34m\u001b[0m\u001b[0m\n\u001b[1;32m   2661\u001b[0m         \u001b[0;32mif\u001b[0m \u001b[0mindexer\u001b[0m\u001b[0;34m.\u001b[0m\u001b[0mndim\u001b[0m \u001b[0;34m>\u001b[0m \u001b[0;36m1\u001b[0m \u001b[0;32mor\u001b[0m \u001b[0mindexer\u001b[0m\u001b[0;34m.\u001b[0m\u001b[0msize\u001b[0m \u001b[0;34m>\u001b[0m \u001b[0;36m1\u001b[0m\u001b[0;34m:\u001b[0m\u001b[0;34m\u001b[0m\u001b[0;34m\u001b[0m\u001b[0m\n",
      "\u001b[0;32mpandas/_libs/index.pyx\u001b[0m in \u001b[0;36mpandas._libs.index.IndexEngine.get_loc\u001b[0;34m()\u001b[0m\n",
      "\u001b[0;32mpandas/_libs/index.pyx\u001b[0m in \u001b[0;36mpandas._libs.index.IndexEngine.get_loc\u001b[0;34m()\u001b[0m\n",
      "\u001b[0;32mpandas/_libs/hashtable_class_helper.pxi\u001b[0m in \u001b[0;36mpandas._libs.hashtable.PyObjectHashTable.get_item\u001b[0;34m()\u001b[0m\n",
      "\u001b[0;32mpandas/_libs/hashtable_class_helper.pxi\u001b[0m in \u001b[0;36mpandas._libs.hashtable.PyObjectHashTable.get_item\u001b[0;34m()\u001b[0m\n",
      "\u001b[0;31mKeyError\u001b[0m: 'penalized_coefficients'"
     ]
    },
    {
     "data": {
      "text/plain": [
       "<Figure size 432x288 with 0 Axes>"
      ]
     },
     "metadata": {},
     "output_type": "display_data"
    }
   ],
   "source": [
    "# Plot the coeffients\n",
    "    # We ordered them and selected the highest and lowest becuase there are so many\n",
    "\n",
    "import seaborn as sns \n",
    "import matplotlib.pyplot as plt\n",
    "\n",
    "sns.set_context('talk')\n",
    "fig = plt.figure()\n",
    "plt.tight_layout()\n",
    "\n",
    "lasso_coef = lasso_coef[lasso_coef[\"penalized_coefficients\"]!=0]\n",
    "lasso_coef = lasso_coef.sort_values(by=\"penalized_coefficients\", ascending=False)[-9:]\n",
    "\n",
    "ax = sns.barplot(x=\"penalized_coefficients\", y=lasso_coef.index, data=lasso_coef)\n",
    "ax.set(xlabel='Scaled Regression Coefficents')\n",
    "ax.set_yticklabels([\"View Rating 0\", \"Condition 3\", \"Zipcode 98198\",\"Zipcode 98155\",\"Building Grade 8\", \"Zipcode 98023\", \"Building Grade 6\", \"Longitude\", \"Building Grade 7\"])\n",
    "fig.savefig(\"negative coefficients3\", bbox_inches='tight')"
   ]
  },
  {
   "cell_type": "code",
   "execution_count": null,
   "metadata": {},
   "outputs": [],
   "source": [
    "lasso_coef = lasso_coef[lasso_coef[\"penalized_coefficients\"]!=0]\n",
    "lasso_coef = lasso_coef.sort_values(by=\"penalized_coefficients\", ascending=False)[:10]\n",
    "ax = sns.barplot(x=\"penalized_coefficients\", y=lasso_coef.index, data=lasso_coef)\n",
    "ax.set(xlabel='Scaled Regression Coefficents')\n",
    "ax.set_yticklabels([\"Square Feet Living\", \"Zipcode 98004\", \"Waterfront\",\"Zipcode 98112\",\"Latitude\", \"Zipcode 98039\", \"Building Grade 11\", \"Building Grade 12\", \"Zipcode 98040\", \"Grade 13\"])\n",
    "fig.savefig(\"positive coefficients\", bbox_inches='tight')"
   ]
  },
  {
   "cell_type": "code",
   "execution_count": 234,
   "metadata": {},
   "outputs": [
    {
     "data": {
      "text/plain": [
       "<matplotlib.axes._subplots.AxesSubplot at 0x1c20a53748>"
      ]
     },
     "execution_count": 234,
     "metadata": {},
     "output_type": "execute_result"
    },
    {
     "data": {
      "image/png": "[encoded data removed]",
      "text/plain": [
       "<Figure size 432x288 with 1 Axes>"
      ]
     },
     "metadata": {
      "needs_background": "light"
     },
     "output_type": "display_data"
    }
   ],
   "source": [
    "import seaborn as sns\n",
    "sns.barplot(x='view_0.0', y='price', data=clean_house)"
   ]
  },
  {
   "cell_type": "code",
   "execution_count": 240,
   "metadata": {},
   "outputs": [
    {
     "data": {
      "text/plain": [
       "<matplotlib.axes._subplots.AxesSubplot at 0x1c23444470>"
      ]
     },
     "execution_count": 240,
     "metadata": {},
     "output_type": "execute_result"
    },
    {
     "data": {
      "image/png": "[encoded data removed]",
      "text/plain": [
       "<Figure size 432x288 with 1 Axes>"
      ]
     },
     "metadata": {
      "needs_background": "light"
     },
     "output_type": "display_data"
    }
   ],
   "source": [
    "house.plot(x='view', y='price', kind='scatter')"
   ]
  },
  {
   "cell_type": "code",
   "execution_count": 60,
   "metadata": {},
   "outputs": [
    {
     "data": {
      "text/plain": [
       "<matplotlib.axes._subplots.AxesSubplot at 0x1a2e83feb8>"
      ]
     },
     "execution_count": 60,
     "metadata": {},
     "output_type": "execute_result"
    },
    {
     "data": {
      "image/png": "[encoded data removed]",
      "text/plain": [
       "<Figure size 432x288 with 1 Axes>"
      ]
     },
     "metadata": {
      "needs_background": "light"
     },
     "output_type": "display_data"
    }
   ],
   "source": [
    "house.plot(x='bathrooms', y='price', kind='scatter')"
   ]
  },
  {
   "cell_type": "code",
   "execution_count": 62,
   "metadata": {
    "scrolled": true
   },
   "outputs": [
    {
     "ename": "AttributeError",
     "evalue": "Unknown property hue",
     "output_type": "error",
     "traceback": [
      "\u001b[0;31m---------------------------------------------------------------------------\u001b[0m",
      "\u001b[0;31mAttributeError\u001b[0m                            Traceback (most recent call last)",
      "\u001b[0;32m<ipython-input-62-41e18699576e>\u001b[0m in \u001b[0;36m<module>\u001b[0;34m\u001b[0m\n\u001b[0;32m----> 1\u001b[0;31m \u001b[0mhouse\u001b[0m\u001b[0;34m.\u001b[0m\u001b[0mplot\u001b[0m\u001b[0;34m(\u001b[0m\u001b[0mx\u001b[0m\u001b[0;34m=\u001b[0m\u001b[0;34m'lat'\u001b[0m\u001b[0;34m,\u001b[0m \u001b[0my\u001b[0m\u001b[0;34m=\u001b[0m\u001b[0;34m'long'\u001b[0m\u001b[0;34m,\u001b[0m \u001b[0mkind\u001b[0m\u001b[0;34m=\u001b[0m\u001b[0;34m'scatter'\u001b[0m\u001b[0;34m,\u001b[0m \u001b[0mhue\u001b[0m\u001b[0;34m=\u001b[0m\u001b[0;34m'price'\u001b[0m\u001b[0;34m)\u001b[0m\u001b[0;34m\u001b[0m\u001b[0;34m\u001b[0m\u001b[0m\n\u001b[0m",
      "\u001b[0;32m/anaconda3/lib/python3.7/site-packages/pandas/plotting/_core.py\u001b[0m in \u001b[0;36m__call__\u001b[0;34m(self, x, y, kind, ax, subplots, sharex, sharey, layout, figsize, use_index, title, grid, legend, style, logx, logy, loglog, xticks, yticks, xlim, ylim, rot, fontsize, colormap, table, yerr, xerr, secondary_y, sort_columns, **kwds)\u001b[0m\n\u001b[1;32m   2940\u001b[0m                           \u001b[0mfontsize\u001b[0m\u001b[0;34m=\u001b[0m\u001b[0mfontsize\u001b[0m\u001b[0;34m,\u001b[0m \u001b[0mcolormap\u001b[0m\u001b[0;34m=\u001b[0m\u001b[0mcolormap\u001b[0m\u001b[0;34m,\u001b[0m \u001b[0mtable\u001b[0m\u001b[0;34m=\u001b[0m\u001b[0mtable\u001b[0m\u001b[0;34m,\u001b[0m\u001b[0;34m\u001b[0m\u001b[0;34m\u001b[0m\u001b[0m\n\u001b[1;32m   2941\u001b[0m                           \u001b[0myerr\u001b[0m\u001b[0;34m=\u001b[0m\u001b[0myerr\u001b[0m\u001b[0;34m,\u001b[0m \u001b[0mxerr\u001b[0m\u001b[0;34m=\u001b[0m\u001b[0mxerr\u001b[0m\u001b[0;34m,\u001b[0m \u001b[0msecondary_y\u001b[0m\u001b[0;34m=\u001b[0m\u001b[0msecondary_y\u001b[0m\u001b[0;34m,\u001b[0m\u001b[0;34m\u001b[0m\u001b[0;34m\u001b[0m\u001b[0m\n\u001b[0;32m-> 2942\u001b[0;31m                           sort_columns=sort_columns, **kwds)\n\u001b[0m\u001b[1;32m   2943\u001b[0m     \u001b[0m__call__\u001b[0m\u001b[0;34m.\u001b[0m\u001b[0m__doc__\u001b[0m \u001b[0;34m=\u001b[0m \u001b[0mplot_frame\u001b[0m\u001b[0;34m.\u001b[0m\u001b[0m__doc__\u001b[0m\u001b[0;34m\u001b[0m\u001b[0;34m\u001b[0m\u001b[0m\n\u001b[1;32m   2944\u001b[0m \u001b[0;34m\u001b[0m\u001b[0m\n",
      "\u001b[0;32m/anaconda3/lib/python3.7/site-packages/pandas/plotting/_core.py\u001b[0m in \u001b[0;36mplot_frame\u001b[0;34m(data, x, y, kind, ax, subplots, sharex, sharey, layout, figsize, use_index, title, grid, legend, style, logx, logy, loglog, xticks, yticks, xlim, ylim, rot, fontsize, colormap, table, yerr, xerr, secondary_y, sort_columns, **kwds)\u001b[0m\n\u001b[1;32m   1971\u001b[0m                  \u001b[0myerr\u001b[0m\u001b[0;34m=\u001b[0m\u001b[0myerr\u001b[0m\u001b[0;34m,\u001b[0m \u001b[0mxerr\u001b[0m\u001b[0;34m=\u001b[0m\u001b[0mxerr\u001b[0m\u001b[0;34m,\u001b[0m\u001b[0;34m\u001b[0m\u001b[0;34m\u001b[0m\u001b[0m\n\u001b[1;32m   1972\u001b[0m                  \u001b[0msecondary_y\u001b[0m\u001b[0;34m=\u001b[0m\u001b[0msecondary_y\u001b[0m\u001b[0;34m,\u001b[0m \u001b[0msort_columns\u001b[0m\u001b[0;34m=\u001b[0m\u001b[0msort_columns\u001b[0m\u001b[0;34m,\u001b[0m\u001b[0;34m\u001b[0m\u001b[0;34m\u001b[0m\u001b[0m\n\u001b[0;32m-> 1973\u001b[0;31m                  **kwds)\n\u001b[0m\u001b[1;32m   1974\u001b[0m \u001b[0;34m\u001b[0m\u001b[0m\n\u001b[1;32m   1975\u001b[0m \u001b[0;34m\u001b[0m\u001b[0m\n",
      "\u001b[0;32m/anaconda3/lib/python3.7/site-packages/pandas/plotting/_core.py\u001b[0m in \u001b[0;36m_plot\u001b[0;34m(data, x, y, subplots, ax, kind, **kwds)\u001b[0m\n\u001b[1;32m   1799\u001b[0m         \u001b[0mplot_obj\u001b[0m \u001b[0;34m=\u001b[0m \u001b[0mklass\u001b[0m\u001b[0;34m(\u001b[0m\u001b[0mdata\u001b[0m\u001b[0;34m,\u001b[0m \u001b[0msubplots\u001b[0m\u001b[0;34m=\u001b[0m\u001b[0msubplots\u001b[0m\u001b[0;34m,\u001b[0m \u001b[0max\u001b[0m\u001b[0;34m=\u001b[0m\u001b[0max\u001b[0m\u001b[0;34m,\u001b[0m \u001b[0mkind\u001b[0m\u001b[0;34m=\u001b[0m\u001b[0mkind\u001b[0m\u001b[0;34m,\u001b[0m \u001b[0;34m**\u001b[0m\u001b[0mkwds\u001b[0m\u001b[0;34m)\u001b[0m\u001b[0;34m\u001b[0m\u001b[0;34m\u001b[0m\u001b[0m\n\u001b[1;32m   1800\u001b[0m \u001b[0;34m\u001b[0m\u001b[0m\n\u001b[0;32m-> 1801\u001b[0;31m     \u001b[0mplot_obj\u001b[0m\u001b[0;34m.\u001b[0m\u001b[0mgenerate\u001b[0m\u001b[0;34m(\u001b[0m\u001b[0;34m)\u001b[0m\u001b[0;34m\u001b[0m\u001b[0;34m\u001b[0m\u001b[0m\n\u001b[0m\u001b[1;32m   1802\u001b[0m     \u001b[0mplot_obj\u001b[0m\u001b[0;34m.\u001b[0m\u001b[0mdraw\u001b[0m\u001b[0;34m(\u001b[0m\u001b[0;34m)\u001b[0m\u001b[0;34m\u001b[0m\u001b[0;34m\u001b[0m\u001b[0m\n\u001b[1;32m   1803\u001b[0m     \u001b[0;32mreturn\u001b[0m \u001b[0mplot_obj\u001b[0m\u001b[0;34m.\u001b[0m\u001b[0mresult\u001b[0m\u001b[0;34m\u001b[0m\u001b[0;34m\u001b[0m\u001b[0m\n",
      "\u001b[0;32m/anaconda3/lib/python3.7/site-packages/pandas/plotting/_core.py\u001b[0m in \u001b[0;36mgenerate\u001b[0;34m(self)\u001b[0m\n\u001b[1;32m    249\u001b[0m         \u001b[0mself\u001b[0m\u001b[0;34m.\u001b[0m\u001b[0m_compute_plot_data\u001b[0m\u001b[0;34m(\u001b[0m\u001b[0;34m)\u001b[0m\u001b[0;34m\u001b[0m\u001b[0;34m\u001b[0m\u001b[0m\n\u001b[1;32m    250\u001b[0m         \u001b[0mself\u001b[0m\u001b[0;34m.\u001b[0m\u001b[0m_setup_subplots\u001b[0m\u001b[0;34m(\u001b[0m\u001b[0;34m)\u001b[0m\u001b[0;34m\u001b[0m\u001b[0;34m\u001b[0m\u001b[0m\n\u001b[0;32m--> 251\u001b[0;31m         \u001b[0mself\u001b[0m\u001b[0;34m.\u001b[0m\u001b[0m_make_plot\u001b[0m\u001b[0;34m(\u001b[0m\u001b[0;34m)\u001b[0m\u001b[0;34m\u001b[0m\u001b[0;34m\u001b[0m\u001b[0m\n\u001b[0m\u001b[1;32m    252\u001b[0m         \u001b[0mself\u001b[0m\u001b[0;34m.\u001b[0m\u001b[0m_add_table\u001b[0m\u001b[0;34m(\u001b[0m\u001b[0;34m)\u001b[0m\u001b[0;34m\u001b[0m\u001b[0;34m\u001b[0m\u001b[0m\n\u001b[1;32m    253\u001b[0m         \u001b[0mself\u001b[0m\u001b[0;34m.\u001b[0m\u001b[0m_make_legend\u001b[0m\u001b[0;34m(\u001b[0m\u001b[0;34m)\u001b[0m\u001b[0;34m\u001b[0m\u001b[0;34m\u001b[0m\u001b[0m\n",
      "\u001b[0;32m/anaconda3/lib/python3.7/site-packages/pandas/plotting/_core.py\u001b[0m in \u001b[0;36m_make_plot\u001b[0;34m(self)\u001b[0m\n\u001b[1;32m    892\u001b[0m             \u001b[0mlabel\u001b[0m \u001b[0;34m=\u001b[0m \u001b[0;32mNone\u001b[0m\u001b[0;34m\u001b[0m\u001b[0;34m\u001b[0m\u001b[0m\n\u001b[1;32m    893\u001b[0m         scatter = ax.scatter(data[x].values, data[y].values, c=c_values,\n\u001b[0;32m--> 894\u001b[0;31m                              label=label, cmap=cmap, **self.kwds)\n\u001b[0m\u001b[1;32m    895\u001b[0m         \u001b[0;32mif\u001b[0m \u001b[0mcb\u001b[0m\u001b[0;34m:\u001b[0m\u001b[0;34m\u001b[0m\u001b[0;34m\u001b[0m\u001b[0m\n\u001b[1;32m    896\u001b[0m             \u001b[0mcbar_label\u001b[0m \u001b[0;34m=\u001b[0m \u001b[0mc\u001b[0m \u001b[0;32mif\u001b[0m \u001b[0mc_is_column\u001b[0m \u001b[0;32melse\u001b[0m \u001b[0;34m''\u001b[0m\u001b[0;34m\u001b[0m\u001b[0;34m\u001b[0m\u001b[0m\n",
      "\u001b[0;32m/anaconda3/lib/python3.7/site-packages/matplotlib/__init__.py\u001b[0m in \u001b[0;36minner\u001b[0;34m(ax, data, *args, **kwargs)\u001b[0m\n\u001b[1;32m   1808\u001b[0m                         \u001b[0;34m\"the Matplotlib list!)\"\u001b[0m \u001b[0;34m%\u001b[0m \u001b[0;34m(\u001b[0m\u001b[0mlabel_namer\u001b[0m\u001b[0;34m,\u001b[0m \u001b[0mfunc\u001b[0m\u001b[0;34m.\u001b[0m\u001b[0m__name__\u001b[0m\u001b[0;34m)\u001b[0m\u001b[0;34m,\u001b[0m\u001b[0;34m\u001b[0m\u001b[0;34m\u001b[0m\u001b[0m\n\u001b[1;32m   1809\u001b[0m                         RuntimeWarning, stacklevel=2)\n\u001b[0;32m-> 1810\u001b[0;31m             \u001b[0;32mreturn\u001b[0m \u001b[0mfunc\u001b[0m\u001b[0;34m(\u001b[0m\u001b[0max\u001b[0m\u001b[0;34m,\u001b[0m \u001b[0;34m*\u001b[0m\u001b[0margs\u001b[0m\u001b[0;34m,\u001b[0m \u001b[0;34m**\u001b[0m\u001b[0mkwargs\u001b[0m\u001b[0;34m)\u001b[0m\u001b[0;34m\u001b[0m\u001b[0;34m\u001b[0m\u001b[0m\n\u001b[0m\u001b[1;32m   1811\u001b[0m \u001b[0;34m\u001b[0m\u001b[0m\n\u001b[1;32m   1812\u001b[0m         inner.__doc__ = _add_data_doc(inner.__doc__,\n",
      "\u001b[0;32m/anaconda3/lib/python3.7/site-packages/matplotlib/axes/_axes.py\u001b[0m in \u001b[0;36mscatter\u001b[0;34m(self, x, y, s, c, marker, cmap, norm, vmin, vmax, alpha, linewidths, verts, edgecolors, **kwargs)\u001b[0m\n\u001b[1;32m   4298\u001b[0m                 )\n\u001b[1;32m   4299\u001b[0m         \u001b[0mcollection\u001b[0m\u001b[0;34m.\u001b[0m\u001b[0mset_transform\u001b[0m\u001b[0;34m(\u001b[0m\u001b[0mmtransforms\u001b[0m\u001b[0;34m.\u001b[0m\u001b[0mIdentityTransform\u001b[0m\u001b[0;34m(\u001b[0m\u001b[0;34m)\u001b[0m\u001b[0;34m)\u001b[0m\u001b[0;34m\u001b[0m\u001b[0;34m\u001b[0m\u001b[0m\n\u001b[0;32m-> 4300\u001b[0;31m         \u001b[0mcollection\u001b[0m\u001b[0;34m.\u001b[0m\u001b[0mupdate\u001b[0m\u001b[0;34m(\u001b[0m\u001b[0mkwargs\u001b[0m\u001b[0;34m)\u001b[0m\u001b[0;34m\u001b[0m\u001b[0;34m\u001b[0m\u001b[0m\n\u001b[0m\u001b[1;32m   4301\u001b[0m \u001b[0;34m\u001b[0m\u001b[0m\n\u001b[1;32m   4302\u001b[0m         \u001b[0;32mif\u001b[0m \u001b[0mcolors\u001b[0m \u001b[0;32mis\u001b[0m \u001b[0;32mNone\u001b[0m\u001b[0;34m:\u001b[0m\u001b[0;34m\u001b[0m\u001b[0;34m\u001b[0m\u001b[0m\n",
      "\u001b[0;32m/anaconda3/lib/python3.7/site-packages/matplotlib/artist.py\u001b[0m in \u001b[0;36mupdate\u001b[0;34m(self, props)\u001b[0m\n\u001b[1;32m    914\u001b[0m \u001b[0;34m\u001b[0m\u001b[0m\n\u001b[1;32m    915\u001b[0m         \u001b[0;32mwith\u001b[0m \u001b[0mcbook\u001b[0m\u001b[0;34m.\u001b[0m\u001b[0m_setattr_cm\u001b[0m\u001b[0;34m(\u001b[0m\u001b[0mself\u001b[0m\u001b[0;34m,\u001b[0m \u001b[0meventson\u001b[0m\u001b[0;34m=\u001b[0m\u001b[0;32mFalse\u001b[0m\u001b[0;34m)\u001b[0m\u001b[0;34m:\u001b[0m\u001b[0;34m\u001b[0m\u001b[0;34m\u001b[0m\u001b[0m\n\u001b[0;32m--> 916\u001b[0;31m             \u001b[0mret\u001b[0m \u001b[0;34m=\u001b[0m \u001b[0;34m[\u001b[0m\u001b[0m_update_property\u001b[0m\u001b[0;34m(\u001b[0m\u001b[0mself\u001b[0m\u001b[0;34m,\u001b[0m \u001b[0mk\u001b[0m\u001b[0;34m,\u001b[0m \u001b[0mv\u001b[0m\u001b[0;34m)\u001b[0m \u001b[0;32mfor\u001b[0m \u001b[0mk\u001b[0m\u001b[0;34m,\u001b[0m \u001b[0mv\u001b[0m \u001b[0;32min\u001b[0m \u001b[0mprops\u001b[0m\u001b[0;34m.\u001b[0m\u001b[0mitems\u001b[0m\u001b[0;34m(\u001b[0m\u001b[0;34m)\u001b[0m\u001b[0;34m]\u001b[0m\u001b[0;34m\u001b[0m\u001b[0;34m\u001b[0m\u001b[0m\n\u001b[0m\u001b[1;32m    917\u001b[0m \u001b[0;34m\u001b[0m\u001b[0m\n\u001b[1;32m    918\u001b[0m         \u001b[0;32mif\u001b[0m \u001b[0mlen\u001b[0m\u001b[0;34m(\u001b[0m\u001b[0mret\u001b[0m\u001b[0;34m)\u001b[0m\u001b[0;34m:\u001b[0m\u001b[0;34m\u001b[0m\u001b[0;34m\u001b[0m\u001b[0m\n",
      "\u001b[0;32m/anaconda3/lib/python3.7/site-packages/matplotlib/artist.py\u001b[0m in \u001b[0;36m<listcomp>\u001b[0;34m(.0)\u001b[0m\n\u001b[1;32m    914\u001b[0m \u001b[0;34m\u001b[0m\u001b[0m\n\u001b[1;32m    915\u001b[0m         \u001b[0;32mwith\u001b[0m \u001b[0mcbook\u001b[0m\u001b[0;34m.\u001b[0m\u001b[0m_setattr_cm\u001b[0m\u001b[0;34m(\u001b[0m\u001b[0mself\u001b[0m\u001b[0;34m,\u001b[0m \u001b[0meventson\u001b[0m\u001b[0;34m=\u001b[0m\u001b[0;32mFalse\u001b[0m\u001b[0;34m)\u001b[0m\u001b[0;34m:\u001b[0m\u001b[0;34m\u001b[0m\u001b[0;34m\u001b[0m\u001b[0m\n\u001b[0;32m--> 916\u001b[0;31m             \u001b[0mret\u001b[0m \u001b[0;34m=\u001b[0m \u001b[0;34m[\u001b[0m\u001b[0m_update_property\u001b[0m\u001b[0;34m(\u001b[0m\u001b[0mself\u001b[0m\u001b[0;34m,\u001b[0m \u001b[0mk\u001b[0m\u001b[0;34m,\u001b[0m \u001b[0mv\u001b[0m\u001b[0;34m)\u001b[0m \u001b[0;32mfor\u001b[0m \u001b[0mk\u001b[0m\u001b[0;34m,\u001b[0m \u001b[0mv\u001b[0m \u001b[0;32min\u001b[0m \u001b[0mprops\u001b[0m\u001b[0;34m.\u001b[0m\u001b[0mitems\u001b[0m\u001b[0;34m(\u001b[0m\u001b[0;34m)\u001b[0m\u001b[0;34m]\u001b[0m\u001b[0;34m\u001b[0m\u001b[0;34m\u001b[0m\u001b[0m\n\u001b[0m\u001b[1;32m    917\u001b[0m \u001b[0;34m\u001b[0m\u001b[0m\n\u001b[1;32m    918\u001b[0m         \u001b[0;32mif\u001b[0m \u001b[0mlen\u001b[0m\u001b[0;34m(\u001b[0m\u001b[0mret\u001b[0m\u001b[0;34m)\u001b[0m\u001b[0;34m:\u001b[0m\u001b[0;34m\u001b[0m\u001b[0;34m\u001b[0m\u001b[0m\n",
      "\u001b[0;32m/anaconda3/lib/python3.7/site-packages/matplotlib/artist.py\u001b[0m in \u001b[0;36m_update_property\u001b[0;34m(self, k, v)\u001b[0m\n\u001b[1;32m    910\u001b[0m                 \u001b[0mfunc\u001b[0m \u001b[0;34m=\u001b[0m \u001b[0mgetattr\u001b[0m\u001b[0;34m(\u001b[0m\u001b[0mself\u001b[0m\u001b[0;34m,\u001b[0m \u001b[0;34m'set_'\u001b[0m \u001b[0;34m+\u001b[0m \u001b[0mk\u001b[0m\u001b[0;34m,\u001b[0m \u001b[0;32mNone\u001b[0m\u001b[0;34m)\u001b[0m\u001b[0;34m\u001b[0m\u001b[0;34m\u001b[0m\u001b[0m\n\u001b[1;32m    911\u001b[0m                 \u001b[0;32mif\u001b[0m \u001b[0;32mnot\u001b[0m \u001b[0mcallable\u001b[0m\u001b[0;34m(\u001b[0m\u001b[0mfunc\u001b[0m\u001b[0;34m)\u001b[0m\u001b[0;34m:\u001b[0m\u001b[0;34m\u001b[0m\u001b[0;34m\u001b[0m\u001b[0m\n\u001b[0;32m--> 912\u001b[0;31m                     \u001b[0;32mraise\u001b[0m \u001b[0mAttributeError\u001b[0m\u001b[0;34m(\u001b[0m\u001b[0;34m'Unknown property %s'\u001b[0m \u001b[0;34m%\u001b[0m \u001b[0mk\u001b[0m\u001b[0;34m)\u001b[0m\u001b[0;34m\u001b[0m\u001b[0;34m\u001b[0m\u001b[0m\n\u001b[0m\u001b[1;32m    913\u001b[0m                 \u001b[0;32mreturn\u001b[0m \u001b[0mfunc\u001b[0m\u001b[0;34m(\u001b[0m\u001b[0mv\u001b[0m\u001b[0;34m)\u001b[0m\u001b[0;34m\u001b[0m\u001b[0;34m\u001b[0m\u001b[0m\n\u001b[1;32m    914\u001b[0m \u001b[0;34m\u001b[0m\u001b[0m\n",
      "\u001b[0;31mAttributeError\u001b[0m: Unknown property hue"
     ]
    },
    {
     "data": {
      "image/png": "[encoded data removed]",
      "text/plain": [
       "<Figure size 432x288 with 1 Axes>"
      ]
     },
     "metadata": {
      "needs_background": "light"
     },
     "output_type": "display_data"
    }
   ],
   "source": [
    "house.plot(x='lat', y='long', kind='scatter', hue='price')"
   ]
  },
  {
   "cell_type": "code",
   "execution_count": 36,
   "metadata": {},
   "outputs": [
    {
     "ename": "ValueError",
     "evalue": "x and y must have same first dimension, but have shapes (16913,) and (171,)",
     "output_type": "error",
     "traceback": [
      "\u001b[0;31m---------------------------------------------------------------------------\u001b[0m",
      "\u001b[0;31mValueError\u001b[0m                                Traceback (most recent call last)",
      "\u001b[0;32m<ipython-input-36-3d2a4dcac457>\u001b[0m in \u001b[0;36m<module>\u001b[0;34m\u001b[0m\n\u001b[1;32m      1\u001b[0m \u001b[0;32mimport\u001b[0m \u001b[0mmatplotlib\u001b[0m\u001b[0;34m.\u001b[0m\u001b[0mpyplot\u001b[0m \u001b[0;32mas\u001b[0m \u001b[0mplt\u001b[0m\u001b[0;34m\u001b[0m\u001b[0;34m\u001b[0m\u001b[0m\n\u001b[0;32m----> 2\u001b[0;31m \u001b[0mplt\u001b[0m\u001b[0;34m.\u001b[0m\u001b[0mplot\u001b[0m\u001b[0;34m(\u001b[0m\u001b[0mrange\u001b[0m\u001b[0;34m(\u001b[0m\u001b[0mlen\u001b[0m\u001b[0;34m(\u001b[0m\u001b[0mX_train\u001b[0m\u001b[0;34m)\u001b[0m\u001b[0;34m)\u001b[0m\u001b[0;34m,\u001b[0m \u001b[0mlasso\u001b[0m\u001b[0;34m.\u001b[0m\u001b[0mcoef_\u001b[0m\u001b[0;34m)\u001b[0m\u001b[0;34m\u001b[0m\u001b[0;34m\u001b[0m\u001b[0m\n\u001b[0m",
      "\u001b[0;32m/anaconda3/lib/python3.7/site-packages/matplotlib/pyplot.py\u001b[0m in \u001b[0;36mplot\u001b[0;34m(scalex, scaley, data, *args, **kwargs)\u001b[0m\n\u001b[1;32m   2809\u001b[0m     return gca().plot(\n\u001b[1;32m   2810\u001b[0m         *args, scalex=scalex, scaley=scaley, **({\"data\": data} if data\n\u001b[0;32m-> 2811\u001b[0;31m         is not None else {}), **kwargs)\n\u001b[0m\u001b[1;32m   2812\u001b[0m \u001b[0;34m\u001b[0m\u001b[0m\n\u001b[1;32m   2813\u001b[0m \u001b[0;34m\u001b[0m\u001b[0m\n",
      "\u001b[0;32m/anaconda3/lib/python3.7/site-packages/matplotlib/__init__.py\u001b[0m in \u001b[0;36minner\u001b[0;34m(ax, data, *args, **kwargs)\u001b[0m\n\u001b[1;32m   1808\u001b[0m                         \u001b[0;34m\"the Matplotlib list!)\"\u001b[0m \u001b[0;34m%\u001b[0m \u001b[0;34m(\u001b[0m\u001b[0mlabel_namer\u001b[0m\u001b[0;34m,\u001b[0m \u001b[0mfunc\u001b[0m\u001b[0;34m.\u001b[0m\u001b[0m__name__\u001b[0m\u001b[0;34m)\u001b[0m\u001b[0;34m,\u001b[0m\u001b[0;34m\u001b[0m\u001b[0;34m\u001b[0m\u001b[0m\n\u001b[1;32m   1809\u001b[0m                         RuntimeWarning, stacklevel=2)\n\u001b[0;32m-> 1810\u001b[0;31m             \u001b[0;32mreturn\u001b[0m \u001b[0mfunc\u001b[0m\u001b[0;34m(\u001b[0m\u001b[0max\u001b[0m\u001b[0;34m,\u001b[0m \u001b[0;34m*\u001b[0m\u001b[0margs\u001b[0m\u001b[0;34m,\u001b[0m \u001b[0;34m**\u001b[0m\u001b[0mkwargs\u001b[0m\u001b[0;34m)\u001b[0m\u001b[0;34m\u001b[0m\u001b[0;34m\u001b[0m\u001b[0m\n\u001b[0m\u001b[1;32m   1811\u001b[0m \u001b[0;34m\u001b[0m\u001b[0m\n\u001b[1;32m   1812\u001b[0m         inner.__doc__ = _add_data_doc(inner.__doc__,\n",
      "\u001b[0;32m/anaconda3/lib/python3.7/site-packages/matplotlib/axes/_axes.py\u001b[0m in \u001b[0;36mplot\u001b[0;34m(self, scalex, scaley, *args, **kwargs)\u001b[0m\n\u001b[1;32m   1609\u001b[0m         \u001b[0mkwargs\u001b[0m \u001b[0;34m=\u001b[0m \u001b[0mcbook\u001b[0m\u001b[0;34m.\u001b[0m\u001b[0mnormalize_kwargs\u001b[0m\u001b[0;34m(\u001b[0m\u001b[0mkwargs\u001b[0m\u001b[0;34m,\u001b[0m \u001b[0mmlines\u001b[0m\u001b[0;34m.\u001b[0m\u001b[0mLine2D\u001b[0m\u001b[0;34m.\u001b[0m\u001b[0m_alias_map\u001b[0m\u001b[0;34m)\u001b[0m\u001b[0;34m\u001b[0m\u001b[0;34m\u001b[0m\u001b[0m\n\u001b[1;32m   1610\u001b[0m \u001b[0;34m\u001b[0m\u001b[0m\n\u001b[0;32m-> 1611\u001b[0;31m         \u001b[0;32mfor\u001b[0m \u001b[0mline\u001b[0m \u001b[0;32min\u001b[0m \u001b[0mself\u001b[0m\u001b[0;34m.\u001b[0m\u001b[0m_get_lines\u001b[0m\u001b[0;34m(\u001b[0m\u001b[0;34m*\u001b[0m\u001b[0margs\u001b[0m\u001b[0;34m,\u001b[0m \u001b[0;34m**\u001b[0m\u001b[0mkwargs\u001b[0m\u001b[0;34m)\u001b[0m\u001b[0;34m:\u001b[0m\u001b[0;34m\u001b[0m\u001b[0;34m\u001b[0m\u001b[0m\n\u001b[0m\u001b[1;32m   1612\u001b[0m             \u001b[0mself\u001b[0m\u001b[0;34m.\u001b[0m\u001b[0madd_line\u001b[0m\u001b[0;34m(\u001b[0m\u001b[0mline\u001b[0m\u001b[0;34m)\u001b[0m\u001b[0;34m\u001b[0m\u001b[0;34m\u001b[0m\u001b[0m\n\u001b[1;32m   1613\u001b[0m             \u001b[0mlines\u001b[0m\u001b[0;34m.\u001b[0m\u001b[0mappend\u001b[0m\u001b[0;34m(\u001b[0m\u001b[0mline\u001b[0m\u001b[0;34m)\u001b[0m\u001b[0;34m\u001b[0m\u001b[0;34m\u001b[0m\u001b[0m\n",
      "\u001b[0;32m/anaconda3/lib/python3.7/site-packages/matplotlib/axes/_base.py\u001b[0m in \u001b[0;36m_grab_next_args\u001b[0;34m(self, *args, **kwargs)\u001b[0m\n\u001b[1;32m    391\u001b[0m                 \u001b[0mthis\u001b[0m \u001b[0;34m+=\u001b[0m \u001b[0margs\u001b[0m\u001b[0;34m[\u001b[0m\u001b[0;36m0\u001b[0m\u001b[0;34m]\u001b[0m\u001b[0;34m,\u001b[0m\u001b[0;34m\u001b[0m\u001b[0;34m\u001b[0m\u001b[0m\n\u001b[1;32m    392\u001b[0m                 \u001b[0margs\u001b[0m \u001b[0;34m=\u001b[0m \u001b[0margs\u001b[0m\u001b[0;34m[\u001b[0m\u001b[0;36m1\u001b[0m\u001b[0;34m:\u001b[0m\u001b[0;34m]\u001b[0m\u001b[0;34m\u001b[0m\u001b[0;34m\u001b[0m\u001b[0m\n\u001b[0;32m--> 393\u001b[0;31m             \u001b[0;32myield\u001b[0m \u001b[0;32mfrom\u001b[0m \u001b[0mself\u001b[0m\u001b[0;34m.\u001b[0m\u001b[0m_plot_args\u001b[0m\u001b[0;34m(\u001b[0m\u001b[0mthis\u001b[0m\u001b[0;34m,\u001b[0m \u001b[0mkwargs\u001b[0m\u001b[0;34m)\u001b[0m\u001b[0;34m\u001b[0m\u001b[0;34m\u001b[0m\u001b[0m\n\u001b[0m\u001b[1;32m    394\u001b[0m \u001b[0;34m\u001b[0m\u001b[0m\n\u001b[1;32m    395\u001b[0m \u001b[0;34m\u001b[0m\u001b[0m\n",
      "\u001b[0;32m/anaconda3/lib/python3.7/site-packages/matplotlib/axes/_base.py\u001b[0m in \u001b[0;36m_plot_args\u001b[0;34m(self, tup, kwargs)\u001b[0m\n\u001b[1;32m    368\u001b[0m             \u001b[0mx\u001b[0m\u001b[0;34m,\u001b[0m \u001b[0my\u001b[0m \u001b[0;34m=\u001b[0m \u001b[0mindex_of\u001b[0m\u001b[0;34m(\u001b[0m\u001b[0mtup\u001b[0m\u001b[0;34m[\u001b[0m\u001b[0;34m-\u001b[0m\u001b[0;36m1\u001b[0m\u001b[0;34m]\u001b[0m\u001b[0;34m)\u001b[0m\u001b[0;34m\u001b[0m\u001b[0;34m\u001b[0m\u001b[0m\n\u001b[1;32m    369\u001b[0m \u001b[0;34m\u001b[0m\u001b[0m\n\u001b[0;32m--> 370\u001b[0;31m         \u001b[0mx\u001b[0m\u001b[0;34m,\u001b[0m \u001b[0my\u001b[0m \u001b[0;34m=\u001b[0m \u001b[0mself\u001b[0m\u001b[0;34m.\u001b[0m\u001b[0m_xy_from_xy\u001b[0m\u001b[0;34m(\u001b[0m\u001b[0mx\u001b[0m\u001b[0;34m,\u001b[0m \u001b[0my\u001b[0m\u001b[0;34m)\u001b[0m\u001b[0;34m\u001b[0m\u001b[0;34m\u001b[0m\u001b[0m\n\u001b[0m\u001b[1;32m    371\u001b[0m \u001b[0;34m\u001b[0m\u001b[0m\n\u001b[1;32m    372\u001b[0m         \u001b[0;32mif\u001b[0m \u001b[0mself\u001b[0m\u001b[0;34m.\u001b[0m\u001b[0mcommand\u001b[0m \u001b[0;34m==\u001b[0m \u001b[0;34m'plot'\u001b[0m\u001b[0;34m:\u001b[0m\u001b[0;34m\u001b[0m\u001b[0;34m\u001b[0m\u001b[0m\n",
      "\u001b[0;32m/anaconda3/lib/python3.7/site-packages/matplotlib/axes/_base.py\u001b[0m in \u001b[0;36m_xy_from_xy\u001b[0;34m(self, x, y)\u001b[0m\n\u001b[1;32m    229\u001b[0m         \u001b[0;32mif\u001b[0m \u001b[0mx\u001b[0m\u001b[0;34m.\u001b[0m\u001b[0mshape\u001b[0m\u001b[0;34m[\u001b[0m\u001b[0;36m0\u001b[0m\u001b[0;34m]\u001b[0m \u001b[0;34m!=\u001b[0m \u001b[0my\u001b[0m\u001b[0;34m.\u001b[0m\u001b[0mshape\u001b[0m\u001b[0;34m[\u001b[0m\u001b[0;36m0\u001b[0m\u001b[0;34m]\u001b[0m\u001b[0;34m:\u001b[0m\u001b[0;34m\u001b[0m\u001b[0;34m\u001b[0m\u001b[0m\n\u001b[1;32m    230\u001b[0m             raise ValueError(\"x and y must have same first dimension, but \"\n\u001b[0;32m--> 231\u001b[0;31m                              \"have shapes {} and {}\".format(x.shape, y.shape))\n\u001b[0m\u001b[1;32m    232\u001b[0m         \u001b[0;32mif\u001b[0m \u001b[0mx\u001b[0m\u001b[0;34m.\u001b[0m\u001b[0mndim\u001b[0m \u001b[0;34m>\u001b[0m \u001b[0;36m2\u001b[0m \u001b[0;32mor\u001b[0m \u001b[0my\u001b[0m\u001b[0;34m.\u001b[0m\u001b[0mndim\u001b[0m \u001b[0;34m>\u001b[0m \u001b[0;36m2\u001b[0m\u001b[0;34m:\u001b[0m\u001b[0;34m\u001b[0m\u001b[0;34m\u001b[0m\u001b[0m\n\u001b[1;32m    233\u001b[0m             raise ValueError(\"x and y can be no greater than 2-D, but have \"\n",
      "\u001b[0;31mValueError\u001b[0m: x and y must have same first dimension, but have shapes (16913,) and (171,)"
     ]
    },
    {
     "data": {
      "image/png": "[encoded data removed]",
      "text/plain": [
       "<Figure size 432x288 with 1 Axes>"
      ]
     },
     "metadata": {
      "needs_background": "light"
     },
     "output_type": "display_data"
    }
   ],
   "source": [
    "import matplotlib.pyplot as plt\n",
    "plt.plot(range(len(X_train)), lasso.coef_)"
   ]
  },
  {
   "cell_type": "code",
   "execution_count": 249,
   "metadata": {},
   "outputs": [
    {
     "data": {
      "text/plain": [
       "array([[<matplotlib.axes._subplots.AxesSubplot object at 0x1c24f8d438>,\n",
       "        <matplotlib.axes._subplots.AxesSubplot object at 0x1c2500e9b0>,\n",
       "        <matplotlib.axes._subplots.AxesSubplot object at 0x1c250f5e48>,\n",
       "        <matplotlib.axes._subplots.AxesSubplot object at 0x1c25187400>],\n",
       "       [<matplotlib.axes._subplots.AxesSubplot object at 0x1c251ac978>,\n",
       "        <matplotlib.axes._subplots.AxesSubplot object at 0x1c251d4ef0>,\n",
       "        <matplotlib.axes._subplots.AxesSubplot object at 0x1c252044a8>,\n",
       "        <matplotlib.axes._subplots.AxesSubplot object at 0x1c23c43198>],\n",
       "       [<matplotlib.axes._subplots.AxesSubplot object at 0x1c23c431d0>,\n",
       "        <matplotlib.axes._subplots.AxesSubplot object at 0x1c23cb8c50>,\n",
       "        <matplotlib.axes._subplots.AxesSubplot object at 0x1c21be9208>,\n",
       "        <matplotlib.axes._subplots.AxesSubplot object at 0x1c21c0e780>],\n",
       "       [<matplotlib.axes._subplots.AxesSubplot object at 0x1c21c36cf8>,\n",
       "        <matplotlib.axes._subplots.AxesSubplot object at 0x1c21c692b0>,\n",
       "        <matplotlib.axes._subplots.AxesSubplot object at 0x1c21c90828>,\n",
       "        <matplotlib.axes._subplots.AxesSubplot object at 0x1c21cb8da0>],\n",
       "       [<matplotlib.axes._subplots.AxesSubplot object at 0x1c21cea358>,\n",
       "        <matplotlib.axes._subplots.AxesSubplot object at 0x1c21d108d0>,\n",
       "        <matplotlib.axes._subplots.AxesSubplot object at 0x1c21d3be48>,\n",
       "        <matplotlib.axes._subplots.AxesSubplot object at 0x1c21d6c400>]],\n",
       "      dtype=object)"
      ]
     },
     "execution_count": 249,
     "metadata": {},
     "output_type": "execute_result"
    },
    {
     "data": {
      "text/plain": [
       "<Figure size 720x720 with 0 Axes>"
      ]
     },
     "metadata": {},
     "output_type": "display_data"
    },
    {
     "data": {
      "image/png": "[encoded data removed]",
      "text/plain": [
       "<Figure size 432x288 with 20 Axes>"
      ]
     },
     "metadata": {
      "needs_background": "light"
     },
     "output_type": "display_data"
    }
   ],
   "source": [
    "import matplotlib.pyplot as plt\n",
    "plt.figure(figsize=(10,10))\n",
    "house.hist()"
   ]
  },
  {
   "cell_type": "code",
   "execution_count": 13,
   "metadata": {},
   "outputs": [
    {
     "data": {
      "text/plain": [
       "<matplotlib.axes._subplots.AxesSubplot at 0x1a268d9940>"
      ]
     },
     "execution_count": 13,
     "metadata": {},
     "output_type": "execute_result"
    },
    {
     "data": {
      "image/png": "[encoded data removed]",
      "text/plain": [
       "<Figure size 432x288 with 1 Axes>"
      ]
     },
     "metadata": {
      "needs_background": "light"
     },
     "output_type": "display_data"
    }
   ],
   "source": [
    "import seaborn as sns\n",
    "\n",
    "sns.regplot(x=\"sqft_living\",\n",
    "                y=\"price\",\n",
    "                data=clean_house,)"
   ]
  },
  {
   "cell_type": "code",
   "execution_count": 16,
   "metadata": {},
   "outputs": [
    {
     "data": {
      "text/plain": [
       "<matplotlib.axes._subplots.AxesSubplot at 0x1a272ca668>"
      ]
     },
     "execution_count": 16,
     "metadata": {},
     "output_type": "execute_result"
    },
    {
     "data": {
      "image/png": "[encoded data removed]",
      "text/plain": [
       "<Figure size 432x288 with 1 Axes>"
      ]
     },
     "metadata": {
      "needs_background": "light"
     },
     "output_type": "display_data"
    }
   ],
   "source": [
    "sns.regplot(y=\"price\",\n",
    "                x=\"sqft_lot\",\n",
    "                data=clean_house,)"
   ]
  }
 ],
 "metadata": {
  "kernelspec": {
   "display_name": "Python 3",
   "language": "python",
   "name": "python3"
  },
  "language_info": {
   "codemirror_mode": {
    "name": "ipython",
    "version": 3
   },
   "file_extension": ".py",
   "mimetype": "text/x-python",
   "name": "python",
   "nbconvert_exporter": "python",
   "pygments_lexer": "ipython3",
   "version": "3.7.3"
  }
 },
 "nbformat": 4,
 "nbformat_minor": 2
}
